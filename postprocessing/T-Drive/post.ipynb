{
 "cells": [
  {
   "cell_type": "code",
   "outputs": [],
   "source": [
    "import os\n",
    "import pandas as pd\n",
    "import geopandas as gpd\n",
    "from shapely.geometry import Point, LineString"
   ],
   "metadata": {
    "collapsed": false,
    "ExecuteTime": {
     "end_time": "2024-03-20T17:31:30.194322Z",
     "start_time": "2024-03-20T17:31:30.190091Z"
    }
   },
   "id": "5486947876c338e5",
   "execution_count": 23
  },
  {
   "cell_type": "code",
   "outputs": [],
   "source": [
    "path = 'data/test_list.parquet'"
   ],
   "metadata": {
    "collapsed": false,
    "ExecuteTime": {
     "end_time": "2024-03-20T17:31:30.456885Z",
     "start_time": "2024-03-20T17:31:30.385793Z"
    }
   },
   "id": "5eb5f511fbd98dbf",
   "execution_count": 24
  },
  {
   "cell_type": "code",
   "outputs": [],
   "source": [
    "data = pd.read_parquet(path)"
   ],
   "metadata": {
    "collapsed": false,
    "ExecuteTime": {
     "end_time": "2024-03-20T17:31:31.033588Z",
     "start_time": "2024-03-20T17:31:30.656398Z"
    }
   },
   "id": "aeff97885a65fa5f",
   "execution_count": 25
  },
  {
   "cell_type": "code",
   "outputs": [
    {
     "data": {
      "text/plain": "Index(['taxi_id', 'date_time', 'lon', 'lat', 'arrays_geometry'], dtype='object')"
     },
     "execution_count": 26,
     "metadata": {},
     "output_type": "execute_result"
    }
   ],
   "source": [
    "data.columns"
   ],
   "metadata": {
    "collapsed": false,
    "ExecuteTime": {
     "end_time": "2024-03-20T17:31:31.037960Z",
     "start_time": "2024-03-20T17:31:31.034239Z"
    }
   },
   "id": "20a63f431d4455ad",
   "execution_count": 26
  },
  {
   "cell_type": "code",
   "outputs": [],
   "source": [
    "data['geometry'] = data['arrays_geometry'].map(LineString)"
   ],
   "metadata": {
    "collapsed": false,
    "ExecuteTime": {
     "end_time": "2024-03-20T17:31:32.375220Z",
     "start_time": "2024-03-20T17:31:31.126305Z"
    }
   },
   "id": "f8712882ee03fe4e",
   "execution_count": 27
  },
  {
   "cell_type": "code",
   "outputs": [],
   "source": [
    "data_gdf = gpd.GeoDataFrame(data.drop(['arrays_geometry'], axis = 1), geometry='geometry', crs='EPSG:4326')\n",
    "data_gdf = data_gdf.set_index('taxi_id')"
   ],
   "metadata": {
    "collapsed": false,
    "ExecuteTime": {
     "end_time": "2024-03-20T17:31:32.387647Z",
     "start_time": "2024-03-20T17:31:32.376326Z"
    }
   },
   "id": "e9a6378094d8e4d",
   "execution_count": 28
  },
  {
   "cell_type": "code",
   "outputs": [
    {
     "data": {
      "text/plain": "                                                 date_time  \\\ntaxi_id                                                      \n1        [2008-02-02T15:36:08.000000, 2008-02-02T15:46:...   \n1000     [2008-02-02T13:34:52.000000, 2008-02-02T13:39:...   \n10004    [2008-02-03T09:21:37.000000, 2008-02-04T02:35:...   \n1001     [2008-02-02T13:38:39.000000, 2008-02-02T13:43:...   \n10014    [2008-02-02T13:37:28.000000, 2008-02-02T13:42:...   \n\n                                                       lon  \\\ntaxi_id                                                      \n1        [116.51172, 116.51135, 116.51135, 116.51627, 1...   \n1000     [116.48361, 116.48347, 116.51384, 116.51359, 1...   \n10004    [116.58327, 116.48178, 116.34258, 116.34258, 1...   \n1001     [116.42116, 116.42972, 116.44064, 116.44107, 1...   \n10014    [116.47312, 116.47323, 116.47319, 116.47323, 1...   \n\n                                                       lat  \\\ntaxi_id                                                      \n1        [39.92123, 39.93883, 39.93883, 39.91034, 39.91...   \n1000     [39.94491, 39.91869, 39.8919, 39.89197, 39.872...   \n10004    [40.11703, 39.98753, 39.78857, 39.78857, 39.94...   \n1001     [39.83864, 39.845, 39.83548, 39.83129, 39.7933...   \n10014    [39.91909, 39.91904, 39.91895, 39.91905, 39.91...   \n\n                                                  geometry  \ntaxi_id                                                     \n1        LINESTRING (116.51172 39.92123, 116.51135 39.9...  \n1000     LINESTRING (116.48361 39.94491, 116.48347 39.9...  \n10004    LINESTRING (116.58327 40.11703, 116.48178 39.9...  \n1001     LINESTRING (116.42116 39.83864, 116.42972 39.8...  \n10014    LINESTRING (116.47312 39.91909, 116.47323 39.9...  ",
      "text/html": "<div>\n<style scoped>\n    .dataframe tbody tr th:only-of-type {\n        vertical-align: middle;\n    }\n\n    .dataframe tbody tr th {\n        vertical-align: top;\n    }\n\n    .dataframe thead th {\n        text-align: right;\n    }\n</style>\n<table border=\"1\" class=\"dataframe\">\n  <thead>\n    <tr style=\"text-align: right;\">\n      <th></th>\n      <th>date_time</th>\n      <th>lon</th>\n      <th>lat</th>\n      <th>geometry</th>\n    </tr>\n    <tr>\n      <th>taxi_id</th>\n      <th></th>\n      <th></th>\n      <th></th>\n      <th></th>\n    </tr>\n  </thead>\n  <tbody>\n    <tr>\n      <th>1</th>\n      <td>[2008-02-02T15:36:08.000000, 2008-02-02T15:46:...</td>\n      <td>[116.51172, 116.51135, 116.51135, 116.51627, 1...</td>\n      <td>[39.92123, 39.93883, 39.93883, 39.91034, 39.91...</td>\n      <td>LINESTRING (116.51172 39.92123, 116.51135 39.9...</td>\n    </tr>\n    <tr>\n      <th>1000</th>\n      <td>[2008-02-02T13:34:52.000000, 2008-02-02T13:39:...</td>\n      <td>[116.48361, 116.48347, 116.51384, 116.51359, 1...</td>\n      <td>[39.94491, 39.91869, 39.8919, 39.89197, 39.872...</td>\n      <td>LINESTRING (116.48361 39.94491, 116.48347 39.9...</td>\n    </tr>\n    <tr>\n      <th>10004</th>\n      <td>[2008-02-03T09:21:37.000000, 2008-02-04T02:35:...</td>\n      <td>[116.58327, 116.48178, 116.34258, 116.34258, 1...</td>\n      <td>[40.11703, 39.98753, 39.78857, 39.78857, 39.94...</td>\n      <td>LINESTRING (116.58327 40.11703, 116.48178 39.9...</td>\n    </tr>\n    <tr>\n      <th>1001</th>\n      <td>[2008-02-02T13:38:39.000000, 2008-02-02T13:43:...</td>\n      <td>[116.42116, 116.42972, 116.44064, 116.44107, 1...</td>\n      <td>[39.83864, 39.845, 39.83548, 39.83129, 39.7933...</td>\n      <td>LINESTRING (116.42116 39.83864, 116.42972 39.8...</td>\n    </tr>\n    <tr>\n      <th>10014</th>\n      <td>[2008-02-02T13:37:28.000000, 2008-02-02T13:42:...</td>\n      <td>[116.47312, 116.47323, 116.47319, 116.47323, 1...</td>\n      <td>[39.91909, 39.91904, 39.91895, 39.91905, 39.91...</td>\n      <td>LINESTRING (116.47312 39.91909, 116.47323 39.9...</td>\n    </tr>\n  </tbody>\n</table>\n</div>"
     },
     "execution_count": 29,
     "metadata": {},
     "output_type": "execute_result"
    }
   ],
   "source": [
    "data_gdf.head()"
   ],
   "metadata": {
    "collapsed": false,
    "ExecuteTime": {
     "end_time": "2024-03-20T17:31:33.778918Z",
     "start_time": "2024-03-20T17:31:33.773112Z"
    }
   },
   "id": "fca41a6560394230",
   "execution_count": 29
  },
  {
   "cell_type": "code",
   "outputs": [],
   "source": [],
   "metadata": {
    "collapsed": false
   },
   "id": "29534ad122a6fe26"
  }
 ],
 "metadata": {
  "kernelspec": {
   "display_name": "Python 3",
   "language": "python",
   "name": "python3"
  },
  "language_info": {
   "codemirror_mode": {
    "name": "ipython",
    "version": 2
   },
   "file_extension": ".py",
   "mimetype": "text/x-python",
   "name": "python",
   "nbconvert_exporter": "python",
   "pygments_lexer": "ipython2",
   "version": "2.7.6"
  }
 },
 "nbformat": 4,
 "nbformat_minor": 5
}

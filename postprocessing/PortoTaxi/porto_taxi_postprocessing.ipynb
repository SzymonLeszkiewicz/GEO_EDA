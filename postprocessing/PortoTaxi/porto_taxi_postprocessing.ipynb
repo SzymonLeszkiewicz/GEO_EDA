{
 "cells": [
  {
   "cell_type": "code",
   "execution_count": 1,
   "id": "initial_id",
   "metadata": {
    "collapsed": true,
    "ExecuteTime": {
     "end_time": "2024-01-25T18:37:14.986542400Z",
     "start_time": "2024-01-25T18:37:14.684043Z"
    }
   },
   "outputs": [],
   "source": [
    "import geopandas as gpd\n",
    "import pandas as pd\n",
    "from shapely.geometry import LineString\n",
    "from tqdm.contrib.concurrent import process_map"
   ]
  },
  {
   "cell_type": "code",
   "outputs": [],
   "source": [
    "df_porto_taxi = pd.read_parquet(\"data/porto_taxi.parquet\")"
   ],
   "metadata": {
    "collapsed": false,
    "ExecuteTime": {
     "end_time": "2024-01-25T18:37:28.808874200Z",
     "start_time": "2024-01-25T18:37:14.987541900Z"
    }
   },
   "id": "d3bc2c16409826c1",
   "execution_count": 2
  },
  {
   "cell_type": "code",
   "outputs": [
    {
     "data": {
      "text/plain": "  0%|          | 0/1666758 [00:00<?, ?it/s]",
      "application/vnd.jupyter.widget-view+json": {
       "version_major": 2,
       "version_minor": 0,
       "model_id": "37676ae6900640968ddd49d31bcc5613"
      }
     },
     "metadata": {},
     "output_type": "display_data"
    }
   ],
   "source": [
    "df_porto_taxi[\"GEOMETRY\"] = process_map(\n",
    "    LineString, df_porto_taxi[\"POLYLINE\"], chunksize=1000, max_workers=20\n",
    ")"
   ],
   "metadata": {
    "collapsed": false,
    "ExecuteTime": {
     "end_time": "2024-01-25T18:39:45.473800400Z",
     "start_time": "2024-01-25T18:37:28.808874200Z"
    }
   },
   "id": "d89ffe59190d4f51",
   "execution_count": 3
  },
  {
   "cell_type": "code",
   "outputs": [],
   "source": [
    "df_porto_taxi.drop(\"POLYLINE\", axis=1, inplace=True)"
   ],
   "metadata": {
    "collapsed": false,
    "ExecuteTime": {
     "end_time": "2024-01-25T18:39:47.543483400Z",
     "start_time": "2024-01-25T18:39:45.473800400Z"
    }
   },
   "id": "421442e4bab63b1",
   "execution_count": 4
  },
  {
   "cell_type": "code",
   "outputs": [],
   "source": [
    "gdf_porto_taxi = gpd.GeoDataFrame(df_porto_taxi, geometry=\"GEOMETRY\", crs=\"EPSG:4326\")"
   ],
   "metadata": {
    "collapsed": false,
    "ExecuteTime": {
     "end_time": "2024-01-25T18:39:48.669244200Z",
     "start_time": "2024-01-25T18:39:47.544483500Z"
    }
   },
   "id": "4b3adee92b250678",
   "execution_count": 5
  },
  {
   "cell_type": "code",
   "outputs": [
    {
     "name": "stdout",
     "output_type": "stream",
     "text": [
      "<class 'geopandas.geodataframe.GeoDataFrame'>\n",
      "Index: 1666758 entries, 0 to 1710669\n",
      "Data columns (total 9 columns):\n",
      " #   Column               Non-Null Count    Dtype   \n",
      "---  ------               --------------    -----   \n",
      " 0   TRIP_ID              1666758 non-null  int64   \n",
      " 1   CALL_TYPE            1666758 non-null  object  \n",
      " 2   ORIGIN_CALL          362169 non-null   float64 \n",
      " 3   ORIGIN_STAND         796267 non-null   float64 \n",
      " 4   TAXI_ID              1666758 non-null  int64   \n",
      " 5   TIMESTAMP            1666758 non-null  int64   \n",
      " 6   DAY_TYPE             1666758 non-null  object  \n",
      " 7   TRAVEL_TIME_SECONDS  1666758 non-null  int64   \n",
      " 8   GEOMETRY             1666758 non-null  geometry\n",
      "dtypes: float64(2), geometry(1), int64(4), object(2)\n",
      "memory usage: 127.2+ MB\n"
     ]
    }
   ],
   "source": [
    "gdf_porto_taxi.info()"
   ],
   "metadata": {
    "collapsed": false,
    "ExecuteTime": {
     "end_time": "2024-01-25T18:39:48.744775500Z",
     "start_time": "2024-01-25T18:39:48.668244100Z"
    }
   },
   "id": "89f8c7b8b56a99ef",
   "execution_count": 6
  },
  {
   "cell_type": "code",
   "outputs": [
    {
     "data": {
      "text/plain": "               TRIP_ID CALL_TYPE  ORIGIN_CALL  ORIGIN_STAND   TAXI_ID  \\\n0  1372636858620000589         C          NaN           NaN  20000589   \n1  1372637303620000596         B          NaN           7.0  20000596   \n2  1372636951620000320         C          NaN           NaN  20000320   \n3  1372636854620000520         C          NaN           NaN  20000520   \n4  1372637091620000337         C          NaN           NaN  20000337   \n\n    TIMESTAMP DAY_TYPE  TRAVEL_TIME_SECONDS  \\\n0  1372636858        A                  330   \n1  1372637303        A                  270   \n2  1372636951        A                  960   \n3  1372636854        A                  630   \n4  1372637091        A                  420   \n\n                                            GEOMETRY  \n0  LINESTRING (-8.61864 41.14141, -8.61850 41.141...  \n1  LINESTRING (-8.63985 41.15983, -8.64035 41.159...  \n2  LINESTRING (-8.61296 41.14036, -8.61338 41.140...  \n3  LINESTRING (-8.57468 41.15195, -8.57470 41.151...  \n4  LINESTRING (-8.64599 41.18049, -8.64595 41.180...  ",
      "text/html": "<div>\n<style scoped>\n    .dataframe tbody tr th:only-of-type {\n        vertical-align: middle;\n    }\n\n    .dataframe tbody tr th {\n        vertical-align: top;\n    }\n\n    .dataframe thead th {\n        text-align: right;\n    }\n</style>\n<table border=\"1\" class=\"dataframe\">\n  <thead>\n    <tr style=\"text-align: right;\">\n      <th></th>\n      <th>TRIP_ID</th>\n      <th>CALL_TYPE</th>\n      <th>ORIGIN_CALL</th>\n      <th>ORIGIN_STAND</th>\n      <th>TAXI_ID</th>\n      <th>TIMESTAMP</th>\n      <th>DAY_TYPE</th>\n      <th>TRAVEL_TIME_SECONDS</th>\n      <th>GEOMETRY</th>\n    </tr>\n  </thead>\n  <tbody>\n    <tr>\n      <th>0</th>\n      <td>1372636858620000589</td>\n      <td>C</td>\n      <td>NaN</td>\n      <td>NaN</td>\n      <td>20000589</td>\n      <td>1372636858</td>\n      <td>A</td>\n      <td>330</td>\n      <td>LINESTRING (-8.61864 41.14141, -8.61850 41.141...</td>\n    </tr>\n    <tr>\n      <th>1</th>\n      <td>1372637303620000596</td>\n      <td>B</td>\n      <td>NaN</td>\n      <td>7.0</td>\n      <td>20000596</td>\n      <td>1372637303</td>\n      <td>A</td>\n      <td>270</td>\n      <td>LINESTRING (-8.63985 41.15983, -8.64035 41.159...</td>\n    </tr>\n    <tr>\n      <th>2</th>\n      <td>1372636951620000320</td>\n      <td>C</td>\n      <td>NaN</td>\n      <td>NaN</td>\n      <td>20000320</td>\n      <td>1372636951</td>\n      <td>A</td>\n      <td>960</td>\n      <td>LINESTRING (-8.61296 41.14036, -8.61338 41.140...</td>\n    </tr>\n    <tr>\n      <th>3</th>\n      <td>1372636854620000520</td>\n      <td>C</td>\n      <td>NaN</td>\n      <td>NaN</td>\n      <td>20000520</td>\n      <td>1372636854</td>\n      <td>A</td>\n      <td>630</td>\n      <td>LINESTRING (-8.57468 41.15195, -8.57470 41.151...</td>\n    </tr>\n    <tr>\n      <th>4</th>\n      <td>1372637091620000337</td>\n      <td>C</td>\n      <td>NaN</td>\n      <td>NaN</td>\n      <td>20000337</td>\n      <td>1372637091</td>\n      <td>A</td>\n      <td>420</td>\n      <td>LINESTRING (-8.64599 41.18049, -8.64595 41.180...</td>\n    </tr>\n  </tbody>\n</table>\n</div>"
     },
     "execution_count": 7,
     "metadata": {},
     "output_type": "execute_result"
    }
   ],
   "source": [
    "gdf_porto_taxi.head()"
   ],
   "metadata": {
    "collapsed": false,
    "ExecuteTime": {
     "end_time": "2024-01-25T18:39:48.757882Z",
     "start_time": "2024-01-25T18:39:48.741264700Z"
    }
   },
   "id": "df45f895f5000ef8",
   "execution_count": 7
  },
  {
   "cell_type": "code",
   "outputs": [
    {
     "data": {
      "text/plain": "<folium.folium.Map at 0x22574f7fd10>",
      "text/html": "<div style=\"width:100%;\"><div style=\"position:relative;width:100%;height:0;padding-bottom:60%;\"><span style=\"color:#565656\">Make this Notebook Trusted to load map: File -> Trust Notebook</span><iframe srcdoc=\"&lt;!DOCTYPE html&gt;\n&lt;html&gt;\n&lt;head&gt;\n    \n    &lt;meta http-equiv=&quot;content-type&quot; content=&quot;text/html; charset=UTF-8&quot; /&gt;\n    \n        &lt;script&gt;\n            L_NO_TOUCH = false;\n            L_DISABLE_3D = false;\n        &lt;/script&gt;\n    \n    &lt;style&gt;html, body {width: 100%;height: 100%;margin: 0;padding: 0;}&lt;/style&gt;\n    &lt;style&gt;#map {position:absolute;top:0;bottom:0;right:0;left:0;}&lt;/style&gt;\n    &lt;script src=&quot;https://cdn.jsdelivr.net/npm/leaflet@1.9.3/dist/leaflet.js&quot;&gt;&lt;/script&gt;\n    &lt;script src=&quot;https://code.jquery.com/jquery-3.7.1.min.js&quot;&gt;&lt;/script&gt;\n    &lt;script src=&quot;https://cdn.jsdelivr.net/npm/bootstrap@5.2.2/dist/js/bootstrap.bundle.min.js&quot;&gt;&lt;/script&gt;\n    &lt;script src=&quot;https://cdnjs.cloudflare.com/ajax/libs/Leaflet.awesome-markers/2.0.2/leaflet.awesome-markers.js&quot;&gt;&lt;/script&gt;\n    &lt;link rel=&quot;stylesheet&quot; href=&quot;https://cdn.jsdelivr.net/npm/leaflet@1.9.3/dist/leaflet.css&quot;/&gt;\n    &lt;link rel=&quot;stylesheet&quot; href=&quot;https://cdn.jsdelivr.net/npm/bootstrap@5.2.2/dist/css/bootstrap.min.css&quot;/&gt;\n    &lt;link rel=&quot;stylesheet&quot; href=&quot;https://netdna.bootstrapcdn.com/bootstrap/3.0.0/css/bootstrap.min.css&quot;/&gt;\n    &lt;link rel=&quot;stylesheet&quot; href=&quot;https://cdn.jsdelivr.net/npm/@fortawesome/fontawesome-free@6.2.0/css/all.min.css&quot;/&gt;\n    &lt;link rel=&quot;stylesheet&quot; href=&quot;https://cdnjs.cloudflare.com/ajax/libs/Leaflet.awesome-markers/2.0.2/leaflet.awesome-markers.css&quot;/&gt;\n    &lt;link rel=&quot;stylesheet&quot; href=&quot;https://cdn.jsdelivr.net/gh/python-visualization/folium/folium/templates/leaflet.awesome.rotate.min.css&quot;/&gt;\n    \n            &lt;meta name=&quot;viewport&quot; content=&quot;width=device-width,\n                initial-scale=1.0, maximum-scale=1.0, user-scalable=no&quot; /&gt;\n            &lt;style&gt;\n                #map_5ca0666700e3c358fc6cd653f70f70be {\n                    position: relative;\n                    width: 100.0%;\n                    height: 100.0%;\n                    left: 0.0%;\n                    top: 0.0%;\n                }\n                .leaflet-container { font-size: 1rem; }\n            &lt;/style&gt;\n        \n    \n                    &lt;style&gt;\n                        .foliumtooltip {\n                            \n                        }\n                       .foliumtooltip table{\n                            margin: auto;\n                        }\n                        .foliumtooltip tr{\n                            text-align: left;\n                        }\n                        .foliumtooltip th{\n                            padding: 2px; padding-right: 8px;\n                        }\n                    &lt;/style&gt;\n            \n    \n                    &lt;style&gt;\n                        .foliumpopup {\n                            margin: auto;\n                        }\n                       .foliumpopup table{\n                            margin: auto;\n                        }\n                        .foliumpopup tr{\n                            text-align: left;\n                        }\n                        .foliumpopup th{\n                            padding: 2px; padding-right: 8px;\n                        }\n                    &lt;/style&gt;\n            \n    \n    &lt;script src=&quot;https://code.jquery.com/ui/1.12.1/jquery-ui.js&quot;&gt;&lt;/script&gt;\n    &lt;script&gt;$( function() {\n        $( &quot;.maplegend&quot; ).draggable({\n            start: function (event, ui) {\n                $(this).css({\n                    right: &quot;auto&quot;,\n                    top: &quot;auto&quot;,\n                    bottom: &quot;auto&quot;\n                });\n            }\n        });\n    });\n    &lt;/script&gt;\n    &lt;style type=&#x27;text/css&#x27;&gt;\n      .maplegend {\n        position: absolute;\n        z-index:9999;\n        background-color: rgba(255, 255, 255, .8);\n        border-radius: 5px;\n        box-shadow: 0 0 15px rgba(0,0,0,0.2);\n        padding: 10px;\n        font: 12px/14px Arial, Helvetica, sans-serif;\n        right: 10px;\n        bottom: 20px;\n      }\n      .maplegend .legend-title {\n        text-align: left;\n        margin-bottom: 5px;\n        font-weight: bold;\n        }\n      .maplegend .legend-scale ul {\n        margin: 0;\n        margin-bottom: 0px;\n        padding: 0;\n        float: left;\n        list-style: none;\n        }\n      .maplegend .legend-scale ul li {\n        list-style: none;\n        margin-left: 0;\n        line-height: 16px;\n        margin-bottom: 2px;\n        }\n      .maplegend ul.legend-labels li span {\n        display: block;\n        float: left;\n        height: 14px;\n        width: 14px;\n        margin-right: 5px;\n        margin-left: 0;\n        border: 0px solid #ccc;\n        }\n      .maplegend .legend-source {\n        color: #777;\n        clear: both;\n        }\n      .maplegend a {\n        color: #777;\n        }\n    &lt;/style&gt;\n    \n&lt;/head&gt;\n&lt;body&gt;\n    \n    \n    &lt;div id=&#x27;maplegend CALL_TYPE&#x27; class=&#x27;maplegend&#x27;&gt;\n        &lt;div class=&#x27;legend-title&#x27;&gt;CALL_TYPE&lt;/div&gt;\n        &lt;div class=&#x27;legend-scale&#x27;&gt;\n            &lt;ul class=&#x27;legend-labels&#x27;&gt;\n                &lt;li&gt;&lt;span style=&#x27;background:#e41a1c&#x27;&gt;&lt;/span&gt;B&lt;/li&gt;\n                &lt;li&gt;&lt;span style=&#x27;background:#999999&#x27;&gt;&lt;/span&gt;C&lt;/li&gt;\n            &lt;/ul&gt;\n        &lt;/div&gt;\n    &lt;/div&gt;\n    \n    \n            &lt;div class=&quot;folium-map&quot; id=&quot;map_5ca0666700e3c358fc6cd653f70f70be&quot; &gt;&lt;/div&gt;\n        \n&lt;/body&gt;\n&lt;script&gt;\n    \n    \n            var map_5ca0666700e3c358fc6cd653f70f70be = L.map(\n                &quot;map_5ca0666700e3c358fc6cd653f70f70be&quot;,\n                {\n                    center: [41.1603975, -8.631872999999999],\n                    crs: L.CRS.EPSG3857,\n                    zoom: 10,\n                    zoomControl: true,\n                    preferCanvas: false,\n                }\n            );\n            L.control.scale().addTo(map_5ca0666700e3c358fc6cd653f70f70be);\n\n            \n\n        \n    \n            var tile_layer_1d60f3fefa1f4d08ebb9d69e1551ed79 = L.tileLayer(\n                &quot;https://a.basemaps.cartocdn.com/light_all/{z}/{x}/{y}{r}.png&quot;,\n                {&quot;attribution&quot;: &quot;\\u0026copy; \\u003ca href=\\&quot;https://www.openstreetmap.org/copyright\\&quot;\\u003eOpenStreetMap\\u003c/a\\u003e contributors \\u0026copy; \\u003ca href=\\&quot;https://carto.com/attributions\\&quot;\\u003eCARTO\\u003c/a\\u003e&quot;, &quot;detectRetina&quot;: false, &quot;maxNativeZoom&quot;: 20, &quot;maxZoom&quot;: 20, &quot;minZoom&quot;: 0, &quot;noWrap&quot;: false, &quot;opacity&quot;: 1, &quot;subdomains&quot;: &quot;abc&quot;, &quot;tms&quot;: false}\n            );\n        \n    \n            tile_layer_1d60f3fefa1f4d08ebb9d69e1551ed79.addTo(map_5ca0666700e3c358fc6cd653f70f70be);\n        \n    \n            map_5ca0666700e3c358fc6cd653f70f70be.fitBounds(\n                [[41.140278, -8.689086], [41.180517, -8.57466]],\n                {}\n            );\n        \n    \n        function geo_json_15698df433251f1a807d268afb57afb8_styler(feature) {\n            switch(feature.id) {\n                case &quot;0&quot;: case &quot;2&quot;: case &quot;3&quot;: case &quot;4&quot;: \n                    return {&quot;color&quot;: &quot;#999999&quot;, &quot;fillColor&quot;: &quot;#999999&quot;, &quot;fillOpacity&quot;: 0.5, &quot;weight&quot;: 2};\n                default:\n                    return {&quot;color&quot;: &quot;#e41a1c&quot;, &quot;fillColor&quot;: &quot;#e41a1c&quot;, &quot;fillOpacity&quot;: 0.5, &quot;weight&quot;: 2};\n            }\n        }\n        function geo_json_15698df433251f1a807d268afb57afb8_highlighter(feature) {\n            switch(feature.id) {\n                default:\n                    return {&quot;fillOpacity&quot;: 0.75};\n            }\n        }\n        function geo_json_15698df433251f1a807d268afb57afb8_pointToLayer(feature, latlng) {\n            var opts = {&quot;bubblingMouseEvents&quot;: true, &quot;color&quot;: &quot;#3388ff&quot;, &quot;dashArray&quot;: null, &quot;dashOffset&quot;: null, &quot;fill&quot;: true, &quot;fillColor&quot;: &quot;#3388ff&quot;, &quot;fillOpacity&quot;: 0.2, &quot;fillRule&quot;: &quot;evenodd&quot;, &quot;lineCap&quot;: &quot;round&quot;, &quot;lineJoin&quot;: &quot;round&quot;, &quot;opacity&quot;: 1.0, &quot;radius&quot;: 2, &quot;stroke&quot;: true, &quot;weight&quot;: 3};\n            \n            let style = geo_json_15698df433251f1a807d268afb57afb8_styler(feature)\n            Object.assign(opts, style)\n            \n            return new L.CircleMarker(latlng, opts)\n        }\n\n        function geo_json_15698df433251f1a807d268afb57afb8_onEachFeature(feature, layer) {\n            layer.on({\n                mouseout: function(e) {\n                    if(typeof e.target.setStyle === &quot;function&quot;){\n                        geo_json_15698df433251f1a807d268afb57afb8.resetStyle(e.target);\n                    }\n                },\n                mouseover: function(e) {\n                    if(typeof e.target.setStyle === &quot;function&quot;){\n                        const highlightStyle = geo_json_15698df433251f1a807d268afb57afb8_highlighter(e.target.feature)\n                        e.target.setStyle(highlightStyle);\n                    }\n                },\n            });\n        };\n        var geo_json_15698df433251f1a807d268afb57afb8 = L.geoJson(null, {\n                onEachFeature: geo_json_15698df433251f1a807d268afb57afb8_onEachFeature,\n            \n                style: geo_json_15698df433251f1a807d268afb57afb8_styler,\n                pointToLayer: geo_json_15698df433251f1a807d268afb57afb8_pointToLayer,\n        });\n\n        function geo_json_15698df433251f1a807d268afb57afb8_add (data) {\n            geo_json_15698df433251f1a807d268afb57afb8\n                .addData(data);\n        }\n            geo_json_15698df433251f1a807d268afb57afb8_add({&quot;bbox&quot;: [-8.689086, 41.140278, -8.57466, 41.180517], &quot;features&quot;: [{&quot;bbox&quot;: [-8.632746, 41.141376, -8.618499, 41.154516], &quot;geometry&quot;: {&quot;coordinates&quot;: [[-8.618643, 41.141412], [-8.618499, 41.141376], [-8.620326, 41.14251], [-8.622153, 41.143815], [-8.623953, 41.144373], [-8.62668, 41.144778], [-8.627373, 41.144697], [-8.630226, 41.14521], [-8.632746, 41.14692], [-8.631738, 41.148225], [-8.629938, 41.150385], [-8.62911, 41.151213], [-8.629128, 41.15124], [-8.628786, 41.152203], [-8.628687, 41.152374], [-8.628759, 41.152518], [-8.630838, 41.15268], [-8.632323, 41.153022], [-8.631144, 41.154489], [-8.630829, 41.154507], [-8.630829, 41.154516], [-8.630829, 41.154498], [-8.630838, 41.154489]], &quot;type&quot;: &quot;LineString&quot;}, &quot;id&quot;: &quot;0&quot;, &quot;properties&quot;: {&quot;CALL_TYPE&quot;: &quot;C&quot;, &quot;DAY_TYPE&quot;: &quot;A&quot;, &quot;ORIGIN_CALL&quot;: null, &quot;ORIGIN_STAND&quot;: null, &quot;TAXI_ID&quot;: 20000589, &quot;TIMESTAMP&quot;: 1372636858, &quot;TRAVEL_TIME_SECONDS&quot;: 330, &quot;TRIP_ID&quot;: 1372636858620000589, &quot;__folium_color&quot;: &quot;#999999&quot;}, &quot;type&quot;: &quot;Feature&quot;}, {&quot;bbox&quot;: [-8.670942, 41.159826, -8.639847, 41.170671], &quot;geometry&quot;: {&quot;coordinates&quot;: [[-8.639847, 41.159826], [-8.640351, 41.159871], [-8.642196, 41.160114], [-8.644455, 41.160492], [-8.646921, 41.160951], [-8.649999, 41.161491], [-8.653167, 41.162031], [-8.656434, 41.16258], [-8.660178, 41.163192], [-8.663112, 41.163687], [-8.666235, 41.1642], [-8.669169, 41.164704], [-8.670852, 41.165136], [-8.670942, 41.166576], [-8.66961, 41.167962], [-8.668098, 41.168988], [-8.66664, 41.170005], [-8.665767, 41.170635], [-8.66574, 41.170671]], &quot;type&quot;: &quot;LineString&quot;}, &quot;id&quot;: &quot;1&quot;, &quot;properties&quot;: {&quot;CALL_TYPE&quot;: &quot;B&quot;, &quot;DAY_TYPE&quot;: &quot;A&quot;, &quot;ORIGIN_CALL&quot;: null, &quot;ORIGIN_STAND&quot;: 7.0, &quot;TAXI_ID&quot;: 20000596, &quot;TIMESTAMP&quot;: 1372637303, &quot;TRAVEL_TIME_SECONDS&quot;: 270, &quot;TRIP_ID&quot;: 1372637303620000596, &quot;__folium_color&quot;: &quot;#e41a1c&quot;}, &quot;type&quot;: &quot;Feature&quot;}, {&quot;bbox&quot;: [-8.650395, 41.140278, -8.59653, 41.154507], &quot;geometry&quot;: {&quot;coordinates&quot;: [[-8.612964, 41.140359], [-8.613378, 41.14035], [-8.614215, 41.140278], [-8.614773, 41.140368], [-8.615907, 41.140449], [-8.616609, 41.140602], [-8.618472, 41.141412], [-8.620623, 41.142789], [-8.622558, 41.144094], [-8.62506, 41.144805], [-8.627436, 41.144733], [-8.630082, 41.145174], [-8.6319, 41.146461], [-8.632584, 41.147316], [-8.631252, 41.148774], [-8.629713, 41.150628], [-8.628804, 41.152077], [-8.628579, 41.152464], [-8.62875, 41.152662], [-8.630424, 41.15277], [-8.632683, 41.152779], [-8.635131, 41.152563], [-8.637705, 41.153013], [-8.64036, 41.15358], [-8.642205, 41.154021], [-8.644068, 41.154507], [-8.646453, 41.154336], [-8.648613, 41.1543], [-8.649504, 41.154336], [-8.649837, 41.154354], [-8.649837, 41.1543], [-8.649882, 41.154282], [-8.649936, 41.1543], [-8.6499, 41.154264], [-8.599383, 41.141736], [-8.59653, 41.140566], [-8.65008, 41.154291], [-8.650395, 41.153814], [-8.650377, 41.153832], [-8.650359, 41.153787], [-8.649891, 41.153166], [-8.649369, 41.152572], [-8.649198, 41.152374], [-8.649711, 41.151213], [-8.649117, 41.150466], [-8.649117, 41.149062], [-8.648613, 41.148261], [-8.648424, 41.148225], [-8.647587, 41.148405], [-8.64594, 41.148414], [-8.643861, 41.148135], [-8.642763, 41.148027], [-8.640918, 41.14836], [-8.637759, 41.148351], [-8.635338, 41.147964], [-8.633277, 41.147172], [-8.631513, 41.146146], [-8.629776, 41.14503], [-8.627814, 41.144643], [-8.625996, 41.144769], [-8.624088, 41.144463], [-8.621325, 41.143401], [-8.619444, 41.141961], [-8.617365, 41.140863], [-8.61597, 41.14053]], &quot;type&quot;: &quot;LineString&quot;}, &quot;id&quot;: &quot;2&quot;, &quot;properties&quot;: {&quot;CALL_TYPE&quot;: &quot;C&quot;, &quot;DAY_TYPE&quot;: &quot;A&quot;, &quot;ORIGIN_CALL&quot;: null, &quot;ORIGIN_STAND&quot;: null, &quot;TAXI_ID&quot;: 20000320, &quot;TIMESTAMP&quot;: 1372636951, &quot;TRAVEL_TIME_SECONDS&quot;: 960, &quot;TRIP_ID&quot;: 1372636951620000320, &quot;__folium_color&quot;: &quot;#999999&quot;}, &quot;type&quot;: &quot;Feature&quot;}, {&quot;bbox&quot;: [-8.610849, 41.142555, -8.57466, 41.15196], &quot;geometry&quot;: {&quot;coordinates&quot;: [[-8.574678, 41.151951], [-8.574705, 41.151942], [-8.574696, 41.151933], [-8.57466, 41.15196], [-8.574723, 41.151933], [-8.574714, 41.151924], [-8.574714, 41.151924], [-8.575164, 41.150934], [-8.577135, 41.150232], [-8.57853, 41.148639], [-8.579745, 41.147316], [-8.579358, 41.146173], [-8.580744, 41.14503], [-8.582904, 41.14512], [-8.58438, 41.146479], [-8.610849, 41.145876], [-8.610012, 41.146479], [-8.609058, 41.146866], [-8.608968, 41.147055], [-8.586027, 41.148702], [-8.587197, 41.149224], [-8.588205, 41.148963], [-8.588835, 41.147604], [-8.590176, 41.147082], [-8.592543, 41.146614], [-8.594721, 41.146245], [-8.596737, 41.146317], [-8.59869, 41.146119], [-8.598816, 41.146101], [-8.600193, 41.146155], [-8.601057, 41.146101], [-8.602344, 41.14575], [-8.602785, 41.145705], [-8.60328, 41.145597], [-8.604045, 41.145417], [-8.604657, 41.144256], [-8.605854, 41.142555], [-8.607951, 41.142753], [-8.607978, 41.142825], [-8.607996, 41.142879], [-8.607987, 41.142888], [-8.608005, 41.142915], [-8.607996, 41.142915]], &quot;type&quot;: &quot;LineString&quot;}, &quot;id&quot;: &quot;3&quot;, &quot;properties&quot;: {&quot;CALL_TYPE&quot;: &quot;C&quot;, &quot;DAY_TYPE&quot;: &quot;A&quot;, &quot;ORIGIN_CALL&quot;: null, &quot;ORIGIN_STAND&quot;: null, &quot;TAXI_ID&quot;: 20000520, &quot;TIMESTAMP&quot;: 1372636854, &quot;TRAVEL_TIME_SECONDS&quot;: 630, &quot;TRIP_ID&quot;: 1372636854620000520, &quot;__folium_color&quot;: &quot;#999999&quot;}, &quot;type&quot;: &quot;Feature&quot;}, {&quot;bbox&quot;: [-8.689086, 41.171841, -8.645949, 41.180517], &quot;geometry&quot;: {&quot;coordinates&quot;: [[-8.645994, 41.18049], [-8.645949, 41.180517], [-8.646048, 41.180049], [-8.646804, 41.178888], [-8.649495, 41.178465], [-8.65215, 41.177961], [-8.654049, 41.177196], [-8.655012, 41.177925], [-8.656353, 41.177853], [-8.659647, 41.177277], [-8.662518, 41.177619], [-8.664561, 41.179221], [-8.667432, 41.178537], [-8.668944, 41.176674], [-8.671374, 41.17518], [-8.673894, 41.173308], [-8.676918, 41.171841], [-8.680032, 41.171949], [-8.682615, 41.173191], [-8.685441, 41.173776], [-8.688105, 41.17365], [-8.688879, 41.174379], [-8.689059, 41.17608], [-8.689086, 41.176431], [-8.689059, 41.176593], [-8.687502, 41.176755], [-8.687259, 41.177781], [-8.687259, 41.178078], [-8.687268, 41.178087]], &quot;type&quot;: &quot;LineString&quot;}, &quot;id&quot;: &quot;4&quot;, &quot;properties&quot;: {&quot;CALL_TYPE&quot;: &quot;C&quot;, &quot;DAY_TYPE&quot;: &quot;A&quot;, &quot;ORIGIN_CALL&quot;: null, &quot;ORIGIN_STAND&quot;: null, &quot;TAXI_ID&quot;: 20000337, &quot;TIMESTAMP&quot;: 1372637091, &quot;TRAVEL_TIME_SECONDS&quot;: 420, &quot;TRIP_ID&quot;: 1372637091620000337, &quot;__folium_color&quot;: &quot;#999999&quot;}, &quot;type&quot;: &quot;Feature&quot;}], &quot;type&quot;: &quot;FeatureCollection&quot;});\n\n        \n    \n    geo_json_15698df433251f1a807d268afb57afb8.bindTooltip(\n    function(layer){\n    let div = L.DomUtil.create(&#x27;div&#x27;);\n    \n    let handleObject = feature=&gt;typeof(feature)==&#x27;object&#x27; ? JSON.stringify(feature) : feature;\n    let fields = [&quot;CALL_TYPE&quot;];\n    let aliases = [&quot;CALL_TYPE&quot;];\n    let table = &#x27;&lt;table&gt;&#x27; +\n        String(\n        fields.map(\n        (v,i)=&gt;\n        `&lt;tr&gt;\n            &lt;th&gt;${aliases[i]}&lt;/th&gt;\n            \n            &lt;td&gt;${handleObject(layer.feature.properties[v])}&lt;/td&gt;\n        &lt;/tr&gt;`).join(&#x27;&#x27;))\n    +&#x27;&lt;/table&gt;&#x27;;\n    div.innerHTML=table;\n    \n    return div\n    }\n    ,{&quot;className&quot;: &quot;foliumtooltip&quot;, &quot;sticky&quot;: true});\n                     \n    \n    geo_json_15698df433251f1a807d268afb57afb8.bindPopup(\n    function(layer){\n    let div = L.DomUtil.create(&#x27;div&#x27;);\n    \n    let handleObject = feature=&gt;typeof(feature)==&#x27;object&#x27; ? JSON.stringify(feature) : feature;\n    let fields = [&quot;TRIP_ID&quot;, &quot;CALL_TYPE&quot;, &quot;ORIGIN_CALL&quot;, &quot;ORIGIN_STAND&quot;, &quot;TAXI_ID&quot;, &quot;TIMESTAMP&quot;, &quot;DAY_TYPE&quot;, &quot;TRAVEL_TIME_SECONDS&quot;];\n    let aliases = [&quot;TRIP_ID&quot;, &quot;CALL_TYPE&quot;, &quot;ORIGIN_CALL&quot;, &quot;ORIGIN_STAND&quot;, &quot;TAXI_ID&quot;, &quot;TIMESTAMP&quot;, &quot;DAY_TYPE&quot;, &quot;TRAVEL_TIME_SECONDS&quot;];\n    let table = &#x27;&lt;table&gt;&#x27; +\n        String(\n        fields.map(\n        (v,i)=&gt;\n        `&lt;tr&gt;\n            &lt;th&gt;${aliases[i].toLocaleString()}&lt;/th&gt;\n            \n            &lt;td&gt;${handleObject(layer.feature.properties[v]).toLocaleString()}&lt;/td&gt;\n        &lt;/tr&gt;`).join(&#x27;&#x27;))\n    +&#x27;&lt;/table&gt;&#x27;;\n    div.innerHTML=table;\n    \n    return div\n    }\n    ,{&quot;className&quot;: &quot;foliumpopup&quot;});\n                     \n    \n            geo_json_15698df433251f1a807d268afb57afb8.addTo(map_5ca0666700e3c358fc6cd653f70f70be);\n        \n&lt;/script&gt;\n&lt;/html&gt;\" style=\"position:absolute;width:100%;height:100%;left:0;top:0;border:none !important;\" allowfullscreen webkitallowfullscreen mozallowfullscreen></iframe></div></div>"
     },
     "execution_count": 8,
     "metadata": {},
     "output_type": "execute_result"
    }
   ],
   "source": [
    "gdf_porto_taxi.head().explore(\n",
    "    column=\"CALL_TYPE\",  # make choropleth based on this column\n",
    "    tooltip=\"CALL_TYPE\",  # show this column value in tooltip (on hover)\n",
    "    popup=True,  # show all values in popup (on click)\n",
    "    tiles=\"CartoDB positron\",  # use \"CartoDB positron\" tiles\n",
    "    cmap=\"Set1\",  # use \"Set1\" matplotlib colormap\n",
    ")"
   ],
   "metadata": {
    "collapsed": false,
    "ExecuteTime": {
     "end_time": "2024-01-25T18:39:49.423535300Z",
     "start_time": "2024-01-25T18:39:48.750865200Z"
    }
   },
   "id": "cd7ddde1af824701",
   "execution_count": 8
  }
 ],
 "metadata": {
  "kernelspec": {
   "display_name": "Python 3",
   "language": "python",
   "name": "python3"
  },
  "language_info": {
   "codemirror_mode": {
    "name": "ipython",
    "version": 2
   },
   "file_extension": ".py",
   "mimetype": "text/x-python",
   "name": "python",
   "nbconvert_exporter": "python",
   "pygments_lexer": "ipython2",
   "version": "2.7.6"
  }
 },
 "nbformat": 4,
 "nbformat_minor": 5
}

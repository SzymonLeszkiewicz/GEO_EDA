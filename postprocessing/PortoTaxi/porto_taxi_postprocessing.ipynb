{
 "cells": [
  {
   "cell_type": "markdown",
   "source": [
    "# Imports"
   ],
   "metadata": {
    "collapsed": false
   },
   "id": "86646c34d54911ce"
  },
  {
   "cell_type": "code",
   "source": [
    "from datetime import datetime\n",
    "\n",
    "import geopandas as gpd\n",
    "import pandas as pd\n",
    "from shapely import Point\n",
    "from tqdm.autonotebook import tqdm"
   ],
   "metadata": {
    "collapsed": true,
    "ExecuteTime": {
     "end_time": "2024-05-26T14:52:35.229309Z",
     "start_time": "2024-05-26T14:52:35.226296Z"
    }
   },
   "id": "initial_id",
   "outputs": [],
   "execution_count": 16
  },
  {
   "cell_type": "markdown",
   "source": [
    "# Data Loading"
   ],
   "metadata": {
    "collapsed": false
   },
   "id": "7ee6387abc43c388"
  },
  {
   "cell_type": "code",
   "source": "df_porto_taxi = pd.read_parquet(\"data/porto_taxi.parquet\")",
   "metadata": {
    "collapsed": false,
    "ExecuteTime": {
     "end_time": "2024-05-26T14:52:36.776762Z",
     "start_time": "2024-05-26T14:52:36.632884Z"
    }
   },
   "id": "d3bc2c16409826c1",
   "outputs": [],
   "execution_count": 17
  },
  {
   "cell_type": "code",
   "source": [
    "df_porto_taxi.head()"
   ],
   "metadata": {
    "collapsed": false,
    "ExecuteTime": {
     "end_time": "2024-05-26T14:52:44.240704Z",
     "start_time": "2024-05-26T14:52:44.235664Z"
    }
   },
   "id": "cf6644780eb30fe6",
   "outputs": [
    {
     "data": {
      "text/plain": [
       "      timestamp              trip_id call_type  origin_call  origin_stand  \\\n",
       "0  1.372637e+09  1372637084620000285         C          NaN           NaN   \n",
       "1  1.372637e+09  1372637084620000285         C          NaN           NaN   \n",
       "2  1.372637e+09  1372637084620000285         C          NaN           NaN   \n",
       "3  1.372637e+09  1372637084620000285         C          NaN           NaN   \n",
       "4  1.372637e+09  1372637084620000285         C          NaN           NaN   \n",
       "\n",
       "    taxi_id day_type      speed  longitude   latitude  \n",
       "0  20000285        A   9.733089  -8.585685  41.148576  \n",
       "1  20000285        A   9.733089  -8.585766  41.148936  \n",
       "2  20000285        A  12.120171  -8.586360  41.148864  \n",
       "3  20000285        A  23.865080  -8.586243  41.147973  \n",
       "4  20000285        A  24.176693  -8.587170  41.147397  "
      ],
      "text/html": [
       "<div>\n",
       "<style scoped>\n",
       "    .dataframe tbody tr th:only-of-type {\n",
       "        vertical-align: middle;\n",
       "    }\n",
       "\n",
       "    .dataframe tbody tr th {\n",
       "        vertical-align: top;\n",
       "    }\n",
       "\n",
       "    .dataframe thead th {\n",
       "        text-align: right;\n",
       "    }\n",
       "</style>\n",
       "<table border=\"1\" class=\"dataframe\">\n",
       "  <thead>\n",
       "    <tr style=\"text-align: right;\">\n",
       "      <th></th>\n",
       "      <th>timestamp</th>\n",
       "      <th>trip_id</th>\n",
       "      <th>call_type</th>\n",
       "      <th>origin_call</th>\n",
       "      <th>origin_stand</th>\n",
       "      <th>taxi_id</th>\n",
       "      <th>day_type</th>\n",
       "      <th>speed</th>\n",
       "      <th>longitude</th>\n",
       "      <th>latitude</th>\n",
       "    </tr>\n",
       "  </thead>\n",
       "  <tbody>\n",
       "    <tr>\n",
       "      <th>0</th>\n",
       "      <td>1.372637e+09</td>\n",
       "      <td>1372637084620000285</td>\n",
       "      <td>C</td>\n",
       "      <td>NaN</td>\n",
       "      <td>NaN</td>\n",
       "      <td>20000285</td>\n",
       "      <td>A</td>\n",
       "      <td>9.733089</td>\n",
       "      <td>-8.585685</td>\n",
       "      <td>41.148576</td>\n",
       "    </tr>\n",
       "    <tr>\n",
       "      <th>1</th>\n",
       "      <td>1.372637e+09</td>\n",
       "      <td>1372637084620000285</td>\n",
       "      <td>C</td>\n",
       "      <td>NaN</td>\n",
       "      <td>NaN</td>\n",
       "      <td>20000285</td>\n",
       "      <td>A</td>\n",
       "      <td>9.733089</td>\n",
       "      <td>-8.585766</td>\n",
       "      <td>41.148936</td>\n",
       "    </tr>\n",
       "    <tr>\n",
       "      <th>2</th>\n",
       "      <td>1.372637e+09</td>\n",
       "      <td>1372637084620000285</td>\n",
       "      <td>C</td>\n",
       "      <td>NaN</td>\n",
       "      <td>NaN</td>\n",
       "      <td>20000285</td>\n",
       "      <td>A</td>\n",
       "      <td>12.120171</td>\n",
       "      <td>-8.586360</td>\n",
       "      <td>41.148864</td>\n",
       "    </tr>\n",
       "    <tr>\n",
       "      <th>3</th>\n",
       "      <td>1.372637e+09</td>\n",
       "      <td>1372637084620000285</td>\n",
       "      <td>C</td>\n",
       "      <td>NaN</td>\n",
       "      <td>NaN</td>\n",
       "      <td>20000285</td>\n",
       "      <td>A</td>\n",
       "      <td>23.865080</td>\n",
       "      <td>-8.586243</td>\n",
       "      <td>41.147973</td>\n",
       "    </tr>\n",
       "    <tr>\n",
       "      <th>4</th>\n",
       "      <td>1.372637e+09</td>\n",
       "      <td>1372637084620000285</td>\n",
       "      <td>C</td>\n",
       "      <td>NaN</td>\n",
       "      <td>NaN</td>\n",
       "      <td>20000285</td>\n",
       "      <td>A</td>\n",
       "      <td>24.176693</td>\n",
       "      <td>-8.587170</td>\n",
       "      <td>41.147397</td>\n",
       "    </tr>\n",
       "  </tbody>\n",
       "</table>\n",
       "</div>"
      ]
     },
     "execution_count": 19,
     "metadata": {},
     "output_type": "execute_result"
    }
   ],
   "execution_count": 19
  },
  {
   "cell_type": "code",
   "source": [
    "df_porto_taxi.info()"
   ],
   "metadata": {
    "collapsed": false,
    "ExecuteTime": {
     "end_time": "2024-05-26T14:52:44.960071Z",
     "start_time": "2024-05-26T14:52:44.954685Z"
    }
   },
   "id": "5ce84e895d1fa5e3",
   "outputs": [
    {
     "name": "stdout",
     "output_type": "stream",
     "text": [
      "<class 'pandas.core.frame.DataFrame'>\n",
      "RangeIndex: 2545947 entries, 0 to 2545946\n",
      "Data columns (total 10 columns):\n",
      " #   Column        Dtype  \n",
      "---  ------        -----  \n",
      " 0   timestamp     float64\n",
      " 1   trip_id       int64  \n",
      " 2   call_type     object \n",
      " 3   origin_call   float64\n",
      " 4   origin_stand  float64\n",
      " 5   taxi_id       int64  \n",
      " 6   day_type      object \n",
      " 7   speed         float64\n",
      " 8   longitude     float64\n",
      " 9   latitude      float64\n",
      "dtypes: float64(6), int64(2), object(2)\n",
      "memory usage: 194.2+ MB\n"
     ]
    }
   ],
   "execution_count": 20
  },
  {
   "metadata": {},
   "cell_type": "markdown",
   "source": "# Data Processing",
   "id": "83ffbaaaf94d8907"
  },
  {
   "metadata": {
    "ExecuteTime": {
     "end_time": "2024-05-26T14:52:46.546529Z",
     "start_time": "2024-05-26T14:52:46.544405Z"
    }
   },
   "cell_type": "code",
   "source": "tqdm.pandas()",
   "id": "45674f7798777842",
   "outputs": [],
   "execution_count": 21
  },
  {
   "metadata": {
    "ExecuteTime": {
     "end_time": "2024-05-26T14:52:49.717577Z",
     "start_time": "2024-05-26T14:52:47.505318Z"
    }
   },
   "cell_type": "code",
   "source": [
    "df_porto_taxi[\"timestamp\"] = df_porto_taxi[\"timestamp\"].progress_apply(\n",
    "    lambda x: datetime.fromtimestamp(x)\n",
    ")"
   ],
   "id": "2f00a33f67a53328",
   "outputs": [
    {
     "data": {
      "text/plain": [
       "  0%|          | 0/2545947 [00:00<?, ?it/s]"
      ],
      "application/vnd.jupyter.widget-view+json": {
       "version_major": 2,
       "version_minor": 0,
       "model_id": "312fbf8b86df455ca1e4106ba8a46d7e"
      }
     },
     "metadata": {},
     "output_type": "display_data"
    }
   ],
   "execution_count": 22
  },
  {
   "metadata": {
    "ExecuteTime": {
     "end_time": "2024-05-26T14:53:10.921366Z",
     "start_time": "2024-05-26T14:52:50.374823Z"
    }
   },
   "cell_type": "code",
   "source": [
    "df_porto_taxi[\"geometry\"] = df_porto_taxi.progress_apply(\n",
    "    lambda row: Point(row[\"longitude\"], row[\"latitude\"]), axis=1\n",
    ")"
   ],
   "id": "63d6d22a7aa37f02",
   "outputs": [
    {
     "data": {
      "text/plain": [
       "  0%|          | 0/2545947 [00:00<?, ?it/s]"
      ],
      "application/vnd.jupyter.widget-view+json": {
       "version_major": 2,
       "version_minor": 0,
       "model_id": "1a201b4f4af14bc3b61e234142368967"
      }
     },
     "metadata": {},
     "output_type": "display_data"
    }
   ],
   "execution_count": 23
  },
  {
   "metadata": {
    "ExecuteTime": {
     "end_time": "2024-05-26T14:53:10.982811Z",
     "start_time": "2024-05-26T14:53:10.921366Z"
    }
   },
   "cell_type": "code",
   "source": "df_porto_taxi.drop([\"longitude\", \"latitude\"], axis=1, inplace=True)",
   "id": "66770562b1dd6530",
   "outputs": [],
   "execution_count": 24
  },
  {
   "metadata": {
    "ExecuteTime": {
     "end_time": "2024-05-26T14:53:12.671954Z",
     "start_time": "2024-05-26T14:53:10.982811Z"
    }
   },
   "cell_type": "code",
   "source": [
    "gdf_porto_taxi = gpd.GeoDataFrame(\n",
    "    data=df_porto_taxi, geometry=\"geometry\", crs=\"EPSG:4326\"\n",
    ")"
   ],
   "id": "f8ca79a0a3e92748",
   "outputs": [],
   "execution_count": 25
  },
  {
   "metadata": {
    "ExecuteTime": {
     "end_time": "2024-05-26T14:53:12.678966Z",
     "start_time": "2024-05-26T14:53:12.672957Z"
    }
   },
   "cell_type": "code",
   "source": "gdf_porto_taxi.head()",
   "id": "b38007bf87ecbeb7",
   "outputs": [
    {
     "data": {
      "text/plain": [
       "            timestamp              trip_id call_type  origin_call  \\\n",
       "0 2013-07-01 02:04:44  1372637084620000285         C          NaN   \n",
       "1 2013-07-01 02:04:59  1372637084620000285         C          NaN   \n",
       "2 2013-07-01 02:05:14  1372637084620000285         C          NaN   \n",
       "3 2013-07-01 02:05:29  1372637084620000285         C          NaN   \n",
       "4 2013-07-01 02:05:44  1372637084620000285         C          NaN   \n",
       "\n",
       "   origin_stand   taxi_id day_type      speed                   geometry  \n",
       "0           NaN  20000285        A   9.733089  POINT (-8.58568 41.14858)  \n",
       "1           NaN  20000285        A   9.733089  POINT (-8.58577 41.14894)  \n",
       "2           NaN  20000285        A  12.120171  POINT (-8.58636 41.14886)  \n",
       "3           NaN  20000285        A  23.865080  POINT (-8.58624 41.14797)  \n",
       "4           NaN  20000285        A  24.176693  POINT (-8.58717 41.14740)  "
      ],
      "text/html": [
       "<div>\n",
       "<style scoped>\n",
       "    .dataframe tbody tr th:only-of-type {\n",
       "        vertical-align: middle;\n",
       "    }\n",
       "\n",
       "    .dataframe tbody tr th {\n",
       "        vertical-align: top;\n",
       "    }\n",
       "\n",
       "    .dataframe thead th {\n",
       "        text-align: right;\n",
       "    }\n",
       "</style>\n",
       "<table border=\"1\" class=\"dataframe\">\n",
       "  <thead>\n",
       "    <tr style=\"text-align: right;\">\n",
       "      <th></th>\n",
       "      <th>timestamp</th>\n",
       "      <th>trip_id</th>\n",
       "      <th>call_type</th>\n",
       "      <th>origin_call</th>\n",
       "      <th>origin_stand</th>\n",
       "      <th>taxi_id</th>\n",
       "      <th>day_type</th>\n",
       "      <th>speed</th>\n",
       "      <th>geometry</th>\n",
       "    </tr>\n",
       "  </thead>\n",
       "  <tbody>\n",
       "    <tr>\n",
       "      <th>0</th>\n",
       "      <td>2013-07-01 02:04:44</td>\n",
       "      <td>1372637084620000285</td>\n",
       "      <td>C</td>\n",
       "      <td>NaN</td>\n",
       "      <td>NaN</td>\n",
       "      <td>20000285</td>\n",
       "      <td>A</td>\n",
       "      <td>9.733089</td>\n",
       "      <td>POINT (-8.58568 41.14858)</td>\n",
       "    </tr>\n",
       "    <tr>\n",
       "      <th>1</th>\n",
       "      <td>2013-07-01 02:04:59</td>\n",
       "      <td>1372637084620000285</td>\n",
       "      <td>C</td>\n",
       "      <td>NaN</td>\n",
       "      <td>NaN</td>\n",
       "      <td>20000285</td>\n",
       "      <td>A</td>\n",
       "      <td>9.733089</td>\n",
       "      <td>POINT (-8.58577 41.14894)</td>\n",
       "    </tr>\n",
       "    <tr>\n",
       "      <th>2</th>\n",
       "      <td>2013-07-01 02:05:14</td>\n",
       "      <td>1372637084620000285</td>\n",
       "      <td>C</td>\n",
       "      <td>NaN</td>\n",
       "      <td>NaN</td>\n",
       "      <td>20000285</td>\n",
       "      <td>A</td>\n",
       "      <td>12.120171</td>\n",
       "      <td>POINT (-8.58636 41.14886)</td>\n",
       "    </tr>\n",
       "    <tr>\n",
       "      <th>3</th>\n",
       "      <td>2013-07-01 02:05:29</td>\n",
       "      <td>1372637084620000285</td>\n",
       "      <td>C</td>\n",
       "      <td>NaN</td>\n",
       "      <td>NaN</td>\n",
       "      <td>20000285</td>\n",
       "      <td>A</td>\n",
       "      <td>23.865080</td>\n",
       "      <td>POINT (-8.58624 41.14797)</td>\n",
       "    </tr>\n",
       "    <tr>\n",
       "      <th>4</th>\n",
       "      <td>2013-07-01 02:05:44</td>\n",
       "      <td>1372637084620000285</td>\n",
       "      <td>C</td>\n",
       "      <td>NaN</td>\n",
       "      <td>NaN</td>\n",
       "      <td>20000285</td>\n",
       "      <td>A</td>\n",
       "      <td>24.176693</td>\n",
       "      <td>POINT (-8.58717 41.14740)</td>\n",
       "    </tr>\n",
       "  </tbody>\n",
       "</table>\n",
       "</div>"
      ]
     },
     "execution_count": 26,
     "metadata": {},
     "output_type": "execute_result"
    }
   ],
   "execution_count": 26
  }
 ],
 "metadata": {
  "kernelspec": {
   "display_name": "Python 3",
   "language": "python",
   "name": "python3"
  },
  "language_info": {
   "codemirror_mode": {
    "name": "ipython",
    "version": 2
   },
   "file_extension": ".py",
   "mimetype": "text/x-python",
   "name": "python",
   "nbconvert_exporter": "python",
   "pygments_lexer": "ipython2",
   "version": "2.7.6"
  }
 },
 "nbformat": 4,
 "nbformat_minor": 5
}

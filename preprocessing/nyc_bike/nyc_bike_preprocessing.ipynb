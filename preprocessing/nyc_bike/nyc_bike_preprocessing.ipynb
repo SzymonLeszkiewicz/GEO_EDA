{
 "cells": [
  {
   "cell_type": "code",
   "execution_count": 3,
   "metadata": {
    "ExecuteTime": {
     "end_time": "2024-03-14T13:08:15.811626Z",
     "start_time": "2024-03-14T13:08:15.803626Z"
    }
   },
   "outputs": [],
   "source": [
    "import pandas as pd\n",
    "import os\n",
    "import numpy as np\n",
    "import matplotlib.pyplot as plt\n",
    "import zipfile\n",
    "from tqdm.autonotebook import tqdm\n",
    "import warnings"
   ]
  },
  {
   "cell_type": "code",
   "execution_count": 2,
   "metadata": {
    "ExecuteTime": {
     "end_time": "2024-03-14T13:08:14.180171Z",
     "start_time": "2024-03-14T13:08:14.167172Z"
    }
   },
   "outputs": [],
   "source": [
    "warnings.filterwarnings(\"ignore\")"
   ]
  },
  {
   "cell_type": "code",
   "execution_count": 5,
   "metadata": {
    "ExecuteTime": {
     "end_time": "2024-03-14T13:09:23.977788Z",
     "start_time": "2024-03-14T13:09:23.968787Z"
    }
   },
   "outputs": [],
   "source": [
    "data_dir = os.path.join(os.getcwd(), \"data\")\n",
    "unzip_files = False  # change if u want to unzip files"
   ]
  },
  {
   "cell_type": "code",
   "execution_count": 6,
   "metadata": {},
   "outputs": [],
   "source": [
    "if unzip_files:\n",
    "    for filename in os.listdir(data_dir):\n",
    "        if filename.endswith(\".zip\"):\n",
    "            filepath = os.path.join(data_dir, filename)\n",
    "            with zipfile.ZipFile(filepath, \"r\") as zip_ref:\n",
    "                zip_ref.extractall(data_dir)\n",
    "                print(f\"Extracted {filepath} to data_dir\")"
   ]
  },
  {
   "cell_type": "code",
   "execution_count": 7,
   "metadata": {},
   "outputs": [],
   "source": [
    "def csv_to_parquet(input_dir, verbose=False):\n",
    "    for root, _, files in os.walk(input_dir):\n",
    "        for file in files:\n",
    "            if file.endswith(\".csv\"):\n",
    "                csv_path = os.path.join(root, file)\n",
    "\n",
    "                df = pd.read_csv(csv_path, dtype=object)\n",
    "\n",
    "                parquet_path = csv_path.replace(\".csv\", \".parquet\")\n",
    "                df.to_parquet(parquet_path)\n",
    "\n",
    "                if verbose:\n",
    "                    print(f\"{parquet_path} saved in dir\")\n",
    "\n",
    "                os.remove(csv_path)\n",
    "                if verbose:\n",
    "                    print(f\"{csv_path} deleted\")"
   ]
  },
  {
   "cell_type": "code",
   "execution_count": 81,
   "metadata": {},
   "outputs": [
    {
     "data": {
      "application/vnd.jupyter.widget-view+json": {
       "model_id": "36a21ceb7ce54065a9576bfdede4f5de",
       "version_major": 2,
       "version_minor": 0
      },
      "text/plain": [
       "Year directories transfered:   0%|          | 0/11 [00:00<?, ?it/s]"
      ]
     },
     "metadata": {},
     "output_type": "display_data"
    },
    {
     "name": "stdout",
     "output_type": "stream",
     "text": [
      "Transfered to .parquet dir: c:\\Users\\Kacper Kozaczko\\Desktop\\Stuff\\PWr\\II_semestr\\Spatial\\GEO_EDA\\preprocessing\\nyc_bike\\data\\2013-citibike-tripdata\n",
      "Transfered to .parquet dir: c:\\Users\\Kacper Kozaczko\\Desktop\\Stuff\\PWr\\II_semestr\\Spatial\\GEO_EDA\\preprocessing\\nyc_bike\\data\\2014-citibike-tripdata\n",
      "Transfered to .parquet dir: c:\\Users\\Kacper Kozaczko\\Desktop\\Stuff\\PWr\\II_semestr\\Spatial\\GEO_EDA\\preprocessing\\nyc_bike\\data\\2015-citibike-tripdata\n",
      "Transfered to .parquet dir: c:\\Users\\Kacper Kozaczko\\Desktop\\Stuff\\PWr\\II_semestr\\Spatial\\GEO_EDA\\preprocessing\\nyc_bike\\data\\2016-citibike-tripdata\n",
      "Transfered to .parquet dir: c:\\Users\\Kacper Kozaczko\\Desktop\\Stuff\\PWr\\II_semestr\\Spatial\\GEO_EDA\\preprocessing\\nyc_bike\\data\\2017-citibike-tripdata\n",
      "Transfered to .parquet dir: c:\\Users\\Kacper Kozaczko\\Desktop\\Stuff\\PWr\\II_semestr\\Spatial\\GEO_EDA\\preprocessing\\nyc_bike\\data\\2018-citibike-tripdata\n",
      "Transfered to .parquet dir: c:\\Users\\Kacper Kozaczko\\Desktop\\Stuff\\PWr\\II_semestr\\Spatial\\GEO_EDA\\preprocessing\\nyc_bike\\data\\2019-citibike-tripdata\n",
      "Transfered to .parquet dir: c:\\Users\\Kacper Kozaczko\\Desktop\\Stuff\\PWr\\II_semestr\\Spatial\\GEO_EDA\\preprocessing\\nyc_bike\\data\\2020-citibike-tripdata\n",
      "Transfered to .parquet dir: c:\\Users\\Kacper Kozaczko\\Desktop\\Stuff\\PWr\\II_semestr\\Spatial\\GEO_EDA\\preprocessing\\nyc_bike\\data\\2021-citibike-tripdata\n",
      "Transfered to .parquet dir: c:\\Users\\Kacper Kozaczko\\Desktop\\Stuff\\PWr\\II_semestr\\Spatial\\GEO_EDA\\preprocessing\\nyc_bike\\data\\2022-citibike-tripdata\n",
      "Transfered to .parquet dir: c:\\Users\\Kacper Kozaczko\\Desktop\\Stuff\\PWr\\II_semestr\\Spatial\\GEO_EDA\\preprocessing\\nyc_bike\\data\\2023-citibike-tripdata\n"
     ]
    }
   ],
   "source": [
    "for year_dir in tqdm(\n",
    "    os.listdir(data_dir), desc=\"Year directories transfered\", colour=\"magenta\"\n",
    "):\n",
    "    year_dir_path = os.path.join(data_dir, year_dir)\n",
    "    csv_to_parquet(year_dir_path, verbose=False)\n",
    "    print(f\"Transfered to .parquet dir: {year_dir_path}\")"
   ]
  },
  {
   "cell_type": "code",
   "execution_count": 37,
   "metadata": {
    "ExecuteTime": {
     "end_time": "2024-03-12T19:14:52.686961100Z",
     "start_time": "2024-03-12T19:14:52.636816800Z"
    }
   },
   "outputs": [],
   "source": [
    "data_2013 = pd.read_parquet(os.path.join(data_dir, \"nyc_bike_2013.parquet\"))"
   ]
  },
  {
   "cell_type": "code",
   "execution_count": 38,
   "metadata": {
    "ExecuteTime": {
     "end_time": "2024-03-12T19:14:53.643925600Z",
     "start_time": "2024-03-12T19:14:53.584932700Z"
    }
   },
   "outputs": [
    {
     "data": {
      "text/plain": "   tripduration            starttime             stoptime  start station id  \\\n0           391  2013-09-30 07:41:55  2013-09-30 07:48:26               438   \n1           570  2013-09-30 07:41:56  2013-09-30 07:51:26               453   \n2          1043  2013-09-30 07:41:56  2013-09-30 07:59:19               388   \n3           304  2013-09-30 07:41:59  2013-09-30 07:47:03               336   \n4           368  2013-09-30 07:42:00  2013-09-30 07:48:08               248   \n\n            start station name  start station latitude  \\\n0          St Marks Pl & 1 Ave               40.727791   \n1              W 22 St & 8 Ave               40.744751   \n2             W 26 St & 10 Ave               40.749718   \n3  Sullivan St & Washington Sq               40.730477   \n4        Laight St & Hudson St               40.721854   \n\n   start station longitude  end station id          end station name  \\\n0               -73.985649             497        E 17 St & Broadway   \n1               -73.999154             368        Carmine St & 6 Ave   \n2               -74.002950             456     E 53 St & Madison Ave   \n3               -73.999061             382   University Pl & E 14 St   \n4               -74.007718             327  Vesey Pl & River Terrace   \n\n   end station latitude  end station longitude  bikeid    usertype birth year  \\\n0             40.737050             -73.990093   20255  Subscriber       1979   \n1             40.730386             -74.002150   19000  Subscriber       1955   \n2             40.759711             -73.974023   15311  Subscriber       1972   \n3             40.734927             -73.992005   19305  Subscriber       1964   \n4             40.715338             -74.016584   17882  Subscriber       1971   \n\n   gender  \n0       1  \n1       2  \n2       1  \n3       1  \n4       1  ",
      "text/html": "<div>\n<style scoped>\n    .dataframe tbody tr th:only-of-type {\n        vertical-align: middle;\n    }\n\n    .dataframe tbody tr th {\n        vertical-align: top;\n    }\n\n    .dataframe thead th {\n        text-align: right;\n    }\n</style>\n<table border=\"1\" class=\"dataframe\">\n  <thead>\n    <tr style=\"text-align: right;\">\n      <th></th>\n      <th>tripduration</th>\n      <th>starttime</th>\n      <th>stoptime</th>\n      <th>start station id</th>\n      <th>start station name</th>\n      <th>start station latitude</th>\n      <th>start station longitude</th>\n      <th>end station id</th>\n      <th>end station name</th>\n      <th>end station latitude</th>\n      <th>end station longitude</th>\n      <th>bikeid</th>\n      <th>usertype</th>\n      <th>birth year</th>\n      <th>gender</th>\n    </tr>\n  </thead>\n  <tbody>\n    <tr>\n      <th>0</th>\n      <td>391</td>\n      <td>2013-09-30 07:41:55</td>\n      <td>2013-09-30 07:48:26</td>\n      <td>438</td>\n      <td>St Marks Pl &amp; 1 Ave</td>\n      <td>40.727791</td>\n      <td>-73.985649</td>\n      <td>497</td>\n      <td>E 17 St &amp; Broadway</td>\n      <td>40.737050</td>\n      <td>-73.990093</td>\n      <td>20255</td>\n      <td>Subscriber</td>\n      <td>1979</td>\n      <td>1</td>\n    </tr>\n    <tr>\n      <th>1</th>\n      <td>570</td>\n      <td>2013-09-30 07:41:56</td>\n      <td>2013-09-30 07:51:26</td>\n      <td>453</td>\n      <td>W 22 St &amp; 8 Ave</td>\n      <td>40.744751</td>\n      <td>-73.999154</td>\n      <td>368</td>\n      <td>Carmine St &amp; 6 Ave</td>\n      <td>40.730386</td>\n      <td>-74.002150</td>\n      <td>19000</td>\n      <td>Subscriber</td>\n      <td>1955</td>\n      <td>2</td>\n    </tr>\n    <tr>\n      <th>2</th>\n      <td>1043</td>\n      <td>2013-09-30 07:41:56</td>\n      <td>2013-09-30 07:59:19</td>\n      <td>388</td>\n      <td>W 26 St &amp; 10 Ave</td>\n      <td>40.749718</td>\n      <td>-74.002950</td>\n      <td>456</td>\n      <td>E 53 St &amp; Madison Ave</td>\n      <td>40.759711</td>\n      <td>-73.974023</td>\n      <td>15311</td>\n      <td>Subscriber</td>\n      <td>1972</td>\n      <td>1</td>\n    </tr>\n    <tr>\n      <th>3</th>\n      <td>304</td>\n      <td>2013-09-30 07:41:59</td>\n      <td>2013-09-30 07:47:03</td>\n      <td>336</td>\n      <td>Sullivan St &amp; Washington Sq</td>\n      <td>40.730477</td>\n      <td>-73.999061</td>\n      <td>382</td>\n      <td>University Pl &amp; E 14 St</td>\n      <td>40.734927</td>\n      <td>-73.992005</td>\n      <td>19305</td>\n      <td>Subscriber</td>\n      <td>1964</td>\n      <td>1</td>\n    </tr>\n    <tr>\n      <th>4</th>\n      <td>368</td>\n      <td>2013-09-30 07:42:00</td>\n      <td>2013-09-30 07:48:08</td>\n      <td>248</td>\n      <td>Laight St &amp; Hudson St</td>\n      <td>40.721854</td>\n      <td>-74.007718</td>\n      <td>327</td>\n      <td>Vesey Pl &amp; River Terrace</td>\n      <td>40.715338</td>\n      <td>-74.016584</td>\n      <td>17882</td>\n      <td>Subscriber</td>\n      <td>1971</td>\n      <td>1</td>\n    </tr>\n  </tbody>\n</table>\n</div>"
     },
     "execution_count": 38,
     "metadata": {},
     "output_type": "execute_result"
    }
   ],
   "source": [
    "data_2013.head()"
   ]
  },
  {
   "cell_type": "code",
   "execution_count": 42,
   "metadata": {
    "ExecuteTime": {
     "end_time": "2024-03-12T19:32:52.335927300Z",
     "start_time": "2024-03-12T19:32:50.844128100Z"
    }
   },
   "outputs": [],
   "source": [
    "data_2023 = pd.read_parquet(os.path.join(data_dir, \"nyc_bike_2023.parquet\"))"
   ]
  },
  {
   "cell_type": "code",
   "execution_count": 43,
   "metadata": {
    "ExecuteTime": {
     "end_time": "2024-03-12T19:32:52.365846Z",
     "start_time": "2024-03-12T19:32:52.332924400Z"
    }
   },
   "outputs": [
    {
     "data": {
      "text/plain": "            ride_id rideable_type           started_at             ended_at  \\\n0  E7CE7CE80519EB26  classic_bike  2023-09-16 17:15:28  2023-09-16 17:19:00   \n1  56F4C65B769CF128  classic_bike  2023-09-03 21:45:29  2023-09-03 21:53:33   \n2  693E8E2193F0F51C  classic_bike  2023-09-06 11:59:58  2023-09-06 12:23:02   \n3  8A972172694A1E84  classic_bike  2023-09-20 09:09:07  2023-09-20 09:14:27   \n4  97ADF7610A90A21B  classic_bike  2023-09-06 20:34:25  2023-09-06 20:41:56   \n\n             start_station_name start_station_id          end_station_name  \\\n0         Halsey St & Ralph Ave          4334.02     Broadway & Madison St   \n1  MacDougal St & Washington Sq          5797.01     Allen St & Stanton St   \n2               5 Ave & E 87 St          7323.09  Central Park W & W 91 St   \n3           50 St & Barnett Ave          6435.03            34 Ave & 38 St   \n4               5 Ave & E 87 St          7323.09  Central Park W & W 91 St   \n\n  end_station_id           start_lat           start_lng            end_lat  \\\n0        4483.10            40.68494           -73.92299           40.68822   \n1        5484.09         40.73240447       -73.998393893          40.722055   \n2        7453.01   40.78232260730881  -73.95987510681152  40.78866499127884   \n3        6638.01  40.750097682094825  -73.91349703073502          40.756913   \n4        7453.01   40.78232260730881  -73.95987510681152  40.78866499127884   \n\n              end_lng member_casual  \n0           -73.91966        member  \n1          -73.989111        member  \n2  -73.96680057048798        casual  \n3          -73.921631        member  \n4  -73.96680057048798        member  ",
      "text/html": "<div>\n<style scoped>\n    .dataframe tbody tr th:only-of-type {\n        vertical-align: middle;\n    }\n\n    .dataframe tbody tr th {\n        vertical-align: top;\n    }\n\n    .dataframe thead th {\n        text-align: right;\n    }\n</style>\n<table border=\"1\" class=\"dataframe\">\n  <thead>\n    <tr style=\"text-align: right;\">\n      <th></th>\n      <th>ride_id</th>\n      <th>rideable_type</th>\n      <th>started_at</th>\n      <th>ended_at</th>\n      <th>start_station_name</th>\n      <th>start_station_id</th>\n      <th>end_station_name</th>\n      <th>end_station_id</th>\n      <th>start_lat</th>\n      <th>start_lng</th>\n      <th>end_lat</th>\n      <th>end_lng</th>\n      <th>member_casual</th>\n    </tr>\n  </thead>\n  <tbody>\n    <tr>\n      <th>0</th>\n      <td>E7CE7CE80519EB26</td>\n      <td>classic_bike</td>\n      <td>2023-09-16 17:15:28</td>\n      <td>2023-09-16 17:19:00</td>\n      <td>Halsey St &amp; Ralph Ave</td>\n      <td>4334.02</td>\n      <td>Broadway &amp; Madison St</td>\n      <td>4483.10</td>\n      <td>40.68494</td>\n      <td>-73.92299</td>\n      <td>40.68822</td>\n      <td>-73.91966</td>\n      <td>member</td>\n    </tr>\n    <tr>\n      <th>1</th>\n      <td>56F4C65B769CF128</td>\n      <td>classic_bike</td>\n      <td>2023-09-03 21:45:29</td>\n      <td>2023-09-03 21:53:33</td>\n      <td>MacDougal St &amp; Washington Sq</td>\n      <td>5797.01</td>\n      <td>Allen St &amp; Stanton St</td>\n      <td>5484.09</td>\n      <td>40.73240447</td>\n      <td>-73.998393893</td>\n      <td>40.722055</td>\n      <td>-73.989111</td>\n      <td>member</td>\n    </tr>\n    <tr>\n      <th>2</th>\n      <td>693E8E2193F0F51C</td>\n      <td>classic_bike</td>\n      <td>2023-09-06 11:59:58</td>\n      <td>2023-09-06 12:23:02</td>\n      <td>5 Ave &amp; E 87 St</td>\n      <td>7323.09</td>\n      <td>Central Park W &amp; W 91 St</td>\n      <td>7453.01</td>\n      <td>40.78232260730881</td>\n      <td>-73.95987510681152</td>\n      <td>40.78866499127884</td>\n      <td>-73.96680057048798</td>\n      <td>casual</td>\n    </tr>\n    <tr>\n      <th>3</th>\n      <td>8A972172694A1E84</td>\n      <td>classic_bike</td>\n      <td>2023-09-20 09:09:07</td>\n      <td>2023-09-20 09:14:27</td>\n      <td>50 St &amp; Barnett Ave</td>\n      <td>6435.03</td>\n      <td>34 Ave &amp; 38 St</td>\n      <td>6638.01</td>\n      <td>40.750097682094825</td>\n      <td>-73.91349703073502</td>\n      <td>40.756913</td>\n      <td>-73.921631</td>\n      <td>member</td>\n    </tr>\n    <tr>\n      <th>4</th>\n      <td>97ADF7610A90A21B</td>\n      <td>classic_bike</td>\n      <td>2023-09-06 20:34:25</td>\n      <td>2023-09-06 20:41:56</td>\n      <td>5 Ave &amp; E 87 St</td>\n      <td>7323.09</td>\n      <td>Central Park W &amp; W 91 St</td>\n      <td>7453.01</td>\n      <td>40.78232260730881</td>\n      <td>-73.95987510681152</td>\n      <td>40.78866499127884</td>\n      <td>-73.96680057048798</td>\n      <td>member</td>\n    </tr>\n  </tbody>\n</table>\n</div>"
     },
     "execution_count": 43,
     "metadata": {},
     "output_type": "execute_result"
    }
   ],
   "source": [
    "data_2023.head()"
   ]
  },
  {
   "cell_type": "code",
   "outputs": [
    {
     "data": {
      "text/plain": "Index(['ride_id', 'rideable_type', 'started_at', 'ended_at',\n       'start_station_name', 'start_station_id', 'end_station_name',\n       'end_station_id', 'start_lat', 'start_lng', 'end_lat', 'end_lng',\n       'member_casual'],\n      dtype='object')"
     },
     "execution_count": 40,
     "metadata": {},
     "output_type": "execute_result"
    }
   ],
   "source": [
    "data_2023.columns"
   ],
   "metadata": {
    "collapsed": false,
    "ExecuteTime": {
     "end_time": "2024-03-12T19:15:15.095950700Z",
     "start_time": "2024-03-12T19:15:15.056887500Z"
    }
   },
   "execution_count": 40
  },
  {
   "cell_type": "code",
   "execution_count": 7,
   "metadata": {},
   "outputs": [
    {
     "data": {
      "text/plain": [
       "Index(['tripduration', 'starttime', 'stoptime', 'start station id',\n",
       "       'start station name', 'start station latitude',\n",
       "       'start station longitude', 'end station id', 'end station name',\n",
       "       'end station latitude', 'end station longitude', 'bikeid', 'usertype',\n",
       "       'birth year', 'gender'],\n",
       "      dtype='object')"
      ]
     },
     "execution_count": 7,
     "metadata": {},
     "output_type": "execute_result"
    }
   ],
   "source": [
    "data_2013.columns"
   ]
  },
  {
   "cell_type": "markdown",
   "metadata": {},
   "source": [
    "## Analiza\n",
    "\n",
    "lata 2013-2020 włącznie mają kolumny: ['tripduration', \n",
    "'starttime', 'stoptime', 'start station id',\n",
    "       'start station name', 'start station latitude',\n",
    "       'start station longitude', 'end station id', 'end station name',\n",
    "       'end station latitude', 'end station longitude', 'bikeid', 'usertype',\n",
    "       'birth year', 'gender']\n",
    "\n",
    "lata 2021-2023 mają kolumny: ['ride_id', 'rideable_type', 'started_at', 'ended_at',\n",
    "       'start_station_name', 'start_station_id', 'end_station_name',\n",
    "       'end_station_id', 'start_lat', 'start_lng', 'end_lat', 'end_lng',\n",
    "       'member_casual']\n",
    "\n",
    "\n",
    "### W pierwszej grupie nie ma: \n",
    "\n",
    "ride_id, \n",
    "\n",
    "rideable_type\n",
    "\n",
    "member_casual\n",
    "\n",
    "\n",
    "\n",
    "### W drugiej grupie nie ma:\n",
    "\n",
    "tripduration -> da się wyliczić i dodać\n",
    "\n",
    "gender\n",
    "\n",
    "birthyear\n",
    "\n",
    "bike_id\n",
    "\n",
    "usertype\n"
   ]
  },
  {
   "cell_type": "markdown",
   "metadata": {},
   "source": [
    "# Merge into table per year 2013-2020"
   ]
  },
  {
   "cell_type": "code",
   "execution_count": 5,
   "metadata": {},
   "outputs": [],
   "source": [
    "default_columns = list(data_2013.columns)\n",
    "\n",
    "\n",
    "def concatenate_dfs(start_year=2013, end_year=2020, default_columns=default_columns):\n",
    "    concatenated_df = pd.DataFrame(columns=default_columns)\n",
    "    dirs = [\n",
    "        item\n",
    "        for item in os.listdir(data_dir)\n",
    "        if os.path.isdir(os.path.join(data_dir, item))\n",
    "    ]\n",
    "    for year_dir in tqdm(\n",
    "        dirs,\n",
    "        desc=\"Year analyzed\",\n",
    "        colour=\"magenta\",\n",
    "        total=end_year - start_year + 1,\n",
    "        leave=False,\n",
    "    ):\n",
    "        if start_year <= int(year_dir[:4]) <= end_year:\n",
    "            year_dir_path = os.path.join(data_dir, year_dir)\n",
    "            for root, _, files in os.walk(year_dir_path):\n",
    "                for file in files:\n",
    "                    if file.endswith(\".parquet\"):\n",
    "                        path = os.path.join(root, file)\n",
    "                        df = pd.read_parquet(path)\n",
    "                        concatenated_df = pd.concat(\n",
    "                            [concatenated_df, df], axis=0, ignore_index=True\n",
    "                        )\n",
    "            name = (\n",
    "                f\"nyc_bike_{year_dir[:4]}.parquet\"\n",
    "                if start_year == end_year\n",
    "                else f\"nyc_bike{start_year}-{year_dir[:4]}.parquet\"\n",
    "            )\n",
    "            df.to_parquet(os.path.join(data_dir, name))\n",
    "    concatenated_df.drop_duplicates(inplace=True)\n",
    "\n",
    "    return concatenated_df"
   ]
  },
  {
   "cell_type": "code",
   "execution_count": 30,
   "metadata": {},
   "outputs": [
    {
     "data": {
      "text/plain": [
       "['2013-citibike-tripdata',\n",
       " '2014-citibike-tripdata',\n",
       " '2015-citibike-tripdata',\n",
       " '2016-citibike-tripdata',\n",
       " '2017-citibike-tripdata',\n",
       " '2018-citibike-tripdata',\n",
       " '2019-citibike-tripdata',\n",
       " '2020-citibike-tripdata',\n",
       " '2021-citibike-tripdata',\n",
       " '2022-citibike-tripdata',\n",
       " '2023-citibike-tripdata',\n",
       " 'checkpoint_nyc_bike2013-2014.parquet',\n",
       " 'checkpoint_nyc_bike2013-2017.parquet',\n",
       " 'nyc_bike2013-2013.parquet']"
      ]
     },
     "execution_count": 30,
     "metadata": {},
     "output_type": "execute_result"
    }
   ],
   "source": [
    "os.listdir(data_dir)"
   ]
  },
  {
   "cell_type": "code",
   "execution_count": 6,
   "metadata": {},
   "outputs": [],
   "source": [
    "years_array = [\n",
    "    int(year_dir[:4])\n",
    "    for year_dir in os.listdir(data_dir)\n",
    "    if os.path.isdir(os.path.join(data_dir, year_dir))\n",
    "]"
   ]
  },
  {
   "cell_type": "code",
   "execution_count": 7,
   "metadata": {},
   "outputs": [
    {
     "data": {
      "text/plain": [
       "[2013, 2014, 2015, 2016, 2017, 2018, 2019, 2020, 2021, 2022, 2023]"
      ]
     },
     "execution_count": 7,
     "metadata": {},
     "output_type": "execute_result"
    }
   ],
   "source": [
    "years_array"
   ]
  },
  {
   "cell_type": "code",
   "execution_count": 37,
   "metadata": {},
   "outputs": [
    {
     "data": {
      "application/vnd.jupyter.widget-view+json": {
       "model_id": "cda51a16811f482fa146bf18fc01894d",
       "version_major": 2,
       "version_minor": 0
      },
      "text/plain": [
       "Year analyzed:   0%|          | 0/11 [00:00<?, ?it/s]"
      ]
     },
     "metadata": {},
     "output_type": "display_data"
    },
    {
     "data": {
      "application/vnd.jupyter.widget-view+json": {
       "model_id": "bc6e917ab9264e598f1ad56bd5ffc20b",
       "version_major": 2,
       "version_minor": 0
      },
      "text/plain": [
       "Year analyzed:   0%|          | 0/1 [00:00<?, ?it/s]"
      ]
     },
     "metadata": {},
     "output_type": "display_data"
    },
    {
     "data": {
      "application/vnd.jupyter.widget-view+json": {
       "model_id": "bc3975835e2f4efc9612bb6c825806a9",
       "version_major": 2,
       "version_minor": 0
      },
      "text/plain": [
       "Year analyzed:   0%|          | 0/1 [00:00<?, ?it/s]"
      ]
     },
     "metadata": {},
     "output_type": "display_data"
    },
    {
     "data": {
      "application/vnd.jupyter.widget-view+json": {
       "model_id": "cda9eb15ad38414e83b5d84c817b9d40",
       "version_major": 2,
       "version_minor": 0
      },
      "text/plain": [
       "Year analyzed:   0%|          | 0/1 [00:00<?, ?it/s]"
      ]
     },
     "metadata": {},
     "output_type": "display_data"
    },
    {
     "data": {
      "application/vnd.jupyter.widget-view+json": {
       "model_id": "f878e7f52e8646989662f7b791bfbc6c",
       "version_major": 2,
       "version_minor": 0
      },
      "text/plain": [
       "Year analyzed:   0%|          | 0/1 [00:00<?, ?it/s]"
      ]
     },
     "metadata": {},
     "output_type": "display_data"
    },
    {
     "data": {
      "application/vnd.jupyter.widget-view+json": {
       "model_id": "a3524e8b65c548b0adbf6d7322783f65",
       "version_major": 2,
       "version_minor": 0
      },
      "text/plain": [
       "Year analyzed:   0%|          | 0/1 [00:00<?, ?it/s]"
      ]
     },
     "metadata": {},
     "output_type": "display_data"
    },
    {
     "data": {
      "application/vnd.jupyter.widget-view+json": {
       "model_id": "8c3f9d13f4b94a95b321e86a6811c891",
       "version_major": 2,
       "version_minor": 0
      },
      "text/plain": [
       "Year analyzed:   0%|          | 0/1 [00:00<?, ?it/s]"
      ]
     },
     "metadata": {},
     "output_type": "display_data"
    },
    {
     "data": {
      "application/vnd.jupyter.widget-view+json": {
       "model_id": "c53be62630ca4bc7b8f0be70a1b31804",
       "version_major": 2,
       "version_minor": 0
      },
      "text/plain": [
       "Year analyzed:   0%|          | 0/1 [00:00<?, ?it/s]"
      ]
     },
     "metadata": {},
     "output_type": "display_data"
    },
    {
     "data": {
      "application/vnd.jupyter.widget-view+json": {
       "model_id": "e45bbd0cf66b404e9a0265453d8c1b94",
       "version_major": 2,
       "version_minor": 0
      },
      "text/plain": [
       "Year analyzed:   0%|          | 0/1 [00:00<?, ?it/s]"
      ]
     },
     "metadata": {},
     "output_type": "display_data"
    },
    {
     "data": {
      "application/vnd.jupyter.widget-view+json": {
       "model_id": "b8a70a44e63d4a7689217380d0f34b95",
       "version_major": 2,
       "version_minor": 0
      },
      "text/plain": [
       "Year analyzed:   0%|          | 0/1 [00:00<?, ?it/s]"
      ]
     },
     "metadata": {},
     "output_type": "display_data"
    },
    {
     "data": {
      "application/vnd.jupyter.widget-view+json": {
       "model_id": "88c6aae6ee59404a9704b9898201299b",
       "version_major": 2,
       "version_minor": 0
      },
      "text/plain": [
       "Year analyzed:   0%|          | 0/1 [00:00<?, ?it/s]"
      ]
     },
     "metadata": {},
     "output_type": "display_data"
    },
    {
     "data": {
      "application/vnd.jupyter.widget-view+json": {
       "model_id": "4c0a76a4b8b14e38ba3b6389dd886099",
       "version_major": 2,
       "version_minor": 0
      },
      "text/plain": [
       "Year analyzed:   0%|          | 0/1 [00:00<?, ?it/s]"
      ]
     },
     "metadata": {},
     "output_type": "display_data"
    }
   ],
   "source": [
    "for year in tqdm(years_array, desc=\"Year analyzed\", colour=\"magenta\"):\n",
    "    concatenate_dfs(year, year)"
   ]
  },
  {
   "cell_type": "code",
   "execution_count": 8,
   "metadata": {},
   "outputs": [
    {
     "data": {
      "application/vnd.jupyter.widget-view+json": {
       "model_id": "bfa76a180c0c4058acf857eb78339e4e",
       "version_major": 2,
       "version_minor": 0
      },
      "text/plain": [
       "Year analyzed:   0%|          | 0/1 [00:00<?, ?it/s]"
      ]
     },
     "metadata": {},
     "output_type": "display_data"
    }
   ],
   "source": [
    "if not os.path.exists(os.path.join(data_dir, \"nyc_bike_2023.parquet\")):\n",
    "    concatenate_dfs(2023, 2023)"
   ]
  },
  {
   "cell_type": "code",
   "execution_count": null,
   "metadata": {},
   "outputs": [],
   "source": []
  }
 ],
 "metadata": {
  "kernelspec": {
   "display_name": "venv",
   "language": "python",
   "name": "python3"
  },
  "language_info": {
   "codemirror_mode": {
    "name": "ipython",
    "version": 3
   },
   "file_extension": ".py",
   "mimetype": "text/x-python",
   "name": "python",
   "nbconvert_exporter": "python",
   "pygments_lexer": "ipython3",
   "version": "3.10.11"
  }
 },
 "nbformat": 4,
 "nbformat_minor": 2
}

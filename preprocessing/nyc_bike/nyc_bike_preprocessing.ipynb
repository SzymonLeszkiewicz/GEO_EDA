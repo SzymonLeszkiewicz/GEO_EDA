{
 "cells": [
  {
   "cell_type": "code",
   "execution_count": 3,
   "metadata": {
    "ExecuteTime": {
     "end_time": "2024-03-11T18:53:03.875700200Z",
     "start_time": "2024-03-11T18:53:03.848671600Z"
    }
   },
   "outputs": [],
   "source": [
    "import geopandas as gpd\n",
    "import pandas as pd\n",
    "import os\n",
    "\n",
    "import zipfile\n",
    "from tqdm.autonotebook import tqdm\n",
    "import warnings"
   ]
  },
  {
   "cell_type": "code",
   "execution_count": 4,
   "metadata": {
    "ExecuteTime": {
     "end_time": "2024-03-11T18:53:04.661087400Z",
     "start_time": "2024-03-11T18:53:04.636088800Z"
    }
   },
   "outputs": [],
   "source": [
    "warnings.filterwarnings(\"ignore\")"
   ]
  },
  {
   "cell_type": "code",
   "execution_count": 5,
   "metadata": {
    "ExecuteTime": {
     "end_time": "2024-03-11T18:53:04.960408Z",
     "start_time": "2024-03-11T18:53:04.937411900Z"
    }
   },
   "outputs": [],
   "source": [
    "data_dir = os.path.join(os.getcwd(), \"data\")\n",
    "unzip_files = False  # change if u want to unzip files"
   ]
  },
  {
   "cell_type": "code",
   "execution_count": 6,
   "metadata": {},
   "outputs": [],
   "source": [
    "if unzip_files:\n",
    "    for filename in os.listdir(data_dir):\n",
    "        if filename.endswith(\".zip\"):\n",
    "            filepath = os.path.join(data_dir, filename)\n",
    "            with zipfile.ZipFile(filepath, \"r\") as zip_ref:\n",
    "                zip_ref.extractall(data_dir)\n",
    "                print(f\"Extracted {filepath} to data_dir\")"
   ]
  },
  {
   "cell_type": "code",
   "execution_count": 6,
   "metadata": {
    "ExecuteTime": {
     "end_time": "2024-03-11T18:53:07.145836400Z",
     "start_time": "2024-03-11T18:53:07.122838300Z"
    }
   },
   "outputs": [],
   "source": [
    "def csv_to_parquet(input_dir, verbose=False):\n",
    "    for root, _, files in os.walk(input_dir):\n",
    "        for file in files:\n",
    "            if file.endswith(\".csv\"):\n",
    "                csv_path = os.path.join(root, file)\n",
    "\n",
    "                df = pd.read_csv(csv_path, dtype=object)\n",
    "\n",
    "                parquet_path = csv_path.replace(\".csv\", \".parquet\")\n",
    "                df.to_parquet(parquet_path)\n",
    "\n",
    "                if verbose:\n",
    "                    print(f\"{parquet_path} saved in dir\")\n",
    "\n",
    "                os.remove(csv_path)\n",
    "                if verbose:\n",
    "                    print(f\"{csv_path} deleted\")"
   ]
  },
  {
   "cell_type": "code",
   "execution_count": null,
   "metadata": {},
   "outputs": [],
   "source": [
    "csv_to_parquet(\n",
    "    \"C:/Users/Kacper Kozaczko/Desktop/Stuff/PWr/II_semestr/Spatial/GEO_EDA/preprocessing/nyc_bike/data/2013-citibike-tripdata\",\n",
    "    verbose=True,\n",
    ")"
   ]
  },
  {
   "cell_type": "code",
   "execution_count": 81,
   "metadata": {},
   "outputs": [
    {
     "data": {
      "application/vnd.jupyter.widget-view+json": {
       "model_id": "36a21ceb7ce54065a9576bfdede4f5de",
       "version_major": 2,
       "version_minor": 0
      },
      "text/plain": [
       "Year directories transfered:   0%|          | 0/11 [00:00<?, ?it/s]"
      ]
     },
     "metadata": {},
     "output_type": "display_data"
    },
    {
     "name": "stdout",
     "output_type": "stream",
     "text": [
      "Transfered to .parquet dir: c:\\Users\\Kacper Kozaczko\\Desktop\\Stuff\\PWr\\II_semestr\\Spatial\\GEO_EDA\\preprocessing\\nyc_bike\\data\\2013-citibike-tripdata\n",
      "Transfered to .parquet dir: c:\\Users\\Kacper Kozaczko\\Desktop\\Stuff\\PWr\\II_semestr\\Spatial\\GEO_EDA\\preprocessing\\nyc_bike\\data\\2014-citibike-tripdata\n",
      "Transfered to .parquet dir: c:\\Users\\Kacper Kozaczko\\Desktop\\Stuff\\PWr\\II_semestr\\Spatial\\GEO_EDA\\preprocessing\\nyc_bike\\data\\2015-citibike-tripdata\n",
      "Transfered to .parquet dir: c:\\Users\\Kacper Kozaczko\\Desktop\\Stuff\\PWr\\II_semestr\\Spatial\\GEO_EDA\\preprocessing\\nyc_bike\\data\\2016-citibike-tripdata\n",
      "Transfered to .parquet dir: c:\\Users\\Kacper Kozaczko\\Desktop\\Stuff\\PWr\\II_semestr\\Spatial\\GEO_EDA\\preprocessing\\nyc_bike\\data\\2017-citibike-tripdata\n",
      "Transfered to .parquet dir: c:\\Users\\Kacper Kozaczko\\Desktop\\Stuff\\PWr\\II_semestr\\Spatial\\GEO_EDA\\preprocessing\\nyc_bike\\data\\2018-citibike-tripdata\n",
      "Transfered to .parquet dir: c:\\Users\\Kacper Kozaczko\\Desktop\\Stuff\\PWr\\II_semestr\\Spatial\\GEO_EDA\\preprocessing\\nyc_bike\\data\\2019-citibike-tripdata\n",
      "Transfered to .parquet dir: c:\\Users\\Kacper Kozaczko\\Desktop\\Stuff\\PWr\\II_semestr\\Spatial\\GEO_EDA\\preprocessing\\nyc_bike\\data\\2020-citibike-tripdata\n",
      "Transfered to .parquet dir: c:\\Users\\Kacper Kozaczko\\Desktop\\Stuff\\PWr\\II_semestr\\Spatial\\GEO_EDA\\preprocessing\\nyc_bike\\data\\2021-citibike-tripdata\n",
      "Transfered to .parquet dir: c:\\Users\\Kacper Kozaczko\\Desktop\\Stuff\\PWr\\II_semestr\\Spatial\\GEO_EDA\\preprocessing\\nyc_bike\\data\\2022-citibike-tripdata\n",
      "Transfered to .parquet dir: c:\\Users\\Kacper Kozaczko\\Desktop\\Stuff\\PWr\\II_semestr\\Spatial\\GEO_EDA\\preprocessing\\nyc_bike\\data\\2023-citibike-tripdata\n"
     ]
    }
   ],
   "source": [
    "for year_dir in tqdm(\n",
    "    os.listdir(data_dir), desc=\"Year directories transfered\", colour=\"magenta\"\n",
    "):\n",
    "    year_dir_path = os.path.join(data_dir, year_dir)\n",
    "    csv_to_parquet(year_dir_path, verbose=False)\n",
    "    print(f\"Transfered to .parquet dir: {year_dir_path}\")"
   ]
  },
  {
   "cell_type": "code",
   "execution_count": 7,
   "metadata": {
    "ExecuteTime": {
     "end_time": "2024-03-11T18:53:15.033944200Z",
     "start_time": "2024-03-11T18:53:13.723160500Z"
    }
   },
   "outputs": [],
   "source": [
    "data_2013 = pd.read_parquet(\n",
    "    os.path.join(\n",
    "        data_dir,\n",
    "        \"2013-citibike-tripdata\",\n",
    "        \"6_June\",\n",
    "        \"201306-citibike-tripdata_1.parquet\",\n",
    "    )\n",
    ")"
   ]
  },
  {
   "cell_type": "code",
   "execution_count": 8,
   "metadata": {
    "ExecuteTime": {
     "end_time": "2024-03-11T18:53:15.083944Z",
     "start_time": "2024-03-11T18:53:15.013945200Z"
    }
   },
   "outputs": [
    {
     "data": {
      "text/plain": "   tripduration            starttime             stoptime  start station id  \\\n0           695  2013-06-01 00:00:01  2013-06-01 00:11:36               444   \n1           693  2013-06-01 00:00:08  2013-06-01 00:11:41               444   \n2          2059  2013-06-01 00:00:44  2013-06-01 00:35:03               406   \n3           123  2013-06-01 00:01:04  2013-06-01 00:03:07               475   \n4          1521  2013-06-01 00:01:22  2013-06-01 00:26:43              2008   \n\n       start station name  start station latitude  start station longitude  \\\n0      Broadway & W 24 St               40.742354               -73.989151   \n1      Broadway & W 24 St               40.742354               -73.989151   \n2  Hicks St & Montague St               40.695128               -73.995951   \n3     E 15 St & Irving Pl               40.735243               -73.987586   \n4   Little West St & 1 Pl               40.705693               -74.016777   \n\n   end station id        end station name  end station latitude  \\\n0           434.0         9 Ave & W 18 St             40.743174   \n1           434.0         9 Ave & W 18 St             40.743174   \n2           406.0  Hicks St & Montague St             40.695128   \n3           262.0         Washington Park             40.691782   \n4           310.0     State St & Smith St             40.689269   \n\n   end station longitude  bikeid    usertype  birth year  gender  \n0             -74.003664   19678  Subscriber      1983.0       1  \n1             -74.003664   16649  Subscriber      1984.0       1  \n2             -73.995951   19599    Customer         NaN       0  \n3             -73.973730   16352  Subscriber      1960.0       1  \n4             -73.989129   15567  Subscriber      1983.0       1  ",
      "text/html": "<div>\n<style scoped>\n    .dataframe tbody tr th:only-of-type {\n        vertical-align: middle;\n    }\n\n    .dataframe tbody tr th {\n        vertical-align: top;\n    }\n\n    .dataframe thead th {\n        text-align: right;\n    }\n</style>\n<table border=\"1\" class=\"dataframe\">\n  <thead>\n    <tr style=\"text-align: right;\">\n      <th></th>\n      <th>tripduration</th>\n      <th>starttime</th>\n      <th>stoptime</th>\n      <th>start station id</th>\n      <th>start station name</th>\n      <th>start station latitude</th>\n      <th>start station longitude</th>\n      <th>end station id</th>\n      <th>end station name</th>\n      <th>end station latitude</th>\n      <th>end station longitude</th>\n      <th>bikeid</th>\n      <th>usertype</th>\n      <th>birth year</th>\n      <th>gender</th>\n    </tr>\n  </thead>\n  <tbody>\n    <tr>\n      <th>0</th>\n      <td>695</td>\n      <td>2013-06-01 00:00:01</td>\n      <td>2013-06-01 00:11:36</td>\n      <td>444</td>\n      <td>Broadway &amp; W 24 St</td>\n      <td>40.742354</td>\n      <td>-73.989151</td>\n      <td>434.0</td>\n      <td>9 Ave &amp; W 18 St</td>\n      <td>40.743174</td>\n      <td>-74.003664</td>\n      <td>19678</td>\n      <td>Subscriber</td>\n      <td>1983.0</td>\n      <td>1</td>\n    </tr>\n    <tr>\n      <th>1</th>\n      <td>693</td>\n      <td>2013-06-01 00:00:08</td>\n      <td>2013-06-01 00:11:41</td>\n      <td>444</td>\n      <td>Broadway &amp; W 24 St</td>\n      <td>40.742354</td>\n      <td>-73.989151</td>\n      <td>434.0</td>\n      <td>9 Ave &amp; W 18 St</td>\n      <td>40.743174</td>\n      <td>-74.003664</td>\n      <td>16649</td>\n      <td>Subscriber</td>\n      <td>1984.0</td>\n      <td>1</td>\n    </tr>\n    <tr>\n      <th>2</th>\n      <td>2059</td>\n      <td>2013-06-01 00:00:44</td>\n      <td>2013-06-01 00:35:03</td>\n      <td>406</td>\n      <td>Hicks St &amp; Montague St</td>\n      <td>40.695128</td>\n      <td>-73.995951</td>\n      <td>406.0</td>\n      <td>Hicks St &amp; Montague St</td>\n      <td>40.695128</td>\n      <td>-73.995951</td>\n      <td>19599</td>\n      <td>Customer</td>\n      <td>NaN</td>\n      <td>0</td>\n    </tr>\n    <tr>\n      <th>3</th>\n      <td>123</td>\n      <td>2013-06-01 00:01:04</td>\n      <td>2013-06-01 00:03:07</td>\n      <td>475</td>\n      <td>E 15 St &amp; Irving Pl</td>\n      <td>40.735243</td>\n      <td>-73.987586</td>\n      <td>262.0</td>\n      <td>Washington Park</td>\n      <td>40.691782</td>\n      <td>-73.973730</td>\n      <td>16352</td>\n      <td>Subscriber</td>\n      <td>1960.0</td>\n      <td>1</td>\n    </tr>\n    <tr>\n      <th>4</th>\n      <td>1521</td>\n      <td>2013-06-01 00:01:22</td>\n      <td>2013-06-01 00:26:43</td>\n      <td>2008</td>\n      <td>Little West St &amp; 1 Pl</td>\n      <td>40.705693</td>\n      <td>-74.016777</td>\n      <td>310.0</td>\n      <td>State St &amp; Smith St</td>\n      <td>40.689269</td>\n      <td>-73.989129</td>\n      <td>15567</td>\n      <td>Subscriber</td>\n      <td>1983.0</td>\n      <td>1</td>\n    </tr>\n  </tbody>\n</table>\n</div>"
     },
     "execution_count": 8,
     "metadata": {},
     "output_type": "execute_result"
    }
   ],
   "source": [
    "data_2013.head()"
   ]
  },
  {
   "cell_type": "code",
   "execution_count": 10,
   "metadata": {},
   "outputs": [],
   "source": [
    "data_2023 = pd.read_parquet(\n",
    "    os.path.join(\n",
    "        data_dir,\n",
    "        \"2023-citibike-tripdata\",\n",
    "        \"6_June\",\n",
    "        \"202306-citibike-tripdata_1.parquet\",\n",
    "    )\n",
    ")"
   ]
  },
  {
   "cell_type": "code",
   "execution_count": 20,
   "metadata": {},
   "outputs": [
    {
     "data": {
      "text/html": [
       "<div>\n",
       "<style scoped>\n",
       "    .dataframe tbody tr th:only-of-type {\n",
       "        vertical-align: middle;\n",
       "    }\n",
       "\n",
       "    .dataframe tbody tr th {\n",
       "        vertical-align: top;\n",
       "    }\n",
       "\n",
       "    .dataframe thead th {\n",
       "        text-align: right;\n",
       "    }\n",
       "</style>\n",
       "<table border=\"1\" class=\"dataframe\">\n",
       "  <thead>\n",
       "    <tr style=\"text-align: right;\">\n",
       "      <th></th>\n",
       "      <th>ride_id</th>\n",
       "      <th>rideable_type</th>\n",
       "      <th>started_at</th>\n",
       "      <th>ended_at</th>\n",
       "      <th>start_station_name</th>\n",
       "      <th>start_station_id</th>\n",
       "      <th>end_station_name</th>\n",
       "      <th>end_station_id</th>\n",
       "      <th>start_lat</th>\n",
       "      <th>start_lng</th>\n",
       "      <th>end_lat</th>\n",
       "      <th>end_lng</th>\n",
       "      <th>member_casual</th>\n",
       "    </tr>\n",
       "  </thead>\n",
       "  <tbody>\n",
       "    <tr>\n",
       "      <th>0</th>\n",
       "      <td>984F50BCBC76DD9A</td>\n",
       "      <td>classic_bike</td>\n",
       "      <td>2023-06-11 06:54:21</td>\n",
       "      <td>2023-06-11 07:12:28</td>\n",
       "      <td>W 84 St &amp; Columbus Ave</td>\n",
       "      <td>7382.04</td>\n",
       "      <td>Amsterdam Ave &amp; W 125 St</td>\n",
       "      <td>7800.03</td>\n",
       "      <td>40.78499979</td>\n",
       "      <td>-73.97283406</td>\n",
       "      <td>40.813358</td>\n",
       "      <td>-73.956461</td>\n",
       "      <td>member</td>\n",
       "    </tr>\n",
       "    <tr>\n",
       "      <th>1</th>\n",
       "      <td>03E3D62E7FB76B05</td>\n",
       "      <td>classic_bike</td>\n",
       "      <td>2023-06-19 15:23:11</td>\n",
       "      <td>2023-06-19 16:00:05</td>\n",
       "      <td>E 89 St &amp; York Ave</td>\n",
       "      <td>7204.08</td>\n",
       "      <td>Mott St &amp; Prince St</td>\n",
       "      <td>5561.04</td>\n",
       "      <td>40.777957678</td>\n",
       "      <td>-73.945928335</td>\n",
       "      <td>40.72317958</td>\n",
       "      <td>-73.99480012</td>\n",
       "      <td>member</td>\n",
       "    </tr>\n",
       "    <tr>\n",
       "      <th>2</th>\n",
       "      <td>8E7EE421A0B8BBF3</td>\n",
       "      <td>classic_bike</td>\n",
       "      <td>2023-06-06 16:07:05</td>\n",
       "      <td>2023-06-06 16:15:14</td>\n",
       "      <td>E 51 St &amp; 2 Ave</td>\n",
       "      <td>6575.03</td>\n",
       "      <td>E 25 St &amp; 1 Ave</td>\n",
       "      <td>6004.07</td>\n",
       "      <td>40.755357265</td>\n",
       "      <td>-73.967488885</td>\n",
       "      <td>40.7381765</td>\n",
       "      <td>-73.97738662</td>\n",
       "      <td>member</td>\n",
       "    </tr>\n",
       "    <tr>\n",
       "      <th>3</th>\n",
       "      <td>24D66A0C46493CB1</td>\n",
       "      <td>classic_bike</td>\n",
       "      <td>2023-06-26 19:52:23</td>\n",
       "      <td>2023-06-26 19:55:47</td>\n",
       "      <td>India St Pier</td>\n",
       "      <td>5794.05</td>\n",
       "      <td>Franklin St &amp; Dupont St</td>\n",
       "      <td>5944.01</td>\n",
       "      <td>40.731734785883454</td>\n",
       "      <td>-73.9612390102593</td>\n",
       "      <td>40.73564</td>\n",
       "      <td>-73.95866</td>\n",
       "      <td>member</td>\n",
       "    </tr>\n",
       "    <tr>\n",
       "      <th>4</th>\n",
       "      <td>E944882A074B8F61</td>\n",
       "      <td>classic_bike</td>\n",
       "      <td>2023-06-05 08:57:57</td>\n",
       "      <td>2023-06-05 09:13:36</td>\n",
       "      <td>E 47 St &amp; 2 Ave</td>\n",
       "      <td>6498.1</td>\n",
       "      <td>5 Ave &amp; E 29 St</td>\n",
       "      <td>6248.06</td>\n",
       "      <td>40.75323098</td>\n",
       "      <td>-73.97032517</td>\n",
       "      <td>40.7451677</td>\n",
       "      <td>-73.98683077</td>\n",
       "      <td>member</td>\n",
       "    </tr>\n",
       "  </tbody>\n",
       "</table>\n",
       "</div>"
      ],
      "text/plain": [
       "            ride_id rideable_type           started_at             ended_at  \\\n",
       "0  984F50BCBC76DD9A  classic_bike  2023-06-11 06:54:21  2023-06-11 07:12:28   \n",
       "1  03E3D62E7FB76B05  classic_bike  2023-06-19 15:23:11  2023-06-19 16:00:05   \n",
       "2  8E7EE421A0B8BBF3  classic_bike  2023-06-06 16:07:05  2023-06-06 16:15:14   \n",
       "3  24D66A0C46493CB1  classic_bike  2023-06-26 19:52:23  2023-06-26 19:55:47   \n",
       "4  E944882A074B8F61  classic_bike  2023-06-05 08:57:57  2023-06-05 09:13:36   \n",
       "\n",
       "       start_station_name start_station_id          end_station_name  \\\n",
       "0  W 84 St & Columbus Ave          7382.04  Amsterdam Ave & W 125 St   \n",
       "1      E 89 St & York Ave          7204.08       Mott St & Prince St   \n",
       "2         E 51 St & 2 Ave          6575.03           E 25 St & 1 Ave   \n",
       "3           India St Pier          5794.05   Franklin St & Dupont St   \n",
       "4         E 47 St & 2 Ave           6498.1           5 Ave & E 29 St   \n",
       "\n",
       "  end_station_id           start_lat          start_lng      end_lat  \\\n",
       "0        7800.03         40.78499979       -73.97283406    40.813358   \n",
       "1        5561.04        40.777957678      -73.945928335  40.72317958   \n",
       "2        6004.07        40.755357265      -73.967488885   40.7381765   \n",
       "3        5944.01  40.731734785883454  -73.9612390102593     40.73564   \n",
       "4        6248.06         40.75323098       -73.97032517   40.7451677   \n",
       "\n",
       "        end_lng member_casual  \n",
       "0    -73.956461        member  \n",
       "1  -73.99480012        member  \n",
       "2  -73.97738662        member  \n",
       "3     -73.95866        member  \n",
       "4  -73.98683077        member  "
      ]
     },
     "execution_count": 20,
     "metadata": {},
     "output_type": "execute_result"
    }
   ],
   "source": [
    "data_2023.head()"
   ]
  },
  {
   "cell_type": "code",
   "execution_count": 14,
   "metadata": {},
   "outputs": [
    {
     "name": "stdout",
     "output_type": "stream",
     "text": [
      "['member' 'casual']\n",
      "['Subscriber' 'Customer']\n"
     ]
    }
   ],
   "source": [
    "print(data_2023.member_casual.unique())\n",
    "print(data_2013.usertype.unique())"
   ]
  },
  {
   "cell_type": "code",
   "execution_count": 7,
   "metadata": {},
   "outputs": [
    {
     "data": {
      "text/plain": [
       "Index(['tripduration', 'starttime', 'stoptime', 'start station id',\n",
       "       'start station name', 'start station latitude',\n",
       "       'start station longitude', 'end station id', 'end station name',\n",
       "       'end station latitude', 'end station longitude', 'bikeid', 'usertype',\n",
       "       'birth year', 'gender'],\n",
       "      dtype='object')"
      ]
     },
     "execution_count": 7,
     "metadata": {},
     "output_type": "execute_result"
    }
   ],
   "source": [
    "data_2013.columns"
   ]
  },
  {
   "cell_type": "code",
   "execution_count": 8,
   "metadata": {},
   "outputs": [
    {
     "data": {
      "text/plain": [
       "Index(['ride_id', 'rideable_type', 'started_at', 'ended_at',\n",
       "       'start_station_name', 'start_station_id', 'end_station_name',\n",
       "       'end_station_id', 'start_lat', 'start_lng', 'end_lat', 'end_lng',\n",
       "       'member_casual'],\n",
       "      dtype='object')"
      ]
     },
     "execution_count": 8,
     "metadata": {},
     "output_type": "execute_result"
    }
   ],
   "source": [
    "data_2023.columns"
   ]
  },
  {
   "cell_type": "code",
   "execution_count": 10,
   "metadata": {},
   "outputs": [
    {
     "data": {
      "text/plain": [
       "15"
      ]
     },
     "execution_count": 10,
     "metadata": {},
     "output_type": "execute_result"
    }
   ],
   "source": [
    "len(data_2013.columns)"
   ]
  },
  {
   "cell_type": "markdown",
   "metadata": {},
   "source": [
    "## Analiza\n",
    "\n",
    "lata 2013-2020 włącznie mają kolumny: ['tripduration', \n",
    "'starttime', 'stoptime', 'start station id',\n",
    "       'start station name', 'start station latitude',\n",
    "       'start station longitude', 'end station id', 'end station name',\n",
    "       'end station latitude', 'end station longitude', 'bikeid', 'usertype',\n",
    "       'birth year', 'gender']\n",
    "\n",
    "lata 2021-2023 mają kolumny: ['ride_id', 'rideable_type', 'started_at', 'ended_at',\n",
    "       'start_station_name', 'start_station_id', 'end_station_name',\n",
    "       'end_station_id', 'start_lat', 'start_lng', 'end_lat', 'end_lng',\n",
    "       'member_casual']\n",
    "\n",
    "\n",
    "### W pierwszej grupie nie ma: \n",
    "\n",
    "ride_id, \n",
    "\n",
    "rideable_type\n",
    "\n",
    "member_casual\n",
    "\n",
    "\n",
    "\n",
    "### W drugiej grupie nie ma:\n",
    "\n",
    "tripduration -> da się wyliczić i dodać\n",
    "\n",
    "gender\n",
    "\n",
    "birthyear\n",
    "\n",
    "bike_id\n",
    "\n",
    "usertype\n"
   ]
  },
  {
   "cell_type": "markdown",
   "metadata": {},
   "source": [
    "# Merge into table per year 2013-2020"
   ]
  },
  {
   "cell_type": "code",
   "execution_count": 8,
   "metadata": {},
   "outputs": [
    {
     "name": "stderr",
     "output_type": "stream",
     "text": [
      "Year directories transfered: 100%|\u001b[35m██████████\u001b[0m| 13/13 [00:00<?, ?it/s]"
     ]
    },
    {
     "name": "stdout",
     "output_type": "stream",
     "text": [
      "2013\n",
      "2014\n",
      "2015\n",
      "2016\n",
      "2017\n",
      "2018\n",
      "2019\n",
      "2020\n",
      "2021\n",
      "2022\n",
      "2023\n",
      "chec\n",
      "chec\n"
     ]
    },
    {
     "name": "stderr",
     "output_type": "stream",
     "text": [
      "\n"
     ]
    }
   ],
   "source": [
    "for year_dir in tqdm(\n",
    "    os.listdir(data_dir), desc=\"Year directories transfered\", colour=\"magenta\"\n",
    "):\n",
    "    print(year_dir[:4])\n",
    "    year_dir_path = os.path.join(data_dir, year_dir)"
   ]
  },
  {
   "cell_type": "code",
   "execution_count": 36,
   "metadata": {},
   "outputs": [],
   "source": [
    "default_columns = list(data_2013.columns)\n",
    "\n",
    "\n",
    "def concatenate_dfs(start_year=2013, end_year=2020, default_columns=default_columns):\n",
    "    concatenated_df = pd.DataFrame(columns=default_columns)\n",
    "    dirs = [\n",
    "        item\n",
    "        for item in os.listdir(data_dir)\n",
    "        if os.path.isdir(os.path.join(data_dir, item))\n",
    "    ]\n",
    "    for year_dir in tqdm(\n",
    "        dirs,\n",
    "        desc=\"Year analyzed\",\n",
    "        colour=\"magenta\",\n",
    "        total=end_year - start_year + 1,\n",
    "        leave=False,\n",
    "    ):\n",
    "        if start_year <= int(year_dir[:4]) <= end_year:\n",
    "            year_dir_path = os.path.join(data_dir, year_dir)\n",
    "            for root, _, files in os.walk(year_dir_path):\n",
    "                for file in files:\n",
    "                    if file.endswith(\".parquet\"):\n",
    "                        path = os.path.join(root, file)\n",
    "                        df = pd.read_parquet(path)\n",
    "                        concatenated_df = pd.concat(\n",
    "                            [concatenated_df, df], axis=0, ignore_index=True\n",
    "                        )\n",
    "            name = (\n",
    "                f\"nyc_bike_{year_dir[:4]}.parquet\"\n",
    "                if start_year == end_year\n",
    "                else f\"nyc_bike{start_year}-{year_dir[:4]}.parquet\"\n",
    "            )\n",
    "            df.to_parquet(os.path.join(data_dir, name))\n",
    "    concatenated_df.drop_duplicates(inplace=True)\n",
    "\n",
    "    return concatenated_df"
   ]
  },
  {
   "cell_type": "code",
   "execution_count": 30,
   "metadata": {},
   "outputs": [
    {
     "data": {
      "text/plain": [
       "['2013-citibike-tripdata',\n",
       " '2014-citibike-tripdata',\n",
       " '2015-citibike-tripdata',\n",
       " '2016-citibike-tripdata',\n",
       " '2017-citibike-tripdata',\n",
       " '2018-citibike-tripdata',\n",
       " '2019-citibike-tripdata',\n",
       " '2020-citibike-tripdata',\n",
       " '2021-citibike-tripdata',\n",
       " '2022-citibike-tripdata',\n",
       " '2023-citibike-tripdata',\n",
       " 'checkpoint_nyc_bike2013-2014.parquet',\n",
       " 'checkpoint_nyc_bike2013-2017.parquet',\n",
       " 'nyc_bike2013-2013.parquet']"
      ]
     },
     "execution_count": 30,
     "metadata": {},
     "output_type": "execute_result"
    }
   ],
   "source": [
    "os.listdir(data_dir)"
   ]
  },
  {
   "cell_type": "code",
   "execution_count": 31,
   "metadata": {},
   "outputs": [],
   "source": [
    "years_array = [\n",
    "    int(year_dir[:4])\n",
    "    for year_dir in os.listdir(data_dir)\n",
    "    if os.path.isdir(os.path.join(data_dir, year_dir))\n",
    "]"
   ]
  },
  {
   "cell_type": "code",
   "execution_count": 32,
   "metadata": {},
   "outputs": [
    {
     "data": {
      "text/plain": [
       "[2013, 2014, 2015, 2016, 2017, 2018, 2019, 2020, 2021, 2022, 2023]"
      ]
     },
     "execution_count": 32,
     "metadata": {},
     "output_type": "execute_result"
    }
   ],
   "source": [
    "years_array"
   ]
  },
  {
   "cell_type": "code",
   "execution_count": 37,
   "metadata": {},
   "outputs": [
    {
     "data": {
      "application/vnd.jupyter.widget-view+json": {
       "model_id": "cda51a16811f482fa146bf18fc01894d",
       "version_major": 2,
       "version_minor": 0
      },
      "text/plain": [
       "Year analyzed:   0%|          | 0/11 [00:00<?, ?it/s]"
      ]
     },
     "metadata": {},
     "output_type": "display_data"
    },
    {
     "data": {
      "application/vnd.jupyter.widget-view+json": {
       "model_id": "bc6e917ab9264e598f1ad56bd5ffc20b",
       "version_major": 2,
       "version_minor": 0
      },
      "text/plain": [
       "Year analyzed:   0%|          | 0/1 [00:00<?, ?it/s]"
      ]
     },
     "metadata": {},
     "output_type": "display_data"
    }
   ],
   "source": [
    "for year in tqdm(years_array, desc=\"Year analyzed\", colour=\"magenta\"):\n",
    "    concatenate_dfs(year, year)"
   ]
  },
  {
   "cell_type": "markdown",
   "source": [
    "# Load using geopandas"
   ],
   "metadata": {
    "collapsed": false
   }
  },
  {
   "cell_type": "code",
   "execution_count": 9,
   "metadata": {
    "ExecuteTime": {
     "end_time": "2024-03-11T18:55:00.246427Z",
     "start_time": "2024-03-11T18:54:58.763395400Z"
    }
   },
   "outputs": [],
   "source": [
    "data_2023 = pd.read_parquet(os.path.join(data_dir, \"nyc_bike_2023.parquet\"))"
   ]
  },
  {
   "cell_type": "code",
   "outputs": [],
   "source": [],
   "metadata": {
    "collapsed": false
   }
  }
 ],
 "metadata": {
  "kernelspec": {
   "display_name": "venv",
   "language": "python",
   "name": "python3"
  },
  "language_info": {
   "codemirror_mode": {
    "name": "ipython",
    "version": 3
   },
   "file_extension": ".py",
   "mimetype": "text/x-python",
   "name": "python",
   "nbconvert_exporter": "python",
   "pygments_lexer": "ipython3",
   "version": "3.10.11"
  }
 },
 "nbformat": 4,
 "nbformat_minor": 2
}

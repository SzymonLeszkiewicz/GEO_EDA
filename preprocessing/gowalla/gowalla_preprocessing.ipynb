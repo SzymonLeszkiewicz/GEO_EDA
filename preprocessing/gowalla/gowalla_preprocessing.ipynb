{
 "cells": [
  {
   "metadata": {},
   "cell_type": "markdown",
   "source": "# Imports",
   "id": "3b560d537e16b42f"
  },
  {
   "metadata": {
    "ExecuteTime": {
     "end_time": "2024-04-15T15:14:22.370474Z",
     "start_time": "2024-04-15T15:14:22.048274Z"
    }
   },
   "cell_type": "code",
   "source": [
    "import gzip\n",
    "\n",
    "import geopandas as gpd\n",
    "import pandas as pd\n",
    "from shapely.geometry import LineString\n",
    "from tqdm.contrib.concurrent import process_map"
   ],
   "id": "770ad1721152d0a8",
   "outputs": [],
   "execution_count": 1
  },
  {
   "metadata": {},
   "cell_type": "markdown",
   "source": "# Data Loading",
   "id": "affdb0afc4c7d0f7"
  },
  {
   "metadata": {
    "ExecuteTime": {
     "end_time": "2024-04-15T15:14:26.260041Z",
     "start_time": "2024-04-15T15:14:22.371478Z"
    }
   },
   "cell_type": "code",
   "source": [
    "with gzip.open(\"data/gowalla_totalCheckins.txt.gz\", \"rb\") as f:\n",
    "    df_gowalla_checkins = pd.read_csv(\n",
    "        f,\n",
    "        delimiter=\"\\t\",\n",
    "        names=[\"user_id\", \"check_in_time\", \"latitude\", \"longitude\", \"location_id\"],\n",
    "    )"
   ],
   "id": "2824e823878ab1d1",
   "outputs": [],
   "execution_count": 2
  },
  {
   "metadata": {
    "ExecuteTime": {
     "end_time": "2024-04-15T15:14:26.465454Z",
     "start_time": "2024-04-15T15:14:26.260041Z"
    }
   },
   "cell_type": "code",
   "source": [
    "with gzip.open(\"data/gowalla_edges.txt.gz\", \"rb\") as f:\n",
    "    df_gowalla_edges = pd.read_csv(\n",
    "        f,\n",
    "        delimiter=\"\\t\",\n",
    "        names=[\"user_id\", \"user_friend_id\"],\n",
    "    )"
   ],
   "id": "262eceaad5651985",
   "outputs": [],
   "execution_count": 3
  },
  {
   "metadata": {},
   "cell_type": "markdown",
   "source": "# Data Inspection",
   "id": "8422a9fec3084674"
  },
  {
   "metadata": {
    "ExecuteTime": {
     "end_time": "2024-04-15T15:14:26.473475Z",
     "start_time": "2024-04-15T15:14:26.466459Z"
    }
   },
   "cell_type": "code",
   "source": "df_gowalla_checkins.head()",
   "id": "84ebd2555df658cb",
   "outputs": [
    {
     "data": {
      "text/plain": [
       "   user_id         check_in_time   latitude  longitude  location_id\n",
       "0        0  2010-10-19T23:55:27Z  30.235909 -97.795140        22847\n",
       "1        0  2010-10-18T22:17:43Z  30.269103 -97.749395       420315\n",
       "2        0  2010-10-17T23:42:03Z  30.255731 -97.763386       316637\n",
       "3        0  2010-10-17T19:26:05Z  30.263418 -97.757597        16516\n",
       "4        0  2010-10-16T18:50:42Z  30.274292 -97.740523      5535878"
      ],
      "text/html": [
       "<div>\n",
       "<style scoped>\n",
       "    .dataframe tbody tr th:only-of-type {\n",
       "        vertical-align: middle;\n",
       "    }\n",
       "\n",
       "    .dataframe tbody tr th {\n",
       "        vertical-align: top;\n",
       "    }\n",
       "\n",
       "    .dataframe thead th {\n",
       "        text-align: right;\n",
       "    }\n",
       "</style>\n",
       "<table border=\"1\" class=\"dataframe\">\n",
       "  <thead>\n",
       "    <tr style=\"text-align: right;\">\n",
       "      <th></th>\n",
       "      <th>user_id</th>\n",
       "      <th>check_in_time</th>\n",
       "      <th>latitude</th>\n",
       "      <th>longitude</th>\n",
       "      <th>location_id</th>\n",
       "    </tr>\n",
       "  </thead>\n",
       "  <tbody>\n",
       "    <tr>\n",
       "      <th>0</th>\n",
       "      <td>0</td>\n",
       "      <td>2010-10-19T23:55:27Z</td>\n",
       "      <td>30.235909</td>\n",
       "      <td>-97.795140</td>\n",
       "      <td>22847</td>\n",
       "    </tr>\n",
       "    <tr>\n",
       "      <th>1</th>\n",
       "      <td>0</td>\n",
       "      <td>2010-10-18T22:17:43Z</td>\n",
       "      <td>30.269103</td>\n",
       "      <td>-97.749395</td>\n",
       "      <td>420315</td>\n",
       "    </tr>\n",
       "    <tr>\n",
       "      <th>2</th>\n",
       "      <td>0</td>\n",
       "      <td>2010-10-17T23:42:03Z</td>\n",
       "      <td>30.255731</td>\n",
       "      <td>-97.763386</td>\n",
       "      <td>316637</td>\n",
       "    </tr>\n",
       "    <tr>\n",
       "      <th>3</th>\n",
       "      <td>0</td>\n",
       "      <td>2010-10-17T19:26:05Z</td>\n",
       "      <td>30.263418</td>\n",
       "      <td>-97.757597</td>\n",
       "      <td>16516</td>\n",
       "    </tr>\n",
       "    <tr>\n",
       "      <th>4</th>\n",
       "      <td>0</td>\n",
       "      <td>2010-10-16T18:50:42Z</td>\n",
       "      <td>30.274292</td>\n",
       "      <td>-97.740523</td>\n",
       "      <td>5535878</td>\n",
       "    </tr>\n",
       "  </tbody>\n",
       "</table>\n",
       "</div>"
      ]
     },
     "execution_count": 4,
     "metadata": {},
     "output_type": "execute_result"
    }
   ],
   "execution_count": 4
  },
  {
   "metadata": {
    "ExecuteTime": {
     "end_time": "2024-04-15T15:14:26.477613Z",
     "start_time": "2024-04-15T15:14:26.473475Z"
    }
   },
   "cell_type": "code",
   "source": [
    "df_gowalla_edges.head()"
   ],
   "id": "fcacd9479ff16092",
   "outputs": [
    {
     "data": {
      "text/plain": [
       "   user_id  user_friend_id\n",
       "0        0               1\n",
       "1        0               2\n",
       "2        0               3\n",
       "3        0               4\n",
       "4        0               5"
      ],
      "text/html": [
       "<div>\n",
       "<style scoped>\n",
       "    .dataframe tbody tr th:only-of-type {\n",
       "        vertical-align: middle;\n",
       "    }\n",
       "\n",
       "    .dataframe tbody tr th {\n",
       "        vertical-align: top;\n",
       "    }\n",
       "\n",
       "    .dataframe thead th {\n",
       "        text-align: right;\n",
       "    }\n",
       "</style>\n",
       "<table border=\"1\" class=\"dataframe\">\n",
       "  <thead>\n",
       "    <tr style=\"text-align: right;\">\n",
       "      <th></th>\n",
       "      <th>user_id</th>\n",
       "      <th>user_friend_id</th>\n",
       "    </tr>\n",
       "  </thead>\n",
       "  <tbody>\n",
       "    <tr>\n",
       "      <th>0</th>\n",
       "      <td>0</td>\n",
       "      <td>1</td>\n",
       "    </tr>\n",
       "    <tr>\n",
       "      <th>1</th>\n",
       "      <td>0</td>\n",
       "      <td>2</td>\n",
       "    </tr>\n",
       "    <tr>\n",
       "      <th>2</th>\n",
       "      <td>0</td>\n",
       "      <td>3</td>\n",
       "    </tr>\n",
       "    <tr>\n",
       "      <th>3</th>\n",
       "      <td>0</td>\n",
       "      <td>4</td>\n",
       "    </tr>\n",
       "    <tr>\n",
       "      <th>4</th>\n",
       "      <td>0</td>\n",
       "      <td>5</td>\n",
       "    </tr>\n",
       "  </tbody>\n",
       "</table>\n",
       "</div>"
      ]
     },
     "execution_count": 5,
     "metadata": {},
     "output_type": "execute_result"
    }
   ],
   "execution_count": 5
  },
  {
   "metadata": {},
   "cell_type": "markdown",
   "source": "# Remove Zero Location",
   "id": "53c93d72d9652162"
  },
  {
   "metadata": {
    "ExecuteTime": {
     "end_time": "2024-04-15T15:14:26.616234Z",
     "start_time": "2024-04-15T15:14:26.479127Z"
    }
   },
   "cell_type": "code",
   "source": [
    "df_gowalla_checkins = df_gowalla_checkins[\n",
    "    (df_gowalla_checkins[\"latitude\"] != 0) & (df_gowalla_checkins[\"longitude\"] != 0)\n",
    "]"
   ],
   "id": "d2d00dd3231f735a",
   "outputs": [],
   "execution_count": 6
  },
  {
   "metadata": {},
   "cell_type": "markdown",
   "source": "# Remove NaN",
   "id": "aa3167f6a532e1fe"
  },
  {
   "metadata": {
    "ExecuteTime": {
     "end_time": "2024-04-15T15:14:26.818410Z",
     "start_time": "2024-04-15T15:14:26.616234Z"
    }
   },
   "cell_type": "code",
   "source": "df_gowalla_checkins.dropna(inplace=True)",
   "id": "86fc2ecd61044a3c",
   "outputs": [],
   "execution_count": 7
  },
  {
   "metadata": {},
   "cell_type": "markdown",
   "source": "# GeoDataFrame",
   "id": "f044eeec21a74c07"
  },
  {
   "metadata": {
    "ExecuteTime": {
     "end_time": "2024-04-15T15:14:28.826131Z",
     "start_time": "2024-04-15T15:14:26.818410Z"
    }
   },
   "cell_type": "code",
   "source": [
    "gpd_gowalla_checkins = gpd.GeoDataFrame(\n",
    "    df_gowalla_checkins,\n",
    "    geometry=gpd.points_from_xy(\n",
    "        df_gowalla_checkins[\"longitude\"], df_gowalla_checkins[\"latitude\"]\n",
    "    ),\n",
    "    crs=\"EPSG:4326\",\n",
    ")"
   ],
   "id": "a5c4bd5e025aa1d7",
   "outputs": [],
   "execution_count": 8
  },
  {
   "metadata": {
    "ExecuteTime": {
     "end_time": "2024-04-15T15:14:28.832304Z",
     "start_time": "2024-04-15T15:14:28.827135Z"
    }
   },
   "cell_type": "code",
   "source": "gpd_gowalla_checkins.head()",
   "id": "9a18f73c6007b6e9",
   "outputs": [
    {
     "data": {
      "text/plain": [
       "   user_id         check_in_time   latitude  longitude  location_id  \\\n",
       "0        0  2010-10-19T23:55:27Z  30.235909 -97.795140        22847   \n",
       "1        0  2010-10-18T22:17:43Z  30.269103 -97.749395       420315   \n",
       "2        0  2010-10-17T23:42:03Z  30.255731 -97.763386       316637   \n",
       "3        0  2010-10-17T19:26:05Z  30.263418 -97.757597        16516   \n",
       "4        0  2010-10-16T18:50:42Z  30.274292 -97.740523      5535878   \n",
       "\n",
       "                     geometry  \n",
       "0  POINT (-97.79514 30.23591)  \n",
       "1  POINT (-97.74940 30.26910)  \n",
       "2  POINT (-97.76339 30.25573)  \n",
       "3  POINT (-97.75760 30.26342)  \n",
       "4  POINT (-97.74052 30.27429)  "
      ],
      "text/html": [
       "<div>\n",
       "<style scoped>\n",
       "    .dataframe tbody tr th:only-of-type {\n",
       "        vertical-align: middle;\n",
       "    }\n",
       "\n",
       "    .dataframe tbody tr th {\n",
       "        vertical-align: top;\n",
       "    }\n",
       "\n",
       "    .dataframe thead th {\n",
       "        text-align: right;\n",
       "    }\n",
       "</style>\n",
       "<table border=\"1\" class=\"dataframe\">\n",
       "  <thead>\n",
       "    <tr style=\"text-align: right;\">\n",
       "      <th></th>\n",
       "      <th>user_id</th>\n",
       "      <th>check_in_time</th>\n",
       "      <th>latitude</th>\n",
       "      <th>longitude</th>\n",
       "      <th>location_id</th>\n",
       "      <th>geometry</th>\n",
       "    </tr>\n",
       "  </thead>\n",
       "  <tbody>\n",
       "    <tr>\n",
       "      <th>0</th>\n",
       "      <td>0</td>\n",
       "      <td>2010-10-19T23:55:27Z</td>\n",
       "      <td>30.235909</td>\n",
       "      <td>-97.795140</td>\n",
       "      <td>22847</td>\n",
       "      <td>POINT (-97.79514 30.23591)</td>\n",
       "    </tr>\n",
       "    <tr>\n",
       "      <th>1</th>\n",
       "      <td>0</td>\n",
       "      <td>2010-10-18T22:17:43Z</td>\n",
       "      <td>30.269103</td>\n",
       "      <td>-97.749395</td>\n",
       "      <td>420315</td>\n",
       "      <td>POINT (-97.74940 30.26910)</td>\n",
       "    </tr>\n",
       "    <tr>\n",
       "      <th>2</th>\n",
       "      <td>0</td>\n",
       "      <td>2010-10-17T23:42:03Z</td>\n",
       "      <td>30.255731</td>\n",
       "      <td>-97.763386</td>\n",
       "      <td>316637</td>\n",
       "      <td>POINT (-97.76339 30.25573)</td>\n",
       "    </tr>\n",
       "    <tr>\n",
       "      <th>3</th>\n",
       "      <td>0</td>\n",
       "      <td>2010-10-17T19:26:05Z</td>\n",
       "      <td>30.263418</td>\n",
       "      <td>-97.757597</td>\n",
       "      <td>16516</td>\n",
       "      <td>POINT (-97.75760 30.26342)</td>\n",
       "    </tr>\n",
       "    <tr>\n",
       "      <th>4</th>\n",
       "      <td>0</td>\n",
       "      <td>2010-10-16T18:50:42Z</td>\n",
       "      <td>30.274292</td>\n",
       "      <td>-97.740523</td>\n",
       "      <td>5535878</td>\n",
       "      <td>POINT (-97.74052 30.27429)</td>\n",
       "    </tr>\n",
       "  </tbody>\n",
       "</table>\n",
       "</div>"
      ]
     },
     "execution_count": 9,
     "metadata": {},
     "output_type": "execute_result"
    }
   ],
   "execution_count": 9
  },
  {
   "metadata": {},
   "cell_type": "markdown",
   "source": "# Data Aggregation by User",
   "id": "574aa7670d1aa2f6"
  },
  {
   "metadata": {
    "ExecuteTime": {
     "end_time": "2024-04-15T15:14:36.757679Z",
     "start_time": "2024-04-15T15:14:28.833308Z"
    }
   },
   "cell_type": "code",
   "source": [
    "df_gowalla_checkins_aggregated = gpd_gowalla_checkins.groupby(by=\"user_id\").aggregate(\n",
    "    list\n",
    ")"
   ],
   "id": "6d0ebe80b9fbcd29",
   "outputs": [],
   "execution_count": 10
  },
  {
   "metadata": {
    "ExecuteTime": {
     "end_time": "2024-04-15T15:14:36.772716Z",
     "start_time": "2024-04-15T15:14:36.758684Z"
    }
   },
   "cell_type": "code",
   "source": "df_gowalla_checkins_aggregated.head()",
   "id": "eec1cdb2b96adc4b",
   "outputs": [
    {
     "data": {
      "text/plain": [
       "                                             check_in_time  \\\n",
       "user_id                                                      \n",
       "0        [2010-10-19T23:55:27Z, 2010-10-18T22:17:43Z, 2...   \n",
       "1        [2010-07-25T11:40:18Z, 2010-07-24T12:21:43Z, 2...   \n",
       "2        [2010-10-21T00:03:50Z, 2010-10-20T17:18:59Z, 2...   \n",
       "4        [2010-10-11T20:30:23Z, 2010-10-02T18:58:55Z, 2...   \n",
       "5        [2010-09-06T18:29:13Z, 2010-09-06T13:54:52Z, 2...   \n",
       "\n",
       "                                                  latitude  \\\n",
       "user_id                                                      \n",
       "0        [30.2359091167, 30.2691029532, 30.2557309927, ...   \n",
       "1        [48.86337875, 45.202483667, 44.724745941, 44.9...   \n",
       "2        [34.0430230998, 34.0172734606, 34.0172734606, ...   \n",
       "4        [37.7826046833, 37.7868705523, 37.7826583333, ...   \n",
       "5        [40.761176868, 40.7637712634, 40.7563951, 40.7...   \n",
       "\n",
       "                                                 longitude  \\\n",
       "user_id                                                      \n",
       "0        [-97.7951395833, -97.7493953705, -97.763385772...   \n",
       "1        [2.333328717, -0.746830983, 5.03296136, 5.7842...   \n",
       "2        [-118.2671570778, -118.447508812, -118.4475088...   \n",
       "4        [-122.4076080167, -122.4549742274, -122.406320...   \n",
       "5        [-73.9868709323, -73.9777493477, -73.98525065,...   \n",
       "\n",
       "                                               location_id  \\\n",
       "user_id                                                      \n",
       "0        [22847, 420315, 316637, 16516, 5535878, 15372,...   \n",
       "1        [1500177, 1493267, 1441698, 1436795, 1431949, ...   \n",
       "2        [14637, 59838, 59838, 59838, 1474903, 335197, ...   \n",
       "4        [14608, 640452, 166197, 26645, 102499, 1582288...   \n",
       "5        [458146, 490887, 906408, 84240, 906408, 23261,...   \n",
       "\n",
       "                                                  geometry  \n",
       "user_id                                                     \n",
       "0        [POINT (-97.7951395833 30.2359091167), POINT (...  \n",
       "1        [POINT (2.333328717 48.86337875), POINT (-0.74...  \n",
       "2        [POINT (-118.2671570778 34.0430230998), POINT ...  \n",
       "4        [POINT (-122.4076080167 37.7826046833), POINT ...  \n",
       "5        [POINT (-73.9868709323 40.761176868), POINT (-...  "
      ],
      "text/html": [
       "<div>\n",
       "<style scoped>\n",
       "    .dataframe tbody tr th:only-of-type {\n",
       "        vertical-align: middle;\n",
       "    }\n",
       "\n",
       "    .dataframe tbody tr th {\n",
       "        vertical-align: top;\n",
       "    }\n",
       "\n",
       "    .dataframe thead th {\n",
       "        text-align: right;\n",
       "    }\n",
       "</style>\n",
       "<table border=\"1\" class=\"dataframe\">\n",
       "  <thead>\n",
       "    <tr style=\"text-align: right;\">\n",
       "      <th></th>\n",
       "      <th>check_in_time</th>\n",
       "      <th>latitude</th>\n",
       "      <th>longitude</th>\n",
       "      <th>location_id</th>\n",
       "      <th>geometry</th>\n",
       "    </tr>\n",
       "    <tr>\n",
       "      <th>user_id</th>\n",
       "      <th></th>\n",
       "      <th></th>\n",
       "      <th></th>\n",
       "      <th></th>\n",
       "      <th></th>\n",
       "    </tr>\n",
       "  </thead>\n",
       "  <tbody>\n",
       "    <tr>\n",
       "      <th>0</th>\n",
       "      <td>[2010-10-19T23:55:27Z, 2010-10-18T22:17:43Z, 2...</td>\n",
       "      <td>[30.2359091167, 30.2691029532, 30.2557309927, ...</td>\n",
       "      <td>[-97.7951395833, -97.7493953705, -97.763385772...</td>\n",
       "      <td>[22847, 420315, 316637, 16516, 5535878, 15372,...</td>\n",
       "      <td>[POINT (-97.7951395833 30.2359091167), POINT (...</td>\n",
       "    </tr>\n",
       "    <tr>\n",
       "      <th>1</th>\n",
       "      <td>[2010-07-25T11:40:18Z, 2010-07-24T12:21:43Z, 2...</td>\n",
       "      <td>[48.86337875, 45.202483667, 44.724745941, 44.9...</td>\n",
       "      <td>[2.333328717, -0.746830983, 5.03296136, 5.7842...</td>\n",
       "      <td>[1500177, 1493267, 1441698, 1436795, 1431949, ...</td>\n",
       "      <td>[POINT (2.333328717 48.86337875), POINT (-0.74...</td>\n",
       "    </tr>\n",
       "    <tr>\n",
       "      <th>2</th>\n",
       "      <td>[2010-10-21T00:03:50Z, 2010-10-20T17:18:59Z, 2...</td>\n",
       "      <td>[34.0430230998, 34.0172734606, 34.0172734606, ...</td>\n",
       "      <td>[-118.2671570778, -118.447508812, -118.4475088...</td>\n",
       "      <td>[14637, 59838, 59838, 59838, 1474903, 335197, ...</td>\n",
       "      <td>[POINT (-118.2671570778 34.0430230998), POINT ...</td>\n",
       "    </tr>\n",
       "    <tr>\n",
       "      <th>4</th>\n",
       "      <td>[2010-10-11T20:30:23Z, 2010-10-02T18:58:55Z, 2...</td>\n",
       "      <td>[37.7826046833, 37.7868705523, 37.7826583333, ...</td>\n",
       "      <td>[-122.4076080167, -122.4549742274, -122.406320...</td>\n",
       "      <td>[14608, 640452, 166197, 26645, 102499, 1582288...</td>\n",
       "      <td>[POINT (-122.4076080167 37.7826046833), POINT ...</td>\n",
       "    </tr>\n",
       "    <tr>\n",
       "      <th>5</th>\n",
       "      <td>[2010-09-06T18:29:13Z, 2010-09-06T13:54:52Z, 2...</td>\n",
       "      <td>[40.761176868, 40.7637712634, 40.7563951, 40.7...</td>\n",
       "      <td>[-73.9868709323, -73.9777493477, -73.98525065,...</td>\n",
       "      <td>[458146, 490887, 906408, 84240, 906408, 23261,...</td>\n",
       "      <td>[POINT (-73.9868709323 40.761176868), POINT (-...</td>\n",
       "    </tr>\n",
       "  </tbody>\n",
       "</table>\n",
       "</div>"
      ]
     },
     "execution_count": 11,
     "metadata": {},
     "output_type": "execute_result"
    }
   ],
   "execution_count": 11
  },
  {
   "metadata": {},
   "cell_type": "markdown",
   "source": [
    "# Data Filtration\n",
    "LineString cannot be initialized with one point"
   ],
   "id": "8eb19440f45cbebe"
  },
  {
   "metadata": {
    "ExecuteTime": {
     "end_time": "2024-04-15T15:14:36.794279Z",
     "start_time": "2024-04-15T15:14:36.772716Z"
    }
   },
   "cell_type": "code",
   "source": [
    "df_gowalla_checkins_filtered = df_gowalla_checkins_aggregated[\n",
    "    df_gowalla_checkins_aggregated[\"geometry\"].str.len() > 1\n",
    "]"
   ],
   "id": "971e94844a8424f1",
   "outputs": [],
   "execution_count": 12
  },
  {
   "metadata": {},
   "cell_type": "markdown",
   "source": "# User Friendship",
   "id": "81f6d5c19609f66d"
  },
  {
   "metadata": {
    "ExecuteTime": {
     "end_time": "2024-04-15T15:14:36.833959Z",
     "start_time": "2024-04-15T15:14:36.794279Z"
    }
   },
   "cell_type": "code",
   "source": [
    "df_gowalla_edges_filtered = df_gowalla_edges[\n",
    "    df_gowalla_edges[\"user_id\"].isin(df_gowalla_checkins_filtered.index)\n",
    "    & df_gowalla_edges[\"user_friend_id\"].isin(df_gowalla_checkins_filtered.index)\n",
    "]"
   ],
   "id": "6a6fa956c6b2ce52",
   "outputs": [],
   "execution_count": 13
  },
  {
   "metadata": {
    "ExecuteTime": {
     "end_time": "2024-04-15T15:14:37.466567Z",
     "start_time": "2024-04-15T15:14:36.833959Z"
    }
   },
   "cell_type": "code",
   "source": [
    "df_gowalla_edges_aggregated = df_gowalla_edges_filtered.groupby(\"user_id\")[\n",
    "    \"user_friend_id\"\n",
    "].aggregate(list)"
   ],
   "id": "b1dde96f215afa18",
   "outputs": [],
   "execution_count": 14
  },
  {
   "metadata": {
    "ExecuteTime": {
     "end_time": "2024-04-15T15:14:37.489619Z",
     "start_time": "2024-04-15T15:14:37.466567Z"
    }
   },
   "cell_type": "code",
   "source": [
    "df_gowalla_merged = pd.merge(\n",
    "    df_gowalla_checkins_filtered, df_gowalla_edges_aggregated, on=\"user_id\"\n",
    ")"
   ],
   "id": "1687e106d68d68c1",
   "outputs": [],
   "execution_count": 15
  },
  {
   "metadata": {},
   "cell_type": "markdown",
   "source": "# Convert List of Points to LineString",
   "id": "68623c8405f8ce63"
  },
  {
   "metadata": {
    "ExecuteTime": {
     "end_time": "2024-04-15T15:15:10.043283Z",
     "start_time": "2024-04-15T15:14:37.490623Z"
    }
   },
   "cell_type": "code",
   "source": [
    "df_gowalla_merged[\"geometry\"] = process_map(\n",
    "    LineString, df_gowalla_merged[\"geometry\"], chunksize=1000, max_workers=20\n",
    ")"
   ],
   "id": "4e8d6910b693c7d0",
   "outputs": [
    {
     "data": {
      "text/plain": [
       "  0%|          | 0/92409 [00:00<?, ?it/s]"
      ],
      "application/vnd.jupyter.widget-view+json": {
       "version_major": 2,
       "version_minor": 0,
       "model_id": "b7edfae6ebf14945858b1d7264e4751e"
      }
     },
     "metadata": {},
     "output_type": "display_data"
    }
   ],
   "execution_count": 16
  },
  {
   "metadata": {
    "ExecuteTime": {
     "end_time": "2024-04-15T15:15:10.055682Z",
     "start_time": "2024-04-15T15:15:10.043283Z"
    }
   },
   "cell_type": "code",
   "source": "df_gowalla_merged.head()",
   "id": "9e2bbc8302f80638",
   "outputs": [
    {
     "data": {
      "text/plain": [
       "                                             check_in_time  \\\n",
       "user_id                                                      \n",
       "0        [2010-10-19T23:55:27Z, 2010-10-18T22:17:43Z, 2...   \n",
       "1        [2010-07-25T11:40:18Z, 2010-07-24T12:21:43Z, 2...   \n",
       "2        [2010-10-21T00:03:50Z, 2010-10-20T17:18:59Z, 2...   \n",
       "4        [2010-10-11T20:30:23Z, 2010-10-02T18:58:55Z, 2...   \n",
       "5        [2010-09-06T18:29:13Z, 2010-09-06T13:54:52Z, 2...   \n",
       "\n",
       "                                                  latitude  \\\n",
       "user_id                                                      \n",
       "0        [30.2359091167, 30.2691029532, 30.2557309927, ...   \n",
       "1        [48.86337875, 45.202483667, 44.724745941, 44.9...   \n",
       "2        [34.0430230998, 34.0172734606, 34.0172734606, ...   \n",
       "4        [37.7826046833, 37.7868705523, 37.7826583333, ...   \n",
       "5        [40.761176868, 40.7637712634, 40.7563951, 40.7...   \n",
       "\n",
       "                                                 longitude  \\\n",
       "user_id                                                      \n",
       "0        [-97.7951395833, -97.7493953705, -97.763385772...   \n",
       "1        [2.333328717, -0.746830983, 5.03296136, 5.7842...   \n",
       "2        [-118.2671570778, -118.447508812, -118.4475088...   \n",
       "4        [-122.4076080167, -122.4549742274, -122.406320...   \n",
       "5        [-73.9868709323, -73.9777493477, -73.98525065,...   \n",
       "\n",
       "                                               location_id  \\\n",
       "user_id                                                      \n",
       "0        [22847, 420315, 316637, 16516, 5535878, 15372,...   \n",
       "1        [1500177, 1493267, 1441698, 1436795, 1431949, ...   \n",
       "2        [14637, 59838, 59838, 59838, 1474903, 335197, ...   \n",
       "4        [14608, 640452, 166197, 26645, 102499, 1582288...   \n",
       "5        [458146, 490887, 906408, 84240, 906408, 23261,...   \n",
       "\n",
       "                                                  geometry  \\\n",
       "user_id                                                      \n",
       "0        LINESTRING (-97.7951395833 30.2359091167, -97....   \n",
       "1        LINESTRING (2.333328717 48.86337875, -0.746830...   \n",
       "2        LINESTRING (-118.2671570778 34.0430230998, -11...   \n",
       "4        LINESTRING (-122.4076080167 37.7826046833, -12...   \n",
       "5        LINESTRING (-73.9868709323 40.761176868, -73.9...   \n",
       "\n",
       "                                            user_friend_id  \n",
       "user_id                                                     \n",
       "0        [1, 2, 4, 5, 7, 8, 9, 10, 11, 12, 13, 14, 15, ...  \n",
       "1        [0, 2, 9, 52, 53, 55, 68, 88, 97, 111, 116, 15...  \n",
       "2        [0, 1, 5, 22, 36, 37, 41, 44, 53, 66, 67, 82, ...  \n",
       "4        [0, 154, 191, 234, 235, 267, 347, 405, 464, 55...  \n",
       "5        [0, 2, 40, 41, 42, 44, 54, 67, 82, 89, 112, 11...  "
      ],
      "text/html": [
       "<div>\n",
       "<style scoped>\n",
       "    .dataframe tbody tr th:only-of-type {\n",
       "        vertical-align: middle;\n",
       "    }\n",
       "\n",
       "    .dataframe tbody tr th {\n",
       "        vertical-align: top;\n",
       "    }\n",
       "\n",
       "    .dataframe thead th {\n",
       "        text-align: right;\n",
       "    }\n",
       "</style>\n",
       "<table border=\"1\" class=\"dataframe\">\n",
       "  <thead>\n",
       "    <tr style=\"text-align: right;\">\n",
       "      <th></th>\n",
       "      <th>check_in_time</th>\n",
       "      <th>latitude</th>\n",
       "      <th>longitude</th>\n",
       "      <th>location_id</th>\n",
       "      <th>geometry</th>\n",
       "      <th>user_friend_id</th>\n",
       "    </tr>\n",
       "    <tr>\n",
       "      <th>user_id</th>\n",
       "      <th></th>\n",
       "      <th></th>\n",
       "      <th></th>\n",
       "      <th></th>\n",
       "      <th></th>\n",
       "      <th></th>\n",
       "    </tr>\n",
       "  </thead>\n",
       "  <tbody>\n",
       "    <tr>\n",
       "      <th>0</th>\n",
       "      <td>[2010-10-19T23:55:27Z, 2010-10-18T22:17:43Z, 2...</td>\n",
       "      <td>[30.2359091167, 30.2691029532, 30.2557309927, ...</td>\n",
       "      <td>[-97.7951395833, -97.7493953705, -97.763385772...</td>\n",
       "      <td>[22847, 420315, 316637, 16516, 5535878, 15372,...</td>\n",
       "      <td>LINESTRING (-97.7951395833 30.2359091167, -97....</td>\n",
       "      <td>[1, 2, 4, 5, 7, 8, 9, 10, 11, 12, 13, 14, 15, ...</td>\n",
       "    </tr>\n",
       "    <tr>\n",
       "      <th>1</th>\n",
       "      <td>[2010-07-25T11:40:18Z, 2010-07-24T12:21:43Z, 2...</td>\n",
       "      <td>[48.86337875, 45.202483667, 44.724745941, 44.9...</td>\n",
       "      <td>[2.333328717, -0.746830983, 5.03296136, 5.7842...</td>\n",
       "      <td>[1500177, 1493267, 1441698, 1436795, 1431949, ...</td>\n",
       "      <td>LINESTRING (2.333328717 48.86337875, -0.746830...</td>\n",
       "      <td>[0, 2, 9, 52, 53, 55, 68, 88, 97, 111, 116, 15...</td>\n",
       "    </tr>\n",
       "    <tr>\n",
       "      <th>2</th>\n",
       "      <td>[2010-10-21T00:03:50Z, 2010-10-20T17:18:59Z, 2...</td>\n",
       "      <td>[34.0430230998, 34.0172734606, 34.0172734606, ...</td>\n",
       "      <td>[-118.2671570778, -118.447508812, -118.4475088...</td>\n",
       "      <td>[14637, 59838, 59838, 59838, 1474903, 335197, ...</td>\n",
       "      <td>LINESTRING (-118.2671570778 34.0430230998, -11...</td>\n",
       "      <td>[0, 1, 5, 22, 36, 37, 41, 44, 53, 66, 67, 82, ...</td>\n",
       "    </tr>\n",
       "    <tr>\n",
       "      <th>4</th>\n",
       "      <td>[2010-10-11T20:30:23Z, 2010-10-02T18:58:55Z, 2...</td>\n",
       "      <td>[37.7826046833, 37.7868705523, 37.7826583333, ...</td>\n",
       "      <td>[-122.4076080167, -122.4549742274, -122.406320...</td>\n",
       "      <td>[14608, 640452, 166197, 26645, 102499, 1582288...</td>\n",
       "      <td>LINESTRING (-122.4076080167 37.7826046833, -12...</td>\n",
       "      <td>[0, 154, 191, 234, 235, 267, 347, 405, 464, 55...</td>\n",
       "    </tr>\n",
       "    <tr>\n",
       "      <th>5</th>\n",
       "      <td>[2010-09-06T18:29:13Z, 2010-09-06T13:54:52Z, 2...</td>\n",
       "      <td>[40.761176868, 40.7637712634, 40.7563951, 40.7...</td>\n",
       "      <td>[-73.9868709323, -73.9777493477, -73.98525065,...</td>\n",
       "      <td>[458146, 490887, 906408, 84240, 906408, 23261,...</td>\n",
       "      <td>LINESTRING (-73.9868709323 40.761176868, -73.9...</td>\n",
       "      <td>[0, 2, 40, 41, 42, 44, 54, 67, 82, 89, 112, 11...</td>\n",
       "    </tr>\n",
       "  </tbody>\n",
       "</table>\n",
       "</div>"
      ]
     },
     "execution_count": 17,
     "metadata": {},
     "output_type": "execute_result"
    }
   ],
   "execution_count": 17
  },
  {
   "metadata": {
    "ExecuteTime": {
     "end_time": "2024-04-15T15:15:10.158858Z",
     "start_time": "2024-04-15T15:15:10.057190Z"
    }
   },
   "cell_type": "code",
   "source": [
    "gpd_gowalla_checkins = gpd.GeoDataFrame(\n",
    "    data=df_gowalla_merged,\n",
    "    geometry=\"geometry\",\n",
    "    crs=\"EPSG:4326\",\n",
    ")"
   ],
   "id": "1a99a81681af50ec",
   "outputs": [],
   "execution_count": 18
  },
  {
   "metadata": {},
   "cell_type": "markdown",
   "source": "# Remove redundant columns",
   "id": "3c9524e28d712e3e"
  },
  {
   "metadata": {
    "ExecuteTime": {
     "end_time": "2024-04-15T15:15:10.169125Z",
     "start_time": "2024-04-15T15:15:10.159864Z"
    }
   },
   "cell_type": "code",
   "source": "gpd_gowalla_checkins.drop(columns=[\"latitude\", \"longitude\"], axis=1, inplace=True)",
   "id": "42b7c5efb5cdebd9",
   "outputs": [],
   "execution_count": 19
  },
  {
   "metadata": {},
   "cell_type": "markdown",
   "source": "# Convert LineString to List of Points (HF format)",
   "id": "837b20ba51b45f07"
  },
  {
   "metadata": {
    "ExecuteTime": {
     "end_time": "2024-04-15T15:15:11.795174Z",
     "start_time": "2024-04-15T15:15:10.169125Z"
    }
   },
   "cell_type": "code",
   "source": [
    "gpd_gowalla_checkins[\"geometry\"] = gpd_gowalla_checkins[\"geometry\"].apply(\n",
    "    lambda geom: list(geom.coords)\n",
    ")"
   ],
   "id": "ffe77c5c761b86e0",
   "outputs": [
    {
     "name": "stderr",
     "output_type": "stream",
     "text": [
      "C:\\Users\\Jakub\\AppData\\Local\\Temp\\ipykernel_3108\\3684959154.py:1: UserWarning: Geometry column does not contain geometry.\n",
      "  gpd_gowalla_checkins[\"geometry\"] = gpd_gowalla_checkins[\"geometry\"].apply(\n"
     ]
    }
   ],
   "execution_count": 20
  },
  {
   "metadata": {},
   "cell_type": "markdown",
   "source": "# Save to Parquet",
   "id": "4e0d3ddd4a028bfa"
  },
  {
   "metadata": {
    "ExecuteTime": {
     "end_time": "2024-04-15T15:15:14.497329Z",
     "start_time": "2024-04-15T15:15:11.796179Z"
    }
   },
   "cell_type": "code",
   "source": "gpd_gowalla_checkins.to_parquet(\"data/gowalla.parquet\")",
   "id": "3f590967657066d7",
   "outputs": [],
   "execution_count": 21
  }
 ],
 "metadata": {
  "kernelspec": {
   "display_name": "Python 3",
   "language": "python",
   "name": "python3"
  },
  "language_info": {
   "codemirror_mode": {
    "name": "ipython",
    "version": 2
   },
   "file_extension": ".py",
   "mimetype": "text/x-python",
   "name": "python",
   "nbconvert_exporter": "python",
   "pygments_lexer": "ipython2",
   "version": "2.7.6"
  }
 },
 "nbformat": 4,
 "nbformat_minor": 5
}

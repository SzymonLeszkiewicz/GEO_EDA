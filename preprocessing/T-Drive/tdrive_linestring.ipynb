{
 "cells": [
  {
   "cell_type": "markdown",
   "source": [
    "# Save to parquet as list of coordinates"
   ],
   "metadata": {
    "collapsed": false
   },
   "id": "5cf2904b1dec75e3"
  },
  {
   "cell_type": "code",
   "execution_count": 2,
   "id": "initial_id",
   "metadata": {
    "collapsed": true,
    "ExecuteTime": {
     "end_time": "2024-04-25T22:32:44.462204Z",
     "start_time": "2024-04-25T22:32:35.908484Z"
    }
   },
   "outputs": [],
   "source": [
    "import os\n",
    "from pprint import pprint\n",
    "import pandas as pd\n",
    "from time import time\n",
    "import geopandas as gpd\n",
    "import contextily\n",
    "from shapely.geometry import Point, LineString\n",
    "from tqdm import tqdm\n",
    "from sklearn.model_selection import train_test_split\n",
    "import matplotlib.pyplot as plt"
   ]
  },
  {
   "cell_type": "code",
   "outputs": [
    {
     "name": "stdout",
     "output_type": "stream",
     "text": [
      "Liczba plików:  10357\n"
     ]
    }
   ],
   "source": [
    "col = ['taxi_id', 'date_time', 'lon', 'lat']\n",
    "path = 't_drive_raw'\n",
    "print('Liczba plików: ', len(os.listdir(path)))"
   ],
   "metadata": {
    "collapsed": false,
    "ExecuteTime": {
     "end_time": "2024-04-25T22:32:57.513304Z",
     "start_time": "2024-04-25T22:32:57.506994Z"
    }
   },
   "id": "1281e7c4bbe8077",
   "execution_count": 3
  },
  {
   "cell_type": "code",
   "outputs": [
    {
     "name": "stderr",
     "output_type": "stream",
     "text": [
      "100%|██████████| 10357/10357 [00:52<00:00, 195.81it/s]\n",
      "IOPub data rate exceeded.\n",
      "The Jupyter server will temporarily stop sending output\n",
      "to the client in order to avoid crashing it.\n",
      "To change this limit, set the config variable\n",
      "`--ServerApp.iopub_data_rate_limit`.\n",
      "\n",
      "Current values:\n",
      "ServerApp.iopub_data_rate_limit=1000000.0 (bytes/sec)\n",
      "ServerApp.rate_limit_window=3.0 (secs)\n",
      "\n"
     ]
    }
   ],
   "source": [
    "out_df = pd.DataFrame(columns=col)\n",
    "\n",
    "t1 = time()\n",
    "counter = 0\n",
    "raw_data = []\n",
    "for f in tqdm(sorted(os.listdir(path))):\n",
    "    data = open(os.path.join(path, f), 'r').read().split('\\n')\n",
    "    data = [d.split(',') for d in data]\n",
    "    data.pop()\n",
    "    raw_data += data\n",
    "    counter += 1\n",
    "t2 = time()\n",
    "print(raw_data)\n",
    "print('time: ', t2 - t1, 'files converted: ', counter)"
   ],
   "metadata": {
    "collapsed": false,
    "ExecuteTime": {
     "end_time": "2024-04-25T22:36:07.029641Z",
     "start_time": "2024-04-25T22:34:59.779308Z"
    }
   },
   "id": "3392213b1acf622d",
   "execution_count": 4
  },
  {
   "cell_type": "code",
   "outputs": [
    {
     "data": {
      "text/plain": "  taxi_id            date_time        lon       lat\n0       1  2008-02-02 15:36:08  116.51172  39.92123\n1       1  2008-02-02 15:46:08  116.51135  39.93883\n2       1  2008-02-02 15:46:08  116.51135  39.93883\n3       1  2008-02-02 15:56:08  116.51627  39.91034\n4       1  2008-02-02 16:06:08  116.47186  39.91248",
      "text/html": "<div>\n<style scoped>\n    .dataframe tbody tr th:only-of-type {\n        vertical-align: middle;\n    }\n\n    .dataframe tbody tr th {\n        vertical-align: top;\n    }\n\n    .dataframe thead th {\n        text-align: right;\n    }\n</style>\n<table border=\"1\" class=\"dataframe\">\n  <thead>\n    <tr style=\"text-align: right;\">\n      <th></th>\n      <th>taxi_id</th>\n      <th>date_time</th>\n      <th>lon</th>\n      <th>lat</th>\n    </tr>\n  </thead>\n  <tbody>\n    <tr>\n      <th>0</th>\n      <td>1</td>\n      <td>2008-02-02 15:36:08</td>\n      <td>116.51172</td>\n      <td>39.92123</td>\n    </tr>\n    <tr>\n      <th>1</th>\n      <td>1</td>\n      <td>2008-02-02 15:46:08</td>\n      <td>116.51135</td>\n      <td>39.93883</td>\n    </tr>\n    <tr>\n      <th>2</th>\n      <td>1</td>\n      <td>2008-02-02 15:46:08</td>\n      <td>116.51135</td>\n      <td>39.93883</td>\n    </tr>\n    <tr>\n      <th>3</th>\n      <td>1</td>\n      <td>2008-02-02 15:56:08</td>\n      <td>116.51627</td>\n      <td>39.91034</td>\n    </tr>\n    <tr>\n      <th>4</th>\n      <td>1</td>\n      <td>2008-02-02 16:06:08</td>\n      <td>116.47186</td>\n      <td>39.91248</td>\n    </tr>\n  </tbody>\n</table>\n</div>"
     },
     "execution_count": 5,
     "metadata": {},
     "output_type": "execute_result"
    }
   ],
   "source": [
    "out_df = pd.DataFrame(raw_data, columns=col)\n",
    "out_df.head()"
   ],
   "metadata": {
    "collapsed": false,
    "ExecuteTime": {
     "end_time": "2024-04-25T22:38:20.705620Z",
     "start_time": "2024-04-25T22:38:08.865861Z"
    }
   },
   "id": "c3c6b6c2bec34047",
   "execution_count": 5
  },
  {
   "cell_type": "code",
   "outputs": [],
   "source": [
    "# date_tiem column to datetime\n",
    "out_df['date_time'] = pd.to_datetime(out_df['date_time'])"
   ],
   "metadata": {
    "collapsed": false,
    "ExecuteTime": {
     "end_time": "2024-04-25T22:38:24.598992Z",
     "start_time": "2024-04-25T22:38:20.704048Z"
    }
   },
   "id": "fd73924799c4c2d8",
   "execution_count": 6
  },
  {
   "cell_type": "code",
   "outputs": [
    {
     "data": {
      "text/plain": "Timestamp('2008-02-02 15:36:08')"
     },
     "execution_count": 7,
     "metadata": {},
     "output_type": "execute_result"
    }
   ],
   "source": [
    "out_df['date_time'][0]"
   ],
   "metadata": {
    "collapsed": false,
    "ExecuteTime": {
     "end_time": "2024-04-25T22:38:24.614863Z",
     "start_time": "2024-04-25T22:38:24.602237Z"
    }
   },
   "id": "e490be860c45e872",
   "execution_count": 7
  },
  {
   "cell_type": "code",
   "outputs": [
    {
     "data": {
      "text/plain": "(17662984, 4)"
     },
     "execution_count": 8,
     "metadata": {},
     "output_type": "execute_result"
    }
   ],
   "source": [
    "out_df.shape"
   ],
   "metadata": {
    "collapsed": false,
    "ExecuteTime": {
     "end_time": "2024-04-25T22:38:24.615825Z",
     "start_time": "2024-04-25T22:38:24.608273Z"
    }
   },
   "id": "f105ece0e3dbdeb2",
   "execution_count": 8
  },
  {
   "cell_type": "code",
   "outputs": [],
   "source": [
    "gdf = gpd.GeoDataFrame(out_df, geometry=gpd.points_from_xy(out_df.lon, out_df.lat), crs='EPSG:4326')"
   ],
   "metadata": {
    "collapsed": false,
    "ExecuteTime": {
     "end_time": "2024-04-25T22:39:59.030849Z",
     "start_time": "2024-04-25T22:38:30.312242Z"
    }
   },
   "id": "38e8f75dea036b0a",
   "execution_count": 9
  },
  {
   "cell_type": "code",
   "outputs": [],
   "source": [
    "gdf.to_parquet('t_drive.parquet')"
   ],
   "metadata": {
    "collapsed": false,
    "ExecuteTime": {
     "end_time": "2024-04-25T22:41:09.268815Z",
     "start_time": "2024-04-25T22:40:31.943667Z"
    }
   },
   "id": "effa28925ae51cd8",
   "execution_count": 10
  },
  {
   "cell_type": "code",
   "outputs": [
    {
     "data": {
      "text/plain": "((14282609, 4), (1806035, 4), (1574340, 4))"
     },
     "execution_count": 95,
     "metadata": {},
     "output_type": "execute_result"
    }
   ],
   "source": [
    "# unique_ids = out_df['taxi_id'].unique()\n",
    "# train_ids, testval_ids = train_test_split(unique_ids, test_size=0.2, random_state=42)\n",
    "# val_ids, test_ids = train_test_split(testval_ids, test_size=0.5, random_state=42)\n",
    "# \n",
    "# train_df = out_df[out_df['taxi_id'].isin(train_ids)]\n",
    "# val_df = out_df[out_df['taxi_id'].isin(val_ids)]\n",
    "# test_df = out_df[out_df['taxi_id'].isin(test_ids)]\n",
    "# \n",
    "# train_df.shape, val_df.shape, test_df.shape"
   ],
   "metadata": {
    "collapsed": false,
    "ExecuteTime": {
     "end_time": "2024-02-22T21:52:10.795357Z",
     "start_time": "2024-02-22T21:51:22.706563Z"
    }
   },
   "id": "129f946f5d973de6",
   "execution_count": 95
  },
  {
   "cell_type": "code",
   "outputs": [
    {
     "data": {
      "text/plain": "(80.86181247743869, 10.22497104679481, 8.913216475766497)"
     },
     "execution_count": 96,
     "metadata": {},
     "output_type": "execute_result"
    }
   ],
   "source": [
    "# train_df.shape[0]/out_df.shape[0]*100, val_df.shape[0]/out_df.shape[0]*100, test_df.shape[0]/out_df.shape[0]*100"
   ],
   "metadata": {
    "collapsed": false,
    "ExecuteTime": {
     "end_time": "2024-02-22T21:52:10.834720Z",
     "start_time": "2024-02-22T21:52:10.745311Z"
    }
   },
   "id": "c2792d342bd74593",
   "execution_count": 96
  },
  {
   "cell_type": "markdown",
   "source": [
    "# II part"
   ],
   "metadata": {
    "collapsed": false
   },
   "id": "a3be4d2cfbdb0666"
  },
  {
   "cell_type": "code",
   "outputs": [
    {
     "data": {
      "text/plain": "    taxi_id           date_time        lon       lat  \\\n588      10 2008-02-02 13:32:03  116.44457  39.92157   \n589      10 2008-02-02 13:33:58  116.44043   39.9219   \n590      10 2008-02-02 13:34:25   116.4404  39.92192   \n591      10 2008-02-02 13:35:08  116.43528   39.9228   \n592      10 2008-02-02 13:36:03  116.43523  39.92287   \n\n                       geometry  \n588  POINT (116.44457 39.92157)  \n589  POINT (116.44043 39.92190)  \n590  POINT (116.44040 39.92192)  \n591  POINT (116.43528 39.92280)  \n592  POINT (116.43523 39.92287)  ",
      "text/html": "<div>\n<style scoped>\n    .dataframe tbody tr th:only-of-type {\n        vertical-align: middle;\n    }\n\n    .dataframe tbody tr th {\n        vertical-align: top;\n    }\n\n    .dataframe thead th {\n        text-align: right;\n    }\n</style>\n<table border=\"1\" class=\"dataframe\">\n  <thead>\n    <tr style=\"text-align: right;\">\n      <th></th>\n      <th>taxi_id</th>\n      <th>date_time</th>\n      <th>lon</th>\n      <th>lat</th>\n      <th>geometry</th>\n    </tr>\n  </thead>\n  <tbody>\n    <tr>\n      <th>588</th>\n      <td>10</td>\n      <td>2008-02-02 13:32:03</td>\n      <td>116.44457</td>\n      <td>39.92157</td>\n      <td>POINT (116.44457 39.92157)</td>\n    </tr>\n    <tr>\n      <th>589</th>\n      <td>10</td>\n      <td>2008-02-02 13:33:58</td>\n      <td>116.44043</td>\n      <td>39.9219</td>\n      <td>POINT (116.44043 39.92190)</td>\n    </tr>\n    <tr>\n      <th>590</th>\n      <td>10</td>\n      <td>2008-02-02 13:34:25</td>\n      <td>116.4404</td>\n      <td>39.92192</td>\n      <td>POINT (116.44040 39.92192)</td>\n    </tr>\n    <tr>\n      <th>591</th>\n      <td>10</td>\n      <td>2008-02-02 13:35:08</td>\n      <td>116.43528</td>\n      <td>39.9228</td>\n      <td>POINT (116.43528 39.92280)</td>\n    </tr>\n    <tr>\n      <th>592</th>\n      <td>10</td>\n      <td>2008-02-02 13:36:03</td>\n      <td>116.43523</td>\n      <td>39.92287</td>\n      <td>POINT (116.43523 39.92287)</td>\n    </tr>\n  </tbody>\n</table>\n</div>"
     },
     "execution_count": 97,
     "metadata": {},
     "output_type": "execute_result"
    }
   ],
   "source": [
    "geodf_train = gpd.GeoDataFrame(train_df, geometry=gpd.points_from_xy(train_df.lon, train_df.lat), crs='EPSG:4326')\n",
    "geodf_test = gpd.GeoDataFrame(test_df, geometry=gpd.points_from_xy(test_df.lon, test_df.lat), crs='EPSG:4326')\n",
    "geodf_val = gpd.GeoDataFrame(val_df, geometry=gpd.points_from_xy(val_df.lon, val_df.lat), crs='EPSG:4326')\n",
    "\n",
    "geodf_train.head()"
   ],
   "metadata": {
    "collapsed": false,
    "ExecuteTime": {
     "end_time": "2024-02-22T21:54:34.384312Z",
     "start_time": "2024-02-22T21:52:18.700441Z"
    }
   },
   "id": "247ee67959144f3",
   "execution_count": 97
  },
  {
   "cell_type": "code",
   "outputs": [],
   "source": [
    "train_list = geodf_train.groupby(by = 'taxi_id').agg(list)\n",
    "test_list = geodf_test.groupby(by = 'taxi_id').agg(list)\n",
    "val_list = geodf_val.groupby(by = 'taxi_id').agg(list)"
   ],
   "metadata": {
    "collapsed": false,
    "ExecuteTime": {
     "end_time": "2024-02-22T21:56:53.290355Z",
     "start_time": "2024-02-22T21:54:34.199686Z"
    }
   },
   "id": "c1e78489efd0c71d",
   "execution_count": 98
  },
  {
   "cell_type": "code",
   "outputs": [
    {
     "data": {
      "text/plain": "                                                 date_time  \\\ntaxi_id                                                      \n10       [2008-02-02 13:32:03, 2008-02-02 13:33:58, 200...   \n100      [2008-02-02 18:44:59, 2008-02-02 18:46:14, 200...   \n10000    [2008-02-02 13:39:48, 2008-02-02 13:44:50, 200...   \n10001    [2008-02-02 13:34:36, 2008-02-02 13:36:29, 200...   \n10002    [2008-02-02 13:40:13, 2008-02-02 13:45:15, 200...   \n\n                                                       lon  \\\ntaxi_id                                                      \n10       [116.44457, 116.44043, 116.4404, 116.43528, 11...   \n100      [116.46956, 116.47115, 116.48475, 116.48589, 1...   \n10000    [116.35924, 116.35929, 116.35926, 116.35928, 1...   \n10001    [116.30375, 116.29665, 116.29957, 116.30406, 1...   \n10002    [116.41106, 116.41104, 116.41104, 116.41085, 1...   \n\n                                                       lat  \\\ntaxi_id                                                      \n10       [39.92157, 39.9219, 39.92192, 39.9228, 39.9228...   \n100      [39.87211, 39.87062, 39.86908, 39.87436, 39.87...   \n10000    [39.93669, 39.93688, 39.93681, 39.93646, 39.93...   \n10001    [39.93778, 39.93125, 39.93099, 39.91203, 39.90...   \n10002    [39.92823, 39.92822, 39.92822, 39.92821, 39.92...   \n\n                                                  geometry  \ntaxi_id                                                     \n10       [POINT (116.44457 39.92157), POINT (116.44043 ...  \n100      [POINT (116.46956 39.87211), POINT (116.47115 ...  \n10000    [POINT (116.35924 39.93669), POINT (116.35929 ...  \n10001    [POINT (116.30375 39.93778), POINT (116.29665 ...  \n10002    [POINT (116.41106 39.92823), POINT (116.41104 ...  ",
      "text/html": "<div>\n<style scoped>\n    .dataframe tbody tr th:only-of-type {\n        vertical-align: middle;\n    }\n\n    .dataframe tbody tr th {\n        vertical-align: top;\n    }\n\n    .dataframe thead th {\n        text-align: right;\n    }\n</style>\n<table border=\"1\" class=\"dataframe\">\n  <thead>\n    <tr style=\"text-align: right;\">\n      <th></th>\n      <th>date_time</th>\n      <th>lon</th>\n      <th>lat</th>\n      <th>geometry</th>\n    </tr>\n    <tr>\n      <th>taxi_id</th>\n      <th></th>\n      <th></th>\n      <th></th>\n      <th></th>\n    </tr>\n  </thead>\n  <tbody>\n    <tr>\n      <th>10</th>\n      <td>[2008-02-02 13:32:03, 2008-02-02 13:33:58, 200...</td>\n      <td>[116.44457, 116.44043, 116.4404, 116.43528, 11...</td>\n      <td>[39.92157, 39.9219, 39.92192, 39.9228, 39.9228...</td>\n      <td>[POINT (116.44457 39.92157), POINT (116.44043 ...</td>\n    </tr>\n    <tr>\n      <th>100</th>\n      <td>[2008-02-02 18:44:59, 2008-02-02 18:46:14, 200...</td>\n      <td>[116.46956, 116.47115, 116.48475, 116.48589, 1...</td>\n      <td>[39.87211, 39.87062, 39.86908, 39.87436, 39.87...</td>\n      <td>[POINT (116.46956 39.87211), POINT (116.47115 ...</td>\n    </tr>\n    <tr>\n      <th>10000</th>\n      <td>[2008-02-02 13:39:48, 2008-02-02 13:44:50, 200...</td>\n      <td>[116.35924, 116.35929, 116.35926, 116.35928, 1...</td>\n      <td>[39.93669, 39.93688, 39.93681, 39.93646, 39.93...</td>\n      <td>[POINT (116.35924 39.93669), POINT (116.35929 ...</td>\n    </tr>\n    <tr>\n      <th>10001</th>\n      <td>[2008-02-02 13:34:36, 2008-02-02 13:36:29, 200...</td>\n      <td>[116.30375, 116.29665, 116.29957, 116.30406, 1...</td>\n      <td>[39.93778, 39.93125, 39.93099, 39.91203, 39.90...</td>\n      <td>[POINT (116.30375 39.93778), POINT (116.29665 ...</td>\n    </tr>\n    <tr>\n      <th>10002</th>\n      <td>[2008-02-02 13:40:13, 2008-02-02 13:45:15, 200...</td>\n      <td>[116.41106, 116.41104, 116.41104, 116.41085, 1...</td>\n      <td>[39.92823, 39.92822, 39.92822, 39.92821, 39.92...</td>\n      <td>[POINT (116.41106 39.92823), POINT (116.41104 ...</td>\n    </tr>\n  </tbody>\n</table>\n</div>"
     },
     "execution_count": 99,
     "metadata": {},
     "output_type": "execute_result"
    }
   ],
   "source": [
    "train_list.head()"
   ],
   "metadata": {
    "collapsed": false,
    "ExecuteTime": {
     "end_time": "2024-02-22T21:56:53.794816Z",
     "start_time": "2024-02-22T21:56:53.262873Z"
    }
   },
   "id": "502eabc080e6b24f",
   "execution_count": 99
  },
  {
   "cell_type": "code",
   "outputs": [
    {
     "name": "stdout",
     "output_type": "stream",
     "text": [
      "(8268, 4) (1034, 4) (1034, 4)\n"
     ]
    }
   ],
   "source": [
    "print(train_list.shape, test_list.shape, val_list.shape)"
   ],
   "metadata": {
    "collapsed": false,
    "ExecuteTime": {
     "end_time": "2024-02-22T21:56:53.859027Z",
     "start_time": "2024-02-22T21:56:53.300828Z"
    }
   },
   "id": "67abaeca2d07db66",
   "execution_count": 100
  },
  {
   "cell_type": "code",
   "outputs": [],
   "source": [
    "# drop rows with geometry len = 1\n",
    "train_list = train_list[train_list['geometry'].apply(lambda x: len(x) > 1)]\n",
    "test_list = test_list[test_list['geometry'].apply(lambda x: len(x) > 1)]\n",
    "val_list = val_list[val_list['geometry'].apply(lambda x: len(x) > 1)]\n"
   ],
   "metadata": {
    "collapsed": false,
    "ExecuteTime": {
     "end_time": "2024-02-22T21:56:53.900675Z",
     "start_time": "2024-02-22T21:56:53.306488Z"
    }
   },
   "id": "843a732c9fc16e0",
   "execution_count": 101
  },
  {
   "cell_type": "code",
   "outputs": [
    {
     "name": "stdout",
     "output_type": "stream",
     "text": [
      "(8257, 4) (1032, 4) (1031, 4)\n"
     ]
    }
   ],
   "source": [
    "print(train_list.shape, test_list.shape, val_list.shape)"
   ],
   "metadata": {
    "collapsed": false,
    "ExecuteTime": {
     "end_time": "2024-02-22T21:56:53.912019Z",
     "start_time": "2024-02-22T21:56:53.307685Z"
    }
   },
   "id": "b9b01647ba057f4",
   "execution_count": 102
  },
  {
   "cell_type": "code",
   "outputs": [],
   "source": [
    "# reset index\n",
    "train_list = train_list.reset_index()\n",
    "test_list = test_list.reset_index()\n",
    "val_list = val_list.reset_index()"
   ],
   "metadata": {
    "collapsed": false,
    "ExecuteTime": {
     "end_time": "2024-02-22T21:56:53.916980Z",
     "start_time": "2024-02-22T21:56:53.308125Z"
    }
   },
   "id": "2affb5bd01659c7e",
   "execution_count": 103
  },
  {
   "cell_type": "code",
   "outputs": [
    {
     "data": {
      "text/plain": "  taxi_id                                          date_time  \\\n0      10  [2008-02-02 13:32:03, 2008-02-02 13:33:58, 200...   \n1     100  [2008-02-02 18:44:59, 2008-02-02 18:46:14, 200...   \n2   10000  [2008-02-02 13:39:48, 2008-02-02 13:44:50, 200...   \n3   10001  [2008-02-02 13:34:36, 2008-02-02 13:36:29, 200...   \n4   10002  [2008-02-02 13:40:13, 2008-02-02 13:45:15, 200...   \n\n                                                 lon  \\\n0  [116.44457, 116.44043, 116.4404, 116.43528, 11...   \n1  [116.46956, 116.47115, 116.48475, 116.48589, 1...   \n2  [116.35924, 116.35929, 116.35926, 116.35928, 1...   \n3  [116.30375, 116.29665, 116.29957, 116.30406, 1...   \n4  [116.41106, 116.41104, 116.41104, 116.41085, 1...   \n\n                                                 lat  \\\n0  [39.92157, 39.9219, 39.92192, 39.9228, 39.9228...   \n1  [39.87211, 39.87062, 39.86908, 39.87436, 39.87...   \n2  [39.93669, 39.93688, 39.93681, 39.93646, 39.93...   \n3  [39.93778, 39.93125, 39.93099, 39.91203, 39.90...   \n4  [39.92823, 39.92822, 39.92822, 39.92821, 39.92...   \n\n                                            geometry  \n0  [POINT (116.44457 39.92157), POINT (116.44043 ...  \n1  [POINT (116.46956 39.87211), POINT (116.47115 ...  \n2  [POINT (116.35924 39.93669), POINT (116.35929 ...  \n3  [POINT (116.30375 39.93778), POINT (116.29665 ...  \n4  [POINT (116.41106 39.92823), POINT (116.41104 ...  ",
      "text/html": "<div>\n<style scoped>\n    .dataframe tbody tr th:only-of-type {\n        vertical-align: middle;\n    }\n\n    .dataframe tbody tr th {\n        vertical-align: top;\n    }\n\n    .dataframe thead th {\n        text-align: right;\n    }\n</style>\n<table border=\"1\" class=\"dataframe\">\n  <thead>\n    <tr style=\"text-align: right;\">\n      <th></th>\n      <th>taxi_id</th>\n      <th>date_time</th>\n      <th>lon</th>\n      <th>lat</th>\n      <th>geometry</th>\n    </tr>\n  </thead>\n  <tbody>\n    <tr>\n      <th>0</th>\n      <td>10</td>\n      <td>[2008-02-02 13:32:03, 2008-02-02 13:33:58, 200...</td>\n      <td>[116.44457, 116.44043, 116.4404, 116.43528, 11...</td>\n      <td>[39.92157, 39.9219, 39.92192, 39.9228, 39.9228...</td>\n      <td>[POINT (116.44457 39.92157), POINT (116.44043 ...</td>\n    </tr>\n    <tr>\n      <th>1</th>\n      <td>100</td>\n      <td>[2008-02-02 18:44:59, 2008-02-02 18:46:14, 200...</td>\n      <td>[116.46956, 116.47115, 116.48475, 116.48589, 1...</td>\n      <td>[39.87211, 39.87062, 39.86908, 39.87436, 39.87...</td>\n      <td>[POINT (116.46956 39.87211), POINT (116.47115 ...</td>\n    </tr>\n    <tr>\n      <th>2</th>\n      <td>10000</td>\n      <td>[2008-02-02 13:39:48, 2008-02-02 13:44:50, 200...</td>\n      <td>[116.35924, 116.35929, 116.35926, 116.35928, 1...</td>\n      <td>[39.93669, 39.93688, 39.93681, 39.93646, 39.93...</td>\n      <td>[POINT (116.35924 39.93669), POINT (116.35929 ...</td>\n    </tr>\n    <tr>\n      <th>3</th>\n      <td>10001</td>\n      <td>[2008-02-02 13:34:36, 2008-02-02 13:36:29, 200...</td>\n      <td>[116.30375, 116.29665, 116.29957, 116.30406, 1...</td>\n      <td>[39.93778, 39.93125, 39.93099, 39.91203, 39.90...</td>\n      <td>[POINT (116.30375 39.93778), POINT (116.29665 ...</td>\n    </tr>\n    <tr>\n      <th>4</th>\n      <td>10002</td>\n      <td>[2008-02-02 13:40:13, 2008-02-02 13:45:15, 200...</td>\n      <td>[116.41106, 116.41104, 116.41104, 116.41085, 1...</td>\n      <td>[39.92823, 39.92822, 39.92822, 39.92821, 39.92...</td>\n      <td>[POINT (116.41106 39.92823), POINT (116.41104 ...</td>\n    </tr>\n  </tbody>\n</table>\n</div>"
     },
     "execution_count": 104,
     "metadata": {},
     "output_type": "execute_result"
    }
   ],
   "source": [
    "train_list.head()"
   ],
   "metadata": {
    "collapsed": false,
    "ExecuteTime": {
     "end_time": "2024-02-22T21:56:53.973927Z",
     "start_time": "2024-02-22T21:56:53.308930Z"
    }
   },
   "id": "2b96629166d1d640",
   "execution_count": 104
  },
  {
   "cell_type": "code",
   "outputs": [],
   "source": [
    "train_list['geometry'] = train_list['geometry'].apply(lambda x: LineString(x))\n",
    "test_list['geometry'] = test_list['geometry'].apply(lambda x: LineString(x))\n",
    "val_list['geometry'] = val_list['geometry'].apply(lambda x: LineString(x))"
   ],
   "metadata": {
    "collapsed": false,
    "ExecuteTime": {
     "end_time": "2024-02-22T22:00:39.188695Z",
     "start_time": "2024-02-22T21:56:53.310092Z"
    }
   },
   "id": "e42b9c1aedde3f7c",
   "execution_count": 105
  },
  {
   "cell_type": "code",
   "outputs": [
    {
     "data": {
      "text/plain": "  taxi_id                                          date_time  \\\n0      10  [2008-02-02 13:32:03, 2008-02-02 13:33:58, 200...   \n1     100  [2008-02-02 18:44:59, 2008-02-02 18:46:14, 200...   \n2   10000  [2008-02-02 13:39:48, 2008-02-02 13:44:50, 200...   \n3   10001  [2008-02-02 13:34:36, 2008-02-02 13:36:29, 200...   \n4   10002  [2008-02-02 13:40:13, 2008-02-02 13:45:15, 200...   \n\n                                                 lon  \\\n0  [116.44457, 116.44043, 116.4404, 116.43528, 11...   \n1  [116.46956, 116.47115, 116.48475, 116.48589, 1...   \n2  [116.35924, 116.35929, 116.35926, 116.35928, 1...   \n3  [116.30375, 116.29665, 116.29957, 116.30406, 1...   \n4  [116.41106, 116.41104, 116.41104, 116.41085, 1...   \n\n                                                 lat  \\\n0  [39.92157, 39.9219, 39.92192, 39.9228, 39.9228...   \n1  [39.87211, 39.87062, 39.86908, 39.87436, 39.87...   \n2  [39.93669, 39.93688, 39.93681, 39.93646, 39.93...   \n3  [39.93778, 39.93125, 39.93099, 39.91203, 39.90...   \n4  [39.92823, 39.92822, 39.92822, 39.92821, 39.92...   \n\n                                            geometry  \n0  LINESTRING (116.44457 39.92157, 116.44043 39.9...  \n1  LINESTRING (116.46956 39.87211, 116.47115 39.8...  \n2  LINESTRING (116.35924 39.93669, 116.35929 39.9...  \n3  LINESTRING (116.30375 39.93778, 116.29665 39.9...  \n4  LINESTRING (116.41106 39.92823, 116.41104 39.9...  ",
      "text/html": "<div>\n<style scoped>\n    .dataframe tbody tr th:only-of-type {\n        vertical-align: middle;\n    }\n\n    .dataframe tbody tr th {\n        vertical-align: top;\n    }\n\n    .dataframe thead th {\n        text-align: right;\n    }\n</style>\n<table border=\"1\" class=\"dataframe\">\n  <thead>\n    <tr style=\"text-align: right;\">\n      <th></th>\n      <th>taxi_id</th>\n      <th>date_time</th>\n      <th>lon</th>\n      <th>lat</th>\n      <th>geometry</th>\n    </tr>\n  </thead>\n  <tbody>\n    <tr>\n      <th>0</th>\n      <td>10</td>\n      <td>[2008-02-02 13:32:03, 2008-02-02 13:33:58, 200...</td>\n      <td>[116.44457, 116.44043, 116.4404, 116.43528, 11...</td>\n      <td>[39.92157, 39.9219, 39.92192, 39.9228, 39.9228...</td>\n      <td>LINESTRING (116.44457 39.92157, 116.44043 39.9...</td>\n    </tr>\n    <tr>\n      <th>1</th>\n      <td>100</td>\n      <td>[2008-02-02 18:44:59, 2008-02-02 18:46:14, 200...</td>\n      <td>[116.46956, 116.47115, 116.48475, 116.48589, 1...</td>\n      <td>[39.87211, 39.87062, 39.86908, 39.87436, 39.87...</td>\n      <td>LINESTRING (116.46956 39.87211, 116.47115 39.8...</td>\n    </tr>\n    <tr>\n      <th>2</th>\n      <td>10000</td>\n      <td>[2008-02-02 13:39:48, 2008-02-02 13:44:50, 200...</td>\n      <td>[116.35924, 116.35929, 116.35926, 116.35928, 1...</td>\n      <td>[39.93669, 39.93688, 39.93681, 39.93646, 39.93...</td>\n      <td>LINESTRING (116.35924 39.93669, 116.35929 39.9...</td>\n    </tr>\n    <tr>\n      <th>3</th>\n      <td>10001</td>\n      <td>[2008-02-02 13:34:36, 2008-02-02 13:36:29, 200...</td>\n      <td>[116.30375, 116.29665, 116.29957, 116.30406, 1...</td>\n      <td>[39.93778, 39.93125, 39.93099, 39.91203, 39.90...</td>\n      <td>LINESTRING (116.30375 39.93778, 116.29665 39.9...</td>\n    </tr>\n    <tr>\n      <th>4</th>\n      <td>10002</td>\n      <td>[2008-02-02 13:40:13, 2008-02-02 13:45:15, 200...</td>\n      <td>[116.41106, 116.41104, 116.41104, 116.41085, 1...</td>\n      <td>[39.92823, 39.92822, 39.92822, 39.92821, 39.92...</td>\n      <td>LINESTRING (116.41106 39.92823, 116.41104 39.9...</td>\n    </tr>\n  </tbody>\n</table>\n</div>"
     },
     "execution_count": 106,
     "metadata": {},
     "output_type": "execute_result"
    }
   ],
   "source": [
    "train_list.head()"
   ],
   "metadata": {
    "collapsed": false,
    "ExecuteTime": {
     "end_time": "2024-02-22T22:00:39.326952Z",
     "start_time": "2024-02-22T22:00:39.190777Z"
    }
   },
   "id": "21e3549b73f085fb",
   "execution_count": 106
  },
  {
   "cell_type": "code",
   "outputs": [],
   "source": [
    "train_list['arrays_geometry'] = train_list['geometry'].apply(lambda x: list(x.coords))\n",
    "test_list['arrays_geometry'] = test_list['geometry'].apply(lambda x: list(x.coords))\n",
    "val_list['arrays_geometry'] = val_list['geometry'].apply(lambda x: list(x.coords))"
   ],
   "metadata": {
    "collapsed": false,
    "ExecuteTime": {
     "end_time": "2024-02-22T22:00:43.502051Z",
     "start_time": "2024-02-22T22:00:39.201447Z"
    }
   },
   "id": "f97c9fcfca328dfa",
   "execution_count": 107
  },
  {
   "cell_type": "code",
   "outputs": [
    {
     "data": {
      "text/plain": "  taxi_id                                          date_time  \\\n0      10  [2008-02-02 13:32:03, 2008-02-02 13:33:58, 200...   \n1     100  [2008-02-02 18:44:59, 2008-02-02 18:46:14, 200...   \n2   10000  [2008-02-02 13:39:48, 2008-02-02 13:44:50, 200...   \n3   10001  [2008-02-02 13:34:36, 2008-02-02 13:36:29, 200...   \n4   10002  [2008-02-02 13:40:13, 2008-02-02 13:45:15, 200...   \n\n                                                 lon  \\\n0  [116.44457, 116.44043, 116.4404, 116.43528, 11...   \n1  [116.46956, 116.47115, 116.48475, 116.48589, 1...   \n2  [116.35924, 116.35929, 116.35926, 116.35928, 1...   \n3  [116.30375, 116.29665, 116.29957, 116.30406, 1...   \n4  [116.41106, 116.41104, 116.41104, 116.41085, 1...   \n\n                                                 lat  \\\n0  [39.92157, 39.9219, 39.92192, 39.9228, 39.9228...   \n1  [39.87211, 39.87062, 39.86908, 39.87436, 39.87...   \n2  [39.93669, 39.93688, 39.93681, 39.93646, 39.93...   \n3  [39.93778, 39.93125, 39.93099, 39.91203, 39.90...   \n4  [39.92823, 39.92822, 39.92822, 39.92821, 39.92...   \n\n                                            geometry  \\\n0  LINESTRING (116.44457 39.92157, 116.44043 39.9...   \n1  LINESTRING (116.46956 39.87211, 116.47115 39.8...   \n2  LINESTRING (116.35924 39.93669, 116.35929 39.9...   \n3  LINESTRING (116.30375 39.93778, 116.29665 39.9...   \n4  LINESTRING (116.41106 39.92823, 116.41104 39.9...   \n\n                                     arrays_geometry  \n0  [(116.44457, 39.92157), (116.44043, 39.9219), ...  \n1  [(116.46956, 39.87211), (116.47115, 39.87062),...  \n2  [(116.35924, 39.93669), (116.35929, 39.93688),...  \n3  [(116.30375, 39.93778), (116.29665, 39.93125),...  \n4  [(116.41106, 39.92823), (116.41104, 39.92822),...  ",
      "text/html": "<div>\n<style scoped>\n    .dataframe tbody tr th:only-of-type {\n        vertical-align: middle;\n    }\n\n    .dataframe tbody tr th {\n        vertical-align: top;\n    }\n\n    .dataframe thead th {\n        text-align: right;\n    }\n</style>\n<table border=\"1\" class=\"dataframe\">\n  <thead>\n    <tr style=\"text-align: right;\">\n      <th></th>\n      <th>taxi_id</th>\n      <th>date_time</th>\n      <th>lon</th>\n      <th>lat</th>\n      <th>geometry</th>\n      <th>arrays_geometry</th>\n    </tr>\n  </thead>\n  <tbody>\n    <tr>\n      <th>0</th>\n      <td>10</td>\n      <td>[2008-02-02 13:32:03, 2008-02-02 13:33:58, 200...</td>\n      <td>[116.44457, 116.44043, 116.4404, 116.43528, 11...</td>\n      <td>[39.92157, 39.9219, 39.92192, 39.9228, 39.9228...</td>\n      <td>LINESTRING (116.44457 39.92157, 116.44043 39.9...</td>\n      <td>[(116.44457, 39.92157), (116.44043, 39.9219), ...</td>\n    </tr>\n    <tr>\n      <th>1</th>\n      <td>100</td>\n      <td>[2008-02-02 18:44:59, 2008-02-02 18:46:14, 200...</td>\n      <td>[116.46956, 116.47115, 116.48475, 116.48589, 1...</td>\n      <td>[39.87211, 39.87062, 39.86908, 39.87436, 39.87...</td>\n      <td>LINESTRING (116.46956 39.87211, 116.47115 39.8...</td>\n      <td>[(116.46956, 39.87211), (116.47115, 39.87062),...</td>\n    </tr>\n    <tr>\n      <th>2</th>\n      <td>10000</td>\n      <td>[2008-02-02 13:39:48, 2008-02-02 13:44:50, 200...</td>\n      <td>[116.35924, 116.35929, 116.35926, 116.35928, 1...</td>\n      <td>[39.93669, 39.93688, 39.93681, 39.93646, 39.93...</td>\n      <td>LINESTRING (116.35924 39.93669, 116.35929 39.9...</td>\n      <td>[(116.35924, 39.93669), (116.35929, 39.93688),...</td>\n    </tr>\n    <tr>\n      <th>3</th>\n      <td>10001</td>\n      <td>[2008-02-02 13:34:36, 2008-02-02 13:36:29, 200...</td>\n      <td>[116.30375, 116.29665, 116.29957, 116.30406, 1...</td>\n      <td>[39.93778, 39.93125, 39.93099, 39.91203, 39.90...</td>\n      <td>LINESTRING (116.30375 39.93778, 116.29665 39.9...</td>\n      <td>[(116.30375, 39.93778), (116.29665, 39.93125),...</td>\n    </tr>\n    <tr>\n      <th>4</th>\n      <td>10002</td>\n      <td>[2008-02-02 13:40:13, 2008-02-02 13:45:15, 200...</td>\n      <td>[116.41106, 116.41104, 116.41104, 116.41085, 1...</td>\n      <td>[39.92823, 39.92822, 39.92822, 39.92821, 39.92...</td>\n      <td>LINESTRING (116.41106 39.92823, 116.41104 39.9...</td>\n      <td>[(116.41106, 39.92823), (116.41104, 39.92822),...</td>\n    </tr>\n  </tbody>\n</table>\n</div>"
     },
     "execution_count": 108,
     "metadata": {},
     "output_type": "execute_result"
    }
   ],
   "source": [
    "train_list.head() "
   ],
   "metadata": {
    "collapsed": false,
    "ExecuteTime": {
     "end_time": "2024-02-22T22:00:43.654074Z",
     "start_time": "2024-02-22T22:00:43.500507Z"
    }
   },
   "id": "e84d2ccfd408967b",
   "execution_count": 108
  },
  {
   "cell_type": "code",
   "outputs": [],
   "source": [
    "# drop 'geometry' column\n",
    "train_list = train_list.drop(columns = 'geometry')\n",
    "test_list = test_list.drop(columns = 'geometry')\n",
    "val_list = val_list.drop(columns = 'geometry')"
   ],
   "metadata": {
    "collapsed": false,
    "ExecuteTime": {
     "end_time": "2024-02-22T22:00:43.776004Z",
     "start_time": "2024-02-22T22:00:43.553087Z"
    }
   },
   "id": "45c7ffef1a35647a",
   "execution_count": 109
  },
  {
   "cell_type": "code",
   "outputs": [],
   "source": [
    "if not os.path.exists('data/train_list.parquet'):\n",
    "    train_list.to_parquet('data/train_list.parquet')\n",
    "    \n",
    "if not os.path.exists('data/test_list.parquet'):\n",
    "    test_list.to_parquet('data/test_list.parquet')\n",
    "    \n",
    "if not os.path.exists('data/val_list.parquet'):\n",
    "    val_list.to_parquet('data/val_list.parquet')\n",
    "    "
   ],
   "metadata": {
    "collapsed": false,
    "ExecuteTime": {
     "end_time": "2024-02-22T22:12:35.155738Z",
     "start_time": "2024-02-22T22:00:43.675212Z"
    }
   },
   "id": "b3dfd1421d10c24e",
   "execution_count": 110
  },
  {
   "cell_type": "markdown",
   "source": [
    "# read"
   ],
   "metadata": {
    "collapsed": false
   },
   "id": "ba3369f3281c6491"
  },
  {
   "cell_type": "code",
   "outputs": [],
   "source": [
    "path_val = 'data/val_list.parquet'"
   ],
   "metadata": {
    "collapsed": false,
    "ExecuteTime": {
     "end_time": "2024-02-22T22:12:35.162883Z",
     "start_time": "2024-02-22T22:12:35.156674Z"
    }
   },
   "id": "52ca9a5a466b95f0",
   "execution_count": 111
  },
  {
   "cell_type": "code",
   "outputs": [],
   "source": [
    "val = pd.read_parquet(path_val)"
   ],
   "metadata": {
    "collapsed": false,
    "ExecuteTime": {
     "end_time": "2024-02-22T22:12:35.949378Z",
     "start_time": "2024-02-22T22:12:35.172849Z"
    }
   },
   "id": "a935ee2bdc92ae37",
   "execution_count": 112
  },
  {
   "cell_type": "code",
   "outputs": [],
   "source": [
    "val['geometry'] = val['arrays_geometry'].map(LineString)"
   ],
   "metadata": {
    "collapsed": false,
    "ExecuteTime": {
     "end_time": "2024-02-22T22:12:37.251328Z",
     "start_time": "2024-02-22T22:12:35.959685Z"
    }
   },
   "id": "858d737407b735bf",
   "execution_count": 113
  },
  {
   "cell_type": "code",
   "outputs": [],
   "source": [
    "val_gdf = gpd.GeoDataFrame(val, geometry='geometry', crs='EPSG:4326')\n",
    "# set index\n",
    "val_gdf = val_gdf.set_index('taxi_id')"
   ],
   "metadata": {
    "collapsed": false,
    "ExecuteTime": {
     "end_time": "2024-02-22T22:12:38.175090Z",
     "start_time": "2024-02-22T22:12:38.158812Z"
    }
   },
   "id": "c3c80e3638af2418",
   "execution_count": 114
  },
  {
   "cell_type": "code",
   "outputs": [
    {
     "name": "stdout",
     "output_type": "stream",
     "text": [
      "                                                 date_time  \\\n",
      "taxi_id                                                      \n",
      "10006    [2008-02-02T13:37:16.000000, 2008-02-02T13:42:...   \n",
      "10015    [2008-02-02T13:40:45.000000, 2008-02-02T13:45:...   \n",
      "10018    [2008-02-02T13:37:21.000000, 2008-02-02T13:42:...   \n",
      "10023    [2008-02-02T13:34:04.000000, 2008-02-02T13:38:...   \n",
      "10027    [2008-02-02T14:04:48.000000, 2008-02-02T14:09:...   \n",
      "\n",
      "                                                       lon  \\\n",
      "taxi_id                                                      \n",
      "10006    [116.54249, 116.52455, 116.51205, 116.48494, 1...   \n",
      "10015    [116.34893, 116.34614, 116.32941, 116.32777, 1...   \n",
      "10018    [116.36999, 116.36993, 116.36996, 116.36993, 1...   \n",
      "10023    [116.5127, 116.46278, 116.47643, 116.47604, 11...   \n",
      "10027    [116.50482, 116.50482, 116.50482, 116.50482, 1...   \n",
      "\n",
      "                                                       lat  \\\n",
      "taxi_id                                                      \n",
      "10006    [39.9156, 39.91579, 39.91538, 39.91426, 39.914...   \n",
      "10015    [39.95121, 39.93923, 39.95434, 39.97316, 39.97...   \n",
      "10018    [39.93262, 39.93255, 39.93261, 39.93271, 39.93...   \n",
      "10023    [39.97629, 40.01389, 40.05667, 40.06611, 40.06...   \n",
      "10027    [39.80965, 39.80965, 39.80965, 39.80965, 39.80...   \n",
      "\n",
      "                                           arrays_geometry  \\\n",
      "taxi_id                                                      \n",
      "10006    [[116.54249, 39.9156], [116.52455, 39.91579], ...   \n",
      "10015    [[116.34893, 39.95121], [116.34614, 39.93923],...   \n",
      "10018    [[116.36999, 39.93262], [116.36993, 39.93255],...   \n",
      "10023    [[116.5127, 39.97629], [116.46278, 40.01389], ...   \n",
      "10027    [[116.50482, 39.80965], [116.50482, 39.80965],...   \n",
      "\n",
      "                                                  geometry  \n",
      "taxi_id                                                     \n",
      "10006    LINESTRING (116.54249 39.91560, 116.52455 39.9...  \n",
      "10015    LINESTRING (116.34893 39.95121, 116.34614 39.9...  \n",
      "10018    LINESTRING (116.36999 39.93262, 116.36993 39.9...  \n",
      "10023    LINESTRING (116.51270 39.97629, 116.46278 40.0...  \n",
      "10027    LINESTRING (116.50482 39.80965, 116.50482 39.8...  \n"
     ]
    }
   ],
   "source": [
    "print(val_gdf.head())"
   ],
   "metadata": {
    "collapsed": false,
    "ExecuteTime": {
     "end_time": "2024-02-22T22:12:38.225216Z",
     "start_time": "2024-02-22T22:12:38.167258Z"
    }
   },
   "id": "4ae82c31e584d9e3",
   "execution_count": 115
  },
  {
   "cell_type": "code",
   "outputs": [],
   "source": [],
   "metadata": {
    "collapsed": false,
    "ExecuteTime": {
     "end_time": "2024-02-22T22:12:38.250669Z",
     "start_time": "2024-02-22T22:12:38.231209Z"
    }
   },
   "id": "b13230fd93fc8d7f",
   "execution_count": 115
  }
 ],
 "metadata": {
  "kernelspec": {
   "display_name": "Python 3",
   "language": "python",
   "name": "python3"
  },
  "language_info": {
   "codemirror_mode": {
    "name": "ipython",
    "version": 2
   },
   "file_extension": ".py",
   "mimetype": "text/x-python",
   "name": "python",
   "nbconvert_exporter": "python",
   "pygments_lexer": "ipython2",
   "version": "2.7.6"
  }
 },
 "nbformat": 4,
 "nbformat_minor": 5
}

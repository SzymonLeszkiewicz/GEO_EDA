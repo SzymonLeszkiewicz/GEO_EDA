{
 "cells": [
  {
   "cell_type": "markdown",
   "source": [
    "# Imports"
   ],
   "metadata": {
    "collapsed": false
   },
   "id": "807247b166ea4f1"
  },
  {
   "cell_type": "code",
   "source": [
    "import gzip\n",
    "\n",
    "import geopandas as gpd\n",
    "import pandas as pd\n",
    "from shapely.geometry import LineString\n",
    "from tqdm.contrib.concurrent import process_map"
   ],
   "metadata": {
    "collapsed": true,
    "ExecuteTime": {
     "end_time": "2024-04-15T16:08:40.477136Z",
     "start_time": "2024-04-15T16:08:40.165618Z"
    }
   },
   "id": "initial_id",
   "outputs": [],
   "execution_count": 1
  },
  {
   "cell_type": "markdown",
   "source": [
    "# Data Loading"
   ],
   "metadata": {
    "collapsed": false
   },
   "id": "e664d16edbd4065c"
  },
  {
   "cell_type": "code",
   "source": [
    "with gzip.open(\"data/brightkite_totalCheckins.txt.gz\", \"rb\") as f:\n",
    "    df_brightkite_checkins = pd.read_csv(\n",
    "        f,\n",
    "        delimiter=\"\\t\",\n",
    "        names=[\"user_id\", \"check_in_time\", \"latitude\", \"longitude\", \"location_id\"],\n",
    "    )"
   ],
   "metadata": {
    "collapsed": false,
    "ExecuteTime": {
     "end_time": "2024-04-15T16:08:43.838528Z",
     "start_time": "2024-04-15T16:08:40.477136Z"
    }
   },
   "id": "c23bda51cae6379f",
   "outputs": [],
   "execution_count": 2
  },
  {
   "cell_type": "code",
   "source": [
    "with gzip.open(\"data/brightkite_edges.txt.gz\", \"rb\") as f:\n",
    "    df_brightkite_edges = pd.read_csv(\n",
    "        f,\n",
    "        delimiter=\"\\t\",\n",
    "        names=[\"user_id\", \"user_friend_id\"],\n",
    "    )"
   ],
   "metadata": {
    "collapsed": false,
    "ExecuteTime": {
     "end_time": "2024-04-15T16:08:43.890216Z",
     "start_time": "2024-04-15T16:08:43.838528Z"
    }
   },
   "id": "e0a5c2eda872a5f0",
   "outputs": [],
   "execution_count": 3
  },
  {
   "cell_type": "markdown",
   "source": [
    "# Data Inspection"
   ],
   "metadata": {
    "collapsed": false
   },
   "id": "b74565f9a95a378b"
  },
  {
   "cell_type": "code",
   "source": [
    "df_brightkite_checkins.head()"
   ],
   "metadata": {
    "collapsed": false,
    "ExecuteTime": {
     "end_time": "2024-04-15T16:08:43.898070Z",
     "start_time": "2024-04-15T16:08:43.891222Z"
    }
   },
   "id": "fb6bab1f2daa1b43",
   "outputs": [
    {
     "data": {
      "text/plain": [
       "   user_id         check_in_time   latitude   longitude  \\\n",
       "0        0  2010-10-17T01:48:53Z  39.747652 -104.992510   \n",
       "1        0  2010-10-16T06:02:04Z  39.891383 -105.070814   \n",
       "2        0  2010-10-16T03:48:54Z  39.891077 -105.068532   \n",
       "3        0  2010-10-14T18:25:51Z  39.750469 -104.999073   \n",
       "4        0  2010-10-14T00:21:47Z  39.752713 -104.996337   \n",
       "\n",
       "                                location_id  \n",
       "0          88c46bf20db295831bd2d1718ad7e6f5  \n",
       "1          7a0f88982aa015062b95e3b4843f9ca2  \n",
       "2          dd7cd3d264c2d063832db506fba8bf79  \n",
       "3  9848afcc62e500a01cf6fbf24b797732f8963683  \n",
       "4          2ef143e12038c870038df53e0478cefc  "
      ],
      "text/html": [
       "<div>\n",
       "<style scoped>\n",
       "    .dataframe tbody tr th:only-of-type {\n",
       "        vertical-align: middle;\n",
       "    }\n",
       "\n",
       "    .dataframe tbody tr th {\n",
       "        vertical-align: top;\n",
       "    }\n",
       "\n",
       "    .dataframe thead th {\n",
       "        text-align: right;\n",
       "    }\n",
       "</style>\n",
       "<table border=\"1\" class=\"dataframe\">\n",
       "  <thead>\n",
       "    <tr style=\"text-align: right;\">\n",
       "      <th></th>\n",
       "      <th>user_id</th>\n",
       "      <th>check_in_time</th>\n",
       "      <th>latitude</th>\n",
       "      <th>longitude</th>\n",
       "      <th>location_id</th>\n",
       "    </tr>\n",
       "  </thead>\n",
       "  <tbody>\n",
       "    <tr>\n",
       "      <th>0</th>\n",
       "      <td>0</td>\n",
       "      <td>2010-10-17T01:48:53Z</td>\n",
       "      <td>39.747652</td>\n",
       "      <td>-104.992510</td>\n",
       "      <td>88c46bf20db295831bd2d1718ad7e6f5</td>\n",
       "    </tr>\n",
       "    <tr>\n",
       "      <th>1</th>\n",
       "      <td>0</td>\n",
       "      <td>2010-10-16T06:02:04Z</td>\n",
       "      <td>39.891383</td>\n",
       "      <td>-105.070814</td>\n",
       "      <td>7a0f88982aa015062b95e3b4843f9ca2</td>\n",
       "    </tr>\n",
       "    <tr>\n",
       "      <th>2</th>\n",
       "      <td>0</td>\n",
       "      <td>2010-10-16T03:48:54Z</td>\n",
       "      <td>39.891077</td>\n",
       "      <td>-105.068532</td>\n",
       "      <td>dd7cd3d264c2d063832db506fba8bf79</td>\n",
       "    </tr>\n",
       "    <tr>\n",
       "      <th>3</th>\n",
       "      <td>0</td>\n",
       "      <td>2010-10-14T18:25:51Z</td>\n",
       "      <td>39.750469</td>\n",
       "      <td>-104.999073</td>\n",
       "      <td>9848afcc62e500a01cf6fbf24b797732f8963683</td>\n",
       "    </tr>\n",
       "    <tr>\n",
       "      <th>4</th>\n",
       "      <td>0</td>\n",
       "      <td>2010-10-14T00:21:47Z</td>\n",
       "      <td>39.752713</td>\n",
       "      <td>-104.996337</td>\n",
       "      <td>2ef143e12038c870038df53e0478cefc</td>\n",
       "    </tr>\n",
       "  </tbody>\n",
       "</table>\n",
       "</div>"
      ]
     },
     "execution_count": 4,
     "metadata": {},
     "output_type": "execute_result"
    }
   ],
   "execution_count": 4
  },
  {
   "cell_type": "code",
   "source": [
    "df_brightkite_edges.head()"
   ],
   "metadata": {
    "collapsed": false,
    "ExecuteTime": {
     "end_time": "2024-04-15T16:08:43.902579Z",
     "start_time": "2024-04-15T16:08:43.898070Z"
    }
   },
   "id": "8fe0091a8f77d963",
   "outputs": [
    {
     "data": {
      "text/plain": [
       "   user_id  user_friend_id\n",
       "0        0               1\n",
       "1        0               2\n",
       "2        0               3\n",
       "3        0               4\n",
       "4        0               5"
      ],
      "text/html": [
       "<div>\n",
       "<style scoped>\n",
       "    .dataframe tbody tr th:only-of-type {\n",
       "        vertical-align: middle;\n",
       "    }\n",
       "\n",
       "    .dataframe tbody tr th {\n",
       "        vertical-align: top;\n",
       "    }\n",
       "\n",
       "    .dataframe thead th {\n",
       "        text-align: right;\n",
       "    }\n",
       "</style>\n",
       "<table border=\"1\" class=\"dataframe\">\n",
       "  <thead>\n",
       "    <tr style=\"text-align: right;\">\n",
       "      <th></th>\n",
       "      <th>user_id</th>\n",
       "      <th>user_friend_id</th>\n",
       "    </tr>\n",
       "  </thead>\n",
       "  <tbody>\n",
       "    <tr>\n",
       "      <th>0</th>\n",
       "      <td>0</td>\n",
       "      <td>1</td>\n",
       "    </tr>\n",
       "    <tr>\n",
       "      <th>1</th>\n",
       "      <td>0</td>\n",
       "      <td>2</td>\n",
       "    </tr>\n",
       "    <tr>\n",
       "      <th>2</th>\n",
       "      <td>0</td>\n",
       "      <td>3</td>\n",
       "    </tr>\n",
       "    <tr>\n",
       "      <th>3</th>\n",
       "      <td>0</td>\n",
       "      <td>4</td>\n",
       "    </tr>\n",
       "    <tr>\n",
       "      <th>4</th>\n",
       "      <td>0</td>\n",
       "      <td>5</td>\n",
       "    </tr>\n",
       "  </tbody>\n",
       "</table>\n",
       "</div>"
      ]
     },
     "execution_count": 5,
     "metadata": {},
     "output_type": "execute_result"
    }
   ],
   "execution_count": 5
  },
  {
   "cell_type": "markdown",
   "source": [
    "# Remove Zero Location"
   ],
   "metadata": {
    "collapsed": false
   },
   "id": "860758f2f11ca5af"
  },
  {
   "cell_type": "code",
   "source": [
    "df_brightkite_checkins = df_brightkite_checkins[\n",
    "    (df_brightkite_checkins[\"latitude\"] != 0)\n",
    "    & (df_brightkite_checkins[\"longitude\"] != 0)\n",
    "]"
   ],
   "metadata": {
    "collapsed": false,
    "ExecuteTime": {
     "end_time": "2024-04-15T16:08:44.013825Z",
     "start_time": "2024-04-15T16:08:43.903094Z"
    }
   },
   "id": "cd342ed64bc740c7",
   "outputs": [],
   "execution_count": 6
  },
  {
   "cell_type": "markdown",
   "source": [
    "# Remove NaN"
   ],
   "metadata": {
    "collapsed": false
   },
   "id": "c95a2c3b16d2917b"
  },
  {
   "cell_type": "code",
   "source": [
    "df_brightkite_checkins.dropna(inplace=True)"
   ],
   "metadata": {
    "collapsed": false,
    "ExecuteTime": {
     "end_time": "2024-04-15T16:08:44.276978Z",
     "start_time": "2024-04-15T16:08:44.013825Z"
    }
   },
   "id": "80b4a11667316166",
   "outputs": [],
   "execution_count": 7
  },
  {
   "cell_type": "markdown",
   "source": [
    "# GeoDataFrame"
   ],
   "metadata": {
    "collapsed": false
   },
   "id": "2674977c86c601b3"
  },
  {
   "cell_type": "code",
   "source": [
    "gpd_brightkite_checkins = gpd.GeoDataFrame(\n",
    "    df_brightkite_checkins,\n",
    "    geometry=gpd.points_from_xy(\n",
    "        df_brightkite_checkins[\"longitude\"], df_brightkite_checkins[\"latitude\"]\n",
    "    ),\n",
    "    crs=\"EPSG:4326\",\n",
    ")"
   ],
   "metadata": {
    "collapsed": false,
    "ExecuteTime": {
     "end_time": "2024-04-15T16:08:45.884037Z",
     "start_time": "2024-04-15T16:08:44.277982Z"
    }
   },
   "id": "beed2a70307ca99d",
   "outputs": [],
   "execution_count": 8
  },
  {
   "cell_type": "code",
   "source": [
    "gpd_brightkite_checkins.head()"
   ],
   "metadata": {
    "collapsed": false,
    "ExecuteTime": {
     "end_time": "2024-04-15T16:08:45.890147Z",
     "start_time": "2024-04-15T16:08:45.884037Z"
    }
   },
   "id": "837a9089435c7846",
   "outputs": [
    {
     "data": {
      "text/plain": [
       "   user_id         check_in_time   latitude   longitude  \\\n",
       "0        0  2010-10-17T01:48:53Z  39.747652 -104.992510   \n",
       "1        0  2010-10-16T06:02:04Z  39.891383 -105.070814   \n",
       "2        0  2010-10-16T03:48:54Z  39.891077 -105.068532   \n",
       "3        0  2010-10-14T18:25:51Z  39.750469 -104.999073   \n",
       "4        0  2010-10-14T00:21:47Z  39.752713 -104.996337   \n",
       "\n",
       "                                location_id                     geometry  \n",
       "0          88c46bf20db295831bd2d1718ad7e6f5  POINT (-104.99251 39.74765)  \n",
       "1          7a0f88982aa015062b95e3b4843f9ca2  POINT (-105.07081 39.89138)  \n",
       "2          dd7cd3d264c2d063832db506fba8bf79  POINT (-105.06853 39.89108)  \n",
       "3  9848afcc62e500a01cf6fbf24b797732f8963683  POINT (-104.99907 39.75047)  \n",
       "4          2ef143e12038c870038df53e0478cefc  POINT (-104.99634 39.75271)  "
      ],
      "text/html": [
       "<div>\n",
       "<style scoped>\n",
       "    .dataframe tbody tr th:only-of-type {\n",
       "        vertical-align: middle;\n",
       "    }\n",
       "\n",
       "    .dataframe tbody tr th {\n",
       "        vertical-align: top;\n",
       "    }\n",
       "\n",
       "    .dataframe thead th {\n",
       "        text-align: right;\n",
       "    }\n",
       "</style>\n",
       "<table border=\"1\" class=\"dataframe\">\n",
       "  <thead>\n",
       "    <tr style=\"text-align: right;\">\n",
       "      <th></th>\n",
       "      <th>user_id</th>\n",
       "      <th>check_in_time</th>\n",
       "      <th>latitude</th>\n",
       "      <th>longitude</th>\n",
       "      <th>location_id</th>\n",
       "      <th>geometry</th>\n",
       "    </tr>\n",
       "  </thead>\n",
       "  <tbody>\n",
       "    <tr>\n",
       "      <th>0</th>\n",
       "      <td>0</td>\n",
       "      <td>2010-10-17T01:48:53Z</td>\n",
       "      <td>39.747652</td>\n",
       "      <td>-104.992510</td>\n",
       "      <td>88c46bf20db295831bd2d1718ad7e6f5</td>\n",
       "      <td>POINT (-104.99251 39.74765)</td>\n",
       "    </tr>\n",
       "    <tr>\n",
       "      <th>1</th>\n",
       "      <td>0</td>\n",
       "      <td>2010-10-16T06:02:04Z</td>\n",
       "      <td>39.891383</td>\n",
       "      <td>-105.070814</td>\n",
       "      <td>7a0f88982aa015062b95e3b4843f9ca2</td>\n",
       "      <td>POINT (-105.07081 39.89138)</td>\n",
       "    </tr>\n",
       "    <tr>\n",
       "      <th>2</th>\n",
       "      <td>0</td>\n",
       "      <td>2010-10-16T03:48:54Z</td>\n",
       "      <td>39.891077</td>\n",
       "      <td>-105.068532</td>\n",
       "      <td>dd7cd3d264c2d063832db506fba8bf79</td>\n",
       "      <td>POINT (-105.06853 39.89108)</td>\n",
       "    </tr>\n",
       "    <tr>\n",
       "      <th>3</th>\n",
       "      <td>0</td>\n",
       "      <td>2010-10-14T18:25:51Z</td>\n",
       "      <td>39.750469</td>\n",
       "      <td>-104.999073</td>\n",
       "      <td>9848afcc62e500a01cf6fbf24b797732f8963683</td>\n",
       "      <td>POINT (-104.99907 39.75047)</td>\n",
       "    </tr>\n",
       "    <tr>\n",
       "      <th>4</th>\n",
       "      <td>0</td>\n",
       "      <td>2010-10-14T00:21:47Z</td>\n",
       "      <td>39.752713</td>\n",
       "      <td>-104.996337</td>\n",
       "      <td>2ef143e12038c870038df53e0478cefc</td>\n",
       "      <td>POINT (-104.99634 39.75271)</td>\n",
       "    </tr>\n",
       "  </tbody>\n",
       "</table>\n",
       "</div>"
      ]
     },
     "execution_count": 9,
     "metadata": {},
     "output_type": "execute_result"
    }
   ],
   "execution_count": 9
  },
  {
   "cell_type": "markdown",
   "source": [
    "# Data Aggregation by User"
   ],
   "metadata": {
    "collapsed": false
   },
   "id": "f944d6e9cc1207c0"
  },
  {
   "cell_type": "code",
   "source": [
    "df_brightkite_checkins_aggregated = gpd_brightkite_checkins.groupby(\n",
    "    by=\"user_id\"\n",
    ").aggregate(list)"
   ],
   "metadata": {
    "collapsed": false,
    "ExecuteTime": {
     "end_time": "2024-04-15T16:08:50.335601Z",
     "start_time": "2024-04-15T16:08:45.891152Z"
    }
   },
   "id": "64a0a02ca31dc8c0",
   "outputs": [],
   "execution_count": 10
  },
  {
   "cell_type": "code",
   "source": [
    "df_brightkite_checkins_aggregated.head()"
   ],
   "metadata": {
    "collapsed": false,
    "ExecuteTime": {
     "end_time": "2024-04-15T16:08:50.352631Z",
     "start_time": "2024-04-15T16:08:50.335601Z"
    }
   },
   "id": "1fb47c01774e6edc",
   "outputs": [
    {
     "data": {
      "text/plain": [
       "                                             check_in_time  \\\n",
       "user_id                                                      \n",
       "0        [2010-10-17T01:48:53Z, 2010-10-16T06:02:04Z, 2...   \n",
       "1        [2010-10-15T15:49:55Z, 2010-10-14T15:30:30Z, 2...   \n",
       "2        [2010-10-17T01:54:45Z, 2010-09-27T02:12:45Z, 2...   \n",
       "3        [2010-10-17T11:44:21Z, 2010-10-17T10:17:26Z, 2...   \n",
       "4        [2010-10-16T20:49:23Z, 2010-10-11T22:59:09Z, 2...   \n",
       "\n",
       "                                                  latitude  \\\n",
       "user_id                                                      \n",
       "0        [39.747652, 39.891383, 39.891077, 39.750469, 3...   \n",
       "1        [37.579963, 37.580304, 37.579963, 37.579963, 3...   \n",
       "2        [39.747652, 39.746871, 39.746871, 39.739897, 3...   \n",
       "3        [38.94511, 38.944444, 36.117798, 36.053911, 36...   \n",
       "4        [37.824562, 37.579963, 37.579963, 37.762938, 3...   \n",
       "\n",
       "                                                 longitude  \\\n",
       "user_id                                                      \n",
       "0        [-104.99251, -105.070814, -105.068532, -104.99...   \n",
       "1        [-122.343908, -122.343679, -122.343908, -122.3...   \n",
       "2        [-104.99251, -105.010166, -105.010166, -104.92...   \n",
       "3        [-77.451706, -77.455833, -115.172926, -115.172...   \n",
       "4        [-122.368844, -122.343908, -122.343908, -122.3...   \n",
       "\n",
       "                                               location_id  \\\n",
       "user_id                                                      \n",
       "0        [88c46bf20db295831bd2d1718ad7e6f5, 7a0f88982aa...   \n",
       "1        [6fc93c9c178be638f384e202a5e27c2c, 5e55a3bdab7...   \n",
       "2        [88c46bf20db295831bd2d1718ad7e6f5, 4dfb8a75261...   \n",
       "3        [200dced1036e9b5cd93511d5eb14f2f7, 1e8f97ff904...   \n",
       "4        [4626aab842645caa90ab573e357fa9b6, 6fc93c9c178...   \n",
       "\n",
       "                                                  geometry  \n",
       "user_id                                                     \n",
       "0        [POINT (-104.99251 39.747652), POINT (-105.070...  \n",
       "1        [POINT (-122.343908 37.579963), POINT (-122.34...  \n",
       "2        [POINT (-104.99251 39.747652), POINT (-105.010...  \n",
       "3        [POINT (-77.451706 38.94511), POINT (-77.45583...  \n",
       "4        [POINT (-122.368844 37.824562), POINT (-122.34...  "
      ],
      "text/html": [
       "<div>\n",
       "<style scoped>\n",
       "    .dataframe tbody tr th:only-of-type {\n",
       "        vertical-align: middle;\n",
       "    }\n",
       "\n",
       "    .dataframe tbody tr th {\n",
       "        vertical-align: top;\n",
       "    }\n",
       "\n",
       "    .dataframe thead th {\n",
       "        text-align: right;\n",
       "    }\n",
       "</style>\n",
       "<table border=\"1\" class=\"dataframe\">\n",
       "  <thead>\n",
       "    <tr style=\"text-align: right;\">\n",
       "      <th></th>\n",
       "      <th>check_in_time</th>\n",
       "      <th>latitude</th>\n",
       "      <th>longitude</th>\n",
       "      <th>location_id</th>\n",
       "      <th>geometry</th>\n",
       "    </tr>\n",
       "    <tr>\n",
       "      <th>user_id</th>\n",
       "      <th></th>\n",
       "      <th></th>\n",
       "      <th></th>\n",
       "      <th></th>\n",
       "      <th></th>\n",
       "    </tr>\n",
       "  </thead>\n",
       "  <tbody>\n",
       "    <tr>\n",
       "      <th>0</th>\n",
       "      <td>[2010-10-17T01:48:53Z, 2010-10-16T06:02:04Z, 2...</td>\n",
       "      <td>[39.747652, 39.891383, 39.891077, 39.750469, 3...</td>\n",
       "      <td>[-104.99251, -105.070814, -105.068532, -104.99...</td>\n",
       "      <td>[88c46bf20db295831bd2d1718ad7e6f5, 7a0f88982aa...</td>\n",
       "      <td>[POINT (-104.99251 39.747652), POINT (-105.070...</td>\n",
       "    </tr>\n",
       "    <tr>\n",
       "      <th>1</th>\n",
       "      <td>[2010-10-15T15:49:55Z, 2010-10-14T15:30:30Z, 2...</td>\n",
       "      <td>[37.579963, 37.580304, 37.579963, 37.579963, 3...</td>\n",
       "      <td>[-122.343908, -122.343679, -122.343908, -122.3...</td>\n",
       "      <td>[6fc93c9c178be638f384e202a5e27c2c, 5e55a3bdab7...</td>\n",
       "      <td>[POINT (-122.343908 37.579963), POINT (-122.34...</td>\n",
       "    </tr>\n",
       "    <tr>\n",
       "      <th>2</th>\n",
       "      <td>[2010-10-17T01:54:45Z, 2010-09-27T02:12:45Z, 2...</td>\n",
       "      <td>[39.747652, 39.746871, 39.746871, 39.739897, 3...</td>\n",
       "      <td>[-104.99251, -105.010166, -105.010166, -104.92...</td>\n",
       "      <td>[88c46bf20db295831bd2d1718ad7e6f5, 4dfb8a75261...</td>\n",
       "      <td>[POINT (-104.99251 39.747652), POINT (-105.010...</td>\n",
       "    </tr>\n",
       "    <tr>\n",
       "      <th>3</th>\n",
       "      <td>[2010-10-17T11:44:21Z, 2010-10-17T10:17:26Z, 2...</td>\n",
       "      <td>[38.94511, 38.944444, 36.117798, 36.053911, 36...</td>\n",
       "      <td>[-77.451706, -77.455833, -115.172926, -115.172...</td>\n",
       "      <td>[200dced1036e9b5cd93511d5eb14f2f7, 1e8f97ff904...</td>\n",
       "      <td>[POINT (-77.451706 38.94511), POINT (-77.45583...</td>\n",
       "    </tr>\n",
       "    <tr>\n",
       "      <th>4</th>\n",
       "      <td>[2010-10-16T20:49:23Z, 2010-10-11T22:59:09Z, 2...</td>\n",
       "      <td>[37.824562, 37.579963, 37.579963, 37.762938, 3...</td>\n",
       "      <td>[-122.368844, -122.343908, -122.343908, -122.3...</td>\n",
       "      <td>[4626aab842645caa90ab573e357fa9b6, 6fc93c9c178...</td>\n",
       "      <td>[POINT (-122.368844 37.824562), POINT (-122.34...</td>\n",
       "    </tr>\n",
       "  </tbody>\n",
       "</table>\n",
       "</div>"
      ]
     },
     "execution_count": 11,
     "metadata": {},
     "output_type": "execute_result"
    }
   ],
   "execution_count": 11
  },
  {
   "cell_type": "markdown",
   "source": [
    "# Data Filtration\n",
    "LineString cannot be initialized with one point"
   ],
   "metadata": {
    "collapsed": false
   },
   "id": "c828d0a1fd0042e8"
  },
  {
   "cell_type": "code",
   "source": [
    "df_brightkite_checkins_filtered = df_brightkite_checkins_aggregated[\n",
    "    df_brightkite_checkins_aggregated[\"geometry\"].str.len() > 1\n",
    "]"
   ],
   "metadata": {
    "collapsed": false,
    "ExecuteTime": {
     "end_time": "2024-04-15T16:08:50.363210Z",
     "start_time": "2024-04-15T16:08:50.352631Z"
    }
   },
   "id": "6bd9e54d7e71e2ee",
   "outputs": [],
   "execution_count": 12
  },
  {
   "metadata": {},
   "cell_type": "markdown",
   "source": "# User Friendship",
   "id": "a3f07756340d2253"
  },
  {
   "metadata": {
    "ExecuteTime": {
     "end_time": "2024-04-15T16:08:50.372734Z",
     "start_time": "2024-04-15T16:08:50.363210Z"
    }
   },
   "cell_type": "code",
   "source": [
    "df_brightkite_edges_filtered = df_brightkite_edges[\n",
    "    df_brightkite_edges[\"user_id\"].isin(df_brightkite_checkins_filtered.index)\n",
    "    & df_brightkite_edges[\"user_friend_id\"].isin(df_brightkite_checkins_filtered.index)\n",
    "]"
   ],
   "id": "366897e724b71ad3",
   "outputs": [],
   "execution_count": 13
  },
  {
   "metadata": {
    "ExecuteTime": {
     "end_time": "2024-04-15T16:08:50.650312Z",
     "start_time": "2024-04-15T16:08:50.373238Z"
    }
   },
   "cell_type": "code",
   "source": [
    "df_brightkite_edges_aggregated = df_brightkite_edges_filtered.groupby(\"user_id\")[\n",
    "    \"user_friend_id\"\n",
    "].aggregate(list)"
   ],
   "id": "e20f38dc88a3e7c7",
   "outputs": [],
   "execution_count": 14
  },
  {
   "metadata": {
    "ExecuteTime": {
     "end_time": "2024-04-15T16:08:50.661755Z",
     "start_time": "2024-04-15T16:08:50.650312Z"
    }
   },
   "cell_type": "code",
   "source": [
    "df_brightkite_merged = pd.merge(\n",
    "    df_brightkite_checkins_filtered, df_brightkite_edges_aggregated, on=\"user_id\"\n",
    ")"
   ],
   "id": "6cb5f856e313d686",
   "outputs": [],
   "execution_count": 15
  },
  {
   "cell_type": "markdown",
   "source": [
    "# Convert List of Points to LineString"
   ],
   "metadata": {
    "collapsed": false
   },
   "id": "7ec087ab0f542046"
  },
  {
   "cell_type": "code",
   "source": [
    "df_brightkite_merged[\"geometry\"] = process_map(\n",
    "    LineString, df_brightkite_merged[\"geometry\"], chunksize=1000, max_workers=20\n",
    ")"
   ],
   "metadata": {
    "collapsed": false,
    "ExecuteTime": {
     "end_time": "2024-04-15T16:09:13.541718Z",
     "start_time": "2024-04-15T16:08:50.661755Z"
    }
   },
   "id": "cc902b4d303f345d",
   "outputs": [
    {
     "data": {
      "text/plain": [
       "  0%|          | 0/42043 [00:00<?, ?it/s]"
      ],
      "application/vnd.jupyter.widget-view+json": {
       "version_major": 2,
       "version_minor": 0,
       "model_id": "dfc2bccdbdc54177940dcce335f467c3"
      }
     },
     "metadata": {},
     "output_type": "display_data"
    }
   ],
   "execution_count": 16
  },
  {
   "cell_type": "code",
   "source": "df_brightkite_merged.head()",
   "metadata": {
    "collapsed": false,
    "ExecuteTime": {
     "end_time": "2024-04-15T16:09:13.555251Z",
     "start_time": "2024-04-15T16:09:13.541718Z"
    }
   },
   "id": "d8d78469d5d1aef1",
   "outputs": [
    {
     "data": {
      "text/plain": [
       "                                             check_in_time  \\\n",
       "user_id                                                      \n",
       "0        [2010-10-17T01:48:53Z, 2010-10-16T06:02:04Z, 2...   \n",
       "1        [2010-10-15T15:49:55Z, 2010-10-14T15:30:30Z, 2...   \n",
       "2        [2010-10-17T01:54:45Z, 2010-09-27T02:12:45Z, 2...   \n",
       "3        [2010-10-17T11:44:21Z, 2010-10-17T10:17:26Z, 2...   \n",
       "4        [2010-10-16T20:49:23Z, 2010-10-11T22:59:09Z, 2...   \n",
       "\n",
       "                                                  latitude  \\\n",
       "user_id                                                      \n",
       "0        [39.747652, 39.891383, 39.891077, 39.750469, 3...   \n",
       "1        [37.579963, 37.580304, 37.579963, 37.579963, 3...   \n",
       "2        [39.747652, 39.746871, 39.746871, 39.739897, 3...   \n",
       "3        [38.94511, 38.944444, 36.117798, 36.053911, 36...   \n",
       "4        [37.824562, 37.579963, 37.579963, 37.762938, 3...   \n",
       "\n",
       "                                                 longitude  \\\n",
       "user_id                                                      \n",
       "0        [-104.99251, -105.070814, -105.068532, -104.99...   \n",
       "1        [-122.343908, -122.343679, -122.343908, -122.3...   \n",
       "2        [-104.99251, -105.010166, -105.010166, -104.92...   \n",
       "3        [-77.451706, -77.455833, -115.172926, -115.172...   \n",
       "4        [-122.368844, -122.343908, -122.343908, -122.3...   \n",
       "\n",
       "                                               location_id  \\\n",
       "user_id                                                      \n",
       "0        [88c46bf20db295831bd2d1718ad7e6f5, 7a0f88982aa...   \n",
       "1        [6fc93c9c178be638f384e202a5e27c2c, 5e55a3bdab7...   \n",
       "2        [88c46bf20db295831bd2d1718ad7e6f5, 4dfb8a75261...   \n",
       "3        [200dced1036e9b5cd93511d5eb14f2f7, 1e8f97ff904...   \n",
       "4        [4626aab842645caa90ab573e357fa9b6, 6fc93c9c178...   \n",
       "\n",
       "                                                  geometry  \\\n",
       "user_id                                                      \n",
       "0        LINESTRING (-104.99251 39.747652, -105.070814 ...   \n",
       "1        LINESTRING (-122.343908 37.579963, -122.343679...   \n",
       "2        LINESTRING (-104.99251 39.747652, -105.010166 ...   \n",
       "3        LINESTRING (-77.451706 38.94511, -77.455833 38...   \n",
       "4        LINESTRING (-122.368844 37.824562, -122.343908...   \n",
       "\n",
       "                                            user_friend_id  \n",
       "user_id                                                     \n",
       "0        [1, 2, 3, 4, 5, 6, 7, 8, 9, 10, 11, 12, 13, 14...  \n",
       "1        [0, 3, 4, 5, 7, 9, 23, 26, 29, 30, 35, 38, 40,...  \n",
       "2        [0, 10, 12, 13, 20, 29, 30, 32, 33, 34, 40, 45...  \n",
       "3        [0, 1, 4, 6, 7, 9, 11, 20, 26, 27, 30, 36, 38,...  \n",
       "4        [0, 1, 3, 5, 7, 9, 11, 23, 26, 30, 38, 42, 46,...  "
      ],
      "text/html": [
       "<div>\n",
       "<style scoped>\n",
       "    .dataframe tbody tr th:only-of-type {\n",
       "        vertical-align: middle;\n",
       "    }\n",
       "\n",
       "    .dataframe tbody tr th {\n",
       "        vertical-align: top;\n",
       "    }\n",
       "\n",
       "    .dataframe thead th {\n",
       "        text-align: right;\n",
       "    }\n",
       "</style>\n",
       "<table border=\"1\" class=\"dataframe\">\n",
       "  <thead>\n",
       "    <tr style=\"text-align: right;\">\n",
       "      <th></th>\n",
       "      <th>check_in_time</th>\n",
       "      <th>latitude</th>\n",
       "      <th>longitude</th>\n",
       "      <th>location_id</th>\n",
       "      <th>geometry</th>\n",
       "      <th>user_friend_id</th>\n",
       "    </tr>\n",
       "    <tr>\n",
       "      <th>user_id</th>\n",
       "      <th></th>\n",
       "      <th></th>\n",
       "      <th></th>\n",
       "      <th></th>\n",
       "      <th></th>\n",
       "      <th></th>\n",
       "    </tr>\n",
       "  </thead>\n",
       "  <tbody>\n",
       "    <tr>\n",
       "      <th>0</th>\n",
       "      <td>[2010-10-17T01:48:53Z, 2010-10-16T06:02:04Z, 2...</td>\n",
       "      <td>[39.747652, 39.891383, 39.891077, 39.750469, 3...</td>\n",
       "      <td>[-104.99251, -105.070814, -105.068532, -104.99...</td>\n",
       "      <td>[88c46bf20db295831bd2d1718ad7e6f5, 7a0f88982aa...</td>\n",
       "      <td>LINESTRING (-104.99251 39.747652, -105.070814 ...</td>\n",
       "      <td>[1, 2, 3, 4, 5, 6, 7, 8, 9, 10, 11, 12, 13, 14...</td>\n",
       "    </tr>\n",
       "    <tr>\n",
       "      <th>1</th>\n",
       "      <td>[2010-10-15T15:49:55Z, 2010-10-14T15:30:30Z, 2...</td>\n",
       "      <td>[37.579963, 37.580304, 37.579963, 37.579963, 3...</td>\n",
       "      <td>[-122.343908, -122.343679, -122.343908, -122.3...</td>\n",
       "      <td>[6fc93c9c178be638f384e202a5e27c2c, 5e55a3bdab7...</td>\n",
       "      <td>LINESTRING (-122.343908 37.579963, -122.343679...</td>\n",
       "      <td>[0, 3, 4, 5, 7, 9, 23, 26, 29, 30, 35, 38, 40,...</td>\n",
       "    </tr>\n",
       "    <tr>\n",
       "      <th>2</th>\n",
       "      <td>[2010-10-17T01:54:45Z, 2010-09-27T02:12:45Z, 2...</td>\n",
       "      <td>[39.747652, 39.746871, 39.746871, 39.739897, 3...</td>\n",
       "      <td>[-104.99251, -105.010166, -105.010166, -104.92...</td>\n",
       "      <td>[88c46bf20db295831bd2d1718ad7e6f5, 4dfb8a75261...</td>\n",
       "      <td>LINESTRING (-104.99251 39.747652, -105.010166 ...</td>\n",
       "      <td>[0, 10, 12, 13, 20, 29, 30, 32, 33, 34, 40, 45...</td>\n",
       "    </tr>\n",
       "    <tr>\n",
       "      <th>3</th>\n",
       "      <td>[2010-10-17T11:44:21Z, 2010-10-17T10:17:26Z, 2...</td>\n",
       "      <td>[38.94511, 38.944444, 36.117798, 36.053911, 36...</td>\n",
       "      <td>[-77.451706, -77.455833, -115.172926, -115.172...</td>\n",
       "      <td>[200dced1036e9b5cd93511d5eb14f2f7, 1e8f97ff904...</td>\n",
       "      <td>LINESTRING (-77.451706 38.94511, -77.455833 38...</td>\n",
       "      <td>[0, 1, 4, 6, 7, 9, 11, 20, 26, 27, 30, 36, 38,...</td>\n",
       "    </tr>\n",
       "    <tr>\n",
       "      <th>4</th>\n",
       "      <td>[2010-10-16T20:49:23Z, 2010-10-11T22:59:09Z, 2...</td>\n",
       "      <td>[37.824562, 37.579963, 37.579963, 37.762938, 3...</td>\n",
       "      <td>[-122.368844, -122.343908, -122.343908, -122.3...</td>\n",
       "      <td>[4626aab842645caa90ab573e357fa9b6, 6fc93c9c178...</td>\n",
       "      <td>LINESTRING (-122.368844 37.824562, -122.343908...</td>\n",
       "      <td>[0, 1, 3, 5, 7, 9, 11, 23, 26, 30, 38, 42, 46,...</td>\n",
       "    </tr>\n",
       "  </tbody>\n",
       "</table>\n",
       "</div>"
      ]
     },
     "execution_count": 17,
     "metadata": {},
     "output_type": "execute_result"
    }
   ],
   "execution_count": 17
  },
  {
   "cell_type": "code",
   "source": [
    "gpd_brightkite_checkins = gpd.GeoDataFrame(\n",
    "    data=df_brightkite_merged,\n",
    "    geometry=\"geometry\",\n",
    "    crs=\"EPSG:4326\",\n",
    ")"
   ],
   "metadata": {
    "collapsed": false,
    "ExecuteTime": {
     "end_time": "2024-04-15T16:09:13.607598Z",
     "start_time": "2024-04-15T16:09:13.555760Z"
    }
   },
   "id": "c751c2e297f4e59c",
   "outputs": [],
   "execution_count": 18
  },
  {
   "cell_type": "markdown",
   "source": [
    "# Remove redundant columns"
   ],
   "metadata": {
    "collapsed": false
   },
   "id": "aa8e45d76e9dc5d1"
  },
  {
   "cell_type": "code",
   "source": [
    "gpd_brightkite_checkins.drop(columns=[\"latitude\", \"longitude\"], axis=1, inplace=True)"
   ],
   "metadata": {
    "collapsed": false,
    "ExecuteTime": {
     "end_time": "2024-04-15T16:09:13.614127Z",
     "start_time": "2024-04-15T16:09:13.607598Z"
    }
   },
   "id": "ee40efb93acc76a1",
   "outputs": [],
   "execution_count": 19
  },
  {
   "cell_type": "markdown",
   "source": [
    "# Convert LineString to List of Points (HF format)"
   ],
   "metadata": {
    "collapsed": false
   },
   "id": "4832a6404cbdeefd"
  },
  {
   "cell_type": "code",
   "source": [
    "gpd_brightkite_checkins[\"geometry\"] = gpd_brightkite_checkins[\"geometry\"].apply(\n",
    "    lambda geom: list(geom.coords)\n",
    ")"
   ],
   "metadata": {
    "collapsed": false,
    "ExecuteTime": {
     "end_time": "2024-04-15T16:09:14.625511Z",
     "start_time": "2024-04-15T16:09:13.614127Z"
    }
   },
   "id": "7e602e1b9d41bbfd",
   "outputs": [
    {
     "name": "stderr",
     "output_type": "stream",
     "text": [
      "C:\\Users\\Jakub\\AppData\\Local\\Temp\\ipykernel_48620\\2042834204.py:1: UserWarning: Geometry column does not contain geometry.\n",
      "  gpd_brightkite_checkins[\"geometry\"] = gpd_brightkite_checkins[\"geometry\"].apply(\n"
     ]
    }
   ],
   "execution_count": 20
  },
  {
   "cell_type": "markdown",
   "source": [
    "# Save to Parquet"
   ],
   "metadata": {
    "collapsed": false
   },
   "id": "8d828966eaf8a8fc"
  },
  {
   "cell_type": "code",
   "source": [
    "gpd_brightkite_checkins.to_parquet(\"data/brightkite.parquet\")"
   ],
   "metadata": {
    "collapsed": false,
    "ExecuteTime": {
     "end_time": "2024-04-15T16:09:16.731763Z",
     "start_time": "2024-04-15T16:09:14.625511Z"
    }
   },
   "id": "d3e4d6c937c620f7",
   "outputs": [],
   "execution_count": 21
  }
 ],
 "metadata": {
  "kernelspec": {
   "display_name": "Python 3",
   "language": "python",
   "name": "python3"
  },
  "language_info": {
   "codemirror_mode": {
    "name": "ipython",
    "version": 2
   },
   "file_extension": ".py",
   "mimetype": "text/x-python",
   "name": "python",
   "nbconvert_exporter": "python",
   "pygments_lexer": "ipython2",
   "version": "2.7.6"
  }
 },
 "nbformat": 4,
 "nbformat_minor": 5
}

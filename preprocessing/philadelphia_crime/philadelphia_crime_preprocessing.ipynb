{
 "cells": [
  {
   "cell_type": "code",
   "execution_count": 22,
   "id": "initial_id",
   "metadata": {
    "collapsed": true,
    "ExecuteTime": {
     "end_time": "2024-03-19T13:31:46.264553Z",
     "start_time": "2024-03-19T13:31:46.089452Z"
    }
   },
   "outputs": [],
   "source": [
    "import os\n",
    "import pandas as pd\n",
    "from tqdm.notebook import tqdm"
   ]
  },
  {
   "cell_type": "code",
   "outputs": [],
   "source": [
    "data_dir = os.path.join(os.getcwd(), \"data\")"
   ],
   "metadata": {
    "collapsed": false,
    "ExecuteTime": {
     "end_time": "2024-03-19T13:19:30.808425Z",
     "start_time": "2024-03-19T13:19:30.794893Z"
    }
   },
   "id": "589347143f340909",
   "execution_count": 2
  },
  {
   "cell_type": "code",
   "outputs": [],
   "source": [
    "crime_2023 = pd.read_csv(os.path.join(data_dir, \"incidents_part1_part2_2023.csv\"))"
   ],
   "metadata": {
    "collapsed": false,
    "ExecuteTime": {
     "end_time": "2024-03-19T13:19:32.552406Z",
     "start_time": "2024-03-19T13:19:30.810428Z"
    }
   },
   "id": "8726ff72f5d875da",
   "execution_count": 3
  },
  {
   "cell_type": "code",
   "outputs": [
    {
     "data": {
      "text/plain": "                                            the_geom  cartodb_id  \\\n0  0101000020E6100000A51C8299A5C752C006342AD3DCFF...           2   \n1  0101000020E6100000F9245E3B64CC52C0B7195D940FF6...           4   \n2  0101000020E6100000118A52E7F6C052C0CFF41263190C...           7   \n3  0101000020E6100000E1F9FB7B5FC552C0159C0B6D4A02...         123   \n4  0101000020E6100000D1CCD5875CCA52C014B723FFC005...         126   \n\n                                the_geom_webmercator  objectid  dc_dist psa  \\\n0  0101000020110F0000F80DE2A145E65FC1E5EC7592BE8F...       114       25   3   \n1  0101000020110F00000426B7CE54EE5FC1C5E06D37E284...       116        1   1   \n2  0101000020110F00006728CED7EBDA5FC169DB64F8519D...       119        8   2   \n3  0101000020110F00009D28D4D968E25FC13CD5C3D06F92...        96       15   1   \n4  0101000020110F00002F28E30AE2EA5FC10090A3314796...        99       14   1   \n\n       dispatch_date_time dispatch_date dispatch_time  hour        dc_key  \\\n0  2023-03-11 17:12:00+00    2023-03-11      12:12:00  12.0  2.023250e+11   \n1  2023-03-11 18:31:00+00    2023-03-11      13:31:00  13.0  2.023010e+11   \n2  2023-03-11 22:13:00+00    2023-03-11      17:13:00  17.0  2.023080e+11   \n3  2023-03-11 12:42:00+00    2023-03-11      07:42:00   7.0  2.023150e+11   \n4  2023-03-12 00:54:00+00    2023-03-11      19:54:00  19.0  2.023140e+11   \n\n              location_block  ucr_general   text_general_code    point_x  \\\n0    3300 BLOCK HARTVILLE ST          300  Robbery No Firearm -75.119482   \n1       2400 BLOCK S 28TH ST          600  Theft from Vehicle -75.193618   \n2  9800 BLOCK Roosevelt Blvd          600              Thefts -75.015070   \n3      4700 BLOCK GRISCOM ST          600              Thefts -75.083953   \n4        5500 BLOCK BLOYD ST          300  Robbery No Firearm -75.161898   \n\n     point_y        lat        lng  \n0  39.998927  39.998927 -75.119482  \n1  39.922350  39.922350 -75.193618  \n2  40.094525  40.094525 -75.015070  \n3  40.017896  40.017896 -75.083953  \n4  40.044952  40.044952 -75.161898  ",
      "text/html": "<div>\n<style scoped>\n    .dataframe tbody tr th:only-of-type {\n        vertical-align: middle;\n    }\n\n    .dataframe tbody tr th {\n        vertical-align: top;\n    }\n\n    .dataframe thead th {\n        text-align: right;\n    }\n</style>\n<table border=\"1\" class=\"dataframe\">\n  <thead>\n    <tr style=\"text-align: right;\">\n      <th></th>\n      <th>the_geom</th>\n      <th>cartodb_id</th>\n      <th>the_geom_webmercator</th>\n      <th>objectid</th>\n      <th>dc_dist</th>\n      <th>psa</th>\n      <th>dispatch_date_time</th>\n      <th>dispatch_date</th>\n      <th>dispatch_time</th>\n      <th>hour</th>\n      <th>dc_key</th>\n      <th>location_block</th>\n      <th>ucr_general</th>\n      <th>text_general_code</th>\n      <th>point_x</th>\n      <th>point_y</th>\n      <th>lat</th>\n      <th>lng</th>\n    </tr>\n  </thead>\n  <tbody>\n    <tr>\n      <th>0</th>\n      <td>0101000020E6100000A51C8299A5C752C006342AD3DCFF...</td>\n      <td>2</td>\n      <td>0101000020110F0000F80DE2A145E65FC1E5EC7592BE8F...</td>\n      <td>114</td>\n      <td>25</td>\n      <td>3</td>\n      <td>2023-03-11 17:12:00+00</td>\n      <td>2023-03-11</td>\n      <td>12:12:00</td>\n      <td>12.0</td>\n      <td>2.023250e+11</td>\n      <td>3300 BLOCK HARTVILLE ST</td>\n      <td>300</td>\n      <td>Robbery No Firearm</td>\n      <td>-75.119482</td>\n      <td>39.998927</td>\n      <td>39.998927</td>\n      <td>-75.119482</td>\n    </tr>\n    <tr>\n      <th>1</th>\n      <td>0101000020E6100000F9245E3B64CC52C0B7195D940FF6...</td>\n      <td>4</td>\n      <td>0101000020110F00000426B7CE54EE5FC1C5E06D37E284...</td>\n      <td>116</td>\n      <td>1</td>\n      <td>1</td>\n      <td>2023-03-11 18:31:00+00</td>\n      <td>2023-03-11</td>\n      <td>13:31:00</td>\n      <td>13.0</td>\n      <td>2.023010e+11</td>\n      <td>2400 BLOCK S 28TH ST</td>\n      <td>600</td>\n      <td>Theft from Vehicle</td>\n      <td>-75.193618</td>\n      <td>39.922350</td>\n      <td>39.922350</td>\n      <td>-75.193618</td>\n    </tr>\n    <tr>\n      <th>2</th>\n      <td>0101000020E6100000118A52E7F6C052C0CFF41263190C...</td>\n      <td>7</td>\n      <td>0101000020110F00006728CED7EBDA5FC169DB64F8519D...</td>\n      <td>119</td>\n      <td>8</td>\n      <td>2</td>\n      <td>2023-03-11 22:13:00+00</td>\n      <td>2023-03-11</td>\n      <td>17:13:00</td>\n      <td>17.0</td>\n      <td>2.023080e+11</td>\n      <td>9800 BLOCK Roosevelt Blvd</td>\n      <td>600</td>\n      <td>Thefts</td>\n      <td>-75.015070</td>\n      <td>40.094525</td>\n      <td>40.094525</td>\n      <td>-75.015070</td>\n    </tr>\n    <tr>\n      <th>3</th>\n      <td>0101000020E6100000E1F9FB7B5FC552C0159C0B6D4A02...</td>\n      <td>123</td>\n      <td>0101000020110F00009D28D4D968E25FC13CD5C3D06F92...</td>\n      <td>96</td>\n      <td>15</td>\n      <td>1</td>\n      <td>2023-03-11 12:42:00+00</td>\n      <td>2023-03-11</td>\n      <td>07:42:00</td>\n      <td>7.0</td>\n      <td>2.023150e+11</td>\n      <td>4700 BLOCK GRISCOM ST</td>\n      <td>600</td>\n      <td>Thefts</td>\n      <td>-75.083953</td>\n      <td>40.017896</td>\n      <td>40.017896</td>\n      <td>-75.083953</td>\n    </tr>\n    <tr>\n      <th>4</th>\n      <td>0101000020E6100000D1CCD5875CCA52C014B723FFC005...</td>\n      <td>126</td>\n      <td>0101000020110F00002F28E30AE2EA5FC10090A3314796...</td>\n      <td>99</td>\n      <td>14</td>\n      <td>1</td>\n      <td>2023-03-12 00:54:00+00</td>\n      <td>2023-03-11</td>\n      <td>19:54:00</td>\n      <td>19.0</td>\n      <td>2.023140e+11</td>\n      <td>5500 BLOCK BLOYD ST</td>\n      <td>300</td>\n      <td>Robbery No Firearm</td>\n      <td>-75.161898</td>\n      <td>40.044952</td>\n      <td>40.044952</td>\n      <td>-75.161898</td>\n    </tr>\n  </tbody>\n</table>\n</div>"
     },
     "execution_count": 4,
     "metadata": {},
     "output_type": "execute_result"
    }
   ],
   "source": [
    "crime_2023.head()"
   ],
   "metadata": {
    "collapsed": false,
    "ExecuteTime": {
     "end_time": "2024-03-19T13:19:32.599014Z",
     "start_time": "2024-03-19T13:19:32.553404Z"
    }
   },
   "id": "82df27e147285454",
   "execution_count": 4
  },
  {
   "cell_type": "code",
   "outputs": [
    {
     "name": "stdout",
     "output_type": "stream",
     "text": [
      "<class 'pandas.core.frame.DataFrame'>\n",
      "RangeIndex: 169017 entries, 0 to 169016\n",
      "Data columns (total 18 columns):\n",
      " #   Column                Non-Null Count   Dtype  \n",
      "---  ------                --------------   -----  \n",
      " 0   the_geom              162005 non-null  object \n",
      " 1   cartodb_id            169017 non-null  int64  \n",
      " 2   the_geom_webmercator  161952 non-null  object \n",
      " 3   objectid              169017 non-null  int64  \n",
      " 4   dc_dist               169017 non-null  int64  \n",
      " 5   psa                   168954 non-null  object \n",
      " 6   dispatch_date_time    169017 non-null  object \n",
      " 7   dispatch_date         169017 non-null  object \n",
      " 8   dispatch_time         169017 non-null  object \n",
      " 9   hour                  68398 non-null   float64\n",
      " 10  dc_key                169017 non-null  float64\n",
      " 11  location_block        168967 non-null  object \n",
      " 12  ucr_general           169017 non-null  int64  \n",
      " 13  text_general_code     169017 non-null  object \n",
      " 14  point_x               161952 non-null  float64\n",
      " 15  point_y               161952 non-null  float64\n",
      " 16  lat                   161952 non-null  float64\n",
      " 17  lng                   161952 non-null  float64\n",
      "dtypes: float64(6), int64(4), object(8)\n",
      "memory usage: 23.2+ MB\n"
     ]
    }
   ],
   "source": [
    "crime_2023.info()"
   ],
   "metadata": {
    "collapsed": false,
    "ExecuteTime": {
     "end_time": "2024-03-19T13:19:32.693546Z",
     "start_time": "2024-03-19T13:19:32.604228Z"
    }
   },
   "id": "28fda76370feb1a2",
   "execution_count": 5
  },
  {
   "cell_type": "code",
   "outputs": [
    {
     "data": {
      "text/plain": "(169017, 18)"
     },
     "execution_count": 6,
     "metadata": {},
     "output_type": "execute_result"
    }
   ],
   "source": [
    "crime_2023.shape"
   ],
   "metadata": {
    "collapsed": false,
    "ExecuteTime": {
     "end_time": "2024-03-19T13:19:32.709084Z",
     "start_time": "2024-03-19T13:19:32.695546Z"
    }
   },
   "id": "fed55d21391202dc",
   "execution_count": 6
  },
  {
   "cell_type": "code",
   "outputs": [],
   "source": [
    "crime_2013 = pd.read_csv(os.path.join(data_dir, \"incidents_part1_part2_2013.csv\"))"
   ],
   "metadata": {
    "collapsed": false,
    "ExecuteTime": {
     "end_time": "2024-03-19T13:19:33.648614Z",
     "start_time": "2024-03-19T13:19:32.711086Z"
    }
   },
   "id": "57915686b936d409",
   "execution_count": 7
  },
  {
   "cell_type": "code",
   "outputs": [
    {
     "name": "stdout",
     "output_type": "stream",
     "text": [
      "<class 'pandas.core.frame.DataFrame'>\n",
      "RangeIndex: 179235 entries, 0 to 179234\n",
      "Data columns (total 15 columns):\n",
      " #   Column              Non-Null Count   Dtype  \n",
      "---  ------              --------------   -----  \n",
      " 0   objectid            179235 non-null  int64  \n",
      " 1   dc_dist             179235 non-null  int64  \n",
      " 2   psa                 179210 non-null  object \n",
      " 3   dispatch_date_time  179235 non-null  object \n",
      " 4   dispatch_date       179235 non-null  object \n",
      " 5   dispatch_time       179235 non-null  object \n",
      " 6   hour                179235 non-null  int64  \n",
      " 7   dc_key              179235 non-null  float64\n",
      " 8   location_block      179234 non-null  object \n",
      " 9   ucr_general         179235 non-null  int64  \n",
      " 10  text_general_code   179235 non-null  object \n",
      " 11  point_x             176690 non-null  float64\n",
      " 12  point_y             176690 non-null  float64\n",
      " 13  lat                 176690 non-null  float64\n",
      " 14  lng                 176690 non-null  float64\n",
      "dtypes: float64(5), int64(4), object(6)\n",
      "memory usage: 20.5+ MB\n"
     ]
    }
   ],
   "source": [
    "crime_2013.info()"
   ],
   "metadata": {
    "collapsed": false,
    "ExecuteTime": {
     "end_time": "2024-03-19T13:30:33.766296Z",
     "start_time": "2024-03-19T13:30:33.657403Z"
    }
   },
   "id": "b3076a88996fcf26",
   "execution_count": 20
  },
  {
   "cell_type": "code",
   "outputs": [
    {
     "data": {
      "text/plain": "   objectid  dc_dist psa      dispatch_date_time dispatch_date dispatch_time  \\\n0      1157       12   3  2013-08-09 15:13:00+00    2013-08-09      11:13:00   \n1      1166        6   3  2013-04-15 17:37:00+00    2013-04-15      13:37:00   \n2      1168       16   2  2013-01-21 17:53:00+00    2013-01-21      12:53:00   \n3      1173       35   3  2013-05-25 21:21:00+00    2013-05-25      17:21:00   \n4      1174       35   1  2013-04-17 16:49:00+00    2013-04-17      12:49:00   \n\n   hour        dc_key            location_block  ucr_general  \\\n0    11  2.013121e+11    6200 BLOCK REEDLAND ST          400   \n1    13  2.013060e+11   S 08TH ST  /  SPRUCE ST          600   \n2    12  2.013160e+11  5100 BLOCK HAVERFORD AVE          500   \n3    17  2.013350e+11     6000 BLOCK N BROAD ST          600   \n4    12  2.013350e+11     6000 BLOCK N BROAD ST          600   \n\n            text_general_code    point_x    point_y        lat        lng  \n0  Aggravated Assault Firearm -75.227016  39.925326  39.925326 -75.227016  \n1                      Thefts -75.154762  39.945739  39.945739 -75.154762  \n2        Burglary Residential -75.222331  39.964343  39.964343 -75.222331  \n3                      Thefts -75.144615  40.044571  40.044571 -75.144615  \n4                      Thefts -75.144615  40.044571  40.044571 -75.144615  ",
      "text/html": "<div>\n<style scoped>\n    .dataframe tbody tr th:only-of-type {\n        vertical-align: middle;\n    }\n\n    .dataframe tbody tr th {\n        vertical-align: top;\n    }\n\n    .dataframe thead th {\n        text-align: right;\n    }\n</style>\n<table border=\"1\" class=\"dataframe\">\n  <thead>\n    <tr style=\"text-align: right;\">\n      <th></th>\n      <th>objectid</th>\n      <th>dc_dist</th>\n      <th>psa</th>\n      <th>dispatch_date_time</th>\n      <th>dispatch_date</th>\n      <th>dispatch_time</th>\n      <th>hour</th>\n      <th>dc_key</th>\n      <th>location_block</th>\n      <th>ucr_general</th>\n      <th>text_general_code</th>\n      <th>point_x</th>\n      <th>point_y</th>\n      <th>lat</th>\n      <th>lng</th>\n    </tr>\n  </thead>\n  <tbody>\n    <tr>\n      <th>0</th>\n      <td>1157</td>\n      <td>12</td>\n      <td>3</td>\n      <td>2013-08-09 15:13:00+00</td>\n      <td>2013-08-09</td>\n      <td>11:13:00</td>\n      <td>11</td>\n      <td>2.013121e+11</td>\n      <td>6200 BLOCK REEDLAND ST</td>\n      <td>400</td>\n      <td>Aggravated Assault Firearm</td>\n      <td>-75.227016</td>\n      <td>39.925326</td>\n      <td>39.925326</td>\n      <td>-75.227016</td>\n    </tr>\n    <tr>\n      <th>1</th>\n      <td>1166</td>\n      <td>6</td>\n      <td>3</td>\n      <td>2013-04-15 17:37:00+00</td>\n      <td>2013-04-15</td>\n      <td>13:37:00</td>\n      <td>13</td>\n      <td>2.013060e+11</td>\n      <td>S 08TH ST  /  SPRUCE ST</td>\n      <td>600</td>\n      <td>Thefts</td>\n      <td>-75.154762</td>\n      <td>39.945739</td>\n      <td>39.945739</td>\n      <td>-75.154762</td>\n    </tr>\n    <tr>\n      <th>2</th>\n      <td>1168</td>\n      <td>16</td>\n      <td>2</td>\n      <td>2013-01-21 17:53:00+00</td>\n      <td>2013-01-21</td>\n      <td>12:53:00</td>\n      <td>12</td>\n      <td>2.013160e+11</td>\n      <td>5100 BLOCK HAVERFORD AVE</td>\n      <td>500</td>\n      <td>Burglary Residential</td>\n      <td>-75.222331</td>\n      <td>39.964343</td>\n      <td>39.964343</td>\n      <td>-75.222331</td>\n    </tr>\n    <tr>\n      <th>3</th>\n      <td>1173</td>\n      <td>35</td>\n      <td>3</td>\n      <td>2013-05-25 21:21:00+00</td>\n      <td>2013-05-25</td>\n      <td>17:21:00</td>\n      <td>17</td>\n      <td>2.013350e+11</td>\n      <td>6000 BLOCK N BROAD ST</td>\n      <td>600</td>\n      <td>Thefts</td>\n      <td>-75.144615</td>\n      <td>40.044571</td>\n      <td>40.044571</td>\n      <td>-75.144615</td>\n    </tr>\n    <tr>\n      <th>4</th>\n      <td>1174</td>\n      <td>35</td>\n      <td>1</td>\n      <td>2013-04-17 16:49:00+00</td>\n      <td>2013-04-17</td>\n      <td>12:49:00</td>\n      <td>12</td>\n      <td>2.013350e+11</td>\n      <td>6000 BLOCK N BROAD ST</td>\n      <td>600</td>\n      <td>Thefts</td>\n      <td>-75.144615</td>\n      <td>40.044571</td>\n      <td>40.044571</td>\n      <td>-75.144615</td>\n    </tr>\n  </tbody>\n</table>\n</div>"
     },
     "execution_count": 8,
     "metadata": {},
     "output_type": "execute_result"
    }
   ],
   "source": [
    "crime_2013.head()"
   ],
   "metadata": {
    "collapsed": false,
    "ExecuteTime": {
     "end_time": "2024-03-19T13:19:33.678198Z",
     "start_time": "2024-03-19T13:19:33.654157Z"
    }
   },
   "id": "69453fb3baf08f07",
   "execution_count": 8
  },
  {
   "cell_type": "code",
   "outputs": [],
   "source": [
    "columns_2013 = set(crime_2013.columns.values.tolist())"
   ],
   "metadata": {
    "collapsed": false,
    "ExecuteTime": {
     "end_time": "2024-03-19T13:19:33.709796Z",
     "start_time": "2024-03-19T13:19:33.696259Z"
    }
   },
   "id": "bd00abaf033ffdcf",
   "execution_count": 10
  },
  {
   "cell_type": "code",
   "outputs": [],
   "source": [
    "columns_2023 = set(crime_2023.columns.values.tolist())"
   ],
   "metadata": {
    "collapsed": false,
    "ExecuteTime": {
     "end_time": "2024-03-19T13:19:33.725641Z",
     "start_time": "2024-03-19T13:19:33.712310Z"
    }
   },
   "id": "8355b9a449b63218",
   "execution_count": 11
  },
  {
   "cell_type": "code",
   "outputs": [
    {
     "data": {
      "text/plain": "{'cartodb_id', 'the_geom', 'the_geom_webmercator'}"
     },
     "execution_count": 12,
     "metadata": {},
     "output_type": "execute_result"
    }
   ],
   "source": [
    "columns_2023 - columns_2013"
   ],
   "metadata": {
    "collapsed": false,
    "ExecuteTime": {
     "end_time": "2024-03-19T13:19:33.741174Z",
     "start_time": "2024-03-19T13:19:33.727639Z"
    }
   },
   "id": "df93f452f7cd4091",
   "execution_count": 12
  },
  {
   "cell_type": "code",
   "outputs": [
    {
     "name": "stdout",
     "output_type": "stream",
     "text": [
      "Year: 2013, {'cartodb_id', 'the_geom_webmercator', 'the_geom'}\n",
      "Year: 2014, {'cartodb_id', 'the_geom_webmercator', 'the_geom'}\n",
      "Year: 2015, {'cartodb_id', 'the_geom_webmercator', 'the_geom'}\n",
      "Year: 2016, {'cartodb_id', 'the_geom_webmercator', 'the_geom'}\n",
      "Year: 2017, {'cartodb_id', 'the_geom_webmercator', 'the_geom'}\n",
      "Year: 2018, {'cartodb_id', 'the_geom_webmercator', 'the_geom'}\n",
      "Year: 2019, {'cartodb_id', 'the_geom_webmercator', 'the_geom'}\n",
      "Year: 2020, set()\n",
      "Year: 2021, set()\n",
      "Year: 2022, set()\n",
      "Year: 2023, set()\n"
     ]
    }
   ],
   "source": [
    "years_previous_nomenclature = []\n",
    "years_current_nomenclature = []\n",
    "\n",
    "for root, dirs, files in os.walk(data_dir):\n",
    "    for file in files:\n",
    "        if file.endswith(\".csv\"):\n",
    "            file_path = os.path.join(root, file)\n",
    "            df = pd.read_csv(file_path)\n",
    "            columns_diff = set(crime_2023.columns.values.tolist()) - set(df.columns.values.tolist())\n",
    "            print(f\"Year: {file[-8:-4]}, {columns_diff}\")\n",
    "            if len(columns_diff) != 0: \n",
    "                years_previous_nomenclature.append(int(file[-8:-4]))\n",
    "            else:\n",
    "                years_current_nomenclature.append(int(file[-8:-4]))"
   ],
   "metadata": {
    "collapsed": false,
    "ExecuteTime": {
     "end_time": "2024-03-19T13:27:24.663256Z",
     "start_time": "2024-03-19T13:27:18.064557Z"
    }
   },
   "id": "5cde79e677425799",
   "execution_count": 17
  },
  {
   "cell_type": "code",
   "outputs": [
    {
     "data": {
      "text/plain": "[2020, 2021, 2022, 2023]"
     },
     "execution_count": 18,
     "metadata": {},
     "output_type": "execute_result"
    }
   ],
   "source": [
    "years_current_nomenclature"
   ],
   "metadata": {
    "collapsed": false,
    "ExecuteTime": {
     "end_time": "2024-03-19T13:27:26.236322Z",
     "start_time": "2024-03-19T13:27:26.225751Z"
    }
   },
   "id": "c858fe20e4002c1c",
   "execution_count": 18
  },
  {
   "cell_type": "code",
   "outputs": [
    {
     "data": {
      "text/plain": "[2013, 2014, 2015, 2016, 2017, 2018, 2019]"
     },
     "execution_count": 19,
     "metadata": {},
     "output_type": "execute_result"
    }
   ],
   "source": [
    "years_previous_nomenclature"
   ],
   "metadata": {
    "collapsed": false,
    "ExecuteTime": {
     "end_time": "2024-03-19T13:27:28.952797Z",
     "start_time": "2024-03-19T13:27:28.939431Z"
    }
   },
   "id": "ddd9f1a585bc7f97",
   "execution_count": 19
  },
  {
   "cell_type": "code",
   "outputs": [
    {
     "data": {
      "text/plain": "Files processed:   0%|          | 0/22 [00:00<?, ?it/s]",
      "application/vnd.jupyter.widget-view+json": {
       "version_major": 2,
       "version_minor": 0,
       "model_id": "cac4218f363c4256baaaebe8ea452af5"
      }
     },
     "metadata": {},
     "output_type": "display_data"
    }
   ],
   "source": [
    "for root, dirs, files in os.walk(data_dir):\n",
    "    for file in tqdm(files, colour=\"green\", desc=\"Files processed\"):\n",
    "        if file.endswith(\".csv\"):\n",
    "            file_path = os.path.join(root, file)\n",
    "            parquet_path = file_path.replace(\".csv\", \".parquet\")\n",
    "            df = pd.read_csv(file_path)\n",
    "            df.to_parquet(parquet_path)"
   ],
   "metadata": {
    "collapsed": false,
    "ExecuteTime": {
     "end_time": "2024-03-19T13:35:06.552038Z",
     "start_time": "2024-03-19T13:34:55.676787Z"
    }
   },
   "id": "6b8faa50567e64d1",
   "execution_count": 26
  },
  {
   "cell_type": "code",
   "outputs": [],
   "source": [],
   "metadata": {
    "collapsed": false
   },
   "id": "c2a41c6a7558ecf0"
  }
 ],
 "metadata": {
  "kernelspec": {
   "display_name": "Python 3",
   "language": "python",
   "name": "python3"
  },
  "language_info": {
   "codemirror_mode": {
    "name": "ipython",
    "version": 2
   },
   "file_extension": ".py",
   "mimetype": "text/x-python",
   "name": "python",
   "nbconvert_exporter": "python",
   "pygments_lexer": "ipython2",
   "version": "2.7.6"
  }
 },
 "nbformat": 4,
 "nbformat_minor": 5
}

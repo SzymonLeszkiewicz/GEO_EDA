{
 "cells": [
  {
   "metadata": {},
   "cell_type": "markdown",
   "source": "# Imports",
   "id": "737570fc6adce6d5"
  },
  {
   "cell_type": "code",
   "id": "initial_id",
   "metadata": {
    "collapsed": true,
    "ExecuteTime": {
     "end_time": "2024-05-26T22:13:42.460335Z",
     "start_time": "2024-05-26T22:13:41.372725Z"
    }
   },
   "source": [
    "import ast\n",
    "import gc\n",
    "import os.path\n",
    "import zipfile\n",
    "from datetime import datetime\n",
    "\n",
    "import geopandas as gpd\n",
    "import movingpandas as mpd\n",
    "import pandas as pd\n",
    "from shapely.geometry import LineString\n",
    "from shapely.geometry import Point\n",
    "from sklearn.model_selection import train_test_split\n",
    "from srai.regionalizers import geocode_to_region_gdf\n",
    "from tqdm.autonotebook import tqdm\n",
    "from tqdm.contrib.concurrent import process_map"
   ],
   "outputs": [
    {
     "name": "stderr",
     "output_type": "stream",
     "text": [
      "C:\\Users\\Jakub\\AppData\\Local\\Temp\\ipykernel_54088\\4292766932.py:14: TqdmExperimentalWarning: Using `tqdm.autonotebook.tqdm` in notebook mode. Use `tqdm.tqdm` instead to force console mode (e.g. in jupyter console)\n",
      "  from tqdm.autonotebook import tqdm\n"
     ]
    }
   ],
   "execution_count": 1
  },
  {
   "metadata": {
    "ExecuteTime": {
     "end_time": "2024-05-26T22:13:42.464039Z",
     "start_time": "2024-05-26T22:13:42.461340Z"
    }
   },
   "cell_type": "code",
   "source": "gpd.options.io_engine = \"pyogrio\"",
   "id": "e369b143108da1ac",
   "outputs": [],
   "execution_count": 2
  },
  {
   "metadata": {},
   "cell_type": "markdown",
   "source": "# Parameters",
   "id": "ce6d4765c1f25111"
  },
  {
   "metadata": {
    "ExecuteTime": {
     "end_time": "2024-05-26T22:13:42.468424Z",
     "start_time": "2024-05-26T22:13:42.464039Z"
    }
   },
   "cell_type": "code",
   "source": [
    "# trajectory length\n",
    "lower_limit = 20  # 5 minutes\n",
    "upper_limit = 240  # 1 hour\n",
    "\n",
    "# whole dataset (~1.5mln) is too big, have to use subset\n",
    "subset_size = 500_000\n",
    "\n",
    "# multiprocessing\n",
    "chunk_size = 1000\n",
    "num_workers = 20\n",
    "\n",
    "# outlier detection\n",
    "outlier_max_speed = 120\n",
    "\n",
    "# trajectory generalization\n",
    "generalization_tolerance = 0.0001"
   ],
   "id": "6855ad285b30916e",
   "outputs": [],
   "execution_count": 3
  },
  {
   "metadata": {},
   "cell_type": "markdown",
   "source": "# Data Loading",
   "id": "c39e7c91826e0a4b"
  },
  {
   "cell_type": "code",
   "source": [
    "# https://www.kaggle.com/competitions/pkdd-15-taxi-trip-time-prediction-ii/data?select=train.csv.zip\n",
    "zipfile_porto_taxi = zipfile.ZipFile(file=\"data/train.csv.zip\")"
   ],
   "metadata": {
    "collapsed": false,
    "ExecuteTime": {
     "end_time": "2024-05-26T22:13:42.472700Z",
     "start_time": "2024-05-26T22:13:42.469428Z"
    }
   },
   "id": "51f07e2957e862d1",
   "outputs": [],
   "execution_count": 4
  },
  {
   "cell_type": "code",
   "source": "df_porto_taxi = pd.read_csv(zipfile_porto_taxi.open(\"train.csv\"))",
   "metadata": {
    "collapsed": false,
    "ExecuteTime": {
     "end_time": "2024-05-26T22:13:56.565002Z",
     "start_time": "2024-05-26T22:13:42.472700Z"
    }
   },
   "id": "9756eb32645284c6",
   "outputs": [],
   "execution_count": 5
  },
  {
   "cell_type": "code",
   "source": [
    "df_porto_taxi.rename(\n",
    "    columns={\n",
    "        \"TRIP_ID\": \"trip_id\",\n",
    "        \"CALL_TYPE\": \"call_type\",\n",
    "        \"ORIGIN_CALL\": \"origin_call\",\n",
    "        \"ORIGIN_STAND\": \"origin_stand\",\n",
    "        \"TAXI_ID\": \"taxi_id\",\n",
    "        \"TIMESTAMP\": \"timestamp\",\n",
    "        \"DAY_TYPE\": \"day_type\",\n",
    "        \"MISSING_DATA\": \"missing_data\",\n",
    "        \"POLYLINE\": \"geometry\",\n",
    "    },\n",
    "    inplace=True,\n",
    ")"
   ],
   "metadata": {
    "collapsed": false,
    "ExecuteTime": {
     "end_time": "2024-05-26T22:13:56.568048Z",
     "start_time": "2024-05-26T22:13:56.565002Z"
    }
   },
   "id": "fb00b618a3a21f93",
   "outputs": [],
   "execution_count": 6
  },
  {
   "cell_type": "code",
   "source": "df_porto_taxi.head()",
   "metadata": {
    "collapsed": false,
    "ExecuteTime": {
     "end_time": "2024-05-26T22:13:56.577553Z",
     "start_time": "2024-05-26T22:13:56.568048Z"
    }
   },
   "id": "b10b2077e693ef14",
   "outputs": [
    {
     "data": {
      "text/plain": [
       "               trip_id call_type  origin_call  origin_stand   taxi_id  \\\n",
       "0  1372636858620000589         C          NaN           NaN  20000589   \n",
       "1  1372637303620000596         B          NaN           7.0  20000596   \n",
       "2  1372636951620000320         C          NaN           NaN  20000320   \n",
       "3  1372636854620000520         C          NaN           NaN  20000520   \n",
       "4  1372637091620000337         C          NaN           NaN  20000337   \n",
       "\n",
       "    timestamp day_type  missing_data  \\\n",
       "0  1372636858        A         False   \n",
       "1  1372637303        A         False   \n",
       "2  1372636951        A         False   \n",
       "3  1372636854        A         False   \n",
       "4  1372637091        A         False   \n",
       "\n",
       "                                            geometry  \n",
       "0  [[-8.618643,41.141412],[-8.618499,41.141376],[...  \n",
       "1  [[-8.639847,41.159826],[-8.640351,41.159871],[...  \n",
       "2  [[-8.612964,41.140359],[-8.613378,41.14035],[-...  \n",
       "3  [[-8.574678,41.151951],[-8.574705,41.151942],[...  \n",
       "4  [[-8.645994,41.18049],[-8.645949,41.180517],[-...  "
      ],
      "text/html": [
       "<div>\n",
       "<style scoped>\n",
       "    .dataframe tbody tr th:only-of-type {\n",
       "        vertical-align: middle;\n",
       "    }\n",
       "\n",
       "    .dataframe tbody tr th {\n",
       "        vertical-align: top;\n",
       "    }\n",
       "\n",
       "    .dataframe thead th {\n",
       "        text-align: right;\n",
       "    }\n",
       "</style>\n",
       "<table border=\"1\" class=\"dataframe\">\n",
       "  <thead>\n",
       "    <tr style=\"text-align: right;\">\n",
       "      <th></th>\n",
       "      <th>trip_id</th>\n",
       "      <th>call_type</th>\n",
       "      <th>origin_call</th>\n",
       "      <th>origin_stand</th>\n",
       "      <th>taxi_id</th>\n",
       "      <th>timestamp</th>\n",
       "      <th>day_type</th>\n",
       "      <th>missing_data</th>\n",
       "      <th>geometry</th>\n",
       "    </tr>\n",
       "  </thead>\n",
       "  <tbody>\n",
       "    <tr>\n",
       "      <th>0</th>\n",
       "      <td>1372636858620000589</td>\n",
       "      <td>C</td>\n",
       "      <td>NaN</td>\n",
       "      <td>NaN</td>\n",
       "      <td>20000589</td>\n",
       "      <td>1372636858</td>\n",
       "      <td>A</td>\n",
       "      <td>False</td>\n",
       "      <td>[[-8.618643,41.141412],[-8.618499,41.141376],[...</td>\n",
       "    </tr>\n",
       "    <tr>\n",
       "      <th>1</th>\n",
       "      <td>1372637303620000596</td>\n",
       "      <td>B</td>\n",
       "      <td>NaN</td>\n",
       "      <td>7.0</td>\n",
       "      <td>20000596</td>\n",
       "      <td>1372637303</td>\n",
       "      <td>A</td>\n",
       "      <td>False</td>\n",
       "      <td>[[-8.639847,41.159826],[-8.640351,41.159871],[...</td>\n",
       "    </tr>\n",
       "    <tr>\n",
       "      <th>2</th>\n",
       "      <td>1372636951620000320</td>\n",
       "      <td>C</td>\n",
       "      <td>NaN</td>\n",
       "      <td>NaN</td>\n",
       "      <td>20000320</td>\n",
       "      <td>1372636951</td>\n",
       "      <td>A</td>\n",
       "      <td>False</td>\n",
       "      <td>[[-8.612964,41.140359],[-8.613378,41.14035],[-...</td>\n",
       "    </tr>\n",
       "    <tr>\n",
       "      <th>3</th>\n",
       "      <td>1372636854620000520</td>\n",
       "      <td>C</td>\n",
       "      <td>NaN</td>\n",
       "      <td>NaN</td>\n",
       "      <td>20000520</td>\n",
       "      <td>1372636854</td>\n",
       "      <td>A</td>\n",
       "      <td>False</td>\n",
       "      <td>[[-8.574678,41.151951],[-8.574705,41.151942],[...</td>\n",
       "    </tr>\n",
       "    <tr>\n",
       "      <th>4</th>\n",
       "      <td>1372637091620000337</td>\n",
       "      <td>C</td>\n",
       "      <td>NaN</td>\n",
       "      <td>NaN</td>\n",
       "      <td>20000337</td>\n",
       "      <td>1372637091</td>\n",
       "      <td>A</td>\n",
       "      <td>False</td>\n",
       "      <td>[[-8.645994,41.18049],[-8.645949,41.180517],[-...</td>\n",
       "    </tr>\n",
       "  </tbody>\n",
       "</table>\n",
       "</div>"
      ]
     },
     "execution_count": 7,
     "metadata": {},
     "output_type": "execute_result"
    }
   ],
   "execution_count": 7
  },
  {
   "metadata": {},
   "cell_type": "markdown",
   "source": "# Remove missing data",
   "id": "39e9ecbfabf58f68"
  },
  {
   "cell_type": "code",
   "source": "df_porto_taxi = df_porto_taxi[df_porto_taxi[\"missing_data\"] == False]",
   "metadata": {
    "collapsed": false,
    "ExecuteTime": {
     "end_time": "2024-05-26T22:13:56.637493Z",
     "start_time": "2024-05-26T22:13:56.577553Z"
    }
   },
   "id": "e130cab37678626e",
   "outputs": [],
   "execution_count": 8
  },
  {
   "cell_type": "code",
   "source": "df_porto_taxi.drop(\"missing_data\", axis=1, inplace=True)",
   "metadata": {
    "collapsed": false,
    "ExecuteTime": {
     "end_time": "2024-05-26T22:13:56.696442Z",
     "start_time": "2024-05-26T22:13:56.638497Z"
    }
   },
   "id": "7050b9d82174819f",
   "outputs": [],
   "execution_count": 9
  },
  {
   "metadata": {},
   "cell_type": "markdown",
   "source": "# Drop duplicates",
   "id": "da5266691103d802"
  },
  {
   "metadata": {
    "ExecuteTime": {
     "end_time": "2024-05-26T22:13:56.870163Z",
     "start_time": "2024-05-26T22:13:56.697445Z"
    }
   },
   "cell_type": "code",
   "source": "df_porto_taxi.drop_duplicates(subset=\"trip_id\", keep=False, inplace=True)",
   "id": "6e4678560d42c0b5",
   "outputs": [],
   "execution_count": 10
  },
  {
   "metadata": {},
   "cell_type": "markdown",
   "source": "# Convert string to list",
   "id": "29c71c00d0aff0fd"
  },
  {
   "metadata": {
    "ExecuteTime": {
     "end_time": "2024-05-26T22:14:55.065780Z",
     "start_time": "2024-05-26T22:13:56.870163Z"
    }
   },
   "cell_type": "code",
   "source": [
    "df_porto_taxi[\"geometry\"] = process_map(\n",
    "    ast.literal_eval,\n",
    "    df_porto_taxi[\"geometry\"],\n",
    "    chunksize=chunk_size,\n",
    "    max_workers=num_workers,\n",
    ")"
   ],
   "id": "5de78faff459e61c",
   "outputs": [
    {
     "data": {
      "text/plain": [
       "  0%|          | 0/1710499 [00:00<?, ?it/s]"
      ],
      "application/vnd.jupyter.widget-view+json": {
       "version_major": 2,
       "version_minor": 0,
       "model_id": "4f6d2b3023e94d89918c11e3e9e2fcc4"
      }
     },
     "metadata": {},
     "output_type": "display_data"
    }
   ],
   "execution_count": 11
  },
  {
   "metadata": {},
   "cell_type": "markdown",
   "source": "# Calculate trajectory length",
   "id": "9d9878522bf78985"
  },
  {
   "metadata": {
    "ExecuteTime": {
     "end_time": "2024-05-26T22:15:04.514268Z",
     "start_time": "2024-05-26T22:14:55.066783Z"
    }
   },
   "cell_type": "code",
   "source": [
    "df_porto_taxi[\"length\"] = process_map(\n",
    "    len, df_porto_taxi[\"geometry\"], chunksize=chunk_size, max_workers=num_workers\n",
    ")"
   ],
   "id": "38d141649afa7d1a",
   "outputs": [
    {
     "data": {
      "text/plain": [
       "  0%|          | 0/1710499 [00:00<?, ?it/s]"
      ],
      "application/vnd.jupyter.widget-view+json": {
       "version_major": 2,
       "version_minor": 0,
       "model_id": "97784e159295463c972c50de928e4462"
      }
     },
     "metadata": {},
     "output_type": "display_data"
    }
   ],
   "execution_count": 12
  },
  {
   "metadata": {
    "ExecuteTime": {
     "end_time": "2024-05-26T22:15:07.175802Z",
     "start_time": "2024-05-26T22:15:04.515272Z"
    }
   },
   "cell_type": "code",
   "source": [
    "\"\"\"\n",
    "The total travel time of the trip is defined as the (number of points-1) x 15 seconds\n",
    "\"\"\"\n",
    "\n",
    "df_porto_taxi = df_porto_taxi[\n",
    "    (df_porto_taxi[\"length\"] > lower_limit) & (df_porto_taxi[\"length\"] <= upper_limit)\n",
    "]"
   ],
   "id": "be0fa38b9b1c80c1",
   "outputs": [],
   "execution_count": 13
  },
  {
   "metadata": {},
   "cell_type": "markdown",
   "source": [
    "# Create subset\n",
    "Due to the size of original dataset, subset needs to be created to avoid MemoryError"
   ],
   "id": "9acf5213cbfa10bf"
  },
  {
   "metadata": {
    "ExecuteTime": {
     "end_time": "2024-05-26T22:15:07.775290Z",
     "start_time": "2024-05-26T22:15:07.176805Z"
    }
   },
   "cell_type": "code",
   "source": [
    "df_leftovers, df_porto_taxi_subset = train_test_split(\n",
    "    df_porto_taxi, test_size=subset_size, stratify=df_porto_taxi[\"length\"]\n",
    ")"
   ],
   "id": "dc4ebfd5db36621",
   "outputs": [],
   "execution_count": 14
  },
  {
   "metadata": {
    "ExecuteTime": {
     "end_time": "2024-05-26T22:15:07.826639Z",
     "start_time": "2024-05-26T22:15:07.776293Z"
    }
   },
   "cell_type": "code",
   "source": "df_porto_taxi_subset.drop(\"length\", axis=1, inplace=True)",
   "id": "eeeb782724da43a2",
   "outputs": [],
   "execution_count": 15
  },
  {
   "metadata": {},
   "cell_type": "markdown",
   "source": [
    "# Activate garbage collection\n",
    "Remove unused variables"
   ],
   "id": "1e642cb5f0a6c6ec"
  },
  {
   "metadata": {
    "ExecuteTime": {
     "end_time": "2024-05-26T22:15:11.797851Z",
     "start_time": "2024-05-26T22:15:07.827750Z"
    }
   },
   "cell_type": "code",
   "source": [
    "del zipfile_porto_taxi\n",
    "del df_porto_taxi\n",
    "del df_leftovers\n",
    "\n",
    "gc.collect()"
   ],
   "id": "fe36443c5ef2a92d",
   "outputs": [
    {
     "data": {
      "text/plain": [
       "38"
      ]
     },
     "execution_count": 16,
     "metadata": {},
     "output_type": "execute_result"
    }
   ],
   "execution_count": 16
  },
  {
   "metadata": {},
   "cell_type": "markdown",
   "source": "# Convert list to LineString",
   "id": "edeaa30e3d7a1c2"
  },
  {
   "metadata": {
    "ExecuteTime": {
     "end_time": "2024-05-26T22:15:22.932927Z",
     "start_time": "2024-05-26T22:15:11.797851Z"
    }
   },
   "cell_type": "code",
   "source": [
    "df_porto_taxi_subset[\"geometry\"] = process_map(\n",
    "    LineString,\n",
    "    df_porto_taxi_subset[\"geometry\"],\n",
    "    chunksize=chunk_size,\n",
    "    max_workers=num_workers,\n",
    ")"
   ],
   "id": "26eacf3964bceecc",
   "outputs": [
    {
     "data": {
      "text/plain": [
       "  0%|          | 0/500000 [00:00<?, ?it/s]"
      ],
      "application/vnd.jupyter.widget-view+json": {
       "version_major": 2,
       "version_minor": 0,
       "model_id": "4aa3416ebc714b119eb8dc043d16a228"
      }
     },
     "metadata": {},
     "output_type": "display_data"
    }
   ],
   "execution_count": 17
  },
  {
   "metadata": {},
   "cell_type": "markdown",
   "source": "# Convert LineString to Point",
   "id": "d5e52922fc0895ba"
  },
  {
   "metadata": {
    "ExecuteTime": {
     "end_time": "2024-05-26T22:19:20.448954Z",
     "start_time": "2024-05-26T22:15:22.933930Z"
    }
   },
   "cell_type": "code",
   "source": [
    "exploded_rows = []\n",
    "\n",
    "for idx, row in tqdm(\n",
    "    df_porto_taxi_subset.iterrows(), total=df_porto_taxi_subset.shape[0]\n",
    "):\n",
    "    start_timestamp = row.timestamp\n",
    "    current_timestamp = start_timestamp\n",
    "    for xy in row.geometry.coords:\n",
    "        point = Point(xy)\n",
    "        row_dict = row.to_dict()\n",
    "        row_dict[\"geometry\"] = point\n",
    "        row_dict[\"timestamp\"] = current_timestamp\n",
    "        current_timestamp += 15\n",
    "        exploded_rows.append(row_dict)"
   ],
   "id": "bdf38f035caa03bd",
   "outputs": [
    {
     "data": {
      "text/plain": [
       "  0%|          | 0/500000 [00:00<?, ?it/s]"
      ],
      "application/vnd.jupyter.widget-view+json": {
       "version_major": 2,
       "version_minor": 0,
       "model_id": "d6207c9e03564f598d5009116bd1bda5"
      }
     },
     "metadata": {},
     "output_type": "display_data"
    }
   ],
   "execution_count": 18
  },
  {
   "metadata": {},
   "cell_type": "markdown",
   "source": "# Create GeoDataFrame",
   "id": "545cb4c2530f1cde"
  },
  {
   "metadata": {
    "ExecuteTime": {
     "end_time": "2024-05-26T22:19:56.110842Z",
     "start_time": "2024-05-26T22:19:20.449958Z"
    }
   },
   "cell_type": "code",
   "source": [
    "gdf_porto_taxi_points = gpd.GeoDataFrame(\n",
    "    exploded_rows, geometry=\"geometry\", crs=\"EPSG:4326\"\n",
    ")"
   ],
   "id": "891ddb31b23c72db",
   "outputs": [],
   "execution_count": 19
  },
  {
   "metadata": {
    "ExecuteTime": {
     "end_time": "2024-05-26T22:19:58.878426Z",
     "start_time": "2024-05-26T22:19:56.111845Z"
    }
   },
   "cell_type": "code",
   "source": [
    "del exploded_rows\n",
    "\n",
    "gc.collect()"
   ],
   "id": "281086f02b260461",
   "outputs": [
    {
     "data": {
      "text/plain": [
       "18"
      ]
     },
     "execution_count": 20,
     "metadata": {},
     "output_type": "execute_result"
    }
   ],
   "execution_count": 20
  },
  {
   "metadata": {
    "ExecuteTime": {
     "end_time": "2024-05-26T22:20:13.161347Z",
     "start_time": "2024-05-26T22:19:58.878426Z"
    }
   },
   "cell_type": "code",
   "source": [
    "gdf_porto_taxi_points[\"timestamp\"] = gdf_porto_taxi_points[\"timestamp\"].apply(\n",
    "    lambda x: datetime.fromtimestamp(x)\n",
    ")"
   ],
   "id": "6c7d27c601fd9018",
   "outputs": [],
   "execution_count": 21
  },
  {
   "metadata": {},
   "cell_type": "markdown",
   "source": "# Restricting to Porto Area",
   "id": "7e20546ff76441eb"
  },
  {
   "metadata": {
    "ExecuteTime": {
     "end_time": "2024-05-26T22:20:14.156213Z",
     "start_time": "2024-05-26T22:20:13.162352Z"
    }
   },
   "cell_type": "code",
   "source": "porto_area = geocode_to_region_gdf(\"Porto District, Portugal\")",
   "id": "5f9c949e1eb503e0",
   "outputs": [],
   "execution_count": 22
  },
  {
   "metadata": {
    "ExecuteTime": {
     "end_time": "2024-05-26T22:34:18.448579Z",
     "start_time": "2024-05-26T22:20:14.156213Z"
    }
   },
   "cell_type": "code",
   "source": "gdf_porto_taxi_points_inside_porto = gdf_porto_taxi_points.sjoin(porto_area)",
   "id": "883d716068dd7ba0",
   "outputs": [],
   "execution_count": 23
  },
  {
   "metadata": {
    "ExecuteTime": {
     "end_time": "2024-05-26T22:35:14.613308Z",
     "start_time": "2024-05-26T22:34:18.449583Z"
    }
   },
   "cell_type": "code",
   "source": [
    "gdf_merged = gdf_porto_taxi_points.merge(\n",
    "    gdf_porto_taxi_points_inside_porto, how=\"left\", indicator=True\n",
    ")\n",
    "df_porto_taxi_points_outside_porto = gdf_merged[gdf_merged[\"_merge\"] == \"left_only\"]"
   ],
   "id": "39b4abe3e896dc62",
   "outputs": [],
   "execution_count": 24
  },
  {
   "metadata": {
    "ExecuteTime": {
     "end_time": "2024-05-26T22:35:14.619338Z",
     "start_time": "2024-05-26T22:35:14.613308Z"
    }
   },
   "cell_type": "code",
   "source": [
    "trajectories_outside_porto = list(\n",
    "    df_porto_taxi_points_outside_porto[\"trip_id\"].unique()\n",
    ")"
   ],
   "id": "81e5148041674008",
   "outputs": [],
   "execution_count": 25
  },
  {
   "metadata": {
    "ExecuteTime": {
     "end_time": "2024-05-26T22:35:17.192347Z",
     "start_time": "2024-05-26T22:35:14.620344Z"
    }
   },
   "cell_type": "code",
   "source": [
    "gdf_porto_taxi_points = gdf_porto_taxi_points[\n",
    "    ~gdf_porto_taxi_points[\"trip_id\"].isin(trajectories_outside_porto)\n",
    "]"
   ],
   "id": "4af47d9500bff81e",
   "outputs": [],
   "execution_count": 26
  },
  {
   "metadata": {},
   "cell_type": "markdown",
   "source": "# Trajectory Collection",
   "id": "b988fef40c2fe91a"
  },
  {
   "metadata": {
    "ExecuteTime": {
     "end_time": "2024-05-26T22:49:34.175747Z",
     "start_time": "2024-05-26T22:35:17.192347Z"
    }
   },
   "cell_type": "code",
   "source": [
    "trajectory_collection = mpd.TrajectoryCollection(\n",
    "    data=gdf_porto_taxi_points, traj_id_col=\"trip_id\", t=\"timestamp\"\n",
    ")"
   ],
   "id": "a2085c8c32fa4a52",
   "outputs": [],
   "execution_count": 27
  },
  {
   "metadata": {},
   "cell_type": "markdown",
   "source": "### Speed calculation",
   "id": "996b479309d57e8f"
  },
  {
   "metadata": {
    "ExecuteTime": {
     "end_time": "2024-05-26T22:55:58.946770Z",
     "start_time": "2024-05-26T22:49:34.180749Z"
    }
   },
   "cell_type": "code",
   "source": [
    "trajectory_collection.add_speed(\n",
    "    units=(\"km\", \"h\"), n_threads=num_workers, overwrite=True\n",
    ")"
   ],
   "id": "477533b2fbe32e84",
   "outputs": [
    {
     "data": {
      "text/plain": [
       "TrajectoryCollection with 498557 trajectories"
      ]
     },
     "execution_count": 28,
     "metadata": {},
     "output_type": "execute_result"
    }
   ],
   "execution_count": 28
  },
  {
   "metadata": {},
   "cell_type": "markdown",
   "source": "### Outliers removal",
   "id": "22ccb0062963980c"
  },
  {
   "metadata": {
    "ExecuteTime": {
     "end_time": "2024-05-26T23:46:44.827330Z",
     "start_time": "2024-05-26T22:55:58.947775Z"
    }
   },
   "cell_type": "code",
   "source": [
    "trajectory_collection = mpd.OutlierCleaner(trajectory_collection).clean(\n",
    "    v_max=outlier_max_speed, units=(\"km\", \"h\")\n",
    ")"
   ],
   "id": "a2fc5975420d4048",
   "outputs": [],
   "execution_count": 29
  },
  {
   "metadata": {
    "ExecuteTime": {
     "end_time": "2024-05-26T23:46:45.228551Z",
     "start_time": "2024-05-26T23:46:44.828335Z"
    }
   },
   "cell_type": "code",
   "source": [
    "valid_trajectories = [\n",
    "    trajectory\n",
    "    for trajectory in trajectory_collection.trajectories\n",
    "    if trajectory.size() >= 2\n",
    "]"
   ],
   "id": "23e1775137f2198b",
   "outputs": [],
   "execution_count": 30
  },
  {
   "metadata": {
    "ExecuteTime": {
     "end_time": "2024-05-27T00:01:11.078583Z",
     "start_time": "2024-05-26T23:46:45.228551Z"
    }
   },
   "cell_type": "code",
   "source": [
    "valid_trajectory_collection = mpd.TrajectoryCollection(\n",
    "    data=valid_trajectories, traj_id_col=\"trip_id\", t=\"timestamp\"\n",
    ")"
   ],
   "id": "7f976c6b684528fe",
   "outputs": [],
   "execution_count": 31
  },
  {
   "metadata": {},
   "cell_type": "markdown",
   "source": "### Generalization",
   "id": "8aaa984ec8b61779"
  },
  {
   "metadata": {
    "ExecuteTime": {
     "end_time": "2024-05-27T00:17:51.633340Z",
     "start_time": "2024-05-27T00:01:11.079586Z"
    }
   },
   "cell_type": "code",
   "source": [
    "trajectory_collection = mpd.DouglasPeuckerGeneralizer(\n",
    "    valid_trajectory_collection\n",
    ").generalize(tolerance=generalization_tolerance)"
   ],
   "id": "a17139f943eaee9a",
   "outputs": [],
   "execution_count": 32
  },
  {
   "metadata": {},
   "cell_type": "markdown",
   "source": [
    "### Speed re-calculation\n",
    "It is not automatically calculated after outliers are removed"
   ],
   "id": "bcbf3e3719171f8b"
  },
  {
   "metadata": {
    "ExecuteTime": {
     "end_time": "2024-05-27T00:23:28.384816Z",
     "start_time": "2024-05-27T00:17:51.635343Z"
    }
   },
   "cell_type": "code",
   "source": [
    "trajectory_collection.add_speed(\n",
    "    units=(\"km\", \"h\"), n_threads=num_workers, overwrite=True\n",
    ")"
   ],
   "id": "283eb52b0fe5d03b",
   "outputs": [
    {
     "data": {
      "text/plain": [
       "TrajectoryCollection with 498556 trajectories"
      ]
     },
     "execution_count": 33,
     "metadata": {},
     "output_type": "execute_result"
    }
   ],
   "execution_count": 33
  },
  {
   "metadata": {},
   "cell_type": "markdown",
   "source": "# Conversion to Point GeoDataFrame",
   "id": "cf3d0fdc842af604"
  },
  {
   "metadata": {
    "ExecuteTime": {
     "end_time": "2024-05-27T00:24:08.079771Z",
     "start_time": "2024-05-27T00:23:28.386820Z"
    }
   },
   "cell_type": "code",
   "source": [
    "gdf_trajectory_point_collection = trajectory_collection.to_point_gdf().sort_values(\n",
    "    by=[\"trip_id\", \"timestamp\"]\n",
    ")"
   ],
   "id": "4857108bd0af500e",
   "outputs": [],
   "execution_count": 34
  },
  {
   "metadata": {
    "ExecuteTime": {
     "end_time": "2024-05-27T00:24:08.099538Z",
     "start_time": "2024-05-27T00:24:08.079771Z"
    }
   },
   "cell_type": "code",
   "source": "gdf_trajectory_point_collection.reset_index(inplace=True)",
   "id": "147e1e6b3d89f8c6",
   "outputs": [],
   "execution_count": 35
  },
  {
   "metadata": {},
   "cell_type": "markdown",
   "source": "# Adapt to Parquet format on HuggingFace",
   "id": "7b04a763fa31495c"
  },
  {
   "metadata": {},
   "cell_type": "markdown",
   "source": "## Separate Point to x, y coordinates",
   "id": "d820505552f976a"
  },
  {
   "metadata": {
    "ExecuteTime": {
     "end_time": "2024-05-27T00:24:11.425510Z",
     "start_time": "2024-05-27T00:24:08.100542Z"
    }
   },
   "cell_type": "code",
   "source": [
    "gdf_trajectory_point_collection[\n",
    "    \"longitude\"\n",
    "] = gdf_trajectory_point_collection.geometry.x\n",
    "gdf_trajectory_point_collection[\"latitude\"] = gdf_trajectory_point_collection.geometry.y"
   ],
   "id": "a1de745b8da63cf9",
   "outputs": [],
   "execution_count": 36
  },
  {
   "metadata": {
    "ExecuteTime": {
     "end_time": "2024-05-27T00:24:11.741112Z",
     "start_time": "2024-05-27T00:24:11.426514Z"
    }
   },
   "cell_type": "code",
   "source": "gdf_trajectory_point_collection.drop(\"geometry\", axis=1, inplace=True)",
   "id": "602b5c10a6ba9f0e",
   "outputs": [],
   "execution_count": 37
  },
  {
   "metadata": {},
   "cell_type": "markdown",
   "source": "## Convert datetime to timestamp",
   "id": "b673c57173d4fdb9"
  },
  {
   "metadata": {
    "ExecuteTime": {
     "end_time": "2024-05-27T00:24:18.407042Z",
     "start_time": "2024-05-27T00:24:11.742384Z"
    }
   },
   "cell_type": "code",
   "source": [
    "gdf_trajectory_point_collection[\"timestamp\"] = gdf_trajectory_point_collection[\n",
    "    \"timestamp\"\n",
    "].apply(lambda x: datetime.timestamp(x))"
   ],
   "id": "3c9df4813f21c54c",
   "outputs": [],
   "execution_count": 38
  },
  {
   "metadata": {},
   "cell_type": "markdown",
   "source": "# Save to parquet",
   "id": "1ddd120d541e76f7"
  },
  {
   "metadata": {
    "ExecuteTime": {
     "end_time": "2024-05-27T00:24:22.295078Z",
     "start_time": "2024-05-27T00:24:18.408047Z"
    }
   },
   "cell_type": "code",
   "source": [
    "gdf_trajectory_point_collection.to_parquet(os.path.join(\"data\", \"porto_taxi.parquet\"))"
   ],
   "id": "fb508f396a85e233",
   "outputs": [],
   "execution_count": 39
  }
 ],
 "metadata": {
  "kernelspec": {
   "display_name": "Python 3",
   "language": "python",
   "name": "python3"
  },
  "language_info": {
   "codemirror_mode": {
    "name": "ipython",
    "version": 2
   },
   "file_extension": ".py",
   "mimetype": "text/x-python",
   "name": "python",
   "nbconvert_exporter": "python",
   "pygments_lexer": "ipython2",
   "version": "2.7.6"
  }
 },
 "nbformat": 4,
 "nbformat_minor": 5
}

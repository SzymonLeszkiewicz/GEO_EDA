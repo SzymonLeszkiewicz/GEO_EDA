{
 "cells": [
  {
   "cell_type": "code",
   "id": "initial_id",
   "metadata": {
    "collapsed": true,
    "ExecuteTime": {
     "end_time": "2024-03-26T14:41:44.928920Z",
     "start_time": "2024-03-26T14:41:44.101236Z"
    }
   },
   "outputs": [],
   "source": [
    "import ast\n",
    "import zipfile\n",
    "\n",
    "import pandas as pd\n",
    "from tqdm.contrib.concurrent import process_map, thread_map"
   ],
   "execution_count": 1
  },
  {
   "cell_type": "code",
   "outputs": [],
   "source": [
    "zipfile_train = zipfile.ZipFile(file=\"data/train.csv.zip\")"
   ],
   "metadata": {
    "collapsed": false,
    "ExecuteTime": {
     "end_time": "2024-03-26T14:41:45.514264Z",
     "start_time": "2024-03-26T14:41:45.511743Z"
    }
   },
   "id": "51f07e2957e862d1",
   "execution_count": 2
  },
  {
   "cell_type": "code",
   "outputs": [],
   "source": [
    "df_train = pd.read_csv(zipfile_train.open(\"train.csv\"))"
   ],
   "metadata": {
    "collapsed": false,
    "ExecuteTime": {
     "end_time": "2024-03-26T14:42:01.355350Z",
     "start_time": "2024-03-26T14:41:47.288583Z"
    }
   },
   "id": "9756eb32645284c6",
   "execution_count": 3
  },
  {
   "cell_type": "code",
   "outputs": [],
   "source": [
    "df_train.rename(\n",
    "    columns={\n",
    "        \"TRIP_ID\": \"trip_id\",\n",
    "        \"CALL_TYPE\": \"call_type\",\n",
    "        \"ORIGIN_CALL\": \"origin_call\",\n",
    "        \"ORIGIN_STAND\": \"origin_stand\",\n",
    "        \"TAXI_ID\": \"taxi_id\",\n",
    "        \"TIMESTAMP\": \"timestamp\",\n",
    "        \"DAY_TYPE\": \"day_type\",\n",
    "        \"MISSING_DATA\": \"missing_data\",\n",
    "        \"POLYLINE\": \"geometry\",\n",
    "    },\n",
    "    inplace=True,\n",
    ")"
   ],
   "metadata": {
    "collapsed": false,
    "ExecuteTime": {
     "end_time": "2024-03-26T14:42:02.339635Z",
     "start_time": "2024-03-26T14:42:02.336681Z"
    }
   },
   "id": "fb00b618a3a21f93",
   "execution_count": 4
  },
  {
   "cell_type": "code",
   "outputs": [
    {
     "data": {
      "text/plain": "               trip_id call_type  origin_call  origin_stand   taxi_id  \\\n0  1372636858620000589         C          NaN           NaN  20000589   \n1  1372637303620000596         B          NaN           7.0  20000596   \n2  1372636951620000320         C          NaN           NaN  20000320   \n3  1372636854620000520         C          NaN           NaN  20000520   \n4  1372637091620000337         C          NaN           NaN  20000337   \n\n    timestamp day_type  missing_data  \\\n0  1372636858        A         False   \n1  1372637303        A         False   \n2  1372636951        A         False   \n3  1372636854        A         False   \n4  1372637091        A         False   \n\n                                            geometry  \n0  [[-8.618643,41.141412],[-8.618499,41.141376],[...  \n1  [[-8.639847,41.159826],[-8.640351,41.159871],[...  \n2  [[-8.612964,41.140359],[-8.613378,41.14035],[-...  \n3  [[-8.574678,41.151951],[-8.574705,41.151942],[...  \n4  [[-8.645994,41.18049],[-8.645949,41.180517],[-...  ",
      "text/html": "<div>\n<style scoped>\n    .dataframe tbody tr th:only-of-type {\n        vertical-align: middle;\n    }\n\n    .dataframe tbody tr th {\n        vertical-align: top;\n    }\n\n    .dataframe thead th {\n        text-align: right;\n    }\n</style>\n<table border=\"1\" class=\"dataframe\">\n  <thead>\n    <tr style=\"text-align: right;\">\n      <th></th>\n      <th>trip_id</th>\n      <th>call_type</th>\n      <th>origin_call</th>\n      <th>origin_stand</th>\n      <th>taxi_id</th>\n      <th>timestamp</th>\n      <th>day_type</th>\n      <th>missing_data</th>\n      <th>geometry</th>\n    </tr>\n  </thead>\n  <tbody>\n    <tr>\n      <th>0</th>\n      <td>1372636858620000589</td>\n      <td>C</td>\n      <td>NaN</td>\n      <td>NaN</td>\n      <td>20000589</td>\n      <td>1372636858</td>\n      <td>A</td>\n      <td>False</td>\n      <td>[[-8.618643,41.141412],[-8.618499,41.141376],[...</td>\n    </tr>\n    <tr>\n      <th>1</th>\n      <td>1372637303620000596</td>\n      <td>B</td>\n      <td>NaN</td>\n      <td>7.0</td>\n      <td>20000596</td>\n      <td>1372637303</td>\n      <td>A</td>\n      <td>False</td>\n      <td>[[-8.639847,41.159826],[-8.640351,41.159871],[...</td>\n    </tr>\n    <tr>\n      <th>2</th>\n      <td>1372636951620000320</td>\n      <td>C</td>\n      <td>NaN</td>\n      <td>NaN</td>\n      <td>20000320</td>\n      <td>1372636951</td>\n      <td>A</td>\n      <td>False</td>\n      <td>[[-8.612964,41.140359],[-8.613378,41.14035],[-...</td>\n    </tr>\n    <tr>\n      <th>3</th>\n      <td>1372636854620000520</td>\n      <td>C</td>\n      <td>NaN</td>\n      <td>NaN</td>\n      <td>20000520</td>\n      <td>1372636854</td>\n      <td>A</td>\n      <td>False</td>\n      <td>[[-8.574678,41.151951],[-8.574705,41.151942],[...</td>\n    </tr>\n    <tr>\n      <th>4</th>\n      <td>1372637091620000337</td>\n      <td>C</td>\n      <td>NaN</td>\n      <td>NaN</td>\n      <td>20000337</td>\n      <td>1372637091</td>\n      <td>A</td>\n      <td>False</td>\n      <td>[[-8.645994,41.18049],[-8.645949,41.180517],[-...</td>\n    </tr>\n  </tbody>\n</table>\n</div>"
     },
     "execution_count": 5,
     "metadata": {},
     "output_type": "execute_result"
    }
   ],
   "source": [
    "df_train.head()"
   ],
   "metadata": {
    "collapsed": false,
    "ExecuteTime": {
     "end_time": "2024-03-26T14:42:03.154490Z",
     "start_time": "2024-03-26T14:42:03.145971Z"
    }
   },
   "id": "b10b2077e693ef14",
   "execution_count": 5
  },
  {
   "cell_type": "code",
   "outputs": [],
   "source": [
    "df_train = df_train[df_train[\"missing_data\"] == False]"
   ],
   "metadata": {
    "collapsed": false,
    "ExecuteTime": {
     "end_time": "2024-03-26T14:42:04.664264Z",
     "start_time": "2024-03-26T14:42:04.604983Z"
    }
   },
   "id": "e130cab37678626e",
   "execution_count": 6
  },
  {
   "cell_type": "code",
   "outputs": [],
   "source": [
    "df_train.drop(\"missing_data\", axis=1, inplace=True)"
   ],
   "metadata": {
    "collapsed": false,
    "ExecuteTime": {
     "end_time": "2024-03-26T14:42:05.851976Z",
     "start_time": "2024-03-26T14:42:05.792853Z"
    }
   },
   "id": "7050b9d82174819f",
   "execution_count": 7
  },
  {
   "metadata": {
    "ExecuteTime": {
     "end_time": "2024-03-26T14:42:57.758950Z",
     "start_time": "2024-03-26T14:42:08.274262Z"
    }
   },
   "cell_type": "code",
   "outputs": [
    {
     "data": {
      "text/plain": "  0%|          | 0/1710660 [00:00<?, ?it/s]",
      "application/vnd.jupyter.widget-view+json": {
       "version_major": 2,
       "version_minor": 0,
       "model_id": "6230132a03eb4783ac2436bd700294f9"
      }
     },
     "metadata": {},
     "output_type": "display_data"
    }
   ],
   "source": [
    "df_train[\"geometry\"] = process_map(\n",
    "    ast.literal_eval, df_train[\"geometry\"], chunksize=1000, max_workers=20\n",
    ")"
   ],
   "id": "5de78faff459e61c",
   "execution_count": 8
  },
  {
   "metadata": {
    "ExecuteTime": {
     "end_time": "2024-03-26T14:43:12.020650Z",
     "start_time": "2024-03-26T14:42:57.760957Z"
    }
   },
   "cell_type": "code",
   "outputs": [
    {
     "data": {
      "text/plain": "  0%|          | 0/1710660 [00:00<?, ?it/s]",
      "application/vnd.jupyter.widget-view+json": {
       "version_major": 2,
       "version_minor": 0,
       "model_id": "ab90aff1641f4b95b0f227bd706adf56"
      }
     },
     "metadata": {},
     "output_type": "display_data"
    }
   ],
   "source": [
    "df_train[\"length\"] = process_map(\n",
    "    len, df_train[\"geometry\"], chunksize=1000, max_workers=20\n",
    ")"
   ],
   "id": "38d141649afa7d1a",
   "execution_count": 9
  },
  {
   "cell_type": "code",
   "outputs": [],
   "source": [
    "def compute_travel_time(num_points):\n",
    "    return (num_points - 1) * 15"
   ],
   "metadata": {
    "collapsed": false,
    "ExecuteTime": {
     "end_time": "2024-03-26T14:43:12.029011Z",
     "start_time": "2024-03-26T14:43:12.022655Z"
    }
   },
   "id": "9b5fa942a7a182ad",
   "execution_count": 10
  },
  {
   "cell_type": "code",
   "outputs": [
    {
     "data": {
      "text/plain": "  0%|          | 0/1710660 [00:00<?, ?it/s]",
      "application/vnd.jupyter.widget-view+json": {
       "version_major": 2,
       "version_minor": 0,
       "model_id": "7949ce20a7254513b416662b1725b0cf"
      }
     },
     "metadata": {},
     "output_type": "display_data"
    }
   ],
   "source": [
    "df_train[\"travel_time_seconds\"] = thread_map(\n",
    "    compute_travel_time, df_train[\"length\"], chunksize=1000, max_workers=20\n",
    ")"
   ],
   "metadata": {
    "collapsed": false,
    "ExecuteTime": {
     "end_time": "2024-03-26T14:43:37.214518Z",
     "start_time": "2024-03-26T14:43:12.030520Z"
    }
   },
   "id": "155bc50eb658bde8",
   "execution_count": 11
  },
  {
   "metadata": {
    "ExecuteTime": {
     "end_time": "2024-03-26T14:43:41.543206Z",
     "start_time": "2024-03-26T14:43:37.215520Z"
    }
   },
   "cell_type": "code",
   "outputs": [],
   "source": [
    "df_train = df_train[df_train[\"length\"] > 2].drop(\"length\", axis=1)"
   ],
   "id": "be0fa38b9b1c80c1",
   "execution_count": 12
  },
  {
   "cell_type": "code",
   "outputs": [],
   "source": [
    "df_train.to_parquet(path=\"data/porto_taxi.parquet\")"
   ],
   "metadata": {
    "collapsed": false,
    "ExecuteTime": {
     "end_time": "2024-03-26T14:44:25.164490Z",
     "start_time": "2024-03-26T14:44:04.140527Z"
    }
   },
   "id": "c0945d462b1a3361",
   "execution_count": 13
  }
 ],
 "metadata": {
  "kernelspec": {
   "display_name": "Python 3",
   "language": "python",
   "name": "python3"
  },
  "language_info": {
   "codemirror_mode": {
    "name": "ipython",
    "version": 2
   },
   "file_extension": ".py",
   "mimetype": "text/x-python",
   "name": "python",
   "nbconvert_exporter": "python",
   "pygments_lexer": "ipython2",
   "version": "2.7.6"
  }
 },
 "nbformat": 4,
 "nbformat_minor": 5
}

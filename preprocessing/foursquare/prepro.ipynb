{
 "cells": [
  {
   "cell_type": "code",
   "execution_count": 28,
   "metadata": {},
   "outputs": [],
   "source": [
    "import os \n",
    "import pandas as pd \n"
   ]
  },
  {
   "cell_type": "code",
   "execution_count": 29,
   "metadata": {},
   "outputs": [],
   "source": [
    "current_working_directory = os.getcwd()\n",
    "DATA_DIR=os.path.join(current_working_directory, 'data')\n"
   ]
  },
  {
   "cell_type": "code",
   "execution_count": 30,
   "metadata": {},
   "outputs": [],
   "source": [
    "tokyo= pd.read_csv(os.path.join(DATA_DIR,'dataset_TSMC2014_TKY.csv'))\n",
    "new_york= pd.read_csv(os.path.join(DATA_DIR,'dataset_TSMC2014_NYC.csv'))"
   ]
  },
  {
   "cell_type": "code",
   "execution_count": 31,
   "metadata": {},
   "outputs": [
    {
     "data": {
      "text/html": [
       "<div>\n",
       "<style scoped>\n",
       "    .dataframe tbody tr th:only-of-type {\n",
       "        vertical-align: middle;\n",
       "    }\n",
       "\n",
       "    .dataframe tbody tr th {\n",
       "        vertical-align: top;\n",
       "    }\n",
       "\n",
       "    .dataframe thead th {\n",
       "        text-align: right;\n",
       "    }\n",
       "</style>\n",
       "<table border=\"1\" class=\"dataframe\">\n",
       "  <thead>\n",
       "    <tr style=\"text-align: right;\">\n",
       "      <th></th>\n",
       "      <th>userId</th>\n",
       "      <th>venueId</th>\n",
       "      <th>venueCategoryId</th>\n",
       "      <th>venueCategory</th>\n",
       "      <th>latitude</th>\n",
       "      <th>longitude</th>\n",
       "      <th>timezoneOffset</th>\n",
       "      <th>utcTimestamp</th>\n",
       "    </tr>\n",
       "  </thead>\n",
       "  <tbody>\n",
       "    <tr>\n",
       "      <th>0</th>\n",
       "      <td>1541</td>\n",
       "      <td>4f0fd5a8e4b03856eeb6c8cb</td>\n",
       "      <td>4bf58dd8d48988d10c951735</td>\n",
       "      <td>Cosmetics Shop</td>\n",
       "      <td>35.705101</td>\n",
       "      <td>139.619590</td>\n",
       "      <td>540</td>\n",
       "      <td>Tue Apr 03 18:17:18 +0000 2012</td>\n",
       "    </tr>\n",
       "    <tr>\n",
       "      <th>1</th>\n",
       "      <td>868</td>\n",
       "      <td>4b7b884ff964a5207d662fe3</td>\n",
       "      <td>4bf58dd8d48988d1d1941735</td>\n",
       "      <td>Ramen /  Noodle House</td>\n",
       "      <td>35.715581</td>\n",
       "      <td>139.800317</td>\n",
       "      <td>540</td>\n",
       "      <td>Tue Apr 03 18:22:04 +0000 2012</td>\n",
       "    </tr>\n",
       "    <tr>\n",
       "      <th>2</th>\n",
       "      <td>114</td>\n",
       "      <td>4c16fdda96040f477cc473a5</td>\n",
       "      <td>4d954b0ea243a5684a65b473</td>\n",
       "      <td>Convenience Store</td>\n",
       "      <td>35.714542</td>\n",
       "      <td>139.480065</td>\n",
       "      <td>540</td>\n",
       "      <td>Tue Apr 03 19:12:07 +0000 2012</td>\n",
       "    </tr>\n",
       "    <tr>\n",
       "      <th>3</th>\n",
       "      <td>868</td>\n",
       "      <td>4c178638c2dfc928651ea869</td>\n",
       "      <td>4bf58dd8d48988d118951735</td>\n",
       "      <td>Food &amp; Drink Shop</td>\n",
       "      <td>35.725592</td>\n",
       "      <td>139.776633</td>\n",
       "      <td>540</td>\n",
       "      <td>Tue Apr 03 19:12:13 +0000 2012</td>\n",
       "    </tr>\n",
       "    <tr>\n",
       "      <th>4</th>\n",
       "      <td>1458</td>\n",
       "      <td>4f568309e4b071452e447afe</td>\n",
       "      <td>4f2a210c4b9023bd5841ed28</td>\n",
       "      <td>Housing Development</td>\n",
       "      <td>35.656083</td>\n",
       "      <td>139.734046</td>\n",
       "      <td>540</td>\n",
       "      <td>Tue Apr 03 19:18:23 +0000 2012</td>\n",
       "    </tr>\n",
       "  </tbody>\n",
       "</table>\n",
       "</div>"
      ],
      "text/plain": [
       "   userId                   venueId           venueCategoryId  \\\n",
       "0    1541  4f0fd5a8e4b03856eeb6c8cb  4bf58dd8d48988d10c951735   \n",
       "1     868  4b7b884ff964a5207d662fe3  4bf58dd8d48988d1d1941735   \n",
       "2     114  4c16fdda96040f477cc473a5  4d954b0ea243a5684a65b473   \n",
       "3     868  4c178638c2dfc928651ea869  4bf58dd8d48988d118951735   \n",
       "4    1458  4f568309e4b071452e447afe  4f2a210c4b9023bd5841ed28   \n",
       "\n",
       "           venueCategory   latitude   longitude  timezoneOffset  \\\n",
       "0         Cosmetics Shop  35.705101  139.619590             540   \n",
       "1  Ramen /  Noodle House  35.715581  139.800317             540   \n",
       "2      Convenience Store  35.714542  139.480065             540   \n",
       "3      Food & Drink Shop  35.725592  139.776633             540   \n",
       "4    Housing Development  35.656083  139.734046             540   \n",
       "\n",
       "                     utcTimestamp  \n",
       "0  Tue Apr 03 18:17:18 +0000 2012  \n",
       "1  Tue Apr 03 18:22:04 +0000 2012  \n",
       "2  Tue Apr 03 19:12:07 +0000 2012  \n",
       "3  Tue Apr 03 19:12:13 +0000 2012  \n",
       "4  Tue Apr 03 19:18:23 +0000 2012  "
      ]
     },
     "execution_count": 31,
     "metadata": {},
     "output_type": "execute_result"
    }
   ],
   "source": [
    "tokyo.head()"
   ]
  },
  {
   "cell_type": "code",
   "execution_count": 32,
   "metadata": {},
   "outputs": [],
   "source": [
    "from dateutil import parser\n",
    "tokyo['date'] = tokyo['utcTimestamp'].apply(lambda x: parser.parse(x).date())\n",
    "tokyo['time'] = tokyo['utcTimestamp'].apply(lambda x: parser.parse(x).time())\n",
    "new_york['date'] = new_york['utcTimestamp'].apply(lambda x: parser.parse(x).date())\n",
    "new_york['time'] = new_york['utcTimestamp'].apply(lambda x: parser.parse(x).time())\n",
    "\n"
   ]
  },
  {
   "cell_type": "code",
   "execution_count": 34,
   "metadata": {},
   "outputs": [],
   "source": [
    "tokyo.to_parquet(os.path.join(DATA_DIR,'tokyo.parquet'))\n",
    "new_york.to_parquet(os.path.join(DATA_DIR,'new_york.parquet'))"
   ]
  },
  {
   "cell_type": "code",
   "execution_count": 35,
   "metadata": {},
   "outputs": [],
   "source": [
    "tokyo['city']='Tokyo'\n",
    "new_york['city']='New York'\n",
    "data=pd.concat([tokyo, new_york], ignore_index=True)"
   ]
  },
  {
   "cell_type": "code",
   "execution_count": 36,
   "metadata": {},
   "outputs": [],
   "source": [
    "data.to_parquet(os.path.join(DATA_DIR,'tokyo_newyork.parquet'))"
   ]
  }
 ],
 "metadata": {
  "kernelspec": {
   "display_name": "venv",
   "language": "python",
   "name": "python3"
  },
  "language_info": {
   "codemirror_mode": {
    "name": "ipython",
    "version": 3
   },
   "file_extension": ".py",
   "mimetype": "text/x-python",
   "name": "python",
   "nbconvert_exporter": "python",
   "pygments_lexer": "ipython3",
   "version": "3.10.10"
  }
 },
 "nbformat": 4,
 "nbformat_minor": 2
}

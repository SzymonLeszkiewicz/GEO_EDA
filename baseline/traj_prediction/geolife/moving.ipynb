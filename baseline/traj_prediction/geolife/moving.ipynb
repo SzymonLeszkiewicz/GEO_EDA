{
 "cells": [
  {
   "cell_type": "code",
   "execution_count": 1,
   "id": "initial_id",
   "metadata": {
    "ExecuteTime": {
     "end_time": "2024-05-01T21:16:47.571623Z",
     "start_time": "2024-05-01T21:16:42.381072Z"
    }
   },
   "outputs": [],
   "source": [
    "import movingpandas as mpd\n",
    "import geopandas as gpd\n",
    "import pandas as pd\n",
    "from datetime import datetime, timedelta\n",
    "from shapely.geometry import LineString, Point\n",
    "from shapely.wkt import loads"
   ]
  },
  {
   "cell_type": "code",
   "execution_count": 2,
   "id": "1f17dc9dc6fa03b0",
   "metadata": {
    "collapsed": false,
    "ExecuteTime": {
     "end_time": "2024-05-01T21:16:47.572873Z",
     "start_time": "2024-05-01T21:16:47.570641Z"
    }
   },
   "outputs": [],
   "source": [
    "hvplot_defaults = {'tiles':'CartoLight', 'frame_height':320, 'frame_width':320, 'cmap':'Viridis', 'colorbar':True}\n",
    "kwargs = {**hvplot_defaults, 'c':'speed', 'line_width':7, 'clim':(0,20)}"
   ]
  },
  {
   "cell_type": "code",
   "execution_count": 3,
   "id": "f69059a7ddd4ef6d",
   "metadata": {
    "collapsed": false,
    "ExecuteTime": {
     "end_time": "2024-05-01T21:17:36.952735Z",
     "start_time": "2024-05-01T21:16:47.574217Z"
    }
   },
   "outputs": [],
   "source": [
    "gdf = gpd.read_parquet('output_data/geolife.parquet')"
   ]
  },
  {
   "cell_type": "code",
   "execution_count": 4,
   "id": "1279539cbe73e39",
   "metadata": {
    "collapsed": false,
    "ExecuteTime": {
     "end_time": "2024-05-01T21:17:40.252388Z",
     "start_time": "2024-05-01T21:17:40.169031Z"
    }
   },
   "outputs": [],
   "source": [
    "gdf['time'] = pd.to_datetime(gdf['time'])\n",
    "gdf.crs = 'EPSG:4326'"
   ]
  },
  {
   "cell_type": "code",
   "execution_count": 5,
   "id": "4bdf251d6b59362c",
   "metadata": {
    "collapsed": false,
    "ExecuteTime": {
     "end_time": "2024-05-01T21:17:40.289169Z",
     "start_time": "2024-05-01T21:17:40.255792Z"
    }
   },
   "outputs": [
    {
     "data": {
      "text/plain": "    latitude   longitude  altitude          date    date_str  \\\n0  39.974294  116.399741     492.0  39816.056644  2009-01-03   \n1  39.974292  116.399592     492.0  39816.056655  2009-01-03   \n2  39.974309  116.399523     492.0  39816.056667  2009-01-03   \n3  39.974320  116.399588     492.0  39816.056690  2009-01-03   \n4  39.974365  116.399730     491.0  39816.056701  2009-01-03   \n\n                 time   trajectory_id     mode                    geometry  \\\n0 2009-01-03 01:21:34  20090103012134  unknown  POINT (116.39974 39.97429)   \n1 2009-01-03 01:21:35  20090103012134  unknown  POINT (116.39959 39.97429)   \n2 2009-01-03 01:21:36  20090103012134  unknown  POINT (116.39952 39.97431)   \n3 2009-01-03 01:21:38  20090103012134  unknown  POINT (116.39959 39.97432)   \n4 2009-01-03 01:21:39  20090103012134  unknown  POINT (116.39973 39.97436)   \n\n  user_id  \n0     135  \n1     135  \n2     135  \n3     135  \n4     135  ",
      "text/html": "<div>\n<style scoped>\n    .dataframe tbody tr th:only-of-type {\n        vertical-align: middle;\n    }\n\n    .dataframe tbody tr th {\n        vertical-align: top;\n    }\n\n    .dataframe thead th {\n        text-align: right;\n    }\n</style>\n<table border=\"1\" class=\"dataframe\">\n  <thead>\n    <tr style=\"text-align: right;\">\n      <th></th>\n      <th>latitude</th>\n      <th>longitude</th>\n      <th>altitude</th>\n      <th>date</th>\n      <th>date_str</th>\n      <th>time</th>\n      <th>trajectory_id</th>\n      <th>mode</th>\n      <th>geometry</th>\n      <th>user_id</th>\n    </tr>\n  </thead>\n  <tbody>\n    <tr>\n      <th>0</th>\n      <td>39.974294</td>\n      <td>116.399741</td>\n      <td>492.0</td>\n      <td>39816.056644</td>\n      <td>2009-01-03</td>\n      <td>2009-01-03 01:21:34</td>\n      <td>20090103012134</td>\n      <td>unknown</td>\n      <td>POINT (116.39974 39.97429)</td>\n      <td>135</td>\n    </tr>\n    <tr>\n      <th>1</th>\n      <td>39.974292</td>\n      <td>116.399592</td>\n      <td>492.0</td>\n      <td>39816.056655</td>\n      <td>2009-01-03</td>\n      <td>2009-01-03 01:21:35</td>\n      <td>20090103012134</td>\n      <td>unknown</td>\n      <td>POINT (116.39959 39.97429)</td>\n      <td>135</td>\n    </tr>\n    <tr>\n      <th>2</th>\n      <td>39.974309</td>\n      <td>116.399523</td>\n      <td>492.0</td>\n      <td>39816.056667</td>\n      <td>2009-01-03</td>\n      <td>2009-01-03 01:21:36</td>\n      <td>20090103012134</td>\n      <td>unknown</td>\n      <td>POINT (116.39952 39.97431)</td>\n      <td>135</td>\n    </tr>\n    <tr>\n      <th>3</th>\n      <td>39.974320</td>\n      <td>116.399588</td>\n      <td>492.0</td>\n      <td>39816.056690</td>\n      <td>2009-01-03</td>\n      <td>2009-01-03 01:21:38</td>\n      <td>20090103012134</td>\n      <td>unknown</td>\n      <td>POINT (116.39959 39.97432)</td>\n      <td>135</td>\n    </tr>\n    <tr>\n      <th>4</th>\n      <td>39.974365</td>\n      <td>116.399730</td>\n      <td>491.0</td>\n      <td>39816.056701</td>\n      <td>2009-01-03</td>\n      <td>2009-01-03 01:21:39</td>\n      <td>20090103012134</td>\n      <td>unknown</td>\n      <td>POINT (116.39973 39.97436)</td>\n      <td>135</td>\n    </tr>\n  </tbody>\n</table>\n</div>"
     },
     "execution_count": 5,
     "metadata": {},
     "output_type": "execute_result"
    }
   ],
   "source": [
    "gdf.head()"
   ]
  },
  {
   "cell_type": "code",
   "execution_count": 6,
   "id": "72d412d791b35457",
   "metadata": {
    "collapsed": false,
    "ExecuteTime": {
     "end_time": "2024-05-01T21:17:40.347785Z",
     "start_time": "2024-05-01T21:17:40.278932Z"
    }
   },
   "outputs": [],
   "source": [
    "gdfc = gdf[:500000].copy()"
   ]
  },
  {
   "cell_type": "code",
   "execution_count": 7,
   "id": "47d59b07b40d1f4e",
   "metadata": {
    "collapsed": false,
    "ExecuteTime": {
     "end_time": "2024-05-01T21:17:40.930041Z",
     "start_time": "2024-05-01T21:17:40.327359Z"
    }
   },
   "outputs": [],
   "source": [
    "traj_col = mpd.TrajectoryCollection(gdfc,'trajectory_id', t = 'time')"
   ]
  },
  {
   "cell_type": "code",
   "execution_count": 8,
   "id": "f688c0ff-bbb7-47a1-9e75-46c6ab780619",
   "metadata": {
    "ExecuteTime": {
     "end_time": "2024-05-01T21:18:43.659030Z",
     "start_time": "2024-05-01T21:17:40.934479Z"
    }
   },
   "outputs": [],
   "source": [
    "traj_col.add_speed(overwrite = True)\n",
    "traj_col.add_timedelta(overwrite = True)\n",
    "traj_col.add_direction(overwrite = True)"
   ]
  },
  {
   "cell_type": "code",
   "execution_count": 9,
   "id": "64ef8a7af160d1cf",
   "metadata": {
    "collapsed": false,
    "ExecuteTime": {
     "end_time": "2024-05-01T21:18:43.669629Z",
     "start_time": "2024-05-01T21:18:43.659861Z"
    }
   },
   "outputs": [],
   "source": [
    "# traj_col.trajectories[6].hvplot(**kwargs)+traj_col.trajectories[5].hvplot(**kwargs)+traj_col.trajectories[1].hvplot(**kwargs)"
   ]
  },
  {
   "cell_type": "code",
   "execution_count": 10,
   "id": "ad440c99-0b42-4c8d-a477-5fac13f6534c",
   "metadata": {
    "ExecuteTime": {
     "end_time": "2024-05-01T21:18:43.714105Z",
     "start_time": "2024-05-01T21:18:43.667075Z"
    }
   },
   "outputs": [
    {
     "data": {
      "text/plain": "                      latitude   longitude    altitude          date  \\\ntime                                                                   \n2007-04-12 10:18:53  39.975517  116.330283  351.049869  39184.429780   \n2007-04-12 10:20:15  39.975850  116.330400  114.829396  39184.430729   \n2007-04-12 10:21:27  39.975983  116.330467  114.829396  39184.431563   \n2007-04-12 10:21:53  39.976100  116.330500  118.110236  39184.431863   \n2007-04-12 10:23:15  39.976233  116.330567  118.110236  39184.432813   \n\n                       date_str   trajectory_id     mode  \\\ntime                                                       \n2007-04-12 10:18:53  2007-04-12  20070412101853  unknown   \n2007-04-12 10:20:15  2007-04-12  20070412101853  unknown   \n2007-04-12 10:21:27  2007-04-12  20070412101853  unknown   \n2007-04-12 10:21:53  2007-04-12  20070412101853  unknown   \n2007-04-12 10:23:15  2007-04-12  20070412101853  unknown   \n\n                                       geometry user_id     speed  \\\ntime                                                                \n2007-04-12 10:18:53  POINT (116.33028 39.97552)     161  0.467436   \n2007-04-12 10:20:15  POINT (116.33040 39.97585)     161  0.467436   \n2007-04-12 10:21:27  POINT (116.33047 39.97598)     161  0.220307   \n2007-04-12 10:21:53  POINT (116.33050 39.97610)     161  0.510125   \n2007-04-12 10:23:15  POINT (116.33057 39.97623)     161  0.193440   \n\n                          timedelta  direction  \ntime                                            \n2007-04-12 10:18:53             NaT  15.013958  \n2007-04-12 10:20:15 0 days 00:01:22  15.013958  \n2007-04-12 10:21:27 0 days 00:01:12  20.964677  \n2007-04-12 10:21:53 0 days 00:00:26  12.349827  \n2007-04-12 10:23:15 0 days 00:01:22  20.964607  ",
      "text/html": "<div>\n<style scoped>\n    .dataframe tbody tr th:only-of-type {\n        vertical-align: middle;\n    }\n\n    .dataframe tbody tr th {\n        vertical-align: top;\n    }\n\n    .dataframe thead th {\n        text-align: right;\n    }\n</style>\n<table border=\"1\" class=\"dataframe\">\n  <thead>\n    <tr style=\"text-align: right;\">\n      <th></th>\n      <th>latitude</th>\n      <th>longitude</th>\n      <th>altitude</th>\n      <th>date</th>\n      <th>date_str</th>\n      <th>trajectory_id</th>\n      <th>mode</th>\n      <th>geometry</th>\n      <th>user_id</th>\n      <th>speed</th>\n      <th>timedelta</th>\n      <th>direction</th>\n    </tr>\n    <tr>\n      <th>time</th>\n      <th></th>\n      <th></th>\n      <th></th>\n      <th></th>\n      <th></th>\n      <th></th>\n      <th></th>\n      <th></th>\n      <th></th>\n      <th></th>\n      <th></th>\n      <th></th>\n    </tr>\n  </thead>\n  <tbody>\n    <tr>\n      <th>2007-04-12 10:18:53</th>\n      <td>39.975517</td>\n      <td>116.330283</td>\n      <td>351.049869</td>\n      <td>39184.429780</td>\n      <td>2007-04-12</td>\n      <td>20070412101853</td>\n      <td>unknown</td>\n      <td>POINT (116.33028 39.97552)</td>\n      <td>161</td>\n      <td>0.467436</td>\n      <td>NaT</td>\n      <td>15.013958</td>\n    </tr>\n    <tr>\n      <th>2007-04-12 10:20:15</th>\n      <td>39.975850</td>\n      <td>116.330400</td>\n      <td>114.829396</td>\n      <td>39184.430729</td>\n      <td>2007-04-12</td>\n      <td>20070412101853</td>\n      <td>unknown</td>\n      <td>POINT (116.33040 39.97585)</td>\n      <td>161</td>\n      <td>0.467436</td>\n      <td>0 days 00:01:22</td>\n      <td>15.013958</td>\n    </tr>\n    <tr>\n      <th>2007-04-12 10:21:27</th>\n      <td>39.975983</td>\n      <td>116.330467</td>\n      <td>114.829396</td>\n      <td>39184.431563</td>\n      <td>2007-04-12</td>\n      <td>20070412101853</td>\n      <td>unknown</td>\n      <td>POINT (116.33047 39.97598)</td>\n      <td>161</td>\n      <td>0.220307</td>\n      <td>0 days 00:01:12</td>\n      <td>20.964677</td>\n    </tr>\n    <tr>\n      <th>2007-04-12 10:21:53</th>\n      <td>39.976100</td>\n      <td>116.330500</td>\n      <td>118.110236</td>\n      <td>39184.431863</td>\n      <td>2007-04-12</td>\n      <td>20070412101853</td>\n      <td>unknown</td>\n      <td>POINT (116.33050 39.97610)</td>\n      <td>161</td>\n      <td>0.510125</td>\n      <td>0 days 00:00:26</td>\n      <td>12.349827</td>\n    </tr>\n    <tr>\n      <th>2007-04-12 10:23:15</th>\n      <td>39.976233</td>\n      <td>116.330567</td>\n      <td>118.110236</td>\n      <td>39184.432813</td>\n      <td>2007-04-12</td>\n      <td>20070412101853</td>\n      <td>unknown</td>\n      <td>POINT (116.33057 39.97623)</td>\n      <td>161</td>\n      <td>0.193440</td>\n      <td>0 days 00:01:22</td>\n      <td>20.964607</td>\n    </tr>\n  </tbody>\n</table>\n</div>"
     },
     "execution_count": 10,
     "metadata": {},
     "output_type": "execute_result"
    }
   ],
   "source": [
    "results = traj_col.to_point_gdf()\n",
    "results.head()"
   ]
  },
  {
   "cell_type": "code",
   "execution_count": 11,
   "id": "dfd37864-c34d-4c67-9b2a-9a90601209a1",
   "metadata": {
    "ExecuteTime": {
     "end_time": "2024-05-01T21:18:43.724496Z",
     "start_time": "2024-05-01T21:18:43.714176Z"
    }
   },
   "outputs": [
    {
     "data": {
      "text/plain": "(499995, 12)"
     },
     "execution_count": 11,
     "metadata": {},
     "output_type": "execute_result"
    }
   ],
   "source": [
    "results.shape"
   ]
  },
  {
   "cell_type": "code",
   "execution_count": 70,
   "id": "2998e054-3308-474e-86ec-91b1662c03da",
   "metadata": {},
   "outputs": [],
   "source": [
    "# results.to_parquet('geolife_points.parquet')"
   ]
  },
  {
   "cell_type": "code",
   "execution_count": 15,
   "id": "782ab8a2-98bb-4e1a-9b06-95180532125b",
   "metadata": {
    "ExecuteTime": {
     "end_time": "2024-05-01T21:32:17.016480Z",
     "start_time": "2024-05-01T21:32:17.010878Z"
    }
   },
   "outputs": [],
   "source": [
    "my_traj = traj_col.trajectories[22].df"
   ]
  },
  {
   "cell_type": "code",
   "execution_count": 14,
   "id": "c7e3c3b8-5281-4cb5-8b6a-ccbb00fa131a",
   "metadata": {
    "ExecuteTime": {
     "end_time": "2024-05-01T21:32:12.662280Z",
     "start_time": "2024-05-01T21:32:12.652760Z"
    }
   },
   "outputs": [],
   "source": [
    "# my_traj.hvplot(**kwargs)"
   ]
  },
  {
   "cell_type": "code",
   "execution_count": 16,
   "id": "38af443b-681d-48a1-b018-02d489130caa",
   "metadata": {
    "ExecuteTime": {
     "end_time": "2024-05-01T21:32:25.705691Z",
     "start_time": "2024-05-01T21:32:25.699078Z"
    }
   },
   "outputs": [
    {
     "data": {
      "text/plain": "                      latitude   longitude    altitude          date  \\\ntime                                                                   \n2007-04-30 10:56:04  39.975417  116.329233  187.007874  39202.455602   \n2007-04-30 10:56:46  39.975217  116.329117  187.007874  39202.456088   \n2007-04-30 10:57:10  39.975033  116.329317  187.007874  39202.456366   \n2007-04-30 10:57:46  39.975033  116.329800  187.007874  39202.456782   \n2007-04-30 10:58:40  39.975050  116.330533  187.007874  39202.457407   \n\n                       date_str   trajectory_id     mode  \\\ntime                                                       \n2007-04-30 10:56:04  2007-04-30  20070430105604  unknown   \n2007-04-30 10:56:46  2007-04-30  20070430105604  unknown   \n2007-04-30 10:57:10  2007-04-30  20070430105604  unknown   \n2007-04-30 10:57:46  2007-04-30  20070430105604  unknown   \n2007-04-30 10:58:40  2007-04-30  20070430105604  unknown   \n\n                                       geometry user_id     speed  \\\ntime                                                                \n2007-04-30 10:56:04  POINT (116.32923 39.97542)     134  0.579540   \n2007-04-30 10:56:46  POINT (116.32912 39.97522)     134  0.579540   \n2007-04-30 10:57:10  POINT (116.32932 39.97503)     134  1.107325   \n2007-04-30 10:57:46  POINT (116.32980 39.97503)     134  1.146909   \n2007-04-30 10:58:40  POINT (116.33053 39.97505)     134  1.160598   \n\n                          timedelta   direction  \ntime                                             \n2007-04-30 10:56:04             NaT  204.085672  \n2007-04-30 10:56:46 0 days 00:00:42  204.085672  \n2007-04-30 10:57:10 0 days 00:00:24  140.104677  \n2007-04-30 10:57:46 0 days 00:00:36   89.999845  \n2007-04-30 10:58:40 0 days 00:00:54   88.301012  ",
      "text/html": "<div>\n<style scoped>\n    .dataframe tbody tr th:only-of-type {\n        vertical-align: middle;\n    }\n\n    .dataframe tbody tr th {\n        vertical-align: top;\n    }\n\n    .dataframe thead th {\n        text-align: right;\n    }\n</style>\n<table border=\"1\" class=\"dataframe\">\n  <thead>\n    <tr style=\"text-align: right;\">\n      <th></th>\n      <th>latitude</th>\n      <th>longitude</th>\n      <th>altitude</th>\n      <th>date</th>\n      <th>date_str</th>\n      <th>trajectory_id</th>\n      <th>mode</th>\n      <th>geometry</th>\n      <th>user_id</th>\n      <th>speed</th>\n      <th>timedelta</th>\n      <th>direction</th>\n    </tr>\n    <tr>\n      <th>time</th>\n      <th></th>\n      <th></th>\n      <th></th>\n      <th></th>\n      <th></th>\n      <th></th>\n      <th></th>\n      <th></th>\n      <th></th>\n      <th></th>\n      <th></th>\n      <th></th>\n    </tr>\n  </thead>\n  <tbody>\n    <tr>\n      <th>2007-04-30 10:56:04</th>\n      <td>39.975417</td>\n      <td>116.329233</td>\n      <td>187.007874</td>\n      <td>39202.455602</td>\n      <td>2007-04-30</td>\n      <td>20070430105604</td>\n      <td>unknown</td>\n      <td>POINT (116.32923 39.97542)</td>\n      <td>134</td>\n      <td>0.579540</td>\n      <td>NaT</td>\n      <td>204.085672</td>\n    </tr>\n    <tr>\n      <th>2007-04-30 10:56:46</th>\n      <td>39.975217</td>\n      <td>116.329117</td>\n      <td>187.007874</td>\n      <td>39202.456088</td>\n      <td>2007-04-30</td>\n      <td>20070430105604</td>\n      <td>unknown</td>\n      <td>POINT (116.32912 39.97522)</td>\n      <td>134</td>\n      <td>0.579540</td>\n      <td>0 days 00:00:42</td>\n      <td>204.085672</td>\n    </tr>\n    <tr>\n      <th>2007-04-30 10:57:10</th>\n      <td>39.975033</td>\n      <td>116.329317</td>\n      <td>187.007874</td>\n      <td>39202.456366</td>\n      <td>2007-04-30</td>\n      <td>20070430105604</td>\n      <td>unknown</td>\n      <td>POINT (116.32932 39.97503)</td>\n      <td>134</td>\n      <td>1.107325</td>\n      <td>0 days 00:00:24</td>\n      <td>140.104677</td>\n    </tr>\n    <tr>\n      <th>2007-04-30 10:57:46</th>\n      <td>39.975033</td>\n      <td>116.329800</td>\n      <td>187.007874</td>\n      <td>39202.456782</td>\n      <td>2007-04-30</td>\n      <td>20070430105604</td>\n      <td>unknown</td>\n      <td>POINT (116.32980 39.97503)</td>\n      <td>134</td>\n      <td>1.146909</td>\n      <td>0 days 00:00:36</td>\n      <td>89.999845</td>\n    </tr>\n    <tr>\n      <th>2007-04-30 10:58:40</th>\n      <td>39.975050</td>\n      <td>116.330533</td>\n      <td>187.007874</td>\n      <td>39202.457407</td>\n      <td>2007-04-30</td>\n      <td>20070430105604</td>\n      <td>unknown</td>\n      <td>POINT (116.33053 39.97505)</td>\n      <td>134</td>\n      <td>1.160598</td>\n      <td>0 days 00:00:54</td>\n      <td>88.301012</td>\n    </tr>\n  </tbody>\n</table>\n</div>"
     },
     "execution_count": 16,
     "metadata": {},
     "output_type": "execute_result"
    }
   ],
   "source": [
    "my_traj.head()"
   ]
  },
  {
   "cell_type": "code",
   "outputs": [],
   "source": [],
   "metadata": {
    "collapsed": false
   },
   "id": "cc77fe740bf9e1d0"
  }
 ],
 "metadata": {
  "kernelspec": {
   "display_name": "Python 3 (ipykernel)",
   "language": "python",
   "name": "python3"
  },
  "language_info": {
   "codemirror_mode": {
    "name": "ipython",
    "version": 3
   },
   "file_extension": ".py",
   "mimetype": "text/x-python",
   "name": "python",
   "nbconvert_exporter": "python",
   "pygments_lexer": "ipython3",
   "version": "3.10.14"
  }
 },
 "nbformat": 4,
 "nbformat_minor": 5
}

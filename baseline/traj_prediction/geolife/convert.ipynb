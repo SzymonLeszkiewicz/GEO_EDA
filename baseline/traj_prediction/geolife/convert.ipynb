{
 "cells": [
  {
   "cell_type": "markdown",
   "id": "c50bf84c2926d436",
   "metadata": {
    "collapsed": false
   },
   "source": [
    "# Convert Geolife dataset to GeoPandas DataFrame"
   ]
  },
  {
   "cell_type": "code",
   "execution_count": null,
   "id": "d1d3247f78e95b39",
   "metadata": {
    "collapsed": false
   },
   "outputs": [],
   "source": [
    "from srai.datasets import GeolifeDataset\n",
    "import os\n",
    "from tqdm import tqdm\n",
    "import glob\n",
    "import re\n",
    "import pandas as pd\n",
    "import geopandas as gpd"
   ]
  },
  {
   "cell_type": "code",
   "execution_count": null,
   "id": "71088e69-4b94-4d27-b446-e0d1a4dfe4c1",
   "metadata": {},
   "outputs": [],
   "source": [
    "hf_token = os.getenv('HF_token')\n",
    "if hf_token is None:\n",
    "    raise ValueError(\"HF_token environment variable is not set.\")"
   ]
  },
  {
   "cell_type": "code",
   "execution_count": null,
   "id": "initial_id",
   "metadata": {},
   "outputs": [],
   "source": [
    "geolife = GeolifeDataset()\n",
    "\n",
    "gdf = geolife.load(hf_token=hf_token)"
   ]
  },
  {
   "cell_type": "code",
   "execution_count": null,
   "id": "e49e333575263e71",
   "metadata": {
    "collapsed": false
   },
   "outputs": [],
   "source": [
    "gdf.head()"
   ]
  },
  {
   "cell_type": "code",
   "execution_count": null,
   "id": "a157e67cca0565bd",
   "metadata": {
    "collapsed": false
   },
   "outputs": [],
   "source": [
    "def read_points(filename: str):\n",
    "    df = pd.read_csv(filename, skiprows=6, header=None\n",
    "    )  # WGS84\n",
    "    columns = [\n",
    "        \"latitude\",\n",
    "        \"longitude\",\n",
    "        \"zero\",\n",
    "        \"altitude\",\n",
    "        \"date\",\n",
    "        \"date_str\",\n",
    "        \"time\",\n",
    "        \"trajectory_id\",\n",
    "    ]\n",
    "    match2 = lambda x: x.split('/')[-1][:-4]\n",
    "    match = match2(filename)\n",
    "    df[\"trajectory_id\"] = match\n",
    "    df.rename(columns=dict(zip(df.columns, columns)), inplace=True)\n",
    "    df.drop([\"zero\"], inplace=True, axis=1)  # zero column is useless\n",
    "\n",
    "    df[\"time\"] = df[\"date_str\"] + \" \" + df[\"time\"]\n",
    "    df[\"datetime\"] = pd.to_datetime(df[\"time\"], format=\"%Y-%m-%d %H:%M:%S\")\n",
    "\n",
    "    df[\"mode\"] = \"unknown\"  # default value\n",
    "    if os.path.exists(os.path.join(geolife_dir, filename, \"..\", \"..\", \"labels.txt\")):\n",
    "        labels = pd.read_csv(\n",
    "            os.path.join(geolife_dir, filename, \"..\", \"..\", \"labels.txt\"),\n",
    "            sep=\"\\s+\",\n",
    "            skiprows=1,\n",
    "            header=None,\n",
    "        )\n",
    "        labels[\"start_time\"] = pd.to_datetime(labels[0] + \" \" + labels[1])\n",
    "        labels[\"end_time\"] = pd.to_datetime(labels[2] + \" \" + labels[3])\n",
    "        labels.rename(columns={4: \"mode\"}, inplace=True)\n",
    "        labels = labels[[\"start_time\", \"end_time\", \"mode\"]]\n",
    "\n",
    "        for i, row in labels.iterrows():\n",
    "            mask = (df[\"datetime\"] >= row[\"start_time\"]) & (\n",
    "                    df[\"datetime\"] <= row[\"end_time\"]\n",
    "            )\n",
    "            df.loc[mask, \"mode\"] = row[\"mode\"]\n",
    "\n",
    "    gdf = gpd.GeoDataFrame(\n",
    "        df,\n",
    "        columns=[\n",
    "            \"latitude\",\n",
    "            \"longitude\",\n",
    "            \"altitude\",\n",
    "            \"date\",\n",
    "            \"date_str\",\n",
    "            \"time\",\n",
    "            \"trajectory_id\",\n",
    "            \"mode\",\n",
    "        ],\n",
    "        geometry=gpd.points_from_xy(df[\"longitude\"], df[\"latitude\"]),\n",
    "        crs=\"EPSG:4326\",\n",
    "    )\n",
    "\n",
    "    return gdf\n",
    "\n",
    "\n",
    "def read_user_points(user_folder: str = 'Data', user_name: str = \"000\"):\n",
    "    # create geodataframe with user_id as column\n",
    "    data_folder = os.path.join(user_folder, user_name)\n",
    "    plt_files = glob.glob(os.path.join(data_folder, \"Trajectory\", \"*.plt\"))\n",
    "    dataframes = []\n",
    "    for file in plt_files:\n",
    "        geo_df = read_points(file)\n",
    "        geo_df[\"user_id\"] = user_name\n",
    "        dataframes.append(geo_df)\n",
    "    try:\n",
    "        final_geo_df = pd.concat(dataframes, ignore_index=True)\n",
    "        return final_geo_df\n",
    "    except ValueError:\n",
    "        print(f\"Error with {user_name}\")\n",
    "        return None\n",
    "    \n",
    "\n",
    "\n",
    "def read_all_users(folder):\n",
    "    subfolders = os.listdir(folder)\n",
    "    dfs = []\n",
    "    for sf in tqdm(\n",
    "            subfolders,\n",
    "            desc=\"Processing users trajectories\",\n",
    "            colour=\"cyan\",\n",
    "            smoothing=1.0,\n",
    "            total=len(subfolders),\n",
    "    ):\n",
    "        df = read_user_points(folder, sf)\n",
    "        dfs.append(df)\n",
    "    df = pd.concat(dfs, ignore_index=True)\n",
    "    return gpd.GeoDataFrame(df, geometry=df.geometry, crs=\"EPSG:4326\")"
   ]
  },
  {
   "cell_type": "code",
   "execution_count": null,
   "id": "9d0ee7ef427ba8ae",
   "metadata": {
    "collapsed": false
   },
   "outputs": [],
   "source": [
    "geolife_dir = 'Data/'\n",
    "gdf = read_all_users(geolife_dir)"
   ]
  },
  {
   "cell_type": "code",
   "execution_count": null,
   "id": "bd062ee1d74d9e06",
   "metadata": {
    "collapsed": false
   },
   "outputs": [],
   "source": [
    "gdf.head()"
   ]
  },
  {
   "cell_type": "code",
   "execution_count": null,
   "id": "35b24cf9c3803f7",
   "metadata": {
    "collapsed": false
   },
   "outputs": [],
   "source": [
    "if not os.path.exists('output_data'):\n",
    "    os.makedirs('output_data')\n",
    "gdf.to_parquet(os.path.join('output_data', 'geolife.parquet'))"
   ]
  },
  {
   "cell_type": "code",
   "execution_count": null,
   "id": "8939d566bdaed4e",
   "metadata": {
    "collapsed": false
   },
   "outputs": [],
   "source": []
  }
 ],
 "metadata": {
  "kernelspec": {
   "display_name": "Python 3 (ipykernel)",
   "language": "python",
   "name": "python3"
  },
  "language_info": {
   "codemirror_mode": {
    "name": "ipython",
    "version": 3
   },
   "file_extension": ".py",
   "mimetype": "text/x-python",
   "name": "python",
   "nbconvert_exporter": "python",
   "pygments_lexer": "ipython3",
   "version": "3.10.14"
  }
 },
 "nbformat": 4,
 "nbformat_minor": 5
}

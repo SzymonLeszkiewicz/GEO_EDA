{
 "cells": [
  {
   "cell_type": "markdown",
   "id": "c50bf84c2926d436",
   "metadata": {
    "collapsed": false
   },
   "source": [
    "# Convert Geolife dataset to GeoPandas DataFrame"
   ]
  },
  {
   "cell_type": "code",
   "execution_count": 1,
   "id": "d1d3247f78e95b39",
   "metadata": {
    "collapsed": false,
    "ExecuteTime": {
     "end_time": "2024-06-03T12:04:22.711486Z",
     "start_time": "2024-06-03T12:04:21.757139Z"
    }
   },
   "outputs": [],
   "source": [
    "from srai.datasets import GeolifeDataset\n",
    "import os\n",
    "from tqdm import tqdm\n",
    "import glob\n",
    "import re\n",
    "import pandas as pd\n",
    "import geopandas as gpd"
   ]
  },
  {
   "cell_type": "code",
   "execution_count": 2,
   "id": "f06eff119b6ebea6",
   "metadata": {
    "collapsed": false,
    "ExecuteTime": {
     "end_time": "2024-06-03T12:04:22.718921Z",
     "start_time": "2024-06-03T12:04:22.712139Z"
    }
   },
   "outputs": [],
   "source": [
    "%load_ext dotenv\n"
   ]
  },
  {
   "cell_type": "code",
   "execution_count": 3,
   "id": "43d34498c7bfb7cb",
   "metadata": {
    "collapsed": false,
    "ExecuteTime": {
     "end_time": "2024-06-03T12:04:22.861828Z",
     "start_time": "2024-06-03T12:04:22.856324Z"
    }
   },
   "outputs": [],
   "source": [
    "%dotenv\n"
   ]
  },
  {
   "cell_type": "code",
   "execution_count": 4,
   "id": "a5fb05f08b6dbae5",
   "metadata": {
    "collapsed": false,
    "ExecuteTime": {
     "end_time": "2024-06-03T12:04:23.303870Z",
     "start_time": "2024-06-03T12:04:23.298151Z"
    }
   },
   "outputs": [],
   "source": [
    "hf_token = os.getenv(\"HF_TOKEN\")"
   ]
  },
  {
   "cell_type": "code",
   "execution_count": 5,
   "id": "d61b6c222f463f38",
   "metadata": {
    "collapsed": false,
    "ExecuteTime": {
     "end_time": "2024-06-03T12:04:24.237823Z",
     "start_time": "2024-06-03T12:04:24.235617Z"
    }
   },
   "outputs": [],
   "source": [
    "from srai.datasets import PortoTaxiDataset\n"
   ]
  },
  {
   "cell_type": "code",
   "execution_count": null,
   "id": "fac50b285f2ffcec",
   "metadata": {
    "collapsed": false,
    "is_executing": true,
    "ExecuteTime": {
     "start_time": "2024-06-03T12:04:25.008920Z"
    }
   },
   "outputs": [
    {
     "name": "stderr",
     "output_type": "stream",
     "text": [
      "Using the latest cached version of the dataset since kraina/porto_taxi couldn't be found on the Hugging Face Hub\n",
      "Found the latest cached dataset configuration 'train' at /Users/szymonleszkiewicz/.cache/huggingface/datasets/kraina___porto_taxi/train/0.0.0/c35a420782ec0ce97bcb9dee37cba5f10f47f271ee6e0c9e3daad241867d0251 (last modified on Thu Mar 21 14:29:07 2024).\n"
     ]
    },
    {
     "data": {
      "text/plain": "  0%|          | 0/1666758 [00:00<?, ?it/s]",
      "application/vnd.jupyter.widget-view+json": {
       "version_major": 2,
       "version_minor": 0,
       "model_id": "fc52adb0b7214699aaeb137caf7b45d0"
      }
     },
     "metadata": {},
     "output_type": "display_data"
    },
    {
     "name": "stderr",
     "output_type": "stream",
     "text": [
      "Process SpawnProcess-13:\n",
      "Process SpawnProcess-14:\n",
      "Process SpawnProcess-11:\n",
      "Process SpawnProcess-10:\n",
      "Process SpawnProcess-12:\n",
      "Process SpawnProcess-9:\n",
      "Process SpawnProcess-8:\n",
      "Process SpawnProcess-7:\n",
      "Process SpawnProcess-6:\n",
      "Process SpawnProcess-5:\n",
      "Process SpawnProcess-2:\n",
      "Process SpawnProcess-4:\n",
      "Process SpawnProcess-1:\n",
      "Traceback (most recent call last):\n",
      "  File \"/Users/szymonleszkiewicz/anaconda3/envs/obsrai/lib/python3.10/multiprocessing/process.py\", line 314, in _bootstrap\n",
      "    self.run()\n",
      "  File \"/Users/szymonleszkiewicz/anaconda3/envs/obsrai/lib/python3.10/multiprocessing/process.py\", line 108, in run\n",
      "    self._target(*self._args, **self._kwargs)\n",
      "  File \"/Users/szymonleszkiewicz/anaconda3/envs/obsrai/lib/python3.10/concurrent/futures/process.py\", line 240, in _process_worker\n",
      "    call_item = call_queue.get(block=True)\n",
      "  File \"/Users/szymonleszkiewicz/anaconda3/envs/obsrai/lib/python3.10/multiprocessing/queues.py\", line 102, in get\n",
      "    with self._rlock:\n",
      "  File \"/Users/szymonleszkiewicz/anaconda3/envs/obsrai/lib/python3.10/multiprocessing/synchronize.py\", line 95, in __enter__\n",
      "    return self._semlock.__enter__()\n",
      "KeyboardInterrupt\n",
      "Traceback (most recent call last):\n",
      "  File \"/Users/szymonleszkiewicz/anaconda3/envs/obsrai/lib/python3.10/multiprocessing/process.py\", line 314, in _bootstrap\n",
      "    self.run()\n",
      "  File \"/Users/szymonleszkiewicz/anaconda3/envs/obsrai/lib/python3.10/multiprocessing/process.py\", line 108, in run\n",
      "    self._target(*self._args, **self._kwargs)\n",
      "  File \"/Users/szymonleszkiewicz/anaconda3/envs/obsrai/lib/python3.10/concurrent/futures/process.py\", line 240, in _process_worker\n",
      "    call_item = call_queue.get(block=True)\n",
      "  File \"/Users/szymonleszkiewicz/anaconda3/envs/obsrai/lib/python3.10/multiprocessing/queues.py\", line 102, in get\n",
      "    with self._rlock:\n",
      "  File \"/Users/szymonleszkiewicz/anaconda3/envs/obsrai/lib/python3.10/multiprocessing/synchronize.py\", line 95, in __enter__\n",
      "    return self._semlock.__enter__()\n",
      "KeyboardInterrupt\n",
      "Traceback (most recent call last):\n",
      "  File \"/Users/szymonleszkiewicz/anaconda3/envs/obsrai/lib/python3.10/multiprocessing/process.py\", line 314, in _bootstrap\n",
      "    self.run()\n",
      "  File \"/Users/szymonleszkiewicz/anaconda3/envs/obsrai/lib/python3.10/multiprocessing/process.py\", line 108, in run\n",
      "    self._target(*self._args, **self._kwargs)\n",
      "  File \"/Users/szymonleszkiewicz/anaconda3/envs/obsrai/lib/python3.10/concurrent/futures/process.py\", line 240, in _process_worker\n",
      "    call_item = call_queue.get(block=True)\n",
      "  File \"/Users/szymonleszkiewicz/anaconda3/envs/obsrai/lib/python3.10/multiprocessing/queues.py\", line 102, in get\n",
      "    with self._rlock:\n",
      "  File \"/Users/szymonleszkiewicz/anaconda3/envs/obsrai/lib/python3.10/multiprocessing/synchronize.py\", line 95, in __enter__\n",
      "    return self._semlock.__enter__()\n",
      "KeyboardInterrupt\n",
      "Traceback (most recent call last):\n",
      "  File \"/Users/szymonleszkiewicz/anaconda3/envs/obsrai/lib/python3.10/multiprocessing/process.py\", line 314, in _bootstrap\n",
      "    self.run()\n",
      "  File \"/Users/szymonleszkiewicz/anaconda3/envs/obsrai/lib/python3.10/multiprocessing/process.py\", line 108, in run\n",
      "    self._target(*self._args, **self._kwargs)\n",
      "  File \"/Users/szymonleszkiewicz/anaconda3/envs/obsrai/lib/python3.10/concurrent/futures/process.py\", line 240, in _process_worker\n",
      "    call_item = call_queue.get(block=True)\n",
      "  File \"/Users/szymonleszkiewicz/anaconda3/envs/obsrai/lib/python3.10/multiprocessing/queues.py\", line 102, in get\n",
      "    with self._rlock:\n",
      "  File \"/Users/szymonleszkiewicz/anaconda3/envs/obsrai/lib/python3.10/multiprocessing/synchronize.py\", line 95, in __enter__\n",
      "    return self._semlock.__enter__()\n",
      "KeyboardInterrupt\n",
      "Traceback (most recent call last):\n",
      "Traceback (most recent call last):\n",
      "  File \"/Users/szymonleszkiewicz/anaconda3/envs/obsrai/lib/python3.10/multiprocessing/process.py\", line 314, in _bootstrap\n",
      "    self.run()\n",
      "  File \"/Users/szymonleszkiewicz/anaconda3/envs/obsrai/lib/python3.10/multiprocessing/process.py\", line 108, in run\n",
      "    self._target(*self._args, **self._kwargs)\n",
      "  File \"/Users/szymonleszkiewicz/anaconda3/envs/obsrai/lib/python3.10/concurrent/futures/process.py\", line 240, in _process_worker\n",
      "    call_item = call_queue.get(block=True)\n",
      "  File \"/Users/szymonleszkiewicz/anaconda3/envs/obsrai/lib/python3.10/multiprocessing/queues.py\", line 102, in get\n",
      "    with self._rlock:\n",
      "  File \"/Users/szymonleszkiewicz/anaconda3/envs/obsrai/lib/python3.10/multiprocessing/synchronize.py\", line 95, in __enter__\n",
      "    return self._semlock.__enter__()\n",
      "KeyboardInterrupt\n",
      "Traceback (most recent call last):\n",
      "  File \"/Users/szymonleszkiewicz/anaconda3/envs/obsrai/lib/python3.10/multiprocessing/process.py\", line 314, in _bootstrap\n",
      "    self.run()\n",
      "  File \"/Users/szymonleszkiewicz/anaconda3/envs/obsrai/lib/python3.10/multiprocessing/process.py\", line 108, in run\n",
      "    self._target(*self._args, **self._kwargs)\n",
      "  File \"/Users/szymonleszkiewicz/anaconda3/envs/obsrai/lib/python3.10/concurrent/futures/process.py\", line 240, in _process_worker\n",
      "    call_item = call_queue.get(block=True)\n",
      "  File \"/Users/szymonleszkiewicz/anaconda3/envs/obsrai/lib/python3.10/multiprocessing/queues.py\", line 102, in get\n",
      "    with self._rlock:\n",
      "  File \"/Users/szymonleszkiewicz/anaconda3/envs/obsrai/lib/python3.10/multiprocessing/synchronize.py\", line 95, in __enter__\n",
      "    return self._semlock.__enter__()\n",
      "KeyboardInterrupt\n",
      "Traceback (most recent call last):\n",
      "  File \"/Users/szymonleszkiewicz/anaconda3/envs/obsrai/lib/python3.10/multiprocessing/process.py\", line 314, in _bootstrap\n",
      "    self.run()\n",
      "  File \"/Users/szymonleszkiewicz/anaconda3/envs/obsrai/lib/python3.10/multiprocessing/process.py\", line 108, in run\n",
      "    self._target(*self._args, **self._kwargs)\n",
      "  File \"/Users/szymonleszkiewicz/anaconda3/envs/obsrai/lib/python3.10/concurrent/futures/process.py\", line 240, in _process_worker\n",
      "    call_item = call_queue.get(block=True)\n",
      "  File \"/Users/szymonleszkiewicz/anaconda3/envs/obsrai/lib/python3.10/multiprocessing/queues.py\", line 102, in get\n",
      "    with self._rlock:\n",
      "  File \"/Users/szymonleszkiewicz/anaconda3/envs/obsrai/lib/python3.10/multiprocessing/synchronize.py\", line 95, in __enter__\n",
      "    return self._semlock.__enter__()\n",
      "KeyboardInterrupt\n",
      "Traceback (most recent call last):\n",
      "  File \"/Users/szymonleszkiewicz/anaconda3/envs/obsrai/lib/python3.10/multiprocessing/process.py\", line 314, in _bootstrap\n",
      "    self.run()\n",
      "  File \"/Users/szymonleszkiewicz/anaconda3/envs/obsrai/lib/python3.10/multiprocessing/process.py\", line 108, in run\n",
      "    self._target(*self._args, **self._kwargs)\n",
      "  File \"/Users/szymonleszkiewicz/anaconda3/envs/obsrai/lib/python3.10/concurrent/futures/process.py\", line 240, in _process_worker\n",
      "    call_item = call_queue.get(block=True)\n",
      "  File \"/Users/szymonleszkiewicz/anaconda3/envs/obsrai/lib/python3.10/multiprocessing/queues.py\", line 102, in get\n",
      "    with self._rlock:\n",
      "  File \"/Users/szymonleszkiewicz/anaconda3/envs/obsrai/lib/python3.10/multiprocessing/synchronize.py\", line 95, in __enter__\n",
      "    return self._semlock.__enter__()\n",
      "KeyboardInterrupt\n",
      "Traceback (most recent call last):\n",
      "  File \"/Users/szymonleszkiewicz/anaconda3/envs/obsrai/lib/python3.10/multiprocessing/process.py\", line 314, in _bootstrap\n",
      "    self.run()\n",
      "  File \"/Users/szymonleszkiewicz/anaconda3/envs/obsrai/lib/python3.10/multiprocessing/process.py\", line 108, in run\n",
      "    self._target(*self._args, **self._kwargs)\n",
      "  File \"/Users/szymonleszkiewicz/anaconda3/envs/obsrai/lib/python3.10/concurrent/futures/process.py\", line 240, in _process_worker\n",
      "    call_item = call_queue.get(block=True)\n",
      "  File \"/Users/szymonleszkiewicz/anaconda3/envs/obsrai/lib/python3.10/multiprocessing/queues.py\", line 102, in get\n",
      "    with self._rlock:\n",
      "  File \"/Users/szymonleszkiewicz/anaconda3/envs/obsrai/lib/python3.10/multiprocessing/synchronize.py\", line 95, in __enter__\n",
      "    return self._semlock.__enter__()\n",
      "KeyboardInterrupt\n",
      "  File \"/Users/szymonleszkiewicz/anaconda3/envs/obsrai/lib/python3.10/multiprocessing/process.py\", line 314, in _bootstrap\n",
      "    self.run()\n",
      "  File \"/Users/szymonleszkiewicz/anaconda3/envs/obsrai/lib/python3.10/multiprocessing/process.py\", line 108, in run\n",
      "    self._target(*self._args, **self._kwargs)\n",
      "  File \"/Users/szymonleszkiewicz/anaconda3/envs/obsrai/lib/python3.10/concurrent/futures/process.py\", line 240, in _process_worker\n",
      "    call_item = call_queue.get(block=True)\n",
      "  File \"/Users/szymonleszkiewicz/anaconda3/envs/obsrai/lib/python3.10/multiprocessing/queues.py\", line 102, in get\n",
      "    with self._rlock:\n",
      "  File \"/Users/szymonleszkiewicz/anaconda3/envs/obsrai/lib/python3.10/multiprocessing/synchronize.py\", line 95, in __enter__\n",
      "    return self._semlock.__enter__()\n",
      "KeyboardInterrupt\n",
      "Traceback (most recent call last):\n",
      "  File \"/Users/szymonleszkiewicz/anaconda3/envs/obsrai/lib/python3.10/multiprocessing/process.py\", line 314, in _bootstrap\n",
      "    self.run()\n",
      "  File \"/Users/szymonleszkiewicz/anaconda3/envs/obsrai/lib/python3.10/multiprocessing/process.py\", line 108, in run\n",
      "    self._target(*self._args, **self._kwargs)\n",
      "  File \"/Users/szymonleszkiewicz/anaconda3/envs/obsrai/lib/python3.10/concurrent/futures/process.py\", line 240, in _process_worker\n",
      "    call_item = call_queue.get(block=True)\n",
      "  File \"/Users/szymonleszkiewicz/anaconda3/envs/obsrai/lib/python3.10/multiprocessing/queues.py\", line 103, in get\n",
      "    res = self._recv_bytes()\n",
      "  File \"/Users/szymonleszkiewicz/anaconda3/envs/obsrai/lib/python3.10/multiprocessing/connection.py\", line 216, in recv_bytes\n",
      "    buf = self._recv_bytes(maxlength)\n",
      "  File \"/Users/szymonleszkiewicz/anaconda3/envs/obsrai/lib/python3.10/multiprocessing/connection.py\", line 414, in _recv_bytes\n",
      "    buf = self._recv(4)\n",
      "  File \"/Users/szymonleszkiewicz/anaconda3/envs/obsrai/lib/python3.10/multiprocessing/connection.py\", line 379, in _recv\n",
      "    chunk = read(handle, remaining)\n",
      "KeyboardInterrupt\n",
      "Traceback (most recent call last):\n",
      "  File \"/Users/szymonleszkiewicz/anaconda3/envs/obsrai/lib/python3.10/multiprocessing/process.py\", line 314, in _bootstrap\n",
      "    self.run()\n",
      "  File \"/Users/szymonleszkiewicz/anaconda3/envs/obsrai/lib/python3.10/multiprocessing/process.py\", line 108, in run\n",
      "    self._target(*self._args, **self._kwargs)\n",
      "  File \"/Users/szymonleszkiewicz/anaconda3/envs/obsrai/lib/python3.10/concurrent/futures/process.py\", line 240, in _process_worker\n",
      "    call_item = call_queue.get(block=True)\n",
      "  File \"/Users/szymonleszkiewicz/anaconda3/envs/obsrai/lib/python3.10/multiprocessing/queues.py\", line 102, in get\n",
      "    with self._rlock:\n",
      "  File \"/Users/szymonleszkiewicz/anaconda3/envs/obsrai/lib/python3.10/multiprocessing/synchronize.py\", line 95, in __enter__\n",
      "    return self._semlock.__enter__()\n",
      "KeyboardInterrupt\n",
      "Traceback (most recent call last):\n",
      "  File \"/Users/szymonleszkiewicz/anaconda3/envs/obsrai/lib/python3.10/multiprocessing/process.py\", line 314, in _bootstrap\n",
      "    self.run()\n",
      "  File \"/Users/szymonleszkiewicz/anaconda3/envs/obsrai/lib/python3.10/multiprocessing/process.py\", line 108, in run\n",
      "    self._target(*self._args, **self._kwargs)\n",
      "  File \"/Users/szymonleszkiewicz/anaconda3/envs/obsrai/lib/python3.10/concurrent/futures/process.py\", line 240, in _process_worker\n",
      "    call_item = call_queue.get(block=True)\n",
      "  File \"/Users/szymonleszkiewicz/anaconda3/envs/obsrai/lib/python3.10/multiprocessing/queues.py\", line 102, in get\n",
      "    with self._rlock:\n",
      "  File \"/Users/szymonleszkiewicz/anaconda3/envs/obsrai/lib/python3.10/multiprocessing/synchronize.py\", line 95, in __enter__\n",
      "    return self._semlock.__enter__()\n",
      "KeyboardInterrupt\n"
     ]
    }
   ],
   "source": [
    "porto_taxi_dataset = PortoTaxiDataset()\n",
    "gdf_porto_taxi = porto_taxi_dataset.load(hf_token=hf_token)"
   ]
  },
  {
   "cell_type": "code",
   "execution_count": 6,
   "id": "6b4be59af8a015ec",
   "metadata": {
    "ExecuteTime": {
     "start_time": "2024-06-03T11:53:26.461732Z"
    },
    "collapsed": false
   },
   "outputs": [
    {
     "name": "stderr",
     "output_type": "stream",
     "text": [
      "Using the latest cached version of the module from /Users/szymonleszkiewicz/.cache/huggingface/modules/datasets_modules/datasets/kraina--geolife/2a6f84d194d579d48c0b131a3f0caba688edd9e2e5effaec1e5fdc9b68462f8b (last modified on Thu Mar 21 14:04:15 2024) since it couldn't be found locally at kraina/geolife, or remotely on the Hugging Face Hub.\n"
     ]
    },
    {
     "ename": "KeyboardInterrupt",
     "evalue": "",
     "output_type": "error",
     "traceback": [
      "\u001B[0;31m---------------------------------------------------------------------------\u001B[0m",
      "\u001B[0;31mKeyboardInterrupt\u001B[0m                         Traceback (most recent call last)",
      "Cell \u001B[0;32mIn[6], line 2\u001B[0m\n\u001B[1;32m      1\u001B[0m geolife \u001B[38;5;241m=\u001B[39m GeolifeDataset()\n\u001B[0;32m----> 2\u001B[0m gdf \u001B[38;5;241m=\u001B[39m \u001B[43mgeolife\u001B[49m\u001B[38;5;241;43m.\u001B[39;49m\u001B[43mload\u001B[49m\u001B[43m(\u001B[49m\u001B[43mhf_token\u001B[49m\u001B[38;5;241;43m=\u001B[39;49m\u001B[43mhf_token\u001B[49m\u001B[43m)\u001B[49m\n",
      "File \u001B[0;32m~/Desktop/AI2024/srai/srai/datasets/_base.py:67\u001B[0m, in \u001B[0;36mHuggingFaceDataset.load\u001B[0;34m(self, hf_token, version)\u001B[0m\n\u001B[1;32m     65\u001B[0m dataset_name \u001B[38;5;241m=\u001B[39m \u001B[38;5;28mself\u001B[39m\u001B[38;5;241m.\u001B[39mpath\n\u001B[1;32m     66\u001B[0m version \u001B[38;5;241m=\u001B[39m version \u001B[38;5;129;01mor\u001B[39;00m \u001B[38;5;28mself\u001B[39m\u001B[38;5;241m.\u001B[39mversion\n\u001B[0;32m---> 67\u001B[0m data \u001B[38;5;241m=\u001B[39m \u001B[43mHuggingFaceLoader\u001B[49m\u001B[43m(\u001B[49m\u001B[43mhf_token\u001B[49m\u001B[38;5;241;43m=\u001B[39;49m\u001B[43mhf_token\u001B[49m\u001B[43m)\u001B[49m\u001B[38;5;241;43m.\u001B[39;49m\u001B[43mload\u001B[49m\u001B[43m(\u001B[49m\u001B[43mdataset_name\u001B[49m\u001B[38;5;241;43m=\u001B[39;49m\u001B[43mdataset_name\u001B[49m\u001B[43m,\u001B[49m\u001B[43m \u001B[49m\u001B[43mname\u001B[49m\u001B[38;5;241;43m=\u001B[39;49m\u001B[43mversion\u001B[49m\u001B[43m)\u001B[49m\n\u001B[1;32m     68\u001B[0m processed_data \u001B[38;5;241m=\u001B[39m \u001B[38;5;28mself\u001B[39m\u001B[38;5;241m.\u001B[39m_preprocessing(data)\n\u001B[1;32m     70\u001B[0m \u001B[38;5;28;01mreturn\u001B[39;00m processed_data\n",
      "File \u001B[0;32m~/Desktop/AI2024/srai/srai/loaders/hugging_face_loader.py:51\u001B[0m, in \u001B[0;36mHuggingFaceLoader.load\u001B[0;34m(self, dataset_name, name)\u001B[0m\n\u001B[1;32m     47\u001B[0m \u001B[38;5;28;01mfrom\u001B[39;00m \u001B[38;5;21;01mdatasets\u001B[39;00m \u001B[38;5;28;01mimport\u001B[39;00m load_dataset\n\u001B[1;32m     49\u001B[0m dataset \u001B[38;5;241m=\u001B[39m load_dataset(dataset_name, name\u001B[38;5;241m=\u001B[39mname, token\u001B[38;5;241m=\u001B[39m\u001B[38;5;28mself\u001B[39m\u001B[38;5;241m.\u001B[39mhf_token, trust_remote_code\u001B[38;5;241m=\u001B[39m\u001B[38;5;28;01mTrue\u001B[39;00m)\n\u001B[0;32m---> 51\u001B[0m \u001B[38;5;28;01mreturn\u001B[39;00m \u001B[43mdataset\u001B[49m\u001B[43m[\u001B[49m\u001B[38;5;124;43m\"\u001B[39;49m\u001B[38;5;124;43mtrain\u001B[39;49m\u001B[38;5;124;43m\"\u001B[39;49m\u001B[43m]\u001B[49m\u001B[38;5;241;43m.\u001B[39;49m\u001B[43mto_pandas\u001B[49m\u001B[43m(\u001B[49m\u001B[43m)\u001B[49m\n",
      "File \u001B[0;32m~/anaconda3/envs/obsrai/lib/python3.10/site-packages/datasets/arrow_dataset.py:5058\u001B[0m, in \u001B[0;36mDataset.to_pandas\u001B[0;34m(self, batch_size, batched)\u001B[0m\n\u001B[1;32m   5038\u001B[0m \u001B[38;5;250m\u001B[39m\u001B[38;5;124;03m\"\"\"Returns the dataset as a `pandas.DataFrame`. Can also return a generator for large datasets.\u001B[39;00m\n\u001B[1;32m   5039\u001B[0m \n\u001B[1;32m   5040\u001B[0m \u001B[38;5;124;03mArgs:\u001B[39;00m\n\u001B[0;32m   (...)\u001B[0m\n\u001B[1;32m   5055\u001B[0m \u001B[38;5;124;03m```\u001B[39;00m\n\u001B[1;32m   5056\u001B[0m \u001B[38;5;124;03m\"\"\"\u001B[39;00m\n\u001B[1;32m   5057\u001B[0m \u001B[38;5;28;01mif\u001B[39;00m \u001B[38;5;129;01mnot\u001B[39;00m batched:\n\u001B[0;32m-> 5058\u001B[0m     \u001B[38;5;28;01mreturn\u001B[39;00m \u001B[43mquery_table\u001B[49m\u001B[43m(\u001B[49m\n\u001B[1;32m   5059\u001B[0m \u001B[43m        \u001B[49m\u001B[43mtable\u001B[49m\u001B[38;5;241;43m=\u001B[39;49m\u001B[38;5;28;43mself\u001B[39;49m\u001B[38;5;241;43m.\u001B[39;49m\u001B[43m_data\u001B[49m\u001B[43m,\u001B[49m\n\u001B[1;32m   5060\u001B[0m \u001B[43m        \u001B[49m\u001B[43mkey\u001B[49m\u001B[38;5;241;43m=\u001B[39;49m\u001B[38;5;28;43mslice\u001B[39;49m\u001B[43m(\u001B[49m\u001B[38;5;241;43m0\u001B[39;49m\u001B[43m,\u001B[49m\u001B[43m \u001B[49m\u001B[38;5;28;43mlen\u001B[39;49m\u001B[43m(\u001B[49m\u001B[38;5;28;43mself\u001B[39;49m\u001B[43m)\u001B[49m\u001B[43m)\u001B[49m\u001B[43m,\u001B[49m\n\u001B[1;32m   5061\u001B[0m \u001B[43m        \u001B[49m\u001B[43mindices\u001B[49m\u001B[38;5;241;43m=\u001B[39;49m\u001B[38;5;28;43mself\u001B[39;49m\u001B[38;5;241;43m.\u001B[39;49m\u001B[43m_indices\u001B[49m\u001B[43m,\u001B[49m\n\u001B[1;32m   5062\u001B[0m \u001B[43m    \u001B[49m\u001B[43m)\u001B[49m\u001B[38;5;241;43m.\u001B[39;49m\u001B[43mto_pandas\u001B[49m\u001B[43m(\u001B[49m\u001B[43mtypes_mapper\u001B[49m\u001B[38;5;241;43m=\u001B[39;49m\u001B[43mpandas_types_mapper\u001B[49m\u001B[43m)\u001B[49m\n\u001B[1;32m   5063\u001B[0m \u001B[38;5;28;01melse\u001B[39;00m:\n\u001B[1;32m   5064\u001B[0m     batch_size \u001B[38;5;241m=\u001B[39m batch_size \u001B[38;5;28;01mif\u001B[39;00m batch_size \u001B[38;5;28;01melse\u001B[39;00m config\u001B[38;5;241m.\u001B[39mDEFAULT_MAX_BATCH_SIZE\n",
      "File \u001B[0;32m~/anaconda3/envs/obsrai/lib/python3.10/site-packages/pyarrow/array.pxi:872\u001B[0m, in \u001B[0;36mpyarrow.lib._PandasConvertible.to_pandas\u001B[0;34m()\u001B[0m\n",
      "File \u001B[0;32m~/anaconda3/envs/obsrai/lib/python3.10/site-packages/pyarrow/table.pxi:4904\u001B[0m, in \u001B[0;36mpyarrow.lib.Table._to_pandas\u001B[0;34m()\u001B[0m\n",
      "File \u001B[0;32m~/anaconda3/envs/obsrai/lib/python3.10/site-packages/pyarrow/pandas_compat.py:779\u001B[0m, in \u001B[0;36mtable_to_dataframe\u001B[0;34m(options, table, categories, ignore_metadata, types_mapper)\u001B[0m\n\u001B[1;32m    776\u001B[0m columns \u001B[38;5;241m=\u001B[39m _deserialize_column_index(table, all_columns, column_indexes)\n\u001B[1;32m    778\u001B[0m column_names \u001B[38;5;241m=\u001B[39m table\u001B[38;5;241m.\u001B[39mcolumn_names\n\u001B[0;32m--> 779\u001B[0m result \u001B[38;5;241m=\u001B[39m \u001B[43mpa\u001B[49m\u001B[38;5;241;43m.\u001B[39;49m\u001B[43mlib\u001B[49m\u001B[38;5;241;43m.\u001B[39;49m\u001B[43mtable_to_blocks\u001B[49m\u001B[43m(\u001B[49m\u001B[43moptions\u001B[49m\u001B[43m,\u001B[49m\u001B[43m \u001B[49m\u001B[43mtable\u001B[49m\u001B[43m,\u001B[49m\u001B[43m \u001B[49m\u001B[43mcategories\u001B[49m\u001B[43m,\u001B[49m\n\u001B[1;32m    780\u001B[0m \u001B[43m                                \u001B[49m\u001B[38;5;28;43mlist\u001B[39;49m\u001B[43m(\u001B[49m\u001B[43mext_columns_dtypes\u001B[49m\u001B[38;5;241;43m.\u001B[39;49m\u001B[43mkeys\u001B[49m\u001B[43m(\u001B[49m\u001B[43m)\u001B[49m\u001B[43m)\u001B[49m\u001B[43m)\u001B[49m\n\u001B[1;32m    781\u001B[0m \u001B[38;5;28;01mif\u001B[39;00m _pandas_api\u001B[38;5;241m.\u001B[39mis_ge_v3():\n\u001B[1;32m    782\u001B[0m     \u001B[38;5;28;01mfrom\u001B[39;00m \u001B[38;5;21;01mpandas\u001B[39;00m\u001B[38;5;21;01m.\u001B[39;00m\u001B[38;5;21;01mapi\u001B[39;00m\u001B[38;5;21;01m.\u001B[39;00m\u001B[38;5;21;01minternals\u001B[39;00m \u001B[38;5;28;01mimport\u001B[39;00m create_dataframe_from_blocks\n",
      "\u001B[0;31mKeyboardInterrupt\u001B[0m: "
     ]
    }
   ],
   "source": [
    "geolife = GeolifeDataset()\n",
    "gdf = geolife.load(hf_token=hf_token)"
   ]
  },
  {
   "cell_type": "code",
   "execution_count": null,
   "id": "a157e67cca0565bd",
   "metadata": {
    "collapsed": false
   },
   "outputs": [],
   "source": [
    "def read_points(filename: str):\n",
    "    df = pd.read_csv(filename, skiprows=6, header=None\n",
    "    )  # WGS84\n",
    "    columns = [\n",
    "        \"latitude\",\n",
    "        \"longitude\",\n",
    "        \"zero\",\n",
    "        \"altitude\",\n",
    "        \"date\",\n",
    "        \"date_str\",\n",
    "        \"time\",\n",
    "        \"trajectory_id\",\n",
    "    ]\n",
    "    match2 = lambda x: x.split('/')[-1][:-4]\n",
    "    match = match2(filename)\n",
    "    df[\"trajectory_id\"] = match\n",
    "    df.rename(columns=dict(zip(df.columns, columns)), inplace=True)\n",
    "    df.drop([\"zero\"], inplace=True, axis=1)  # zero column is useless\n",
    "\n",
    "    df[\"time\"] = df[\"date_str\"] + \" \" + df[\"time\"]\n",
    "    df[\"datetime\"] = pd.to_datetime(df[\"time\"], format=\"%Y-%m-%d %H:%M:%S\")\n",
    "\n",
    "    df[\"mode\"] = \"unknown\"  # default value\n",
    "    if os.path.exists(os.path.join(geolife_dir, filename, \"..\", \"..\", \"labels.txt\")):\n",
    "        labels = pd.read_csv(\n",
    "            os.path.join(geolife_dir, filename, \"..\", \"..\", \"labels.txt\"),\n",
    "            sep=\"\\s+\",\n",
    "            skiprows=1,\n",
    "            header=None,\n",
    "        )\n",
    "        labels[\"start_time\"] = pd.to_datetime(labels[0] + \" \" + labels[1])\n",
    "        labels[\"end_time\"] = pd.to_datetime(labels[2] + \" \" + labels[3])\n",
    "        labels.rename(columns={4: \"mode\"}, inplace=True)\n",
    "        labels = labels[[\"start_time\", \"end_time\", \"mode\"]]\n",
    "\n",
    "        for i, row in labels.iterrows():\n",
    "            mask = (df[\"datetime\"] >= row[\"start_time\"]) & (\n",
    "                    df[\"datetime\"] <= row[\"end_time\"]\n",
    "            )\n",
    "            df.loc[mask, \"mode\"] = row[\"mode\"]\n",
    "\n",
    "    gdf = gpd.GeoDataFrame(\n",
    "        df,\n",
    "        columns=[\n",
    "            \"latitude\",\n",
    "            \"longitude\",\n",
    "            \"altitude\",\n",
    "            \"date\",\n",
    "            \"date_str\",\n",
    "            \"time\",\n",
    "            \"trajectory_id\",\n",
    "            \"mode\",\n",
    "        ],\n",
    "        geometry=gpd.points_from_xy(df[\"longitude\"], df[\"latitude\"]),\n",
    "        crs=\"EPSG:4326\",\n",
    "    )\n",
    "\n",
    "    return gdf\n",
    "\n",
    "\n",
    "def read_user_points(user_folder: str = 'Data', user_name: str = \"000\"):\n",
    "    # create geodataframe with user_id as column\n",
    "    data_folder = os.path.join(user_folder, user_name)\n",
    "    plt_files = glob.glob(os.path.join(data_folder, \"Trajectory\", \"*.plt\"))\n",
    "    dataframes = []\n",
    "    for file in plt_files:\n",
    "        geo_df = read_points(file)\n",
    "        geo_df[\"user_id\"] = user_name\n",
    "        dataframes.append(geo_df)\n",
    "    try:\n",
    "        final_geo_df = pd.concat(dataframes, ignore_index=True)\n",
    "        return final_geo_df\n",
    "    except ValueError:\n",
    "        print(f\"Error with {user_name}\")\n",
    "        return None\n",
    "    \n",
    "\n",
    "\n",
    "def read_all_users(folder):\n",
    "    subfolders = os.listdir(folder)\n",
    "    dfs = []\n",
    "    for sf in tqdm(\n",
    "            subfolders,\n",
    "            desc=\"Processing users trajectories\",\n",
    "            colour=\"cyan\",\n",
    "            smoothing=1.0,\n",
    "            total=len(subfolders),\n",
    "    ):\n",
    "        df = read_user_points(folder, sf)\n",
    "        dfs.append(df)\n",
    "    df = pd.concat(dfs, ignore_index=True)\n",
    "    return gpd.GeoDataFrame(df, geometry=df.geometry, crs=\"EPSG:4326\")"
   ]
  },
  {
   "cell_type": "code",
   "execution_count": null,
   "id": "9d0ee7ef427ba8ae",
   "metadata": {
    "collapsed": false
   },
   "outputs": [],
   "source": [
    "geolife_dir = 'Data/'\n",
    "gdf = read_all_users(geolife_dir)"
   ]
  },
  {
   "cell_type": "code",
   "execution_count": null,
   "id": "bd062ee1d74d9e06",
   "metadata": {
    "collapsed": false
   },
   "outputs": [],
   "source": [
    "gdf.head()"
   ]
  },
  {
   "cell_type": "code",
   "execution_count": null,
   "id": "35b24cf9c3803f7",
   "metadata": {
    "collapsed": false
   },
   "outputs": [],
   "source": [
    "if not os.path.exists('output_data'):\n",
    "    os.makedirs('output_data')\n",
    "gdf.to_parquet(os.path.join('output_data', 'geolife.parquet'))"
   ]
  },
  {
   "cell_type": "code",
   "execution_count": null,
   "id": "8939d566bdaed4e",
   "metadata": {
    "collapsed": false
   },
   "outputs": [],
   "source": []
  }
 ],
 "metadata": {
  "kernelspec": {
   "display_name": "Python 3 (ipykernel)",
   "language": "python",
   "name": "python3"
  },
  "language_info": {
   "codemirror_mode": {
    "name": "ipython",
    "version": 3
   },
   "file_extension": ".py",
   "mimetype": "text/x-python",
   "name": "python",
   "nbconvert_exporter": "python",
   "pygments_lexer": "ipython3",
   "version": "3.10.14"
  }
 },
 "nbformat": 4,
 "nbformat_minor": 5
}

{
 "cells": [
  {
   "cell_type": "code",
   "outputs": [],
   "source": [
    "from srai.datasets import GeolifeDataset\n",
    "import os\n",
    "from tqdm import tqdm\n",
    "import glob\n",
    "import re\n",
    "import pandas as pd\n",
    "import geopandas as gpd"
   ],
   "metadata": {
    "collapsed": false,
    "ExecuteTime": {
     "end_time": "2024-04-29T00:18:40.196970Z",
     "start_time": "2024-04-29T00:18:40.191351Z"
    }
   },
   "id": "d1d3247f78e95b39",
   "execution_count": 46
  },
  {
   "cell_type": "code",
   "outputs": [],
   "source": [
    "# set os var\n",
    "# os.environ['HF_token'] = '' # not active"
   ],
   "metadata": {
    "collapsed": false,
    "ExecuteTime": {
     "end_time": "2024-04-29T00:18:40.418937Z",
     "start_time": "2024-04-29T00:18:40.415401Z"
    }
   },
   "id": "68ede1cef0351151",
   "execution_count": 47
  },
  {
   "cell_type": "code",
   "execution_count": 3,
   "id": "initial_id",
   "metadata": {
    "collapsed": true,
    "ExecuteTime": {
     "end_time": "2024-04-27T20:26:50.999681Z",
     "start_time": "2024-04-27T20:25:59.484192Z"
    }
   },
   "outputs": [],
   "source": [
    "geolife = GeolifeDataset()\n",
    "gdf = geolife.load(hf_token=os.environ['HF_token'])"
   ]
  },
  {
   "cell_type": "code",
   "outputs": [
    {
     "data": {
      "text/plain": "                                            latitude  \\\n0                  [39.988992, 39.990964, 39.993207]   \n1  [39.9742333333333, 39.9743166666667, 39.974466...   \n2  [39.9755166666667, 39.97585, 39.9759833333333,...   \n3  [39.9764666666667, 39.9764, 39.97625, 39.9762,...   \n4  [39.97585, 39.9759833333333, 39.9761, 39.97623...   \n\n                                           longitude  \\\n0               [116.327023, 116.327041, 116.326827]   \n1  [116.330383333333, 116.33045, 116.33045, 116.3...   \n2  [116.330283333333, 116.3304, 116.330466666667,...   \n3  [116.330066666667, 116.33015, 116.330266666667...   \n4  [116.3304, 116.330466666667, 116.3305, 116.330...   \n\n                                            altitude  \\\n0  [128.937004593176, 221.128615485564, 217.19159...   \n1  [823.490813648294, 823.490813648294, 741.46981...   \n2  [351.049868766404, 114.829396325459, 114.82939...   \n3  [173.884514435696, 173.884514435696, 173.88451...   \n4  [114.829396325459, 114.829396325459, 118.11023...   \n\n                                                time  \\\n0  [2000-01-01 23:12:19, 2000-01-01 23:13:21, 200...   \n1  [2007-04-12 09:31:32, 2007-04-12 09:39:37, 200...   \n2  [2007-04-12 10:18:53, 2007-04-12 10:20:15, 200...   \n3  [2007-04-12 10:21:16, 2007-04-12 10:21:22, 200...   \n4  [2007-04-12 10:23:25, 2007-04-12 10:24:37, 200...   \n\n                                                mode   trajectory_id user_id  \\\n0                        [unknown, unknown, unknown]  20000101231219     163   \n1  [unknown, unknown, unknown, unknown, unknown, ...  20070412093132     142   \n2               [unknown, unknown, bike, bike, walk]  20070412101853     161   \n3  [bike, bike, bike, bike, bike, bike, bike, bik...  20070412102116     163   \n4                           [walk, walk, walk, walk]  20070412102325     161   \n\n                                            geometry  \n0  LINESTRING (116.32702 39.98899, 116.32704 39.9...  \n1  LINESTRING (116.33038 39.97423, 116.33045 39.9...  \n2  LINESTRING (116.33028 39.97552, 116.33040 39.9...  \n3  LINESTRING (116.33007 39.97647, 116.33015 39.9...  \n4  LINESTRING (116.33040 39.97585, 116.33047 39.9...  ",
      "text/html": "<div>\n<style scoped>\n    .dataframe tbody tr th:only-of-type {\n        vertical-align: middle;\n    }\n\n    .dataframe tbody tr th {\n        vertical-align: top;\n    }\n\n    .dataframe thead th {\n        text-align: right;\n    }\n</style>\n<table border=\"1\" class=\"dataframe\">\n  <thead>\n    <tr style=\"text-align: right;\">\n      <th></th>\n      <th>latitude</th>\n      <th>longitude</th>\n      <th>altitude</th>\n      <th>time</th>\n      <th>mode</th>\n      <th>trajectory_id</th>\n      <th>user_id</th>\n      <th>geometry</th>\n    </tr>\n  </thead>\n  <tbody>\n    <tr>\n      <th>0</th>\n      <td>[39.988992, 39.990964, 39.993207]</td>\n      <td>[116.327023, 116.327041, 116.326827]</td>\n      <td>[128.937004593176, 221.128615485564, 217.19159...</td>\n      <td>[2000-01-01 23:12:19, 2000-01-01 23:13:21, 200...</td>\n      <td>[unknown, unknown, unknown]</td>\n      <td>20000101231219</td>\n      <td>163</td>\n      <td>LINESTRING (116.32702 39.98899, 116.32704 39.9...</td>\n    </tr>\n    <tr>\n      <th>1</th>\n      <td>[39.9742333333333, 39.9743166666667, 39.974466...</td>\n      <td>[116.330383333333, 116.33045, 116.33045, 116.3...</td>\n      <td>[823.490813648294, 823.490813648294, 741.46981...</td>\n      <td>[2007-04-12 09:31:32, 2007-04-12 09:39:37, 200...</td>\n      <td>[unknown, unknown, unknown, unknown, unknown, ...</td>\n      <td>20070412093132</td>\n      <td>142</td>\n      <td>LINESTRING (116.33038 39.97423, 116.33045 39.9...</td>\n    </tr>\n    <tr>\n      <th>2</th>\n      <td>[39.9755166666667, 39.97585, 39.9759833333333,...</td>\n      <td>[116.330283333333, 116.3304, 116.330466666667,...</td>\n      <td>[351.049868766404, 114.829396325459, 114.82939...</td>\n      <td>[2007-04-12 10:18:53, 2007-04-12 10:20:15, 200...</td>\n      <td>[unknown, unknown, bike, bike, walk]</td>\n      <td>20070412101853</td>\n      <td>161</td>\n      <td>LINESTRING (116.33028 39.97552, 116.33040 39.9...</td>\n    </tr>\n    <tr>\n      <th>3</th>\n      <td>[39.9764666666667, 39.9764, 39.97625, 39.9762,...</td>\n      <td>[116.330066666667, 116.33015, 116.330266666667...</td>\n      <td>[173.884514435696, 173.884514435696, 173.88451...</td>\n      <td>[2007-04-12 10:21:16, 2007-04-12 10:21:22, 200...</td>\n      <td>[bike, bike, bike, bike, bike, bike, bike, bik...</td>\n      <td>20070412102116</td>\n      <td>163</td>\n      <td>LINESTRING (116.33007 39.97647, 116.33015 39.9...</td>\n    </tr>\n    <tr>\n      <th>4</th>\n      <td>[39.97585, 39.9759833333333, 39.9761, 39.97623...</td>\n      <td>[116.3304, 116.330466666667, 116.3305, 116.330...</td>\n      <td>[114.829396325459, 114.829396325459, 118.11023...</td>\n      <td>[2007-04-12 10:23:25, 2007-04-12 10:24:37, 200...</td>\n      <td>[walk, walk, walk, walk]</td>\n      <td>20070412102325</td>\n      <td>161</td>\n      <td>LINESTRING (116.33040 39.97585, 116.33047 39.9...</td>\n    </tr>\n  </tbody>\n</table>\n</div>"
     },
     "execution_count": 4,
     "metadata": {},
     "output_type": "execute_result"
    }
   ],
   "source": [
    "gdf.head()"
   ],
   "metadata": {
    "collapsed": false,
    "ExecuteTime": {
     "end_time": "2024-04-27T20:26:51.017615Z",
     "start_time": "2024-04-27T20:26:51.002173Z"
    }
   },
   "id": "e49e333575263e71",
   "execution_count": 4
  },
  {
   "cell_type": "code",
   "outputs": [],
   "source": [
    "def read_points(filename: str):\n",
    "    # print(f\"Reading {filename}\")\n",
    "    df = pd.read_csv(filename, skiprows=6, header=None\n",
    "    )  # WGS84\n",
    "    columns = [\n",
    "        \"latitude\",\n",
    "        \"longitude\",\n",
    "        \"zero\",\n",
    "        \"altitude\",\n",
    "        \"date\",\n",
    "        \"date_str\",\n",
    "        \"time\",\n",
    "        \"trajectory_id\",\n",
    "    ]\n",
    "    match2 = lambda x: x.split('/')[-1][:-4]\n",
    "    # # print(match2(filename))\n",
    "    # match = re.search(r\"\\\\(\\d+)\\.plt$\", filename).group(\n",
    "    #     1\n",
    "    # )  # get file name to apply to ID\n",
    "    match = match2(filename)\n",
    "    df[\"trajectory_id\"] = match\n",
    "    df.rename(columns=dict(zip(df.columns, columns)), inplace=True)\n",
    "    df.drop([\"zero\"], inplace=True, axis=1)  # zero column is useless\n",
    "\n",
    "    df[\"time\"] = df[\"date_str\"] + \" \" + df[\"time\"]\n",
    "    df[\"datetime\"] = pd.to_datetime(df[\"time\"], format=\"%Y-%m-%d %H:%M:%S\")\n",
    "\n",
    "    df[\"mode\"] = \"unknown\"  # default value\n",
    "    if os.path.exists(os.path.join(geolife_dir, filename, \"..\", \"..\", \"labels.txt\")):\n",
    "        labels = pd.read_csv(\n",
    "            os.path.join(geolife_dir, filename, \"..\", \"..\", \"labels.txt\"),\n",
    "            sep=\"\\s+\",\n",
    "            skiprows=1,\n",
    "            header=None,\n",
    "        )\n",
    "        labels[\"start_time\"] = pd.to_datetime(labels[0] + \" \" + labels[1])\n",
    "        labels[\"end_time\"] = pd.to_datetime(labels[2] + \" \" + labels[3])\n",
    "        labels.rename(columns={4: \"mode\"}, inplace=True)\n",
    "        labels = labels[[\"start_time\", \"end_time\", \"mode\"]]\n",
    "\n",
    "        for i, row in labels.iterrows():\n",
    "            mask = (df[\"datetime\"] >= row[\"start_time\"]) & (\n",
    "                    df[\"datetime\"] <= row[\"end_time\"]\n",
    "            )\n",
    "            df.loc[mask, \"mode\"] = row[\"mode\"]\n",
    "\n",
    "    gdf = gpd.GeoDataFrame(\n",
    "        df,\n",
    "        columns=[\n",
    "            \"latitude\",\n",
    "            \"longitude\",\n",
    "            \"altitude\",\n",
    "            \"date\",\n",
    "            \"date_str\",\n",
    "            \"time\",\n",
    "            \"trajectory_id\",\n",
    "            \"mode\",\n",
    "        ],\n",
    "        geometry=gpd.points_from_xy(df[\"longitude\"], df[\"latitude\"]),\n",
    "        crs=\"EPSG:4326\",\n",
    "    )\n",
    "\n",
    "    return gdf\n",
    "\n",
    "\n",
    "def read_user_points(user_folder: str = 'Data', user_name: str = \"000\"):\n",
    "    # create geodataframe with user_id as column\n",
    "    data_folder = os.path.join(user_folder, user_name)\n",
    "    plt_files = glob.glob(os.path.join(data_folder, \"Trajectory\", \"*.plt\"))\n",
    "    dataframes = []\n",
    "    for file in plt_files:\n",
    "        geo_df = read_points(file)\n",
    "        geo_df[\"user_id\"] = user_name\n",
    "        dataframes.append(geo_df)\n",
    "    try:\n",
    "        final_geo_df = pd.concat(dataframes, ignore_index=True)\n",
    "        return final_geo_df\n",
    "    except ValueError:\n",
    "        print(f\"Error with {user_name}\")\n",
    "        return None\n",
    "    \n",
    "\n",
    "\n",
    "def read_all_users(folder):\n",
    "    subfolders = os.listdir(folder)\n",
    "    dfs = []\n",
    "    # print(f\"Processing {len(subfolders)} users trajectories\")\n",
    "    for sf in tqdm(\n",
    "            subfolders,\n",
    "            desc=\"Processing users trajectories\",\n",
    "            colour=\"cyan\",\n",
    "            smoothing=1.0,\n",
    "            total=len(subfolders),\n",
    "    ):\n",
    "        # print(f\"Processing {sf}\")\n",
    "        df = read_user_points(folder, sf)\n",
    "        dfs.append(df)\n",
    "    df = pd.concat(dfs, ignore_index=True)\n",
    "    return gpd.GeoDataFrame(df, geometry=df.geometry, crs=\"EPSG:4326\")"
   ],
   "metadata": {
    "collapsed": false,
    "ExecuteTime": {
     "end_time": "2024-04-29T00:25:24.040383Z",
     "start_time": "2024-04-29T00:25:24.035563Z"
    }
   },
   "id": "a157e67cca0565bd",
   "execution_count": 53
  },
  {
   "cell_type": "code",
   "outputs": [
    {
     "name": "stderr",
     "output_type": "stream",
     "text": [
      "Processing users trajectories:  17%|\u001B[36m█▋        \u001B[0m| 32/183 [00:09<01:20,  1.87it/s]"
     ]
    },
    {
     "name": "stdout",
     "output_type": "stream",
     "text": [
      "Error with from _source.ipynb\n"
     ]
    },
    {
     "name": "stderr",
     "output_type": "stream",
     "text": [
      "Processing users trajectories: 100%|\u001B[36m██████████\u001B[0m| 183/183 [01:20<00:00,  2.27it/s]\n"
     ]
    }
   ],
   "source": [
    "geolife_dir = 'Data/'\n",
    "gdf = read_all_users(geolife_dir)"
   ],
   "metadata": {
    "collapsed": false,
    "ExecuteTime": {
     "end_time": "2024-04-29T00:26:49.951554Z",
     "start_time": "2024-04-29T00:25:24.250022Z"
    }
   },
   "id": "9d0ee7ef427ba8ae",
   "execution_count": 54
  },
  {
   "cell_type": "code",
   "outputs": [
    {
     "data": {
      "text/plain": "    latitude   longitude  altitude          date    date_str  \\\n0  39.974294  116.399741     492.0  39816.056644  2009-01-03   \n1  39.974292  116.399592     492.0  39816.056655  2009-01-03   \n2  39.974309  116.399523     492.0  39816.056667  2009-01-03   \n3  39.974320  116.399588     492.0  39816.056690  2009-01-03   \n4  39.974365  116.399730     491.0  39816.056701  2009-01-03   \n\n                  time   trajectory_id     mode                    geometry  \\\n0  2009-01-03 01:21:34  20090103012134  unknown  POINT (116.39974 39.97429)   \n1  2009-01-03 01:21:35  20090103012134  unknown  POINT (116.39959 39.97429)   \n2  2009-01-03 01:21:36  20090103012134  unknown  POINT (116.39952 39.97431)   \n3  2009-01-03 01:21:38  20090103012134  unknown  POINT (116.39959 39.97432)   \n4  2009-01-03 01:21:39  20090103012134  unknown  POINT (116.39973 39.97436)   \n\n  user_id  \n0     135  \n1     135  \n2     135  \n3     135  \n4     135  ",
      "text/html": "<div>\n<style scoped>\n    .dataframe tbody tr th:only-of-type {\n        vertical-align: middle;\n    }\n\n    .dataframe tbody tr th {\n        vertical-align: top;\n    }\n\n    .dataframe thead th {\n        text-align: right;\n    }\n</style>\n<table border=\"1\" class=\"dataframe\">\n  <thead>\n    <tr style=\"text-align: right;\">\n      <th></th>\n      <th>latitude</th>\n      <th>longitude</th>\n      <th>altitude</th>\n      <th>date</th>\n      <th>date_str</th>\n      <th>time</th>\n      <th>trajectory_id</th>\n      <th>mode</th>\n      <th>geometry</th>\n      <th>user_id</th>\n    </tr>\n  </thead>\n  <tbody>\n    <tr>\n      <th>0</th>\n      <td>39.974294</td>\n      <td>116.399741</td>\n      <td>492.0</td>\n      <td>39816.056644</td>\n      <td>2009-01-03</td>\n      <td>2009-01-03 01:21:34</td>\n      <td>20090103012134</td>\n      <td>unknown</td>\n      <td>POINT (116.39974 39.97429)</td>\n      <td>135</td>\n    </tr>\n    <tr>\n      <th>1</th>\n      <td>39.974292</td>\n      <td>116.399592</td>\n      <td>492.0</td>\n      <td>39816.056655</td>\n      <td>2009-01-03</td>\n      <td>2009-01-03 01:21:35</td>\n      <td>20090103012134</td>\n      <td>unknown</td>\n      <td>POINT (116.39959 39.97429)</td>\n      <td>135</td>\n    </tr>\n    <tr>\n      <th>2</th>\n      <td>39.974309</td>\n      <td>116.399523</td>\n      <td>492.0</td>\n      <td>39816.056667</td>\n      <td>2009-01-03</td>\n      <td>2009-01-03 01:21:36</td>\n      <td>20090103012134</td>\n      <td>unknown</td>\n      <td>POINT (116.39952 39.97431)</td>\n      <td>135</td>\n    </tr>\n    <tr>\n      <th>3</th>\n      <td>39.974320</td>\n      <td>116.399588</td>\n      <td>492.0</td>\n      <td>39816.056690</td>\n      <td>2009-01-03</td>\n      <td>2009-01-03 01:21:38</td>\n      <td>20090103012134</td>\n      <td>unknown</td>\n      <td>POINT (116.39959 39.97432)</td>\n      <td>135</td>\n    </tr>\n    <tr>\n      <th>4</th>\n      <td>39.974365</td>\n      <td>116.399730</td>\n      <td>491.0</td>\n      <td>39816.056701</td>\n      <td>2009-01-03</td>\n      <td>2009-01-03 01:21:39</td>\n      <td>20090103012134</td>\n      <td>unknown</td>\n      <td>POINT (116.39973 39.97436)</td>\n      <td>135</td>\n    </tr>\n  </tbody>\n</table>\n</div>"
     },
     "execution_count": 55,
     "metadata": {},
     "output_type": "execute_result"
    }
   ],
   "source": [
    "gdf.head()"
   ],
   "metadata": {
    "collapsed": false,
    "ExecuteTime": {
     "end_time": "2024-04-29T00:31:58.621076Z",
     "start_time": "2024-04-29T00:31:58.612956Z"
    }
   },
   "id": "bd062ee1d74d9e06",
   "execution_count": 55
  },
  {
   "cell_type": "code",
   "outputs": [],
   "source": [
    "gdf.to_file('geolife.gpkg', driver='GPKG')"
   ],
   "metadata": {
    "collapsed": false,
    "ExecuteTime": {
     "end_time": "2024-04-29T08:53:13.548298Z",
     "start_time": "2024-04-29T00:36:34.566747Z"
    }
   },
   "id": "d4211d2807cc92d0",
   "execution_count": 57
  },
  {
   "cell_type": "code",
   "outputs": [],
   "source": [
    "gdf.to_parquet('geolife.parquet')"
   ],
   "metadata": {
    "collapsed": false,
    "ExecuteTime": {
     "end_time": "2024-04-29T09:15:54.915487Z",
     "start_time": "2024-04-29T08:53:13.555686Z"
    }
   },
   "id": "35b24cf9c3803f7",
   "execution_count": 58
  },
  {
   "cell_type": "code",
   "outputs": [],
   "source": [],
   "metadata": {
    "collapsed": false
   },
   "id": "8939d566bdaed4e"
  }
 ],
 "metadata": {
  "kernelspec": {
   "display_name": "Python 3",
   "language": "python",
   "name": "python3"
  },
  "language_info": {
   "codemirror_mode": {
    "name": "ipython",
    "version": 2
   },
   "file_extension": ".py",
   "mimetype": "text/x-python",
   "name": "python",
   "nbconvert_exporter": "python",
   "pygments_lexer": "ipython2",
   "version": "2.7.6"
  }
 },
 "nbformat": 4,
 "nbformat_minor": 5
}

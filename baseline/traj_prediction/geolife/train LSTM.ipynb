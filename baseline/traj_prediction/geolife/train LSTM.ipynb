{
 "cells": [
  {
   "cell_type": "markdown",
   "id": "319bdc0b-f2b1-42d9-a8e5-0e74e92c28b0",
   "metadata": {},
   "source": [
    "# Train on padded data"
   ]
  },
  {
   "cell_type": "code",
   "execution_count": 15,
   "id": "initial_id",
   "metadata": {
    "ExecuteTime": {
     "end_time": "2024-06-06T11:18:08.530776Z",
     "start_time": "2024-06-06T11:18:08.487377Z"
    }
   },
   "outputs": [],
   "source": [
    "import geopandas as gpd\n",
    "import pandas as pd\n",
    "import copy\n",
    "import os\n",
    "import warnings\n",
    "import random\n",
    "from pprint import pprint\n",
    "import geopandas as gpd\n",
    "import matplotlib.pyplot as plt\n",
    "import numpy as np\n",
    "import torch\n",
    "import torch.nn as nn\n",
    "import torch.optim as optim\n",
    "from tqdm.notebook import tqdm\n",
    "from sklearn.model_selection import train_test_split\n",
    "from tqdm import tqdm\n",
    "from sklearn.model_selection import train_test_split\n",
    "from tabulate import tabulate\n",
    "import json\n",
    "\n",
    "import matplotlib.pyplot as plt\n",
    "from sklearn.metrics import accuracy_score, precision_score, recall_score, f1_score, confusion_matrix, \\\n",
    "    classification_report\n",
    "import numpy as np"
   ]
  },
  {
   "cell_type": "code",
   "execution_count": 2,
   "id": "3a78e3c2cfab199b",
   "metadata": {
    "collapsed": false,
    "ExecuteTime": {
     "end_time": "2024-06-06T10:05:37.547850Z",
     "start_time": "2024-06-06T10:05:37.525799Z"
    }
   },
   "outputs": [],
   "source": [
    "device = torch.device('cuda' if torch.cuda.is_available() else 'cpu')"
   ]
  },
  {
   "cell_type": "code",
   "execution_count": 3,
   "id": "ad723a0fc6ac6e9d",
   "metadata": {
    "collapsed": false,
    "ExecuteTime": {
     "end_time": "2024-06-06T10:05:37.564757Z",
     "start_time": "2024-06-06T10:05:37.540964Z"
    }
   },
   "outputs": [],
   "source": [
    "class SequenceDataset(torch.utils.data.Dataset):\n",
    "    def __init__(self, X, y):\n",
    "        self.X = X\n",
    "        self.y = y\n",
    "\n",
    "    def __len__(self):\n",
    "        return len(self.X)\n",
    "\n",
    "    def __getitem__(self, idx):\n",
    "        X_seq = self.X.iloc[idx].values\n",
    "        y_val = self.y.iloc[idx]\n",
    "\n",
    "        X_tensor = torch.tensor([item for item in X_seq], dtype=torch.float32)\n",
    "        y_tensor = torch.tensor(y_val, dtype=torch.float32)\n",
    "\n",
    "        return X_tensor, y_tensor"
   ]
  },
  {
   "cell_type": "code",
   "execution_count": 4,
   "id": "ce5dab2ca14cf8d4",
   "metadata": {
    "collapsed": false,
    "ExecuteTime": {
     "end_time": "2024-06-06T10:05:37.567234Z",
     "start_time": "2024-06-06T10:05:37.554601Z"
    }
   },
   "outputs": [],
   "source": [
    "class LSTMModel(nn.Module):\n",
    "    def __init__(self, input_size, hidden_size, output_size, num_layers=1, dropout_rate=0.5):\n",
    "        super(LSTMModel, self).__init__()\n",
    "        self.hidden_size = hidden_size\n",
    "        self.num_layers = num_layers\n",
    "        self.lstm = nn.LSTM(input_size, hidden_size, num_layers, batch_first=True, dropout=dropout_rate)\n",
    "        self.fc = nn.Linear(hidden_size, output_size)\n",
    "        self.dropout = nn.Dropout(dropout_rate)\n",
    "\n",
    "    def forward(self, x):\n",
    "        h0 = torch.zeros(self.num_layers, x.size(0), self.hidden_size).to(x.device)\n",
    "        c0 = torch.zeros(self.num_layers, x.size(0), self.hidden_size).to(x.device)\n",
    "\n",
    "        out, _ = self.lstm(x, (h0, c0))\n",
    "        out = self.dropout(out[:, -1, :])\n",
    "        out = self.fc(out)\n",
    "        return out"
   ]
  },
  {
   "cell_type": "code",
   "execution_count": 5,
   "id": "af02f68e-ddc8-4726-942e-0ce37aa67b13",
   "metadata": {
    "ExecuteTime": {
     "end_time": "2024-06-06T10:05:38.626801Z",
     "start_time": "2024-06-06T10:05:38.608177Z"
    }
   },
   "outputs": [],
   "source": [
    "H3_RESOLUTION = 8\n",
    "seq_length = 15\n",
    "data_path = 'input_data'\n",
    "path = f'data_res{H3_RESOLUTION}_seq{seq_length}'\n",
    "path = os.path.join(data_path, path)"
   ]
  },
  {
   "cell_type": "code",
   "outputs": [],
   "source": [
    "import pickle\n",
    "\n",
    "with open(os.path.join(path, 'train.pkl'), 'rb') as f:\n",
    "    X_train, y_train = pickle.load(f)"
   ],
   "metadata": {
    "collapsed": false,
    "ExecuteTime": {
     "end_time": "2024-06-06T10:05:53.148606Z",
     "start_time": "2024-06-06T10:05:44.486805Z"
    }
   },
   "id": "1b7ef2e0f4c020ae",
   "execution_count": 6
  },
  {
   "cell_type": "code",
   "execution_count": 7,
   "id": "6dacfa4212347de8",
   "metadata": {
    "collapsed": false,
    "ExecuteTime": {
     "end_time": "2024-06-06T10:06:02.466695Z",
     "start_time": "2024-06-06T10:05:56.909041Z"
    }
   },
   "outputs": [],
   "source": [
    "# X_train, y_train = torch.load(os.path.join(path, 'train.pt'))\n",
    "# X_test, y_test = torch.load(os.path.join(path, 'test.pt'))\n",
    "with open(os.path.join(path, 'test.pkl'), 'rb') as f:\n",
    "    X_test, y_test = pickle.load(f)"
   ]
  },
  {
   "cell_type": "code",
   "execution_count": 8,
   "id": "c523d68b62758624",
   "metadata": {
    "collapsed": false,
    "ExecuteTime": {
     "end_time": "2024-06-06T10:06:11.197102Z",
     "start_time": "2024-06-06T10:06:11.169362Z"
    }
   },
   "outputs": [
    {
     "name": "stdout",
     "output_type": "stream",
     "text": [
      "(135822, 15) (135822,)\n",
      "(36604, 15) (36604,)\n"
     ]
    }
   ],
   "source": [
    "#padding\n",
    "# (105165, 8) (105165,)\n",
    "# (26292, 8) (26292,)\n",
    "\n",
    "#8 15\n",
    "# (135822, 15) (135822,)\n",
    "# (36604, 15) (36604,)\n",
    "\n",
    "print(X_train.shape, y_train.shape)\n",
    "print(X_test.shape, y_test.shape)"
   ]
  },
  {
   "cell_type": "code",
   "execution_count": 9,
   "id": "8f164e23-bf94-4c45-9d4f-c08ec1288f2c",
   "metadata": {
    "ExecuteTime": {
     "end_time": "2024-06-06T10:06:40.621221Z",
     "start_time": "2024-06-06T10:06:40.602364Z"
    }
   },
   "outputs": [],
   "source": [
    "# Dataframe\n",
    "X_train = pd.DataFrame(X_train)\n",
    "X_test = pd.DataFrame(X_test)\n",
    "\n",
    "y_train = pd.Series(y_train)\n",
    "y_test = pd.Series(y_test)"
   ]
  },
  {
   "cell_type": "code",
   "execution_count": 10,
   "id": "5c9313e08e525507",
   "metadata": {
    "collapsed": false,
    "ExecuteTime": {
     "end_time": "2024-06-06T10:06:42.617891Z",
     "start_time": "2024-06-06T10:06:41.909857Z"
    }
   },
   "outputs": [
    {
     "data": {
      "text/plain": "<Figure size 1000x500 with 2 Axes>",
      "image/png": "[encoded data removed]"
     },
     "metadata": {},
     "output_type": "display_data"
    }
   ],
   "source": [
    "dist = []\n",
    "for i in y_train:\n",
    "    id_max = np.argmax(i)\n",
    "    dist.append(id_max)\n",
    "\n",
    "test_dist = []\n",
    "for i in y_test:\n",
    "    id_max = np.argmax(i)\n",
    "    test_dist.append(id_max)\n",
    "\n",
    "fig, ax = plt.subplots(1, 2, figsize=(10, 5))\n",
    "ax[0].hist(dist, bins=range(7))\n",
    "ax[0].set_title('Train')\n",
    "ax[0].set_xlabel('Class')\n",
    "ax[0].set_ylabel('Frequency')\n",
    "ax[0].grid(axis='y', alpha=0.75)\n",
    "\n",
    "ax[1].hist(test_dist, bins=range(7))\n",
    "ax[1].set_title('Test')\n",
    "ax[1].set_xlabel('Class')\n",
    "ax[1].set_ylabel('Frequency')\n",
    "ax[1].grid(axis='y', alpha=0.75)\n",
    "plt.show()"
   ]
  },
  {
   "cell_type": "code",
   "execution_count": 11,
   "id": "2def52414d444de2",
   "metadata": {
    "collapsed": false,
    "ExecuteTime": {
     "end_time": "2024-06-06T10:06:44.936097Z",
     "start_time": "2024-06-06T10:06:44.931441Z"
    }
   },
   "outputs": [],
   "source": [
    "train_dataset = SequenceDataset(X_train, y_train)\n",
    "test_dataset = SequenceDataset(X_test, y_test)\n",
    "\n",
    "train_loader = torch.utils.data.DataLoader(train_dataset, batch_size=32, shuffle=True)\n",
    "test_loader = torch.utils.data.DataLoader(test_dataset, batch_size=32, shuffle=False)"
   ]
  },
  {
   "cell_type": "markdown",
   "id": "53e6af52-b225-44a8-90a9-25f9b0a5919b",
   "metadata": {},
   "source": [
    "# EXP 1"
   ]
  },
  {
   "cell_type": "code",
   "execution_count": 12,
   "id": "be22fc36db602efb",
   "metadata": {
    "collapsed": false,
    "ExecuteTime": {
     "end_time": "2024-06-06T10:06:48.506345Z",
     "start_time": "2024-06-06T10:06:47.720242Z"
    }
   },
   "outputs": [],
   "source": [
    "input_size = len(X_train.iloc[0][0])\n",
    "hidden_size = 128\n",
    "output_size = 6\n",
    "num_layers = 2\n",
    "dropout_rate = 0.5\n",
    "\n",
    "model = LSTMModel(input_size, hidden_size, output_size, num_layers, dropout_rate).to(device)\n",
    "criterion = nn.CrossEntropyLoss()\n",
    "optimizer = optim.Adam(model.parameters(), lr=0.001, weight_decay=1e-5)"
   ]
  },
  {
   "cell_type": "code",
   "execution_count": 14,
   "id": "efaa8e666b90ac3",
   "metadata": {
    "collapsed": false,
    "ExecuteTime": {
     "end_time": "2024-06-06T11:18:08.507463Z",
     "start_time": "2024-06-06T10:11:20.148059Z"
    }
   },
   "outputs": [
    {
     "name": "stderr",
     "output_type": "stream",
     "text": [
      "Epoch 1/60: 100%|██████████| 4245/4245 [01:20<00:00, 52.48batch/s, loss=1.45] \n",
      "Validation: 100%|██████████| 1144/1144 [00:12<00:00, 93.61batch/s, val_loss=0.975] \n"
     ]
    },
    {
     "name": "stdout",
     "output_type": "stream",
     "text": [
      "Epoch [1/60], Loss: 1.3328, Val Loss: 1.2780\n"
     ]
    },
    {
     "name": "stderr",
     "output_type": "stream",
     "text": [
      "Epoch 2/60: 100%|██████████| 4245/4245 [01:21<00:00, 52.31batch/s, loss=1.27] \n",
      "Validation: 100%|██████████| 1144/1144 [00:12<00:00, 94.32batch/s, val_loss=0.859] \n"
     ]
    },
    {
     "name": "stdout",
     "output_type": "stream",
     "text": [
      "Epoch [2/60], Loss: 1.2957, Val Loss: 1.2502\n"
     ]
    },
    {
     "name": "stderr",
     "output_type": "stream",
     "text": [
      "Epoch 3/60: 100%|██████████| 4245/4245 [01:20<00:00, 52.59batch/s, loss=1.22] \n",
      "Validation: 100%|██████████| 1144/1144 [00:12<00:00, 88.66batch/s, val_loss=0.85] \n"
     ]
    },
    {
     "name": "stdout",
     "output_type": "stream",
     "text": [
      "Epoch [3/60], Loss: 1.2651, Val Loss: 1.2252\n"
     ]
    },
    {
     "name": "stderr",
     "output_type": "stream",
     "text": [
      "Epoch 4/60: 100%|██████████| 4245/4245 [01:19<00:00, 53.08batch/s, loss=0.797]\n",
      "Validation: 100%|██████████| 1144/1144 [00:11<00:00, 99.85batch/s, val_loss=0.872] \n"
     ]
    },
    {
     "name": "stdout",
     "output_type": "stream",
     "text": [
      "Epoch [4/60], Loss: 1.2414, Val Loss: 1.2148\n"
     ]
    },
    {
     "name": "stderr",
     "output_type": "stream",
     "text": [
      "Epoch 5/60: 100%|██████████| 4245/4245 [01:52<00:00, 37.71batch/s, loss=1.23] \n",
      "Validation: 100%|██████████| 1144/1144 [00:14<00:00, 76.97batch/s, val_loss=0.808]\n"
     ]
    },
    {
     "name": "stdout",
     "output_type": "stream",
     "text": [
      "Epoch [5/60], Loss: 1.2221, Val Loss: 1.1961\n"
     ]
    },
    {
     "name": "stderr",
     "output_type": "stream",
     "text": [
      "Epoch 6/60: 100%|██████████| 4245/4245 [01:27<00:00, 48.27batch/s, loss=0.876]\n",
      "Validation: 100%|██████████| 1144/1144 [00:14<00:00, 77.30batch/s, val_loss=0.776]\n"
     ]
    },
    {
     "name": "stdout",
     "output_type": "stream",
     "text": [
      "Epoch [6/60], Loss: 1.2077, Val Loss: 1.1885\n"
     ]
    },
    {
     "name": "stderr",
     "output_type": "stream",
     "text": [
      "Epoch 7/60: 100%|██████████| 4245/4245 [01:23<00:00, 50.59batch/s, loss=1.4]  \n",
      "Validation: 100%|██████████| 1144/1144 [00:18<00:00, 63.43batch/s, val_loss=0.801]\n"
     ]
    },
    {
     "name": "stdout",
     "output_type": "stream",
     "text": [
      "Epoch [7/60], Loss: 1.1892, Val Loss: 1.1897\n"
     ]
    },
    {
     "name": "stderr",
     "output_type": "stream",
     "text": [
      "Epoch 8/60: 100%|██████████| 4245/4245 [01:37<00:00, 43.38batch/s, loss=0.992]\n",
      "Validation: 100%|██████████| 1144/1144 [00:19<00:00, 60.14batch/s, val_loss=0.783]\n"
     ]
    },
    {
     "name": "stdout",
     "output_type": "stream",
     "text": [
      "Epoch [8/60], Loss: 1.1780, Val Loss: 1.1699\n"
     ]
    },
    {
     "name": "stderr",
     "output_type": "stream",
     "text": [
      "Epoch 9/60: 100%|██████████| 4245/4245 [03:06<00:00, 22.73batch/s, loss=1.23] \n",
      "Validation: 100%|██████████| 1144/1144 [00:10<00:00, 111.20batch/s, val_loss=0.807]\n"
     ]
    },
    {
     "name": "stdout",
     "output_type": "stream",
     "text": [
      "Epoch [9/60], Loss: 1.1663, Val Loss: 1.1586\n"
     ]
    },
    {
     "name": "stderr",
     "output_type": "stream",
     "text": [
      "Epoch 10/60: 100%|██████████| 4245/4245 [01:05<00:00, 64.46batch/s, loss=0.543]\n",
      "Validation: 100%|██████████| 1144/1144 [00:08<00:00, 127.29batch/s, val_loss=0.704]\n"
     ]
    },
    {
     "name": "stdout",
     "output_type": "stream",
     "text": [
      "Epoch [10/60], Loss: 1.1557, Val Loss: 1.1588\n"
     ]
    },
    {
     "name": "stderr",
     "output_type": "stream",
     "text": [
      "Epoch 11/60: 100%|██████████| 4245/4245 [01:10<00:00, 60.38batch/s, loss=1.39] \n",
      "Validation: 100%|██████████| 1144/1144 [00:09<00:00, 121.73batch/s, val_loss=0.75] \n"
     ]
    },
    {
     "name": "stdout",
     "output_type": "stream",
     "text": [
      "Epoch [11/60], Loss: 1.1490, Val Loss: 1.1434\n"
     ]
    },
    {
     "name": "stderr",
     "output_type": "stream",
     "text": [
      "Epoch 12/60: 100%|██████████| 4245/4245 [01:09<00:00, 61.09batch/s, loss=1.38] \n",
      "Validation: 100%|██████████| 1144/1144 [00:10<00:00, 110.70batch/s, val_loss=0.76] \n"
     ]
    },
    {
     "name": "stdout",
     "output_type": "stream",
     "text": [
      "Epoch [12/60], Loss: 1.1378, Val Loss: 1.1383\n"
     ]
    },
    {
     "name": "stderr",
     "output_type": "stream",
     "text": [
      "Epoch 13/60: 100%|██████████| 4245/4245 [01:07<00:00, 62.54batch/s, loss=1.32] \n",
      "Validation: 100%|██████████| 1144/1144 [00:09<00:00, 118.08batch/s, val_loss=0.759]\n"
     ]
    },
    {
     "name": "stdout",
     "output_type": "stream",
     "text": [
      "Epoch [13/60], Loss: 1.1301, Val Loss: 1.1435\n"
     ]
    },
    {
     "name": "stderr",
     "output_type": "stream",
     "text": [
      "Epoch 14/60: 100%|██████████| 4245/4245 [01:07<00:00, 62.55batch/s, loss=1.37] \n",
      "Validation: 100%|██████████| 1144/1144 [00:10<00:00, 112.02batch/s, val_loss=0.756]\n"
     ]
    },
    {
     "name": "stdout",
     "output_type": "stream",
     "text": [
      "Epoch [14/60], Loss: 1.1239, Val Loss: 1.1363\n"
     ]
    },
    {
     "name": "stderr",
     "output_type": "stream",
     "text": [
      "Epoch 15/60: 100%|██████████| 4245/4245 [01:07<00:00, 62.53batch/s, loss=1.21] \n",
      "Validation: 100%|██████████| 1144/1144 [00:10<00:00, 109.79batch/s, val_loss=0.695]\n"
     ]
    },
    {
     "name": "stdout",
     "output_type": "stream",
     "text": [
      "Epoch [15/60], Loss: 1.1173, Val Loss: 1.1276\n"
     ]
    },
    {
     "name": "stderr",
     "output_type": "stream",
     "text": [
      "Epoch 16/60: 100%|██████████| 4245/4245 [01:07<00:00, 62.71batch/s, loss=1.27] \n",
      "Validation: 100%|██████████| 1144/1144 [00:10<00:00, 109.48batch/s, val_loss=0.679]\n"
     ]
    },
    {
     "name": "stdout",
     "output_type": "stream",
     "text": [
      "Epoch [16/60], Loss: 1.1095, Val Loss: 1.1316\n"
     ]
    },
    {
     "name": "stderr",
     "output_type": "stream",
     "text": [
      "Epoch 17/60: 100%|██████████| 4245/4245 [01:10<00:00, 60.08batch/s, loss=1]    \n",
      "Validation: 100%|██████████| 1144/1144 [00:10<00:00, 104.79batch/s, val_loss=0.735]\n"
     ]
    },
    {
     "name": "stdout",
     "output_type": "stream",
     "text": [
      "Epoch [17/60], Loss: 1.1069, Val Loss: 1.1195\n"
     ]
    },
    {
     "name": "stderr",
     "output_type": "stream",
     "text": [
      "Epoch 18/60: 100%|██████████| 4245/4245 [01:10<00:00, 60.47batch/s, loss=1.32] \n",
      "Validation: 100%|██████████| 1144/1144 [00:10<00:00, 108.87batch/s, val_loss=0.743]\n"
     ]
    },
    {
     "name": "stdout",
     "output_type": "stream",
     "text": [
      "Epoch [18/60], Loss: 1.0973, Val Loss: 1.1164\n"
     ]
    },
    {
     "name": "stderr",
     "output_type": "stream",
     "text": [
      "Epoch 19/60: 100%|██████████| 4245/4245 [01:09<00:00, 61.32batch/s, loss=1.19] \n",
      "Validation: 100%|██████████| 1144/1144 [00:11<00:00, 101.93batch/s, val_loss=0.673]\n"
     ]
    },
    {
     "name": "stdout",
     "output_type": "stream",
     "text": [
      "Epoch [19/60], Loss: 1.0946, Val Loss: 1.1229\n"
     ]
    },
    {
     "name": "stderr",
     "output_type": "stream",
     "text": [
      "Epoch 20/60: 100%|██████████| 4245/4245 [01:10<00:00, 59.97batch/s, loss=0.872]\n",
      "Validation: 100%|██████████| 1144/1144 [00:09<00:00, 120.39batch/s, val_loss=0.75] \n"
     ]
    },
    {
     "name": "stdout",
     "output_type": "stream",
     "text": [
      "Epoch [20/60], Loss: 1.0904, Val Loss: 1.1150\n"
     ]
    },
    {
     "name": "stderr",
     "output_type": "stream",
     "text": [
      "Epoch 21/60: 100%|██████████| 4245/4245 [01:10<00:00, 60.10batch/s, loss=0.698]\n",
      "Validation: 100%|██████████| 1144/1144 [00:10<00:00, 104.90batch/s, val_loss=0.752]\n"
     ]
    },
    {
     "name": "stdout",
     "output_type": "stream",
     "text": [
      "Epoch [21/60], Loss: 1.0840, Val Loss: 1.1135\n"
     ]
    },
    {
     "name": "stderr",
     "output_type": "stream",
     "text": [
      "Epoch 22/60: 100%|██████████| 4245/4245 [01:15<00:00, 56.01batch/s, loss=0.715]\n",
      "Validation: 100%|██████████| 1144/1144 [00:10<00:00, 105.45batch/s, val_loss=0.716]\n"
     ]
    },
    {
     "name": "stdout",
     "output_type": "stream",
     "text": [
      "Epoch [22/60], Loss: 1.0808, Val Loss: 1.1145\n"
     ]
    },
    {
     "name": "stderr",
     "output_type": "stream",
     "text": [
      "Epoch 23/60: 100%|██████████| 4245/4245 [01:14<00:00, 56.69batch/s, loss=0.836]\n",
      "Validation: 100%|██████████| 1144/1144 [00:12<00:00, 95.18batch/s, val_loss=0.716] \n"
     ]
    },
    {
     "name": "stdout",
     "output_type": "stream",
     "text": [
      "Epoch [23/60], Loss: 1.0772, Val Loss: 1.1074\n"
     ]
    },
    {
     "name": "stderr",
     "output_type": "stream",
     "text": [
      "Epoch 24/60: 100%|██████████| 4245/4245 [01:15<00:00, 56.05batch/s, loss=1.3]  \n",
      "Validation: 100%|██████████| 1144/1144 [00:11<00:00, 100.18batch/s, val_loss=0.726]\n"
     ]
    },
    {
     "name": "stdout",
     "output_type": "stream",
     "text": [
      "Epoch [24/60], Loss: 1.0722, Val Loss: 1.1162\n"
     ]
    },
    {
     "name": "stderr",
     "output_type": "stream",
     "text": [
      "Epoch 25/60: 100%|██████████| 4245/4245 [01:15<00:00, 56.38batch/s, loss=0.985]\n",
      "Validation: 100%|██████████| 1144/1144 [00:11<00:00, 95.50batch/s, val_loss=0.647] \n"
     ]
    },
    {
     "name": "stdout",
     "output_type": "stream",
     "text": [
      "Epoch [25/60], Loss: 1.0694, Val Loss: 1.1055\n"
     ]
    },
    {
     "name": "stderr",
     "output_type": "stream",
     "text": [
      "Epoch 26/60: 100%|██████████| 4245/4245 [01:14<00:00, 56.97batch/s, loss=0.892]\n",
      "Validation: 100%|██████████| 1144/1144 [00:11<00:00, 97.47batch/s, val_loss=0.702] \n"
     ]
    },
    {
     "name": "stdout",
     "output_type": "stream",
     "text": [
      "Epoch [26/60], Loss: 1.0651, Val Loss: 1.1144\n"
     ]
    },
    {
     "name": "stderr",
     "output_type": "stream",
     "text": [
      "Epoch 27/60: 100%|██████████| 4245/4245 [01:16<00:00, 55.75batch/s, loss=0.924]\n",
      "Validation: 100%|██████████| 1144/1144 [06:33<00:00,  2.91batch/s, val_loss=0.72] \n"
     ]
    },
    {
     "name": "stdout",
     "output_type": "stream",
     "text": [
      "Epoch [27/60], Loss: 1.0601, Val Loss: 1.1146\n"
     ]
    },
    {
     "name": "stderr",
     "output_type": "stream",
     "text": [
      "Epoch 28/60: 100%|██████████| 4245/4245 [16:04<00:00,  4.40batch/s, loss=1.12]    \n",
      "Validation: 100%|██████████| 1144/1144 [00:10<00:00, 109.48batch/s, val_loss=0.682]\n"
     ]
    },
    {
     "name": "stdout",
     "output_type": "stream",
     "text": [
      "Epoch [28/60], Loss: 1.0585, Val Loss: 1.1163\n"
     ]
    },
    {
     "name": "stderr",
     "output_type": "stream",
     "text": [
      "Epoch 29/60: 100%|██████████| 4245/4245 [01:08<00:00, 62.20batch/s, loss=0.788]\n",
      "Validation: 100%|██████████| 1144/1144 [00:10<00:00, 112.33batch/s, val_loss=0.68] \n"
     ]
    },
    {
     "name": "stdout",
     "output_type": "stream",
     "text": [
      "Epoch [29/60], Loss: 1.0552, Val Loss: 1.1120\n"
     ]
    },
    {
     "name": "stderr",
     "output_type": "stream",
     "text": [
      "Epoch 30/60: 100%|██████████| 4245/4245 [01:11<00:00, 59.07batch/s, loss=1.05] \n",
      "Validation: 100%|██████████| 1144/1144 [00:10<00:00, 109.14batch/s, val_loss=0.686]\n"
     ]
    },
    {
     "name": "stdout",
     "output_type": "stream",
     "text": [
      "Epoch [30/60], Loss: 1.0530, Val Loss: 1.1069\n",
      "Early stopping triggered\n"
     ]
    },
    {
     "data": {
      "text/plain": "<Figure size 1000x600 with 1 Axes>",
      "image/png": "[encoded data removed]"
     },
     "metadata": {},
     "output_type": "display_data"
    }
   ],
   "source": [
    "# Training loop with early stopping\n",
    "train_losses = []\n",
    "val_losses = []\n",
    "best_val_loss = float('inf')\n",
    "patience_counter = 0\n",
    "\n",
    "patience = 5\n",
    "num_epochs = 60\n",
    "\n",
    "for epoch in range(num_epochs):\n",
    "    model.train()\n",
    "    running_loss = 0.0\n",
    "\n",
    "    # Dodanie tqdm do pętli batch'y treningowych\n",
    "    train_loader_tqdm = tqdm(train_loader, desc=f\"Epoch {epoch + 1}/{num_epochs}\", unit=\"batch\")\n",
    "    for i, (inputs, targets) in enumerate(train_loader_tqdm):\n",
    "        inputs = inputs.to(device)\n",
    "        targets = targets.to(device)\n",
    "\n",
    "        optimizer.zero_grad()\n",
    "\n",
    "        outputs = model(inputs)\n",
    "        _, preds = torch.max(outputs, 1)\n",
    "        predicted_one_hot = torch.nn.functional.one_hot(preds, num_classes=7).float()\n",
    "        loss = criterion(outputs, targets)\n",
    "\n",
    "        loss.backward()\n",
    "        optimizer.step()\n",
    "\n",
    "        running_loss += loss.item()\n",
    "\n",
    "        # Aktualizacja opisu tqdm dla batch'y\n",
    "        train_loader_tqdm.set_postfix(loss=loss.item())\n",
    "\n",
    "    epoch_loss = running_loss / len(train_loader)\n",
    "    train_losses.append(epoch_loss)\n",
    "\n",
    "    # Validation loop\n",
    "    model.eval()\n",
    "    val_loss = 0.0\n",
    "\n",
    "    # Dodanie tqdm do pętli batch'y walidacyjnych\n",
    "    test_loader_tqdm = tqdm(test_loader, desc=\"Validation\", unit=\"batch\")\n",
    "    with torch.no_grad():\n",
    "        for inputs, targets in test_loader_tqdm:\n",
    "            inputs = inputs.to(device)\n",
    "            targets = targets.to(device)\n",
    "            outputs = model(inputs)\n",
    "            loss = criterion(outputs, targets)\n",
    "            val_loss += loss.item()\n",
    "\n",
    "            # Aktualizacja opisu tqdm dla batch'y walidacyjnych\n",
    "            test_loader_tqdm.set_postfix(val_loss=loss.item())\n",
    "\n",
    "    val_loss /= len(test_loader)\n",
    "    val_losses.append(val_loss)\n",
    "\n",
    "    print(f'Epoch [{epoch + 1}/{num_epochs}], Loss: {epoch_loss:.4f}, Val Loss: {val_loss:.4f}')\n",
    "\n",
    "    # Early stopping\n",
    "    if val_loss < best_val_loss:\n",
    "        best_val_loss = val_loss\n",
    "        patience_counter = 0\n",
    "        torch.save(model.state_dict(), 'best_model.pth')\n",
    "    else:\n",
    "        patience_counter += 1\n",
    "\n",
    "    if patience_counter >= patience:\n",
    "        print(\"Early stopping triggered\")\n",
    "        break\n",
    "\n",
    "# best model\n",
    "model.load_state_dict(torch.load('best_model.pth'))\n",
    "\n",
    "# Train/test plot\n",
    "plt.figure(figsize=(10, 6))\n",
    "plt.plot(train_losses, label='Train Loss')\n",
    "plt.plot(val_losses, label='Val Loss')\n",
    "plt.xlabel('Epoch')\n",
    "plt.ylabel('Loss')\n",
    "plt.title('Training and Validation Loss')\n",
    "plt.legend()\n",
    "plt.show()"
   ]
  },
  {
   "cell_type": "markdown",
   "source": [
    "# Test"
   ],
   "metadata": {
    "collapsed": false
   },
   "id": "28a4b4cdf7c87c7f"
  },
  {
   "cell_type": "code",
   "execution_count": 16,
   "id": "9f2c9e8dd03058bd",
   "metadata": {
    "collapsed": false,
    "ExecuteTime": {
     "end_time": "2024-06-06T11:18:17.763513Z",
     "start_time": "2024-06-06T11:18:08.488454Z"
    }
   },
   "outputs": [],
   "source": [
    "true_labels = []\n",
    "predicted_labels = []\n",
    "\n",
    "model.eval()\n",
    "with torch.no_grad():\n",
    "    for inputs, targets in test_loader:\n",
    "        inputs = inputs.to(device)\n",
    "        targets = targets.to(device).long()\n",
    "\n",
    "        outputs = model(inputs)\n",
    "        _, preds = torch.max(outputs, 1)\n",
    "\n",
    "        true_labels.extend(targets.cpu().numpy())\n",
    "        predicted_labels.extend(preds.cpu().numpy())\n",
    "\n",
    "true_labels = np.array(true_labels)\n",
    "true_labels = np.argmax(true_labels, axis=1)\n",
    "predicted_labels = np.array(predicted_labels)"
   ]
  },
  {
   "cell_type": "code",
   "execution_count": 17,
   "id": "9fecd29377c46381",
   "metadata": {
    "collapsed": false,
    "ExecuteTime": {
     "end_time": "2024-06-06T11:18:17.862241Z",
     "start_time": "2024-06-06T11:18:17.766373Z"
    }
   },
   "outputs": [
    {
     "name": "stdout",
     "output_type": "stream",
     "text": [
      "              precision    recall  f1-score   support\n",
      "\n",
      "           0       0.58      0.58      0.58      6783\n",
      "           1       0.58      0.50      0.54      4432\n",
      "           2       0.59      0.65      0.62      6573\n",
      "           3       0.60      0.63      0.61      7010\n",
      "           4       0.56      0.48      0.52      5000\n",
      "           5       0.60      0.63      0.62      6806\n",
      "\n",
      "    accuracy                           0.59     36604\n",
      "   macro avg       0.59      0.58      0.58     36604\n",
      "weighted avg       0.59      0.59      0.59     36604\n"
     ]
    }
   ],
   "source": [
    "test_accuracy = accuracy_score(true_labels, predicted_labels)\n",
    "test_precision = precision_score(true_labels, predicted_labels, average='weighted')\n",
    "test_recall = recall_score(true_labels, predicted_labels, average='weighted')\n",
    "test_f1 = f1_score(true_labels, predicted_labels, average='weighted')\n",
    "\n",
    "print(classification_report(true_labels, predicted_labels))"
   ]
  },
  {
   "cell_type": "markdown",
   "source": [
    "# Train"
   ],
   "metadata": {
    "collapsed": false
   },
   "id": "932bb2513a1fca03"
  },
  {
   "cell_type": "code",
   "execution_count": 18,
   "id": "a167d7283c6f3aef",
   "metadata": {
    "collapsed": false,
    "ExecuteTime": {
     "end_time": "2024-06-06T11:18:54.541542Z",
     "start_time": "2024-06-06T11:18:17.864626Z"
    }
   },
   "outputs": [
    {
     "name": "stdout",
     "output_type": "stream",
     "text": [
      "              precision    recall  f1-score   support\n",
      "\n",
      "           0       0.66      0.67      0.67     25778\n",
      "           1       0.67      0.56      0.61     17167\n",
      "           2       0.66      0.72      0.69     25112\n",
      "           3       0.67      0.70      0.68     25526\n",
      "           4       0.62      0.56      0.59     17657\n",
      "           5       0.66      0.69      0.68     24582\n",
      "\n",
      "    accuracy                           0.66    135822\n",
      "   macro avg       0.66      0.65      0.65    135822\n",
      "weighted avg       0.66      0.66      0.66    135822\n"
     ]
    }
   ],
   "source": [
    "true_labels = []\n",
    "predicted_labels = []\n",
    "\n",
    "model.eval()\n",
    "with torch.no_grad():\n",
    "    for inputs, targets in train_loader:\n",
    "        inputs = inputs.to(device)\n",
    "        targets = targets.to(device).long()\n",
    "\n",
    "        outputs = model(inputs)\n",
    "        _, preds = torch.max(outputs, 1)\n",
    "\n",
    "        true_labels.extend(targets.cpu().numpy())\n",
    "        predicted_labels.extend(preds.cpu().numpy())\n",
    "\n",
    "true_labels = np.array(true_labels)\n",
    "true_labels = np.argmax(true_labels, axis=1)\n",
    "predicted_labels = np.array(predicted_labels)\n",
    "\n",
    "train_accuracy = accuracy_score(true_labels, predicted_labels)\n",
    "train_precision = precision_score(true_labels, predicted_labels, average='weighted')\n",
    "train_recall = recall_score(true_labels, predicted_labels, average='weighted')\n",
    "train_f1 = f1_score(true_labels, predicted_labels, average='weighted')\n",
    "\n",
    "print(classification_report(true_labels, predicted_labels))"
   ]
  },
  {
   "cell_type": "code",
   "execution_count": 19,
   "id": "e940685b4701d58",
   "metadata": {
    "collapsed": false,
    "ExecuteTime": {
     "end_time": "2024-06-06T11:18:54.547422Z",
     "start_time": "2024-06-06T11:18:54.541395Z"
    }
   },
   "outputs": [
    {
     "name": "stdout",
     "output_type": "stream",
     "text": [
      "╒═══════════╤══════════╤══════════╕\n",
      "│ Metric    │    Train │     Test │\n",
      "╞═══════════╪══════════╪══════════╡\n",
      "│ Accuracy  │ 0.659981 │ 0.589034 │\n",
      "├───────────┼──────────┼──────────┤\n",
      "│ Precision │ 0.65952  │ 0.588151 │\n",
      "├───────────┼──────────┼──────────┤\n",
      "│ Recall    │ 0.659981 │ 0.589034 │\n",
      "├───────────┼──────────┼──────────┤\n",
      "│ F1        │ 0.658676 │ 0.587497 │\n",
      "╘═══════════╧══════════╧══════════╛\n"
     ]
    }
   ],
   "source": [
    "headers = ['Metric', 'Train', 'Test']\n",
    "data = [\n",
    "    ['Accuracy', train_accuracy, test_accuracy],\n",
    "    ['Precision', train_precision, test_precision],\n",
    "    ['Recall', train_recall, test_recall],\n",
    "    ['F1', train_f1, test_f1]\n",
    "]\n",
    "\n",
    "print(tabulate(data, headers=headers, tablefmt='fancy_grid'))"
   ]
  },
  {
   "cell_type": "code",
   "execution_count": 20,
   "id": "8cfd8dd28c72231",
   "metadata": {
    "collapsed": false,
    "ExecuteTime": {
     "end_time": "2024-06-06T11:18:54.681015Z",
     "start_time": "2024-06-06T11:18:54.545207Z"
    }
   },
   "outputs": [
    {
     "data": {
      "text/plain": "<Figure size 1000x800 with 2 Axes>",
      "image/png": "[encoded data removed]"
     },
     "metadata": {},
     "output_type": "display_data"
    }
   ],
   "source": [
    "plt.figure(figsize=(10, 8))\n",
    "plt.imshow(confusion_matrix(true_labels, predicted_labels), cmap='Blues', interpolation='nearest')\n",
    "plt.colorbar()\n",
    "plt.title('Confusion Matrix')\n",
    "plt.xlabel('Predicted')\n",
    "plt.ylabel('True')\n",
    "plt.show()"
   ]
  },
  {
   "cell_type": "code",
   "outputs": [],
   "source": [
    "\n",
    "results = {\n",
    "    f'model_res{H3_RESOLUTION}_seq{seq_length}': {\n",
    "        'train': {\n",
    "            'accuracy': train_accuracy,\n",
    "            'precision': train_precision,\n",
    "            'recall': train_recall,\n",
    "            'f1': train_f1\n",
    "        },\n",
    "\n",
    "        'test': {\n",
    "            'accuracy': test_accuracy,\n",
    "            'precision': test_precision,\n",
    "            'recall': test_recall,\n",
    "            'f1': test_f1\n",
    "        }\n",
    "    }\n",
    "}\n",
    "\n",
    "with open('results.json', 'a') as f:\n",
    "    json.dump(results, f, indent=4)"
   ],
   "metadata": {
    "collapsed": false,
    "ExecuteTime": {
     "end_time": "2024-06-06T11:18:54.686135Z",
     "start_time": "2024-06-06T11:18:54.682136Z"
    }
   },
   "id": "de267bec13040355",
   "execution_count": 21
  },
  {
   "cell_type": "code",
   "outputs": [],
   "source": [],
   "metadata": {
    "collapsed": false
   },
   "id": "7d18e8126f0202f7"
  }
 ],
 "metadata": {
  "kernelspec": {
   "display_name": "Python 3 (ipykernel)",
   "language": "python",
   "name": "python3"
  },
  "language_info": {
   "codemirror_mode": {
    "name": "ipython",
    "version": 3
   },
   "file_extension": ".py",
   "mimetype": "text/x-python",
   "name": "python",
   "nbconvert_exporter": "python",
   "pygments_lexer": "ipython3",
   "version": "3.10.14"
  }
 },
 "nbformat": 4,
 "nbformat_minor": 5
}

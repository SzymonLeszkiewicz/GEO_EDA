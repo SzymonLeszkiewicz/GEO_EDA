{
 "cells": [
  {
   "cell_type": "markdown",
   "id": "319bdc0b-f2b1-42d9-a8e5-0e74e92c28b0",
   "metadata": {},
   "source": [
    "# Train on padded data"
   ]
  },
  {
   "cell_type": "code",
   "execution_count": null,
   "id": "initial_id",
   "metadata": {},
   "outputs": [],
   "source": [
    "import geopandas as gpd\n",
    "import pandas as pd\n",
    "import copy\n",
    "import os\n",
    "import warnings\n",
    "import random\n",
    "from pprint import pprint\n",
    "import geopandas as gpd\n",
    "import matplotlib.pyplot as plt\n",
    "import numpy as np\n",
    "import torch\n",
    "import torch.nn as nn\n",
    "import torch.optim as optim\n",
    "from tqdm.notebook import tqdm\n",
    "from sklearn.model_selection import train_test_split\n",
    "from tqdm import tqdm\n",
    "from sklearn.model_selection import train_test_split\n",
    "\n",
    "\n",
    "import matplotlib.pyplot as plt\n",
    "from sklearn.metrics import accuracy_score, precision_score, recall_score, f1_score, confusion_matrix, classification_report\n",
    "import numpy as np"
   ]
  },
  {
   "cell_type": "code",
   "execution_count": null,
   "id": "3a78e3c2cfab199b",
   "metadata": {
    "collapsed": false
   },
   "outputs": [],
   "source": [
    "device = torch.device('cuda' if torch.cuda.is_available() else 'cpu')"
   ]
  },
  {
   "cell_type": "code",
   "execution_count": null,
   "id": "ad723a0fc6ac6e9d",
   "metadata": {
    "collapsed": false
   },
   "outputs": [],
   "source": [
    "class SequenceDataset(torch.utils.data.Dataset):\n",
    "    def __init__(self, X, y):\n",
    "        self.X = X\n",
    "        self.y = y\n",
    "\n",
    "    def __len__(self):\n",
    "        return len(self.X)\n",
    "\n",
    "    def __getitem__(self, idx):\n",
    "        X_seq = self.X.iloc[idx].values\n",
    "        y_val = self.y.iloc[idx]\n",
    "\n",
    "        X_tensor = torch.tensor([item for item in X_seq], dtype=torch.float32)\n",
    "        y_tensor = torch.tensor(y_val, dtype=torch.float32)\n",
    "\n",
    "        return X_tensor, y_tensor"
   ]
  },
  {
   "cell_type": "code",
   "execution_count": null,
   "id": "ce5dab2ca14cf8d4",
   "metadata": {
    "collapsed": false
   },
   "outputs": [],
   "source": [
    "class LSTMModel(nn.Module):\n",
    "    def __init__(self, input_size, hidden_size, output_size, num_layers=1, dropout_rate=0.5):\n",
    "        super(LSTMModel, self).__init__()\n",
    "        self.hidden_size = hidden_size\n",
    "        self.num_layers = num_layers\n",
    "        self.lstm = nn.LSTM(input_size, hidden_size, num_layers, batch_first=True, dropout=dropout_rate)\n",
    "        self.fc = nn.Linear(hidden_size, output_size)\n",
    "        self.dropout = nn.Dropout(dropout_rate)\n",
    "\n",
    "    def forward(self, x):\n",
    "        h0 = torch.zeros(self.num_layers, x.size(0), self.hidden_size).to(x.device)\n",
    "        c0 = torch.zeros(self.num_layers, x.size(0), self.hidden_size).to(x.device)\n",
    "\n",
    "        out, _ = self.lstm(x, (h0, c0))\n",
    "        out = self.dropout(out[:, -1, :])\n",
    "        out = self.fc(out)\n",
    "        return out\n"
   ]
  },
  {
   "cell_type": "code",
   "execution_count": null,
   "id": "af02f68e-ddc8-4726-942e-0ce37aa67b13",
   "metadata": {},
   "outputs": [],
   "source": [
    "H3_RESOLUTION = 9\n",
    "seq_length = 8\n",
    "data_path = 'input_data'\n",
    "path = f'data_res{H3_RESOLUTION}_seq{seq_length}'\n",
    "path = os.path.join(data_path, path)"
   ]
  },
  {
   "cell_type": "code",
   "execution_count": null,
   "id": "6dacfa4212347de8",
   "metadata": {
    "collapsed": false
   },
   "outputs": [],
   "source": [
    "X_train, y_train = torch.load(os.path.join(path, 'train_pad.pt'))\n",
    "X_test, y_test = torch.load(os.path.join(path, 'test_pad.pt'))"
   ]
  },
  {
   "cell_type": "code",
   "execution_count": null,
   "id": "c523d68b62758624",
   "metadata": {
    "collapsed": false
   },
   "outputs": [],
   "source": [
    "# (3624, 5) (3624,)\n",
    "# # (907, 5) (907,)\n",
    "\n",
    "# (35594, 5) (35594,)\n",
    "# (8899, 5) (8899,)\n",
    "\n",
    "# (97874, 8) (97874,)\n",
    "# (24469, 8) (24469,)\n",
    "\n",
    "#padding\n",
    "# (105165, 8) (105165,)\n",
    "# (26292, 8) (26292,)\n",
    "print(X_train.shape, y_train.shape)\n",
    "print(X_test.shape, y_test.shape)"
   ]
  },
  {
   "cell_type": "code",
   "execution_count": null,
   "id": "5c9313e08e525507",
   "metadata": {
    "collapsed": false
   },
   "outputs": [],
   "source": [
    "dist = []\n",
    "for i in y_train:\n",
    "    id_max = np.argmax(i)\n",
    "    dist.append(id_max)\n",
    "    \n",
    "test_dist = []\n",
    "for i in y_test:\n",
    "    id_max = np.argmax(i)\n",
    "    test_dist.append(id_max)\n",
    "    \n",
    "fig, ax = plt.subplots(1, 2, figsize=(10, 5))\n",
    "ax[0].hist(dist, bins=range(7))\n",
    "ax[0].set_title('Train')\n",
    "ax[0].set_xlabel('Class')\n",
    "ax[0].set_ylabel('Frequency')\n",
    "ax[0].grid(axis='y', alpha=0.75)\n",
    "    \n",
    "ax[1].hist(test_dist, bins=range(7))\n",
    "ax[1].set_title('Test')\n",
    "ax[1].set_xlabel('Class')\n",
    "ax[1].set_ylabel('Frequency')\n",
    "ax[1].grid(axis='y', alpha=0.75)\n",
    "plt.show()"
   ]
  },
  {
   "cell_type": "code",
   "execution_count": null,
   "id": "2def52414d444de2",
   "metadata": {
    "collapsed": false
   },
   "outputs": [],
   "source": [
    "train_dataset = SequenceDataset(X_train, y_train)\n",
    "test_dataset = SequenceDataset(X_test, y_test)\n",
    "\n",
    "train_loader = torch.utils.data.DataLoader(train_dataset, batch_size=32, shuffle=True)\n",
    "test_loader = torch.utils.data.DataLoader(test_dataset, batch_size=32, shuffle=False)"
   ]
  },
  {
   "cell_type": "markdown",
   "id": "53e6af52-b225-44a8-90a9-25f9b0a5919b",
   "metadata": {},
   "source": [
    "# EXP 1"
   ]
  },
  {
   "cell_type": "code",
   "execution_count": null,
   "id": "be22fc36db602efb",
   "metadata": {
    "collapsed": false
   },
   "outputs": [],
   "source": [
    "input_size = len(X_train.iloc[0][0])\n",
    "hidden_size = 128\n",
    "output_size = 6\n",
    "num_layers = 2\n",
    "dropout_rate = 0.5\n",
    "\n",
    "model = LSTMModel(input_size, hidden_size, output_size, num_layers, dropout_rate).to(device)\n",
    "criterion = nn.CrossEntropyLoss()\n",
    "optimizer = optim.Adam(model.parameters(), lr=0.001, weight_decay=1e-5)"
   ]
  },
  {
   "cell_type": "code",
   "execution_count": null,
   "id": "efaa8e666b90ac3",
   "metadata": {
    "collapsed": false
   },
   "outputs": [],
   "source": [
    "# Training loop with early stopping\n",
    "train_losses = []\n",
    "val_losses = []\n",
    "best_val_loss = float('inf')\n",
    "patience_counter = 0\n",
    "\n",
    "patience = 10\n",
    "num_epochs = 60\n",
    "\n",
    "for epoch in range(num_epochs):\n",
    "    model.train()\n",
    "    running_loss = 0.0\n",
    "    for i, (inputs, targets) in enumerate(train_loader):\n",
    "        inputs = inputs.to(device)\n",
    "        targets = targets.to(device)\n",
    "\n",
    "        optimizer.zero_grad()\n",
    "\n",
    "        outputs = model(inputs)\n",
    "        _, preds = torch.max(outputs, 1)\n",
    "        predicted_one_hot = torch.nn.functional.one_hot(preds, num_classes=7).float()\n",
    "        loss = criterion(outputs, targets)\n",
    "\n",
    "        loss.backward()\n",
    "        optimizer.step()\n",
    "\n",
    "        running_loss += loss.item()\n",
    "\n",
    "    epoch_loss = running_loss / len(train_loader)\n",
    "    train_losses.append(epoch_loss)\n",
    "\n",
    "    # Validation loop\n",
    "    model.eval()\n",
    "    val_loss = 0.0\n",
    "    with torch.no_grad():\n",
    "        for inputs, targets in test_loader:\n",
    "            inputs = inputs.to(device)\n",
    "            targets = targets.to(device)\n",
    "            outputs = model(inputs)\n",
    "            loss = criterion(outputs, targets)\n",
    "            val_loss += loss.item()\n",
    "    val_loss /= len(test_loader)\n",
    "    val_losses.append(val_loss)\n",
    "\n",
    "    print(f'Epoch [{epoch+1}/{num_epochs}], Loss: {epoch_loss:.4f}, Val Loss: {val_loss:.4f}')\n",
    "\n",
    "    # Early stopping\n",
    "    if val_loss < best_val_loss:\n",
    "        best_val_loss = val_loss\n",
    "        patience_counter = 0\n",
    "        torch.save(model.state_dict(), 'best_model.pth')\n",
    "    else:\n",
    "        patience_counter += 1\n",
    "\n",
    "    if patience_counter >= patience:\n",
    "        print(\"Early stopping triggered\")\n",
    "        break\n",
    "\n",
    "# best model\n",
    "model.load_state_dict(torch.load('best_model.pth'))\n",
    "\n",
    "# Train/test plot\n",
    "plt.figure(figsize=(10, 6))\n",
    "plt.plot(train_losses, label='Train Loss')\n",
    "plt.plot(val_losses, label='Val Loss')\n",
    "plt.xlabel('Epoch')\n",
    "plt.ylabel('Loss')\n",
    "plt.title('Training and Validation Loss')\n",
    "plt.legend()\n",
    "plt.show()"
   ]
  },
  {
   "cell_type": "code",
   "execution_count": null,
   "id": "9f2c9e8dd03058bd",
   "metadata": {
    "collapsed": false
   },
   "outputs": [],
   "source": [
    "true_labels = []\n",
    "predicted_labels = []\n",
    "\n",
    "model.eval()\n",
    "with torch.no_grad():\n",
    "    for inputs, targets in test_loader:\n",
    "        inputs = inputs.to(device)\n",
    "        targets = targets.to(device).long()\n",
    "\n",
    "        outputs = model(inputs)\n",
    "        _, preds = torch.max(outputs, 1)\n",
    "\n",
    "        true_labels.extend(targets.cpu().numpy())\n",
    "        predicted_labels.extend(preds.cpu().numpy())\n",
    "\n",
    "true_labels = np.array(true_labels)\n",
    "true_labels = np.argmax(true_labels, axis=1)\n",
    "predicted_labels = np.array(predicted_labels)"
   ]
  },
  {
   "cell_type": "code",
   "execution_count": null,
   "id": "9fecd29377c46381",
   "metadata": {
    "collapsed": false
   },
   "outputs": [],
   "source": [
    "accuracy = accuracy_score(true_labels, predicted_labels)\n",
    "precision = precision_score(true_labels, predicted_labels, average='weighted')\n",
    "recall = recall_score(true_labels, predicted_labels, average='weighted')\n",
    "f1 = f1_score(true_labels, predicted_labels, average='weighted')\n",
    "\n",
    "print(classification_report(true_labels, predicted_labels))"
   ]
  },
  {
   "cell_type": "code",
   "execution_count": null,
   "id": "fefc5f8a72656059",
   "metadata": {
    "collapsed": false
   },
   "outputs": [],
   "source": [
    "print(f\"Accuracy: {accuracy:.4f}\")\n",
    "print(f\"Precision: {precision:.4f}\")\n",
    "print(f\"Recall: {recall:.4f}\")\n",
    "print(f\"F1-score: {f1:.4f}\")"
   ]
  },
  {
   "cell_type": "code",
   "execution_count": null,
   "id": "8cfd8dd28c72231",
   "metadata": {
    "collapsed": false
   },
   "outputs": [],
   "source": [
    "plt.figure(figsize=(10, 8))\n",
    "plt.imshow(confusion_matrix(true_labels, predicted_labels), cmap='Blues', interpolation='nearest')\n",
    "plt.colorbar()\n",
    "plt.title('Confusion Matrix')\n",
    "plt.xlabel('Predicted')\n",
    "plt.ylabel('True')\n",
    "plt.show()"
   ]
  },
  {
   "cell_type": "code",
   "execution_count": null,
   "id": "8bd88dda-1df6-4d70-883c-a5e2ea58fccc",
   "metadata": {},
   "outputs": [],
   "source": []
  }
 ],
 "metadata": {
  "kernelspec": {
   "display_name": "Python 3 (ipykernel)",
   "language": "python",
   "name": "python3"
  },
  "language_info": {
   "codemirror_mode": {
    "name": "ipython",
    "version": 3
   },
   "file_extension": ".py",
   "mimetype": "text/x-python",
   "name": "python",
   "nbconvert_exporter": "python",
   "pygments_lexer": "ipython3",
   "version": "3.10.14"
  }
 },
 "nbformat": 4,
 "nbformat_minor": 5
}

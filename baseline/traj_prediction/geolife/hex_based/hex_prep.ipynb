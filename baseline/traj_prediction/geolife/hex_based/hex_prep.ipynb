{
 "cells": [
  {
   "cell_type": "code",
   "execution_count": 1,
   "id": "initial_id",
   "metadata": {
    "ExecuteTime": {
     "end_time": "2024-05-27T19:49:18.731173Z",
     "start_time": "2024-05-27T19:49:18.646725Z"
    }
   },
   "outputs": [],
   "source": [
    "import geopandas as gpd\n",
    "import pandas as pd\n",
    "import copy\n",
    "import os\n",
    "import warnings\n",
    "import random\n",
    "from pprint import pprint\n",
    "import geopandas as gpd\n",
    "import matplotlib.pyplot as plt\n",
    "import numpy as np\n",
    "import torch\n",
    "import torch.nn as nn\n",
    "import torch.optim as optim\n",
    "from tqdm.notebook import tqdm\n",
    "from sklearn.model_selection import train_test_split\n",
    "from tqdm import tqdm\n",
    "from sklearn.model_selection import train_test_split\n",
    "\n",
    "from srai.datasets import AirbnbMulticityDataset\n",
    "from srai.embedders import Hex2VecEmbedder\n",
    "from srai.joiners import IntersectionJoiner\n",
    "from srai.loaders.osm_loaders import OSMPbfLoader\n",
    "from srai.loaders.osm_loaders.filters import HEX2VEC_FILTER\n",
    "from srai.neighbourhoods.h3_neighbourhood import H3Neighbourhood\n",
    "from srai.plotting import plot_regions\n",
    "from srai.regionalizers import H3Regionalizer\n",
    "import plotly.graph_objs as go\n",
    "from shapely.geometry import LineString, Point\n",
    "from shapely import from_geojson\n",
    "import h3\n",
    "from srai.h3 import h3_to_geoseries\n",
    "import matplotlib.pyplot as plt"
   ]
  },
  {
   "cell_type": "code",
   "execution_count": 2,
   "id": "f7345a314f7cacc6",
   "metadata": {
    "ExecuteTime": {
     "end_time": "2024-05-27T19:49:18.736680Z",
     "start_time": "2024-05-27T19:49:18.733191Z"
    },
    "collapsed": false,
    "jupyter": {
     "outputs_hidden": false
    }
   },
   "outputs": [],
   "source": [
    "H3_RESOLUTION = 9\n",
    "seq_length = 8"
   ]
  },
  {
   "cell_type": "code",
   "execution_count": 3,
   "id": "f7a906708eba6ecb",
   "metadata": {
    "ExecuteTime": {
     "end_time": "2024-05-27T19:49:18.796799Z",
     "start_time": "2024-05-27T19:49:18.738180Z"
    },
    "collapsed": false,
    "jupyter": {
     "outputs_hidden": false
    }
   },
   "outputs": [
    {
     "data": {
      "text/plain": [
       "(221407, 10)"
      ]
     },
     "execution_count": 3,
     "metadata": {},
     "output_type": "execute_result"
    }
   ],
   "source": [
    "embeddings = pd.read_parquet('embeddings_9.parquet')\n",
    "embeddings.shape"
   ]
  },
  {
   "cell_type": "code",
   "execution_count": 4,
   "id": "5196194383c11e40",
   "metadata": {
    "ExecuteTime": {
     "end_time": "2024-05-27T19:49:18.922981Z",
     "start_time": "2024-05-27T19:49:18.789358Z"
    },
    "collapsed": false,
    "jupyter": {
     "outputs_hidden": false
    }
   },
   "outputs": [
    {
     "data": {
      "text/plain": [
       "(149173, 12)"
      ]
     },
     "execution_count": 4,
     "metadata": {},
     "output_type": "execute_result"
    }
   ],
   "source": [
    "gdf = gpd.read_parquet('../geolife_points_smooth.parquet')\n",
    "gdf.shape"
   ]
  },
  {
   "cell_type": "markdown",
   "id": "8785dbe554a4d212",
   "metadata": {
    "collapsed": false,
    "jupyter": {
     "outputs_hidden": false
    }
   },
   "source": [
    "# GDF AGGREAGATION"
   ]
  },
  {
   "cell_type": "code",
   "execution_count": 5,
   "id": "1c5ffa4e551237df",
   "metadata": {
    "ExecuteTime": {
     "end_time": "2024-05-27T19:49:19.778060Z",
     "start_time": "2024-05-27T19:49:18.921921Z"
    },
    "collapsed": false,
    "jupyter": {
     "outputs_hidden": false
    }
   },
   "outputs": [
    {
     "data": {
      "text/plain": [
       "(1795, 6)"
      ]
     },
     "execution_count": 5,
     "metadata": {},
     "output_type": "execute_result"
    }
   ],
   "source": [
    "gdf_agg = gdf.groupby('trajectory_id').agg(\n",
    "    {'geometry': LineString, 'date_str': list, 'speed': list, 'direction': list, 'altitude': list,\n",
    "     'trajectory_id': 'first'})\n",
    "gdf_agg.shape"
   ]
  },
  {
   "cell_type": "code",
   "execution_count": 6,
   "id": "2ad5130e77a2652a",
   "metadata": {
    "ExecuteTime": {
     "end_time": "2024-05-27T19:49:19.794799Z",
     "start_time": "2024-05-27T19:49:19.783569Z"
    },
    "collapsed": false,
    "jupyter": {
     "outputs_hidden": false
    }
   },
   "outputs": [
    {
     "data": {
      "text/html": [
       "<div>\n",
       "<style scoped>\n",
       "    .dataframe tbody tr th:only-of-type {\n",
       "        vertical-align: middle;\n",
       "    }\n",
       "\n",
       "    .dataframe tbody tr th {\n",
       "        vertical-align: top;\n",
       "    }\n",
       "\n",
       "    .dataframe thead th {\n",
       "        text-align: right;\n",
       "    }\n",
       "</style>\n",
       "<table border=\"1\" class=\"dataframe\">\n",
       "  <thead>\n",
       "    <tr style=\"text-align: right;\">\n",
       "      <th></th>\n",
       "      <th>geometry</th>\n",
       "      <th>date_str</th>\n",
       "      <th>speed</th>\n",
       "      <th>direction</th>\n",
       "      <th>altitude</th>\n",
       "      <th>trajectory_id</th>\n",
       "    </tr>\n",
       "    <tr>\n",
       "      <th>trajectory_id</th>\n",
       "      <th></th>\n",
       "      <th></th>\n",
       "      <th></th>\n",
       "      <th></th>\n",
       "      <th></th>\n",
       "      <th></th>\n",
       "    </tr>\n",
       "  </thead>\n",
       "  <tbody>\n",
       "    <tr>\n",
       "      <th>20070412101853_0</th>\n",
       "      <td>LINESTRING (116.33028 39.97552, 116.33057 39.9...</td>\n",
       "      <td>[2007-04-12, 2007-04-12]</td>\n",
       "      <td>[0.3174578150582134, 0.3174578150582134]</td>\n",
       "      <td>[15.013957914870332, 20.964606804911114]</td>\n",
       "      <td>[351.049868766404, 118.110236220472]</td>\n",
       "      <td>20070412101853_0</td>\n",
       "    </tr>\n",
       "    <tr>\n",
       "      <th>20070412102325_0</th>\n",
       "      <td>LINESTRING (116.33040 39.97585, 116.33057 39.9...</td>\n",
       "      <td>[2007-04-12, 2007-04-12]</td>\n",
       "      <td>[0.24933972268054067, 0.24933972268054067]</td>\n",
       "      <td>[20.964676832270413, 20.964606804911114]</td>\n",
       "      <td>[114.829396325459, 118.110236220472]</td>\n",
       "      <td>20070412102325_0</td>\n",
       "    </tr>\n",
       "    <tr>\n",
       "      <th>20070413105648_0</th>\n",
       "      <td>LINESTRING (116.33015 39.97622, 116.33028 39.9...</td>\n",
       "      <td>[2007-04-13, 2007-04-13, 2007-04-13, 2007-04-1...</td>\n",
       "      <td>[0.07796726674907895, 0.07796726674907895, 0.0...</td>\n",
       "      <td>[99.26439871977664, 99.26439871977664, 213.973...</td>\n",
       "      <td>[0.0, 55.7742782152231, 55.7742782152231, 170....</td>\n",
       "      <td>20070413105648_0</td>\n",
       "    </tr>\n",
       "    <tr>\n",
       "      <th>20070413150314_0</th>\n",
       "      <td>LINESTRING (116.31905 39.92687, 116.31551 39.9...</td>\n",
       "      <td>[2007-04-13, 2007-04-13, 2007-04-13, 2007-04-13]</td>\n",
       "      <td>[9.889579092536993, 9.889579092536993, 0.48658...</td>\n",
       "      <td>[269.68467918410283, 269.68467918410283, 336.9...</td>\n",
       "      <td>[252.624671916011, 252.624671916011, 262.46719...</td>\n",
       "      <td>20070413150314_0</td>\n",
       "    </tr>\n",
       "    <tr>\n",
       "      <th>20070414022829_0</th>\n",
       "      <td>LINESTRING (116.31554 39.92693, 116.31654 39.9...</td>\n",
       "      <td>[2007-04-14, 2007-04-14, 2007-04-14, 2007-04-1...</td>\n",
       "      <td>[1.2964931291294477, 1.2964931291294477, 1.443...</td>\n",
       "      <td>[94.8087951122991, 104.61717890145906, 64.6302...</td>\n",
       "      <td>[242.782152230971, 193.569553805774, 147.63779...</td>\n",
       "      <td>20070414022829_0</td>\n",
       "    </tr>\n",
       "  </tbody>\n",
       "</table>\n",
       "</div>"
      ],
      "text/plain": [
       "                                                           geometry  \\\n",
       "trajectory_id                                                         \n",
       "20070412101853_0  LINESTRING (116.33028 39.97552, 116.33057 39.9...   \n",
       "20070412102325_0  LINESTRING (116.33040 39.97585, 116.33057 39.9...   \n",
       "20070413105648_0  LINESTRING (116.33015 39.97622, 116.33028 39.9...   \n",
       "20070413150314_0  LINESTRING (116.31905 39.92687, 116.31551 39.9...   \n",
       "20070414022829_0  LINESTRING (116.31554 39.92693, 116.31654 39.9...   \n",
       "\n",
       "                                                           date_str  \\\n",
       "trajectory_id                                                         \n",
       "20070412101853_0                           [2007-04-12, 2007-04-12]   \n",
       "20070412102325_0                           [2007-04-12, 2007-04-12]   \n",
       "20070413105648_0  [2007-04-13, 2007-04-13, 2007-04-13, 2007-04-1...   \n",
       "20070413150314_0   [2007-04-13, 2007-04-13, 2007-04-13, 2007-04-13]   \n",
       "20070414022829_0  [2007-04-14, 2007-04-14, 2007-04-14, 2007-04-1...   \n",
       "\n",
       "                                                              speed  \\\n",
       "trajectory_id                                                         \n",
       "20070412101853_0           [0.3174578150582134, 0.3174578150582134]   \n",
       "20070412102325_0         [0.24933972268054067, 0.24933972268054067]   \n",
       "20070413105648_0  [0.07796726674907895, 0.07796726674907895, 0.0...   \n",
       "20070413150314_0  [9.889579092536993, 9.889579092536993, 0.48658...   \n",
       "20070414022829_0  [1.2964931291294477, 1.2964931291294477, 1.443...   \n",
       "\n",
       "                                                          direction  \\\n",
       "trajectory_id                                                         \n",
       "20070412101853_0           [15.013957914870332, 20.964606804911114]   \n",
       "20070412102325_0           [20.964676832270413, 20.964606804911114]   \n",
       "20070413105648_0  [99.26439871977664, 99.26439871977664, 213.973...   \n",
       "20070413150314_0  [269.68467918410283, 269.68467918410283, 336.9...   \n",
       "20070414022829_0  [94.8087951122991, 104.61717890145906, 64.6302...   \n",
       "\n",
       "                                                           altitude  \\\n",
       "trajectory_id                                                         \n",
       "20070412101853_0               [351.049868766404, 118.110236220472]   \n",
       "20070412102325_0               [114.829396325459, 118.110236220472]   \n",
       "20070413105648_0  [0.0, 55.7742782152231, 55.7742782152231, 170....   \n",
       "20070413150314_0  [252.624671916011, 252.624671916011, 262.46719...   \n",
       "20070414022829_0  [242.782152230971, 193.569553805774, 147.63779...   \n",
       "\n",
       "                     trajectory_id  \n",
       "trajectory_id                       \n",
       "20070412101853_0  20070412101853_0  \n",
       "20070412102325_0  20070412102325_0  \n",
       "20070413105648_0  20070413105648_0  \n",
       "20070413150314_0  20070413150314_0  \n",
       "20070414022829_0  20070414022829_0  "
      ]
     },
     "execution_count": 6,
     "metadata": {},
     "output_type": "execute_result"
    }
   ],
   "source": [
    "gdf_agg.head()"
   ]
  },
  {
   "cell_type": "code",
   "execution_count": 7,
   "id": "e0c2ec318c9cb9ca",
   "metadata": {
    "ExecuteTime": {
     "end_time": "2024-05-27T19:49:19.794881Z",
     "start_time": "2024-05-27T19:49:19.788650Z"
    },
    "collapsed": false,
    "jupyter": {
     "outputs_hidden": false
    }
   },
   "outputs": [],
   "source": [
    "# gdf_agg = gdf_agg[:1000].copy()"
   ]
  },
  {
   "cell_type": "code",
   "execution_count": 8,
   "id": "fe710e61ad07e5b2",
   "metadata": {
    "ExecuteTime": {
     "end_time": "2024-05-27T19:49:19.804857Z",
     "start_time": "2024-05-27T19:49:19.791776Z"
    },
    "collapsed": false,
    "jupyter": {
     "outputs_hidden": false
    }
   },
   "outputs": [],
   "source": [
    "def get_hex_neigh(traj):\n",
    "    h3_dist = []\n",
    "    h3_cells = []\n",
    "    points = traj.coords\n",
    "    for idx in range(len(points) - 1):\n",
    "        a, b = points[idx], points[idx + 1]\n",
    "        start_hex = h3.latlng_to_cell(a[1], a[0], H3_RESOLUTION)\n",
    "        end_hex = h3.latlng_to_cell(b[1], b[0], H3_RESOLUTION)\n",
    "        if start_hex == end_hex:\n",
    "            continue\n",
    "        for h3_cell in h3.grid_path_cells(start_hex, end_hex):\n",
    "            if not h3_cells or h3_dist[-1] != h3_cell:\n",
    "                # print(h3.grid_disk(h3_cell, 1))\n",
    "                h3_dist.append(h3_cell)\n",
    "                h3_cells.append(h3.grid_disk(h3_cell, 1))\n",
    "    return h3_cells"
   ]
  },
  {
   "cell_type": "code",
   "execution_count": 9,
   "id": "f7625edf646c6d9d",
   "metadata": {
    "ExecuteTime": {
     "end_time": "2024-05-27T19:49:19.806395Z",
     "start_time": "2024-05-27T19:49:19.795710Z"
    },
    "collapsed": false,
    "jupyter": {
     "outputs_hidden": false
    }
   },
   "outputs": [],
   "source": [
    "dummies = pd.get_dummies([0, 1, 2, 3, 4, 5, 6])"
   ]
  },
  {
   "cell_type": "code",
   "execution_count": 10,
   "id": "4a99f50173ab15f",
   "metadata": {
    "ExecuteTime": {
     "end_time": "2024-05-27T19:49:19.819552Z",
     "start_time": "2024-05-27T19:49:19.799160Z"
    },
    "collapsed": false,
    "jupyter": {
     "outputs_hidden": false
    }
   },
   "outputs": [],
   "source": [
    "def get_y(traj):\n",
    "    if not traj:\n",
    "        return None\n",
    "    y = []\n",
    "    for i in range(len(traj) - 1):\n",
    "        target = traj[i + 1][0]\n",
    "        prop = np.array(traj[i])\n",
    "        res = prop == target\n",
    "        # print(res)\n",
    "        idx = np.where(res)[0]\n",
    "        try:\n",
    "            dummy = dummies.loc[idx].values[0]\n",
    "        except:\n",
    "            print(traj)\n",
    "        y.append(dummy)\n",
    "    y.append(dummies.loc[0].values)\n",
    "    return y"
   ]
  },
  {
   "cell_type": "code",
   "execution_count": 11,
   "id": "38b76fd0983a8b1e",
   "metadata": {
    "ExecuteTime": {
     "end_time": "2024-05-27T19:49:19.897798Z",
     "start_time": "2024-05-27T19:49:19.807665Z"
    },
    "collapsed": false,
    "jupyter": {
     "outputs_hidden": false
    }
   },
   "outputs": [
    {
     "data": {
      "text/html": [
       "<div style=\"width:100%;\"><div style=\"position:relative;width:100%;height:0;padding-bottom:60%;\"><span style=\"color:#565656\">Make this Notebook Trusted to load map: File -> Trust Notebook</span><iframe srcdoc=\"&lt;!DOCTYPE html&gt;\n",
       "&lt;html&gt;\n",
       "&lt;head&gt;\n",
       "    \n",
       "    &lt;meta http-equiv=&quot;content-type&quot; content=&quot;text/html; charset=UTF-8&quot; /&gt;\n",
       "    \n",
       "        &lt;script&gt;\n",
       "            L_NO_TOUCH = false;\n",
       "            L_DISABLE_3D = false;\n",
       "        &lt;/script&gt;\n",
       "    \n",
       "    &lt;style&gt;html, body {width: 100%;height: 100%;margin: 0;padding: 0;}&lt;/style&gt;\n",
       "    &lt;style&gt;#map {position:absolute;top:0;bottom:0;right:0;left:0;}&lt;/style&gt;\n",
       "    &lt;script src=&quot;https://cdn.jsdelivr.net/npm/leaflet@1.9.3/dist/leaflet.js&quot;&gt;&lt;/script&gt;\n",
       "    &lt;script src=&quot;https://code.jquery.com/jquery-3.7.1.min.js&quot;&gt;&lt;/script&gt;\n",
       "    &lt;script src=&quot;https://cdn.jsdelivr.net/npm/bootstrap@5.2.2/dist/js/bootstrap.bundle.min.js&quot;&gt;&lt;/script&gt;\n",
       "    &lt;script src=&quot;https://cdnjs.cloudflare.com/ajax/libs/Leaflet.awesome-markers/2.0.2/leaflet.awesome-markers.js&quot;&gt;&lt;/script&gt;\n",
       "    &lt;link rel=&quot;stylesheet&quot; href=&quot;https://cdn.jsdelivr.net/npm/leaflet@1.9.3/dist/leaflet.css&quot;/&gt;\n",
       "    &lt;link rel=&quot;stylesheet&quot; href=&quot;https://cdn.jsdelivr.net/npm/bootstrap@5.2.2/dist/css/bootstrap.min.css&quot;/&gt;\n",
       "    &lt;link rel=&quot;stylesheet&quot; href=&quot;https://netdna.bootstrapcdn.com/bootstrap/3.0.0/css/bootstrap.min.css&quot;/&gt;\n",
       "    &lt;link rel=&quot;stylesheet&quot; href=&quot;https://cdn.jsdelivr.net/npm/@fortawesome/fontawesome-free@6.2.0/css/all.min.css&quot;/&gt;\n",
       "    &lt;link rel=&quot;stylesheet&quot; href=&quot;https://cdnjs.cloudflare.com/ajax/libs/Leaflet.awesome-markers/2.0.2/leaflet.awesome-markers.css&quot;/&gt;\n",
       "    &lt;link rel=&quot;stylesheet&quot; href=&quot;https://cdn.jsdelivr.net/gh/python-visualization/folium/folium/templates/leaflet.awesome.rotate.min.css&quot;/&gt;\n",
       "    \n",
       "            &lt;meta name=&quot;viewport&quot; content=&quot;width=device-width,\n",
       "                initial-scale=1.0, maximum-scale=1.0, user-scalable=no&quot; /&gt;\n",
       "            &lt;style&gt;\n",
       "                #map_db70163ff3f241142f12d0ba1cad8417 {\n",
       "                    position: relative;\n",
       "                    width: 100.0%;\n",
       "                    height: 100.0%;\n",
       "                    left: 0.0%;\n",
       "                    top: 0.0%;\n",
       "                }\n",
       "                .leaflet-container { font-size: 1rem; }\n",
       "            &lt;/style&gt;\n",
       "        \n",
       "    \n",
       "                    &lt;style&gt;\n",
       "                        .foliumtooltip {\n",
       "                            \n",
       "                        }\n",
       "                       .foliumtooltip table{\n",
       "                            margin: auto;\n",
       "                        }\n",
       "                        .foliumtooltip tr{\n",
       "                            text-align: left;\n",
       "                        }\n",
       "                        .foliumtooltip th{\n",
       "                            padding: 2px; padding-right: 8px;\n",
       "                        }\n",
       "                    &lt;/style&gt;\n",
       "            \n",
       "    &lt;script src=&quot;https://cdnjs.cloudflare.com/ajax/libs/d3/3.5.5/d3.min.js&quot;&gt;&lt;/script&gt;\n",
       "&lt;/head&gt;\n",
       "&lt;body&gt;\n",
       "    \n",
       "    \n",
       "            &lt;div class=&quot;folium-map&quot; id=&quot;map_db70163ff3f241142f12d0ba1cad8417&quot; &gt;&lt;/div&gt;\n",
       "        \n",
       "&lt;/body&gt;\n",
       "&lt;script&gt;\n",
       "    \n",
       "    \n",
       "            var map_db70163ff3f241142f12d0ba1cad8417 = L.map(\n",
       "                &quot;map_db70163ff3f241142f12d0ba1cad8417&quot;,\n",
       "                {\n",
       "                    center: [39.950221854012725, 116.32196511768859],\n",
       "                    crs: L.CRS.EPSG3857,\n",
       "                    zoom: 10,\n",
       "                    zoomControl: true,\n",
       "                    preferCanvas: false,\n",
       "                }\n",
       "            );\n",
       "            L.control.scale().addTo(map_db70163ff3f241142f12d0ba1cad8417);\n",
       "\n",
       "            \n",
       "\n",
       "        \n",
       "    \n",
       "            var tile_layer_e78c8b37ada3a01f528fbd6a1be03c21 = L.tileLayer(\n",
       "                &quot;https://a.basemaps.cartocdn.com/light_all/{z}/{x}/{y}{r}.png&quot;,\n",
       "                {&quot;attribution&quot;: &quot;\\u0026copy; \\u003ca href=\\&quot;https://www.openstreetmap.org/copyright\\&quot;\\u003eOpenStreetMap\\u003c/a\\u003e contributors \\u0026copy; \\u003ca href=\\&quot;https://carto.com/attributions\\&quot;\\u003eCARTO\\u003c/a\\u003e&quot;, &quot;detectRetina&quot;: false, &quot;maxNativeZoom&quot;: 20, &quot;maxZoom&quot;: 20, &quot;minZoom&quot;: 0, &quot;noWrap&quot;: false, &quot;opacity&quot;: 1, &quot;subdomains&quot;: &quot;abc&quot;, &quot;tms&quot;: false}\n",
       "            );\n",
       "        \n",
       "    \n",
       "            tile_layer_e78c8b37ada3a01f528fbd6a1be03c21.addTo(map_db70163ff3f241142f12d0ba1cad8417);\n",
       "        \n",
       "    \n",
       "            map_db70163ff3f241142f12d0ba1cad8417.fitBounds(\n",
       "                [[39.92424745155337, 116.31275312658258], [39.976196256472086, 116.33117710879462]],\n",
       "                {}\n",
       "            );\n",
       "        \n",
       "    \n",
       "        function geo_json_2b8424191dedabd3a6e7678afd974abe_styler(feature) {\n",
       "            switch(feature.id) {\n",
       "                case &quot;0&quot;: \n",
       "                    return {&quot;color&quot;: &quot;#440154&quot;, &quot;fillColor&quot;: &quot;#440154&quot;, &quot;fillOpacity&quot;: 0.5, &quot;weight&quot;: 2};\n",
       "                case &quot;1&quot;: \n",
       "                    return {&quot;color&quot;: &quot;#470e61&quot;, &quot;fillColor&quot;: &quot;#470e61&quot;, &quot;fillOpacity&quot;: 0.5, &quot;weight&quot;: 2};\n",
       "                case &quot;2&quot;: \n",
       "                    return {&quot;color&quot;: &quot;#481b6d&quot;, &quot;fillColor&quot;: &quot;#481b6d&quot;, &quot;fillOpacity&quot;: 0.5, &quot;weight&quot;: 2};\n",
       "                case &quot;3&quot;: \n",
       "                    return {&quot;color&quot;: &quot;#482878&quot;, &quot;fillColor&quot;: &quot;#482878&quot;, &quot;fillOpacity&quot;: 0.5, &quot;weight&quot;: 2};\n",
       "                case &quot;4&quot;: \n",
       "                    return {&quot;color&quot;: &quot;#46337f&quot;, &quot;fillColor&quot;: &quot;#46337f&quot;, &quot;fillOpacity&quot;: 0.5, &quot;weight&quot;: 2};\n",
       "                case &quot;5&quot;: \n",
       "                    return {&quot;color&quot;: &quot;#423f85&quot;, &quot;fillColor&quot;: &quot;#423f85&quot;, &quot;fillOpacity&quot;: 0.5, &quot;weight&quot;: 2};\n",
       "                case &quot;6&quot;: \n",
       "                    return {&quot;color&quot;: &quot;#3e4989&quot;, &quot;fillColor&quot;: &quot;#3e4989&quot;, &quot;fillOpacity&quot;: 0.5, &quot;weight&quot;: 2};\n",
       "                case &quot;7&quot;: \n",
       "                    return {&quot;color&quot;: &quot;#3a548c&quot;, &quot;fillColor&quot;: &quot;#3a548c&quot;, &quot;fillOpacity&quot;: 0.5, &quot;weight&quot;: 2};\n",
       "                case &quot;8&quot;: \n",
       "                    return {&quot;color&quot;: &quot;#355e8d&quot;, &quot;fillColor&quot;: &quot;#355e8d&quot;, &quot;fillOpacity&quot;: 0.5, &quot;weight&quot;: 2};\n",
       "                case &quot;10&quot;: \n",
       "                    return {&quot;color&quot;: &quot;#2d718e&quot;, &quot;fillColor&quot;: &quot;#2d718e&quot;, &quot;fillOpacity&quot;: 0.5, &quot;weight&quot;: 2};\n",
       "                case &quot;11&quot;: \n",
       "                    return {&quot;color&quot;: &quot;#297a8e&quot;, &quot;fillColor&quot;: &quot;#297a8e&quot;, &quot;fillOpacity&quot;: 0.5, &quot;weight&quot;: 2};\n",
       "                case &quot;12&quot;: \n",
       "                    return {&quot;color&quot;: &quot;#26828e&quot;, &quot;fillColor&quot;: &quot;#26828e&quot;, &quot;fillOpacity&quot;: 0.5, &quot;weight&quot;: 2};\n",
       "                case &quot;13&quot;: \n",
       "                    return {&quot;color&quot;: &quot;#228c8d&quot;, &quot;fillColor&quot;: &quot;#228c8d&quot;, &quot;fillOpacity&quot;: 0.5, &quot;weight&quot;: 2};\n",
       "                case &quot;14&quot;: \n",
       "                    return {&quot;color&quot;: &quot;#1f948c&quot;, &quot;fillColor&quot;: &quot;#1f948c&quot;, &quot;fillOpacity&quot;: 0.5, &quot;weight&quot;: 2};\n",
       "                case &quot;15&quot;: \n",
       "                    return {&quot;color&quot;: &quot;#1f9e89&quot;, &quot;fillColor&quot;: &quot;#1f9e89&quot;, &quot;fillOpacity&quot;: 0.5, &quot;weight&quot;: 2};\n",
       "                case &quot;16&quot;: \n",
       "                    return {&quot;color&quot;: &quot;#21a685&quot;, &quot;fillColor&quot;: &quot;#21a685&quot;, &quot;fillOpacity&quot;: 0.5, &quot;weight&quot;: 2};\n",
       "                case &quot;17&quot;: \n",
       "                    return {&quot;color&quot;: &quot;#29af7f&quot;, &quot;fillColor&quot;: &quot;#29af7f&quot;, &quot;fillOpacity&quot;: 0.5, &quot;weight&quot;: 2};\n",
       "                case &quot;18&quot;: \n",
       "                    return {&quot;color&quot;: &quot;#35b779&quot;, &quot;fillColor&quot;: &quot;#35b779&quot;, &quot;fillOpacity&quot;: 0.5, &quot;weight&quot;: 2};\n",
       "                case &quot;19&quot;: \n",
       "                    return {&quot;color&quot;: &quot;#46c06f&quot;, &quot;fillColor&quot;: &quot;#46c06f&quot;, &quot;fillOpacity&quot;: 0.5, &quot;weight&quot;: 2};\n",
       "                case &quot;20&quot;: \n",
       "                    return {&quot;color&quot;: &quot;#58c765&quot;, &quot;fillColor&quot;: &quot;#58c765&quot;, &quot;fillOpacity&quot;: 0.5, &quot;weight&quot;: 2};\n",
       "                case &quot;21&quot;: \n",
       "                    return {&quot;color&quot;: &quot;#6ece58&quot;, &quot;fillColor&quot;: &quot;#6ece58&quot;, &quot;fillOpacity&quot;: 0.5, &quot;weight&quot;: 2};\n",
       "                case &quot;22&quot;: \n",
       "                    return {&quot;color&quot;: &quot;#84d44b&quot;, &quot;fillColor&quot;: &quot;#84d44b&quot;, &quot;fillOpacity&quot;: 0.5, &quot;weight&quot;: 2};\n",
       "                case &quot;23&quot;: \n",
       "                    return {&quot;color&quot;: &quot;#9dd93b&quot;, &quot;fillColor&quot;: &quot;#9dd93b&quot;, &quot;fillOpacity&quot;: 0.5, &quot;weight&quot;: 2};\n",
       "                case &quot;24&quot;: \n",
       "                    return {&quot;color&quot;: &quot;#b5de2b&quot;, &quot;fillColor&quot;: &quot;#b5de2b&quot;, &quot;fillOpacity&quot;: 0.5, &quot;weight&quot;: 2};\n",
       "                case &quot;25&quot;: \n",
       "                    return {&quot;color&quot;: &quot;#d0e11c&quot;, &quot;fillColor&quot;: &quot;#d0e11c&quot;, &quot;fillOpacity&quot;: 0.5, &quot;weight&quot;: 2};\n",
       "                case &quot;26&quot;: \n",
       "                    return {&quot;color&quot;: &quot;#e7e419&quot;, &quot;fillColor&quot;: &quot;#e7e419&quot;, &quot;fillOpacity&quot;: 0.5, &quot;weight&quot;: 2};\n",
       "                case &quot;27&quot;: \n",
       "                    return {&quot;color&quot;: &quot;#fde725&quot;, &quot;fillColor&quot;: &quot;#fde725&quot;, &quot;fillOpacity&quot;: 0.5, &quot;weight&quot;: 2};\n",
       "                default:\n",
       "                    return {&quot;color&quot;: &quot;#31688e&quot;, &quot;fillColor&quot;: &quot;#31688e&quot;, &quot;fillOpacity&quot;: 0.5, &quot;weight&quot;: 2};\n",
       "            }\n",
       "        }\n",
       "        function geo_json_2b8424191dedabd3a6e7678afd974abe_highlighter(feature) {\n",
       "            switch(feature.id) {\n",
       "                default:\n",
       "                    return {&quot;fillOpacity&quot;: 0.75};\n",
       "            }\n",
       "        }\n",
       "        function geo_json_2b8424191dedabd3a6e7678afd974abe_pointToLayer(feature, latlng) {\n",
       "            var opts = {&quot;bubblingMouseEvents&quot;: true, &quot;color&quot;: &quot;#3388ff&quot;, &quot;dashArray&quot;: null, &quot;dashOffset&quot;: null, &quot;fill&quot;: true, &quot;fillColor&quot;: &quot;#3388ff&quot;, &quot;fillOpacity&quot;: 0.2, &quot;fillRule&quot;: &quot;evenodd&quot;, &quot;lineCap&quot;: &quot;round&quot;, &quot;lineJoin&quot;: &quot;round&quot;, &quot;opacity&quot;: 1.0, &quot;radius&quot;: 2, &quot;stroke&quot;: true, &quot;weight&quot;: 3};\n",
       "            \n",
       "            let style = geo_json_2b8424191dedabd3a6e7678afd974abe_styler(feature)\n",
       "            Object.assign(opts, style)\n",
       "            \n",
       "            return new L.CircleMarker(latlng, opts)\n",
       "        }\n",
       "\n",
       "        function geo_json_2b8424191dedabd3a6e7678afd974abe_onEachFeature(feature, layer) {\n",
       "            layer.on({\n",
       "                mouseout: function(e) {\n",
       "                    if(typeof e.target.setStyle === &quot;function&quot;){\n",
       "                            geo_json_2b8424191dedabd3a6e7678afd974abe.resetStyle(e.target);\n",
       "                    }\n",
       "                },\n",
       "                mouseover: function(e) {\n",
       "                    if(typeof e.target.setStyle === &quot;function&quot;){\n",
       "                        const highlightStyle = geo_json_2b8424191dedabd3a6e7678afd974abe_highlighter(e.target.feature)\n",
       "                        e.target.setStyle(highlightStyle);\n",
       "                    }\n",
       "                },\n",
       "            });\n",
       "        };\n",
       "        var geo_json_2b8424191dedabd3a6e7678afd974abe = L.geoJson(null, {\n",
       "                onEachFeature: geo_json_2b8424191dedabd3a6e7678afd974abe_onEachFeature,\n",
       "            \n",
       "                style: geo_json_2b8424191dedabd3a6e7678afd974abe_styler,\n",
       "                pointToLayer: geo_json_2b8424191dedabd3a6e7678afd974abe_pointToLayer,\n",
       "                opacity: 0.4,\n",
       "        });\n",
       "\n",
       "        function geo_json_2b8424191dedabd3a6e7678afd974abe_add (data) {\n",
       "            geo_json_2b8424191dedabd3a6e7678afd974abe\n",
       "                .addData(data);\n",
       "        }\n",
       "            geo_json_2b8424191dedabd3a6e7678afd974abe_add({&quot;bbox&quot;: [116.31275312658258, 39.92424745155337, 116.33117710879462, 39.976196256472086], &quot;features&quot;: [{&quot;bbox&quot;: [116.32763999423332, 39.97291693687692, 116.33117710879462, 39.97616417995948], &quot;geometry&quot;: {&quot;coordinates&quot;: [[[116.32791946932352, 39.97536839951377], [116.32763999423332, 39.973744753242386], [116.32912903712204, 39.97291693687692], [116.33089754482207, 39.97371270614383], [116.33117710879462, 39.97533630295481], [116.32968807618798, 39.97616417995948], [116.32791946932352, 39.97536839951377]]], &quot;type&quot;: &quot;Polygon&quot;}, &quot;id&quot;: &quot;0&quot;, &quot;properties&quot;: {&quot;__folium_color&quot;: &quot;#440154&quot;, &quot;index&quot;: 0}, &quot;type&quot;: &quot;Feature&quot;}, {&quot;bbox&quot;: [116.32438227426219, 39.97294891447207, 116.32791946932352, 39.976196256472086], &quot;geometry&quot;: {&quot;coordinates&quot;: [[[116.32466166045867, 39.975400406516286], [116.32438227426219, 39.973776710787845], [116.3258714462834, 39.97294891447207], [116.32763999423332, 39.973744753242386], [116.32791946932352, 39.97536839951377], [116.32643030757325, 39.976196256472086], [116.32466166045867, 39.975400406516286]]], &quot;type&quot;: &quot;Polygon&quot;}, &quot;id&quot;: &quot;1&quot;, &quot;properties&quot;: {&quot;__folium_color&quot;: &quot;#470e61&quot;, &quot;index&quot;: 1}, &quot;type&quot;: &quot;Feature&quot;}, {&quot;bbox&quot;: [116.32559204038054, 39.970497514796946, 116.32912903712204, 39.973744753242386], &quot;geometry&quot;: {&quot;coordinates&quot;: [[[116.3258714462834, 39.97294891447207], [116.32559204038054, 39.97132527052154], [116.32708109354334, 39.970497514796946], [116.32884954233815, 39.97129334238222], [116.32912903712204, 39.97291693687692], [116.32763999423332, 39.973744753242386], [116.3258714462834, 39.97294891447207]]], &quot;type&quot;: &quot;Polygon&quot;}, &quot;id&quot;: &quot;2&quot;, &quot;properties&quot;: {&quot;__folium_color&quot;: &quot;#481b6d&quot;, &quot;index&quot;: 2}, &quot;type&quot;: &quot;Feature&quot;}, {&quot;bbox&quot;: [116.32354421462284, 39.968078036731654, 116.32708109354334, 39.97132527052154], &quot;geometry&quot;: {&quot;coordinates&quot;: [[[116.32382355134577, 39.97052937343417], [116.32354421462284, 39.96890573181373], [116.32503327805172, 39.968078036731654], [116.32680166794067, 39.96887392262771], [116.32708109354334, 39.970497514796946], [116.32559204038054, 39.97132527052154], [116.32382355134577, 39.97052937343417]]], &quot;type&quot;: &quot;Polygon&quot;}, &quot;id&quot;: &quot;3&quot;, &quot;properties&quot;: {&quot;__folium_color&quot;: &quot;#482878&quot;, &quot;index&quot;: 3}, &quot;type&quot;: &quot;Feature&quot;}, {&quot;bbox&quot;: [116.3247539216229, 39.96562679240838, 116.32829060226126, 39.96887392262771], &quot;geometry&quot;: {&quot;coordinates&quot;: [[[116.32503327805172, 39.968078036731654], [116.3247539216229, 39.966454446897146], [116.32624286621271, 39.96562679240838], [116.32801115696535, 39.966422667113505], [116.32829060226126, 39.96804620749809], [116.32680166794067, 39.96887392262771], [116.32503327805172, 39.968078036731654]]], &quot;type&quot;: &quot;Polygon&quot;}, &quot;id&quot;: &quot;4&quot;, &quot;properties&quot;: {&quot;__folium_color&quot;: &quot;#46337f&quot;, &quot;index&quot;: 4}, &quot;type&quot;: &quot;Feature&quot;}, {&quot;bbox&quot;: [116.32149651695345, 39.965658502697856, 116.32503327805172, 39.96890573181373], &quot;geometry&quot;: {&quot;coordinates&quot;: [[[116.32177578450383, 39.96810977641683], [116.32149651695345, 39.96648613713568], [116.32298559064041, 39.965658502697856], [116.3247539216229, 39.966454446897146], [116.32503327805172, 39.968078036731654], [116.32354421462284, 39.96890573181373], [116.32177578450383, 39.96810977641683]]], &quot;type&quot;: &quot;Polygon&quot;}, &quot;id&quot;: &quot;5&quot;, &quot;properties&quot;: {&quot;__folium_color&quot;: &quot;#423f85&quot;, &quot;index&quot;: 5}, &quot;type&quot;: &quot;Feature&quot;}, {&quot;bbox&quot;: [116.31823894296487, 39.96569012343682, 116.32177578450383, 39.96893745144253], &quot;geometry&quot;: {&quot;coordinates&quot;: [[[116.31851812162533, 39.96814142653938], [116.31823894296487, 39.96651773781502], [116.31972814575076, 39.96569012343682], [116.32149651695345, 39.96648613713568], [116.32177578450383, 39.96810977641683], [116.32028659196482, 39.96893745144253], [116.31851812162533, 39.96814142653938]]], &quot;type&quot;: &quot;Polygon&quot;}, &quot;id&quot;: &quot;6&quot;, &quot;properties&quot;: {&quot;__folium_color&quot;: &quot;#3e4989&quot;, &quot;index&quot;: 6}, &quot;type&quot;: &quot;Feature&quot;}, {&quot;bbox&quot;: [116.31619142205504, 39.9632704145109, 116.31972814575076, 39.96651773781502], &quot;geometry&quot;: {&quot;coordinates&quot;: [[[116.31647053155163, 39.96572165461114], [116.31619142205504, 39.9640979682399], [116.31768063507985, 39.9632704145109], [116.31944894736559, 39.96406648650422], [116.31972814575076, 39.96569012343682], [116.31823894296487, 39.96651773781502], [116.31647053155163, 39.96572165461114]]], &quot;type&quot;: &quot;Polygon&quot;}, &quot;id&quot;: &quot;7&quot;, &quot;properties&quot;: {&quot;__folium_color&quot;: &quot;#3a548c&quot;, &quot;index&quot;: 7}, &quot;type&quot;: &quot;Feature&quot;}, {&quot;bbox&quot;: [116.31293372745432, 39.96330182674289, 116.31647053155163, 39.96654924892095], &quot;geometry&quot;: {&quot;coordinates&quot;: [[[116.31321274805086, 39.96575309620669], [116.31293372745432, 39.964129360400136], [116.31442306956868, 39.96330182674289], [116.31619142205504, 39.9640979682399], [116.31647053155163, 39.96572165461114], [116.31498119966501, 39.96654924892095], [116.31321274805086, 39.96575309620669]]], &quot;type&quot;: &quot;Polygon&quot;}, &quot;id&quot;: &quot;8&quot;, &quot;properties&quot;: {&quot;__folium_color&quot;: &quot;#355e8d&quot;, &quot;index&quot;: 8}, &quot;type&quot;: &quot;Feature&quot;}, {&quot;bbox&quot;: [116.31414402922853, 39.960850649655875, 116.31768063507985, 39.9640979682399], &quot;geometry&quot;: {&quot;coordinates&quot;: [[[116.31442306956868, 39.96330182674289], [116.31414402922853, 39.96167814273397], [116.31563325248429, 39.960850649655875], [116.31740150585243, 39.96164677993603], [116.31768063507985, 39.9632704145109], [116.31619142205504, 39.9640979682399], [116.31442306956868, 39.96330182674289]]], &quot;type&quot;: &quot;Polygon&quot;}, &quot;id&quot;: &quot;9&quot;, &quot;properties&quot;: {&quot;__folium_color&quot;: &quot;#31688e&quot;, &quot;index&quot;: 9}, &quot;type&quot;: &quot;Feature&quot;}, {&quot;bbox&quot;: [116.31535419240721, 39.958399564952735, 116.31889060003157, 39.96164677993603], &quot;geometry&quot;: {&quot;coordinates&quot;: [[[116.31563325248429, 39.960850649655875], [116.31535419240721, 39.959227017447944], [116.31684329682045, 39.958399564952735], [116.31861145107987, 39.95919568401649], [116.31889060003157, 39.960819266791624], [116.31740150585243, 39.96164677993603], [116.31563325248429, 39.960850649655875]]], &quot;type&quot;: &quot;Polygon&quot;}, &quot;id&quot;: &quot;10&quot;, &quot;properties&quot;: {&quot;__folium_color&quot;: &quot;#2d718e&quot;, &quot;index&quot;: 10}, &quot;type&quot;: &quot;Feature&quot;}, {&quot;bbox&quot;: [116.31656421701302, 39.955948572640644, 116.32010042642946, 39.95919568401649], &quot;geometry&quot;: {&quot;coordinates&quot;: [[[116.31684329682045, 39.958399564952735], [116.31656421701302, 39.956775984549175], [116.31805320259988, 39.955948572640644], [116.31982125776014, 39.95674468048838], [116.32010042642946, 39.95836821146038], [116.31861145107987, 39.95919568401649], [116.31684329682045, 39.958399564952735]]], &quot;type&quot;: &quot;Polygon&quot;}, &quot;id&quot;: &quot;11&quot;, &quot;properties&quot;: {&quot;__folium_color&quot;: &quot;#297a8e&quot;, &quot;index&quot;: 11}, &quot;type&quot;: &quot;Feature&quot;}, {&quot;bbox&quot;: [116.31451711099196, 39.95352887793028, 116.31805320259988, 39.956775984549175], &quot;geometry&quot;: {&quot;coordinates&quot;: [[[116.3147961216625, 39.95597980721241], [116.31451711099196, 39.9543562291896], [116.31600610680809, 39.95352887793028], [116.31777410306871, 39.95432504404479], [116.31805320259988, 39.955948572640644], [116.31656421701302, 39.956775984549175], [116.3147961216625, 39.95597980721241]]], &quot;type&quot;: &quot;Polygon&quot;}, &quot;id&quot;: &quot;12&quot;, &quot;properties&quot;: {&quot;__folium_color&quot;: &quot;#26828e&quot;, &quot;index&quot;: 12}, &quot;type&quot;: &quot;Feature&quot;}, {&quot;bbox&quot;: [116.31572707640765, 39.95107804104931, 116.31926296984531, 39.95432504404479], &quot;geometry&quot;: {&quot;coordinates&quot;: [[[116.31600610680809, 39.95352887793028], [116.31572707640765, 39.95190535171983], [116.3172159534167, 39.95107804104931], [116.31898385059695, 39.95187419594191], [116.31926296984531, 39.9534976727267], [116.31777410306871, 39.95432504404479], [116.31600610680809, 39.95352887793028]]], &quot;type&quot;: &quot;Polygon&quot;}, &quot;id&quot;: &quot;13&quot;, &quot;properties&quot;: {&quot;__folium_color&quot;: &quot;#228c8d&quot;, &quot;index&quot;: 13}, &quot;type&quot;: &quot;Feature&quot;}, {&quot;bbox&quot;: [116.31693690329304, 39.94862729657652, 116.32047259857944, 39.95187419594191], &quot;geometry&quot;: {&quot;coordinates&quot;: [[[116.3172159534167, 39.95107804104931], [116.31693690329304, 39.949454566654495], [116.31842566151113, 39.94862729657652], [116.3201934596205, 39.94942344024763], [116.32047259857944, 39.95104686521802], [116.31898385059695, 39.95187419594191], [116.3172159534167, 39.95107804104931]]], &quot;type&quot;: &quot;Polygon&quot;}, &quot;id&quot;: &quot;14&quot;, &quot;properties&quot;: {&quot;__folium_color&quot;: &quot;#1f948c&quot;, &quot;index&quot;: 14}, &quot;type&quot;: &quot;Feature&quot;}, {&quot;bbox&quot;: [116.31489008399731, 39.94620767208294, 116.31842566151113, 39.949454566654495], &quot;geometry&quot;: {&quot;coordinates&quot;: [[[116.31516906500374, 39.94865835350892], [116.31489008399731, 39.94703488151337], [116.31637885244305, 39.94620767208294], [116.31814659167074, 39.94700387400073], [116.31842566151113, 39.94862729657652], [116.31693690329304, 39.949454566654495], [116.31516906500374, 39.94865835350892]]], &quot;type&quot;: &quot;Polygon&quot;}, &quot;id&quot;: &quot;15&quot;, &quot;properties&quot;: {&quot;__folium_color&quot;: &quot;#1f9e89&quot;, &quot;index&quot;: 15}, &quot;type&quot;: &quot;Feature&quot;}, {&quot;bbox&quot;: [116.31609985171386, 39.94375708307521, 116.319635231114, 39.94700387400073], &quot;geometry&quot;: {&quot;coordinates&quot;: [[[116.31637885244305, 39.94620767208294], [116.31609985171386, 39.944584251910996], [116.3175885013879, 39.94375708307521], [116.31935614156355, 39.94455327376567], [116.319635231114, 39.94617664451905], [116.31814659167074, 39.94700387400073], [116.31637885244305, 39.94620767208294]]], &quot;type&quot;: &quot;Polygon&quot;}, &quot;id&quot;: &quot;16&quot;, &quot;properties&quot;: {&quot;__folium_color&quot;: &quot;#21a685&quot;, &quot;index&quot;: 16}, &quot;type&quot;: &quot;Feature&quot;}, {&quot;bbox&quot;: [116.31730948094253, 39.941306586492864, 116.32084466224805, 39.94455327376567], &quot;geometry&quot;: {&quot;coordinates&quot;: [[[116.3175885013879, 39.94375708307521], [116.31730948094253, 39.94213371473028], [116.31879801186099, 39.941306586492864], [116.32056555299413, 39.942102765956406], [116.32084466224805, 39.94372608488401], [116.31935614156355, 39.94455327376567], [116.3175885013879, 39.94375708307521]]], &quot;type&quot;: &quot;Polygon&quot;}, &quot;id&quot;: &quot;17&quot;, &quot;properties&quot;: {&quot;__folium_color&quot;: &quot;#29af7f&quot;, &quot;index&quot;: 17}, &quot;type&quot;: &quot;Feature&quot;}, {&quot;bbox&quot;: [116.31526294829222, 39.93888703228817, 116.31879801186099, 39.94213371473028], &quot;geometry&quot;: {&quot;coordinates&quot;: [[[116.31554189963988, 39.941337465806946], [116.31526294829222, 39.939714099879644], [116.31675148943667, 39.93888703228817], [116.31851897170603, 39.939683269978275], [116.31879801186099, 39.941306586492864], [116.31730948094253, 39.94213371473028], [116.31554189963988, 39.941337465806946]]], &quot;type&quot;: &quot;Polygon&quot;}, &quot;id&quot;: &quot;18&quot;, &quot;properties&quot;: {&quot;__folium_color&quot;: &quot;#35b779&quot;, &quot;index&quot;: 18}, &quot;type&quot;: &quot;Feature&quot;}, {&quot;bbox&quot;: [116.31647251837327, 39.93643669120484, 116.32000738388508, 39.939683269978275], &quot;geometry&quot;: {&quot;coordinates&quot;: [[[116.31675148943667, 39.93888703228817], [116.31647251837327, 39.937263718195815], [116.31796094078148, 39.93643669120484], [116.31972832402708, 39.93723291766215], [116.32000738388508, 39.93885618234305], [116.31851897170603, 39.939683269978275], [116.31675148943667, 39.93888703228817]]], &quot;type&quot;: &quot;Polygon&quot;}, &quot;id&quot;: &quot;19&quot;, &quot;properties&quot;: {&quot;__folium_color&quot;: &quot;#46c06f&quot;, &quot;index&quot;: 19}, &quot;type&quot;: &quot;Feature&quot;}, {&quot;bbox&quot;: [116.31768195000899, 39.93398644256408, 116.32121661748278, 39.93723291766215], &quot;geometry&quot;: {&quot;coordinates&quot;: [[[116.31796094078148, 39.93643669120484], [116.31768195000899, 39.934813428950804], [116.31917025369698, 39.93398644256408], [116.32093753792839, 39.934782657788986], [116.32121661748278, 39.93640587063282], [116.31972832402708, 39.93723291766215], [116.31796094078148, 39.93643669120484]]], &quot;type&quot;: &quot;Polygon&quot;}, &quot;id&quot;: &quot;20&quot;, &quot;properties&quot;: {&quot;__folium_color&quot;: &quot;#58c765&quot;, &quot;index&quot;: 20}, &quot;type&quot;: &quot;Feature&quot;}, {&quot;bbox&quot;: [116.31563570392406, 39.931566958720275, 116.31917025369698, 39.934813428950804], &quot;geometry&quot;: {&quot;coordinates&quot;: [[[116.31591462561843, 39.93401714428071], [116.31563570392406, 39.932393884462755], [116.31712401783642, 39.931566958720275], [116.31889124322198, 39.932363232151694], [116.31917025369698, 39.93398644256408], [116.31768195000899, 39.934813428950804], [116.31591462561843, 39.93401714428071]]], &quot;type&quot;: &quot;Polygon&quot;}, &quot;id&quot;: &quot;21&quot;, &quot;properties&quot;: {&quot;__folium_color&quot;: &quot;#6ece58&quot;, &quot;index&quot;: 21}, &quot;type&quot;: &quot;Feature&quot;}, {&quot;bbox&quot;: [116.31684507643342, 39.92911686561239, 116.3203794282059, 39.932363232151694], &quot;geometry&quot;: {&quot;coordinates&quot;: [[[116.31712401783642, 39.931566958720275], [116.31684507643342, 39.92994375074857], [116.31833327164486, 39.92911686561239], [116.32010039803497, 39.92991312780558], [116.3203794282059, 39.93153628637293], [116.31889124322198, 39.932363232151694], [116.31712401783642, 39.931566958720275]]], &quot;type&quot;: &quot;Polygon&quot;}, &quot;id&quot;: &quot;22&quot;, &quot;properties&quot;: {&quot;__folium_color&quot;: &quot;#84d44b&quot;, &quot;index&quot;: 22}, &quot;type&quot;: &quot;Feature&quot;}, {&quot;bbox&quot;: [116.31805431053982, 39.926666864964254, 116.32158846433092, 39.92991312780558], &quot;geometry&quot;: {&quot;coordinates&quot;: [[[116.31833327164486, 39.92911686561239], [116.31805431053982, 39.92749370949032], [116.31954238706645, 39.926666864964254], [116.3213094144706, 39.927463115919565], [116.32158846433092, 39.92908622263857], [116.32010039803497, 39.92991312780558], [116.31833327164486, 39.92911686561239]]], &quot;type&quot;: &quot;Polygon&quot;}, &quot;id&quot;: &quot;23&quot;, &quot;properties&quot;: {&quot;__folium_color&quot;: &quot;#9dd93b&quot;, &quot;index&quot;: 23}, &quot;type&quot;: &quot;Feature&quot;}, {&quot;bbox&quot;: [116.31600835094035, 39.92424745155337, 116.31954238706645, 39.92749370949032], &quot;geometry&quot;: {&quot;coordinates&quot;: [[[116.31628724298683, 39.926697389104454], [116.31600835094035, 39.92507423543685], [116.31749643768968, 39.92424745155337], [116.31926340626599, 39.92504376069514], [116.31954238706645, 39.926666864964254], [116.31805431053982, 39.92749370949032], [116.31628724298683, 39.926697389104454]]], &quot;type&quot;: &quot;Polygon&quot;}, &quot;id&quot;: &quot;24&quot;, &quot;properties&quot;: {&quot;__folium_color&quot;: &quot;#b5de2b&quot;, &quot;index&quot;: 24}, &quot;type&quot;: &quot;Feature&quot;}, {&quot;bbox&quot;: [116.31479903755587, 39.926697389104454, 116.31833327164486, 39.92994375074857], &quot;geometry&quot;: {&quot;coordinates&quot;: [[[116.31507790989421, 39.92914741911817], [116.31479903755587, 39.92752421359636], [116.31628724298683, 39.926697389104454], [116.31805431053982, 39.92749370949032], [116.31833327164486, 39.92911686561239], [116.31684507643342, 39.92994375074857], [116.31507790989421, 39.92914741911817]]], &quot;type&quot;: &quot;Polygon&quot;}, &quot;id&quot;: &quot;25&quot;, &quot;properties&quot;: {&quot;__folium_color&quot;: &quot;#d0e11c&quot;, &quot;index&quot;: 25}, &quot;type&quot;: &quot;Feature&quot;}, {&quot;bbox&quot;: [116.31275312658258, 39.92427785686585, 116.31628724298683, 39.92752421359636], &quot;geometry&quot;: {&quot;coordinates&quot;: [[[116.31303192986367, 39.92672782377453], [116.31275312658258, 39.92510462071182], [116.31424134222513, 39.92427785686585], [116.31600835094035, 39.92507423543685], [116.31628724298683, 39.926697389104454], [116.31479903755587, 39.92752421359636], [116.31303192986367, 39.92672782377453]]], &quot;type&quot;: &quot;Polygon&quot;}, &quot;id&quot;: &quot;26&quot;, &quot;properties&quot;: {&quot;__folium_color&quot;: &quot;#e7e419&quot;, &quot;index&quot;: 26}, &quot;type&quot;: &quot;Feature&quot;}, {&quot;bbox&quot;: [116.31479903755587, 39.926697389104454, 116.31833327164486, 39.92994375074857], &quot;geometry&quot;: {&quot;coordinates&quot;: [[[116.31507790989421, 39.92914741911817], [116.31479903755587, 39.92752421359636], [116.31628724298683, 39.926697389104454], [116.31805431053982, 39.92749370949032], [116.31833327164486, 39.92911686561239], [116.31684507643342, 39.92994375074857], [116.31507790989421, 39.92914741911817]]], &quot;type&quot;: &quot;Polygon&quot;}, &quot;id&quot;: &quot;27&quot;, &quot;properties&quot;: {&quot;__folium_color&quot;: &quot;#fde725&quot;, &quot;index&quot;: 27}, &quot;type&quot;: &quot;Feature&quot;}], &quot;type&quot;: &quot;FeatureCollection&quot;});\n",
       "\n",
       "        \n",
       "    \n",
       "    geo_json_2b8424191dedabd3a6e7678afd974abe.bindTooltip(\n",
       "    function(layer){\n",
       "    let div = L.DomUtil.create(&#x27;div&#x27;);\n",
       "    \n",
       "    let handleObject = feature=&gt;typeof(feature)==&#x27;object&#x27; ? JSON.stringify(feature) : feature;\n",
       "    let fields = [&quot;index&quot;];\n",
       "    let aliases = [&quot;index&quot;];\n",
       "    let table = &#x27;&lt;table&gt;&#x27; +\n",
       "        String(\n",
       "        fields.map(\n",
       "        (v,i)=&gt;\n",
       "        `&lt;tr&gt;\n",
       "            &lt;th&gt;${aliases[i]}&lt;/th&gt;\n",
       "            \n",
       "            &lt;td&gt;${handleObject(layer.feature.properties[v])}&lt;/td&gt;\n",
       "        &lt;/tr&gt;`).join(&#x27;&#x27;))\n",
       "    +&#x27;&lt;/table&gt;&#x27;;\n",
       "    div.innerHTML=table;\n",
       "    \n",
       "    return div\n",
       "    }\n",
       "    ,{&quot;className&quot;: &quot;foliumtooltip&quot;, &quot;sticky&quot;: true});\n",
       "                     \n",
       "    \n",
       "            geo_json_2b8424191dedabd3a6e7678afd974abe.addTo(map_db70163ff3f241142f12d0ba1cad8417);\n",
       "        \n",
       "    \n",
       "    var color_map_cad7be21fdd3d9b853623dbaf02c5626 = {};\n",
       "\n",
       "    \n",
       "    color_map_cad7be21fdd3d9b853623dbaf02c5626.color = d3.scale.threshold()\n",
       "              .domain([0.0, 0.05410821643286573, 0.10821643286573146, 0.1623246492985972, 0.21643286573146292, 0.27054108216432865, 0.3246492985971944, 0.3787575150300601, 0.43286573146292584, 0.48697394789579157, 0.5410821643286573, 0.5951903807615231, 0.6492985971943888, 0.7034068136272545, 0.7575150300601202, 0.811623246492986, 0.8657314629258517, 0.9198396793587175, 0.9739478957915831, 1.028056112224449, 1.0821643286573146, 1.1362725450901803, 1.1903807615230462, 1.2444889779559118, 1.2985971943887775, 1.3527054108216432, 1.406813627254509, 1.4609218436873748, 1.5150300601202404, 1.5691382765531061, 1.623246492985972, 1.6773547094188377, 1.7314629258517034, 1.785571142284569, 1.839679358717435, 1.8937875751503006, 1.9478957915831663, 2.002004008016032, 2.056112224448898, 2.1102204408817635, 2.164328657314629, 2.218436873747495, 2.2725450901803605, 2.3266533066132267, 2.3807615230460923, 2.434869739478958, 2.4889779559118237, 2.5430861723446894, 2.597194388777555, 2.6513026052104207, 2.7054108216432864, 2.7595190380761525, 2.813627254509018, 2.867735470941884, 2.9218436873747495, 2.975951903807615, 3.030060120240481, 3.0841683366733466, 3.1382765531062122, 3.1923847695390783, 3.246492985971944, 3.3006012024048097, 3.3547094188376754, 3.408817635270541, 3.4629258517034067, 3.5170340681362724, 3.571142284569138, 3.625250501002004, 3.67935871743487, 3.7334669338677355, 3.787575150300601, 3.841683366733467, 3.8957915831663326, 3.9498997995991982, 4.004008016032064, 4.05811623246493, 4.112224448897796, 4.166332665330661, 4.220440881763527, 4.274549098196393, 4.328657314629258, 4.382765531062124, 4.43687374749499, 4.490981963927855, 4.545090180360721, 4.599198396793587, 4.653306613226453, 4.707414829659319, 4.761523046092185, 4.81563126252505, 4.869739478957916, 4.923847695390782, 4.977955911823647, 5.032064128256513, 5.086172344689379, 5.140280561122244, 5.19438877755511, 5.248496993987976, 5.302605210420841, 5.356713426853707, 5.410821643286573, 5.4649298597194385, 5.519038076152305, 5.573146292585171, 5.627254509018036, 5.681362725450902, 5.735470941883768, 5.789579158316633, 5.843687374749499, 5.897795591182365, 5.95190380761523, 6.006012024048096, 6.060120240480962, 6.114228456913827, 6.168336673346693, 6.222444889779559, 6.2765531062124245, 6.330661322645291, 6.384769539078157, 6.438877755511022, 6.492985971943888, 6.547094188376754, 6.601202404809619, 6.655310621242485, 6.709418837675351, 6.763527054108216, 6.817635270541082, 6.871743486973948, 6.925851703406813, 6.979959919839679, 7.034068136272545, 7.0881763527054105, 7.142284569138276, 7.196392785571143, 7.250501002004008, 7.304609218436874, 7.35871743486974, 7.412825651302605, 7.466933867735471, 7.521042084168337, 7.575150300601202, 7.629258517034068, 7.683366733466934, 7.7374749498997994, 7.791583166332665, 7.845691382765531, 7.8997995991983965, 7.953907815631262, 8.008016032064129, 8.062124248496994, 8.11623246492986, 8.170340681362726, 8.224448897795591, 8.278557114228457, 8.332665330661323, 8.386773547094188, 8.440881763527054, 8.49498997995992, 8.549098196392785, 8.603206412825651, 8.657314629258517, 8.711422845691382, 8.765531062124248, 8.819639278557114, 8.87374749498998, 8.927855711422845, 8.98196392785571, 9.036072144288577, 9.090180360721442, 9.144288577154308, 9.198396793587174, 9.25250501002004, 9.306613226452907, 9.360721442885772, 9.414829659318638, 9.468937875751504, 9.52304609218437, 9.577154308617235, 9.6312625250501, 9.685370741482966, 9.739478957915832, 9.793587174348698, 9.847695390781563, 9.901803607214429, 9.955911823647295, 10.01002004008016, 10.064128256513026, 10.118236472945892, 10.172344689378757, 10.226452905811623, 10.280561122244489, 10.334669338677354, 10.38877755511022, 10.442885771543086, 10.496993987975952, 10.551102204408817, 10.605210420841683, 10.659318637274549, 10.713426853707414, 10.76753507014028, 10.821643286573146, 10.875751503006011, 10.929859719438877, 10.983967935871744, 11.03807615230461, 11.092184368737476, 11.146292585170341, 11.200400801603207, 11.254509018036073, 11.308617234468938, 11.362725450901804, 11.41683366733467, 11.470941883767535, 11.525050100200401, 11.579158316633267, 11.633266533066132, 11.687374749498998, 11.741482965931864, 11.79559118236473, 11.849699398797595, 11.90380761523046, 11.957915831663327, 12.012024048096192, 12.066132264529058, 12.120240480961924, 12.17434869739479, 12.228456913827655, 12.28256513026052, 12.336673346693386, 12.390781563126252, 12.444889779559118, 12.498997995991983, 12.553106212424849, 12.607214428857715, 12.661322645290582, 12.715430861723448, 12.769539078156313, 12.823647294589179, 12.877755511022045, 12.93186372745491, 12.985971943887776, 13.040080160320642, 13.094188376753507, 13.148296593186373, 13.202404809619239, 13.256513026052104, 13.31062124248497, 13.364729458917836, 13.418837675350701, 13.472945891783567, 13.527054108216433, 13.581162324649299, 13.635270541082164, 13.68937875751503, 13.743486973947896, 13.797595190380761, 13.851703406813627, 13.905811623246493, 13.959919839679358, 14.014028056112224, 14.06813627254509, 14.122244488977955, 14.176352705410821, 14.230460921843687, 14.284569138276552, 14.338677354709418, 14.392785571142285, 14.446893787575151, 14.501002004008017, 14.555110220440882, 14.609218436873748, 14.663326653306614, 14.71743486973948, 14.771543086172345, 14.82565130260521, 14.879759519038076, 14.933867735470942, 14.987975951903808, 15.042084168336673, 15.09619238476954, 15.150300601202405, 15.20440881763527, 15.258517034068136, 15.312625250501002, 15.366733466933868, 15.420841683366733, 15.474949899799599, 15.529058116232465, 15.58316633266533, 15.637274549098196, 15.691382765531062, 15.745490981963927, 15.799599198396793, 15.853707414829659, 15.907815631262524, 15.96192384769539, 16.016032064128257, 16.070140280561123, 16.12424849699399, 16.178356713426854, 16.23246492985972, 16.286573146292586, 16.34068136272545, 16.394789579158317, 16.448897795591183, 16.50300601202405, 16.557114228456914, 16.61122244488978, 16.665330661322646, 16.71943887775551, 16.773547094188377, 16.827655310621243, 16.881763527054108, 16.935871743486974, 16.98997995991984, 17.044088176352705, 17.09819639278557, 17.152304609218437, 17.206412825651302, 17.260521042084168, 17.314629258517034, 17.3687374749499, 17.422845691382765, 17.47695390781563, 17.531062124248496, 17.585170340681362, 17.639278557114228, 17.693386773547093, 17.74749498997996, 17.801603206412825, 17.85571142284569, 17.909819639278556, 17.96392785571142, 18.018036072144287, 18.072144288577153, 18.12625250501002, 18.180360721442884, 18.23446893787575, 18.288577154308616, 18.34268537074148, 18.396793587174347, 18.450901803607213, 18.50501002004008, 18.559118236472944, 18.613226452905813, 18.66733466933868, 18.721442885771545, 18.77555110220441, 18.829659318637276, 18.88376753507014, 18.937875751503007, 18.991983967935873, 19.04609218436874, 19.100200400801604, 19.15430861723447, 19.208416833667336, 19.2625250501002, 19.316633266533067, 19.370741482965933, 19.4248496993988, 19.478957915831664, 19.53306613226453, 19.587174348697395, 19.64128256513026, 19.695390781563127, 19.749498997995993, 19.803607214428858, 19.857715430861724, 19.91182364729459, 19.965931863727455, 20.02004008016032, 20.074148296593187, 20.128256513026052, 20.182364729458918, 20.236472945891784, 20.29058116232465, 20.344689378757515, 20.39879759519038, 20.452905811623246, 20.507014028056112, 20.561122244488978, 20.615230460921843, 20.66933867735471, 20.723446893787575, 20.77755511022044, 20.831663326653306, 20.88577154308617, 20.939879759519037, 20.993987975951903, 21.04809619238477, 21.102204408817634, 21.1563126252505, 21.210420841683366, 21.26452905811623, 21.318637274549097, 21.372745490981963, 21.42685370741483, 21.480961923847694, 21.53507014028056, 21.589178356713425, 21.64328657314629, 21.697394789579157, 21.751503006012022, 21.805611222444888, 21.859719438877754, 21.91382765531062, 21.96793587174349, 22.022044088176354, 22.07615230460922, 22.130260521042086, 22.18436873747495, 22.238476953907817, 22.292585170340683, 22.34669338677355, 22.400801603206414, 22.45490981963928, 22.509018036072145, 22.56312625250501, 22.617234468937877, 22.671342685370742, 22.725450901803608, 22.779559118236474, 22.83366733466934, 22.887775551102205, 22.94188376753507, 22.995991983967937, 23.050100200400802, 23.104208416833668, 23.158316633266534, 23.2124248496994, 23.266533066132265, 23.32064128256513, 23.374749498997996, 23.428857715430862, 23.482965931863728, 23.537074148296593, 23.59118236472946, 23.645290581162325, 23.69939879759519, 23.753507014028056, 23.80761523046092, 23.861723446893787, 23.915831663326653, 23.96993987975952, 24.024048096192384, 24.07815631262525, 24.132264529058116, 24.18637274549098, 24.240480961923847, 24.294589178356713, 24.34869739478958, 24.402805611222444, 24.45691382765531, 24.511022044088175, 24.56513026052104, 24.619238476953907, 24.673346693386772, 24.727454909819638, 24.781563126252504, 24.83567134268537, 24.889779559118235, 24.9438877755511, 24.997995991983966, 25.052104208416832, 25.106212424849698, 25.160320641282564, 25.21442885771543, 25.268537074148295, 25.322645290581164, 25.37675350701403, 25.430861723446895, 25.48496993987976, 25.539078156312627, 25.593186372745492, 25.647294589178358, 25.701402805611224, 25.75551102204409, 25.809619238476955, 25.86372745490982, 25.917835671342687, 25.971943887775552, 26.026052104208418, 26.080160320641284, 26.13426853707415, 26.188376753507015, 26.24248496993988, 26.296593186372746, 26.350701402805612, 26.404809619238478, 26.458917835671343, 26.51302605210421, 26.567134268537075, 26.62124248496994, 26.675350701402806, 26.72945891783567, 26.783567134268537, 26.837675350701403, 26.89178356713427, 26.945891783567134, 27.0])\n",
       "              .range([&#x27;#440154ff&#x27;, &#x27;#440155ff&#x27;, &#x27;#440256ff&#x27;, &#x27;#440356ff&#x27;, &#x27;#450457ff&#x27;, &#x27;#450458ff&#x27;, &#x27;#450559ff&#x27;, &#x27;#450659ff&#x27;, &#x27;#46075aff&#x27;, &#x27;#46075bff&#x27;, &#x27;#46085cff&#x27;, &#x27;#46095cff&#x27;, &#x27;#460a5dff&#x27;, &#x27;#460a5eff&#x27;, &#x27;#460b5eff&#x27;, &#x27;#460c5fff&#x27;, &#x27;#470d60ff&#x27;, &#x27;#470d61ff&#x27;, &#x27;#470e61ff&#x27;, &#x27;#470f62ff&#x27;, &#x27;#471063ff&#x27;, &#x27;#471064ff&#x27;, &#x27;#471164ff&#x27;, &#x27;#471265ff&#x27;, &#x27;#471365ff&#x27;, &#x27;#481366ff&#x27;, &#x27;#481467ff&#x27;, &#x27;#481568ff&#x27;, &#x27;#481668ff&#x27;, &#x27;#481669ff&#x27;, &#x27;#481769ff&#x27;, &#x27;#48176aff&#x27;, &#x27;#48186bff&#x27;, &#x27;#48196cff&#x27;, &#x27;#481a6cff&#x27;, &#x27;#481a6dff&#x27;, &#x27;#481b6dff&#x27;, &#x27;#481c6eff&#x27;, &#x27;#481c6eff&#x27;, &#x27;#481d6fff&#x27;, &#x27;#481d6fff&#x27;, &#x27;#481f70ff&#x27;, &#x27;#481f70ff&#x27;, &#x27;#482071ff&#x27;, &#x27;#482072ff&#x27;, &#x27;#482173ff&#x27;, &#x27;#482273ff&#x27;, &#x27;#482374ff&#x27;, &#x27;#482374ff&#x27;, &#x27;#482475ff&#x27;, &#x27;#482476ff&#x27;, &#x27;#482576ff&#x27;, &#x27;#482577ff&#x27;, &#x27;#482677ff&#x27;, &#x27;#482778ff&#x27;, &#x27;#482878ff&#x27;, &#x27;#482879ff&#x27;, &#x27;#482979ff&#x27;, &#x27;#47297aff&#x27;, &#x27;#472a7aff&#x27;, &#x27;#472b7aff&#x27;, &#x27;#472c7aff&#x27;, &#x27;#472c7bff&#x27;, &#x27;#472d7bff&#x27;, &#x27;#472d7cff&#x27;, &#x27;#472e7cff&#x27;, &#x27;#472e7dff&#x27;, &#x27;#472f7dff&#x27;, &#x27;#462f7eff&#x27;, &#x27;#46307eff&#x27;, &#x27;#46317eff&#x27;, &#x27;#46327eff&#x27;, &#x27;#46327fff&#x27;, &#x27;#46337fff&#x27;, &#x27;#463480ff&#x27;, &#x27;#453480ff&#x27;, &#x27;#453581ff&#x27;, &#x27;#453581ff&#x27;, &#x27;#453681ff&#x27;, &#x27;#453781ff&#x27;, &#x27;#453882ff&#x27;, &#x27;#443882ff&#x27;, &#x27;#443983ff&#x27;, &#x27;#443983ff&#x27;, &#x27;#443a83ff&#x27;, &#x27;#443a83ff&#x27;, &#x27;#443b84ff&#x27;, &#x27;#433c84ff&#x27;, &#x27;#433d84ff&#x27;, &#x27;#433d85ff&#x27;, &#x27;#433e85ff&#x27;, &#x27;#423e85ff&#x27;, &#x27;#423f85ff&#x27;, &#x27;#423f86ff&#x27;, &#x27;#424086ff&#x27;, &#x27;#424086ff&#x27;, &#x27;#424186ff&#x27;, &#x27;#414187ff&#x27;, &#x27;#414287ff&#x27;, &#x27;#414387ff&#x27;, &#x27;#414487ff&#x27;, &#x27;#404488ff&#x27;, &#x27;#404588ff&#x27;, &#x27;#404588ff&#x27;, &#x27;#404688ff&#x27;, &#x27;#3f4688ff&#x27;, &#x27;#3f4788ff&#x27;, &#x27;#3f4789ff&#x27;, &#x27;#3f4889ff&#x27;, &#x27;#3e4889ff&#x27;, &#x27;#3e4989ff&#x27;, &#x27;#3e4a89ff&#x27;, &#x27;#3e4a89ff&#x27;, &#x27;#3e4b8aff&#x27;, &#x27;#3d4c8aff&#x27;, &#x27;#3d4d8aff&#x27;, &#x27;#3d4d8aff&#x27;, &#x27;#3d4e8aff&#x27;, &#x27;#3c4e8aff&#x27;, &#x27;#3c4f8aff&#x27;, &#x27;#3c4f8aff&#x27;, &#x27;#3c508bff&#x27;, &#x27;#3b508bff&#x27;, &#x27;#3b518bff&#x27;, &#x27;#3b518bff&#x27;, &#x27;#3b528bff&#x27;, &#x27;#3a528bff&#x27;, &#x27;#3a538bff&#x27;, &#x27;#3a538bff&#x27;, &#x27;#3a548cff&#x27;, &#x27;#39548cff&#x27;, &#x27;#39558cff&#x27;, &#x27;#39558cff&#x27;, &#x27;#39568cff&#x27;, &#x27;#38578cff&#x27;, &#x27;#38588cff&#x27;, &#x27;#38588cff&#x27;, &#x27;#38598cff&#x27;, &#x27;#37598cff&#x27;, &#x27;#375a8cff&#x27;, &#x27;#375a8dff&#x27;, &#x27;#375b8dff&#x27;, &#x27;#365b8dff&#x27;, &#x27;#365c8dff&#x27;, &#x27;#365c8dff&#x27;, &#x27;#365d8dff&#x27;, &#x27;#355d8dff&#x27;, &#x27;#355e8dff&#x27;, &#x27;#355f8dff&#x27;, &#x27;#355f8dff&#x27;, &#x27;#34608dff&#x27;, &#x27;#34608dff&#x27;, &#x27;#34618dff&#x27;, &#x27;#34618dff&#x27;, &#x27;#33628dff&#x27;, &#x27;#33628dff&#x27;, &#x27;#33638dff&#x27;, &#x27;#32638dff&#x27;, &#x27;#32648eff&#x27;, &#x27;#32648eff&#x27;, &#x27;#32658eff&#x27;, &#x27;#31658eff&#x27;, &#x27;#31668eff&#x27;, &#x27;#31668eff&#x27;, &#x27;#31678eff&#x27;, &#x27;#31678eff&#x27;, &#x27;#31688eff&#x27;, &#x27;#30688eff&#x27;, &#x27;#30698eff&#x27;, &#x27;#30698eff&#x27;, &#x27;#306a8eff&#x27;, &#x27;#2f6a8eff&#x27;, &#x27;#2f6b8eff&#x27;, &#x27;#2f6b8eff&#x27;, &#x27;#2f6c8eff&#x27;, &#x27;#2e6c8eff&#x27;, &#x27;#2e6d8eff&#x27;, &#x27;#2e6d8eff&#x27;, &#x27;#2e6e8eff&#x27;, &#x27;#2e6e8eff&#x27;, &#x27;#2e6f8eff&#x27;, &#x27;#2d6f8eff&#x27;, &#x27;#2d708eff&#x27;, &#x27;#2d708eff&#x27;, &#x27;#2d718eff&#x27;, &#x27;#2c718eff&#x27;, &#x27;#2c718eff&#x27;, &#x27;#2c728eff&#x27;, &#x27;#2c728eff&#x27;, &#x27;#2c738eff&#x27;, &#x27;#2c738eff&#x27;, &#x27;#2b748eff&#x27;, &#x27;#2b748eff&#x27;, &#x27;#2b758eff&#x27;, &#x27;#2b758eff&#x27;, &#x27;#2a768eff&#x27;, &#x27;#2a768eff&#x27;, &#x27;#2a778eff&#x27;, &#x27;#2a778eff&#x27;, &#x27;#2a788eff&#x27;, &#x27;#29788eff&#x27;, &#x27;#29798eff&#x27;, &#x27;#29798eff&#x27;, &#x27;#297a8eff&#x27;, &#x27;#297a8eff&#x27;, &#x27;#297b8eff&#x27;, &#x27;#287b8eff&#x27;, &#x27;#287c8eff&#x27;, &#x27;#287c8eff&#x27;, &#x27;#287d8eff&#x27;, &#x27;#277d8eff&#x27;, &#x27;#277e8eff&#x27;, &#x27;#277e8eff&#x27;, &#x27;#277f8eff&#x27;, &#x27;#277f8eff&#x27;, &#x27;#27808eff&#x27;, &#x27;#26808eff&#x27;, &#x27;#26818eff&#x27;, &#x27;#26818eff&#x27;, &#x27;#26828eff&#x27;, &#x27;#26828eff&#x27;, &#x27;#26828eff&#x27;, &#x27;#25828eff&#x27;, &#x27;#25838eff&#x27;, &#x27;#25838eff&#x27;, &#x27;#25848eff&#x27;, &#x27;#25858eff&#x27;, &#x27;#25858eff&#x27;, &#x27;#24868eff&#x27;, &#x27;#24868eff&#x27;, &#x27;#24878eff&#x27;, &#x27;#24878eff&#x27;, &#x27;#23888eff&#x27;, &#x27;#23888eff&#x27;, &#x27;#23898eff&#x27;, &#x27;#23898eff&#x27;, &#x27;#238a8dff&#x27;, &#x27;#238a8dff&#x27;, &#x27;#228b8dff&#x27;, &#x27;#228b8dff&#x27;, &#x27;#228c8dff&#x27;, &#x27;#228c8dff&#x27;, &#x27;#228d8dff&#x27;, &#x27;#218d8dff&#x27;, &#x27;#218e8dff&#x27;, &#x27;#218e8dff&#x27;, &#x27;#218f8dff&#x27;, &#x27;#218f8dff&#x27;, &#x27;#21908dff&#x27;, &#x27;#21908dff&#x27;, &#x27;#21918cff&#x27;, &#x27;#20918cff&#x27;, &#x27;#20928cff&#x27;, &#x27;#20928cff&#x27;, &#x27;#20928cff&#x27;, &#x27;#20928cff&#x27;, &#x27;#20938cff&#x27;, &#x27;#1f938cff&#x27;, &#x27;#1f948cff&#x27;, &#x27;#1f948cff&#x27;, &#x27;#1f958bff&#x27;, &#x27;#1f958bff&#x27;, &#x27;#1f968bff&#x27;, &#x27;#1f968bff&#x27;, &#x27;#1f978bff&#x27;, &#x27;#1f988bff&#x27;, &#x27;#1f988bff&#x27;, &#x27;#1f998bff&#x27;, &#x27;#1f998aff&#x27;, &#x27;#1f9a8aff&#x27;, &#x27;#1f9a8aff&#x27;, &#x27;#1e9b8aff&#x27;, &#x27;#1e9b8aff&#x27;, &#x27;#1e9c8aff&#x27;, &#x27;#1e9c89ff&#x27;, &#x27;#1e9d89ff&#x27;, &#x27;#1e9d89ff&#x27;, &#x27;#1e9e89ff&#x27;, &#x27;#1f9e89ff&#x27;, &#x27;#1f9f88ff&#x27;, &#x27;#1f9f88ff&#x27;, &#x27;#1fa088ff&#x27;, &#x27;#1fa088ff&#x27;, &#x27;#1fa188ff&#x27;, &#x27;#1fa188ff&#x27;, &#x27;#1fa187ff&#x27;, &#x27;#1fa187ff&#x27;, &#x27;#1fa287ff&#x27;, &#x27;#1fa287ff&#x27;, &#x27;#1fa386ff&#x27;, &#x27;#20a386ff&#x27;, &#x27;#20a486ff&#x27;, &#x27;#20a486ff&#x27;, &#x27;#20a585ff&#x27;, &#x27;#21a585ff&#x27;, &#x27;#21a685ff&#x27;, &#x27;#21a685ff&#x27;, &#x27;#21a785ff&#x27;, &#x27;#22a785ff&#x27;, &#x27;#22a884ff&#x27;, &#x27;#22a884ff&#x27;, &#x27;#22a983ff&#x27;, &#x27;#23a983ff&#x27;, &#x27;#23aa83ff&#x27;, &#x27;#24ab83ff&#x27;, &#x27;#25ab82ff&#x27;, &#x27;#25ac82ff&#x27;, &#x27;#25ac82ff&#x27;, &#x27;#25ad82ff&#x27;, &#x27;#26ad81ff&#x27;, &#x27;#26ad81ff&#x27;, &#x27;#27ad81ff&#x27;, &#x27;#27ae81ff&#x27;, &#x27;#28ae80ff&#x27;, &#x27;#28af80ff&#x27;, &#x27;#29af7fff&#x27;, &#x27;#29b07fff&#x27;, &#x27;#2ab07fff&#x27;, &#x27;#2bb17eff&#x27;, &#x27;#2cb17eff&#x27;, &#x27;#2cb27dff&#x27;, &#x27;#2db27dff&#x27;, &#x27;#2db37cff&#x27;, &#x27;#2eb37cff&#x27;, &#x27;#2eb47cff&#x27;, &#x27;#2fb47cff&#x27;, &#x27;#30b57bff&#x27;, &#x27;#31b57bff&#x27;, &#x27;#31b67aff&#x27;, &#x27;#32b67aff&#x27;, &#x27;#33b679ff&#x27;, &#x27;#34b679ff&#x27;, &#x27;#34b779ff&#x27;, &#x27;#35b779ff&#x27;, &#x27;#36b878ff&#x27;, &#x27;#37b878ff&#x27;, &#x27;#37b977ff&#x27;, &#x27;#38b977ff&#x27;, &#x27;#39ba76ff&#x27;, &#x27;#3aba76ff&#x27;, &#x27;#3abb75ff&#x27;, &#x27;#3bbb75ff&#x27;, &#x27;#3cbc74ff&#x27;, &#x27;#3dbc74ff&#x27;, &#x27;#3ebc73ff&#x27;, &#x27;#3fbd73ff&#x27;, &#x27;#40bd72ff&#x27;, &#x27;#40be72ff&#x27;, &#x27;#41be71ff&#x27;, &#x27;#42bf71ff&#x27;, &#x27;#43bf70ff&#x27;, &#x27;#45c070ff&#x27;, &#x27;#46c06fff&#x27;, &#x27;#47c16fff&#x27;, &#x27;#48c16eff&#x27;, &#x27;#49c16eff&#x27;, &#x27;#4ac16dff&#x27;, &#x27;#4bc26cff&#x27;, &#x27;#4cc26cff&#x27;, &#x27;#4dc36bff&#x27;, &#x27;#4ec36bff&#x27;, &#x27;#4fc46aff&#x27;, &#x27;#50c46aff&#x27;, &#x27;#51c569ff&#x27;, &#x27;#52c569ff&#x27;, &#x27;#53c568ff&#x27;, &#x27;#54c568ff&#x27;, &#x27;#55c667ff&#x27;, &#x27;#56c667ff&#x27;, &#x27;#57c766ff&#x27;, &#x27;#58c765ff&#x27;, &#x27;#59c864ff&#x27;, &#x27;#5ac864ff&#x27;, &#x27;#5bc863ff&#x27;, &#x27;#5cc863ff&#x27;, &#x27;#5dc962ff&#x27;, &#x27;#5ec962ff&#x27;, &#x27;#5fca61ff&#x27;, &#x27;#60ca60ff&#x27;, &#x27;#62cb5fff&#x27;, &#x27;#63cb5fff&#x27;, &#x27;#64cb5eff&#x27;, &#x27;#65cc5dff&#x27;, &#x27;#66cc5cff&#x27;, &#x27;#67cd5cff&#x27;, &#x27;#68cd5bff&#x27;, &#x27;#6acd5bff&#x27;, &#x27;#6bcd5aff&#x27;, &#x27;#6cce59ff&#x27;, &#x27;#6ece58ff&#x27;, &#x27;#6fcf58ff&#x27;, &#x27;#70cf57ff&#x27;, &#x27;#71d057ff&#x27;, &#x27;#72d056ff&#x27;, &#x27;#74d055ff&#x27;, &#x27;#75d054ff&#x27;, &#x27;#76d153ff&#x27;, &#x27;#77d153ff&#x27;, &#x27;#78d152ff&#x27;, &#x27;#7ad151ff&#x27;, &#x27;#7bd250ff&#x27;, &#x27;#7cd250ff&#x27;, &#x27;#7dd34fff&#x27;, &#x27;#7fd34eff&#x27;, &#x27;#80d34dff&#x27;, &#x27;#81d34dff&#x27;, &#x27;#82d44cff&#x27;, &#x27;#84d44bff&#x27;, &#x27;#85d54aff&#x27;, &#x27;#86d549ff&#x27;, &#x27;#88d548ff&#x27;, &#x27;#89d548ff&#x27;, &#x27;#8ad647ff&#x27;, &#x27;#8bd646ff&#x27;, &#x27;#8dd645ff&#x27;, &#x27;#8ed645ff&#x27;, &#x27;#8fd744ff&#x27;, &#x27;#90d743ff&#x27;, &#x27;#92d742ff&#x27;, &#x27;#93d741ff&#x27;, &#x27;#94d840ff&#x27;, &#x27;#96d83fff&#x27;, &#x27;#97d83eff&#x27;, &#x27;#99d93dff&#x27;, &#x27;#9ad93cff&#x27;, &#x27;#9bd93cff&#x27;, &#x27;#9dd93bff&#x27;, &#x27;#9eda3aff&#x27;, &#x27;#9fda39ff&#x27;, &#x27;#a1da38ff&#x27;, &#x27;#a2da37ff&#x27;, &#x27;#a3db36ff&#x27;, &#x27;#a4db36ff&#x27;, &#x27;#a6db35ff&#x27;, &#x27;#a8db34ff&#x27;, &#x27;#a9dc33ff&#x27;, &#x27;#aadc32ff&#x27;, &#x27;#abdc31ff&#x27;, &#x27;#addc30ff&#x27;, &#x27;#aedd2fff&#x27;, &#x27;#b0dd2fff&#x27;, &#x27;#b1dd2eff&#x27;, &#x27;#b2dd2dff&#x27;, &#x27;#b3de2cff&#x27;, &#x27;#b5de2bff&#x27;, &#x27;#b6de2aff&#x27;, &#x27;#b8de29ff&#x27;, &#x27;#b9de28ff&#x27;, &#x27;#bade28ff&#x27;, &#x27;#bcdf27ff&#x27;, &#x27;#bddf26ff&#x27;, &#x27;#bfdf25ff&#x27;, &#x27;#c0df25ff&#x27;, &#x27;#c1df24ff&#x27;, &#x27;#c2df23ff&#x27;, &#x27;#c4e022ff&#x27;, &#x27;#c5e021ff&#x27;, &#x27;#c7e020ff&#x27;, &#x27;#c8e020ff&#x27;, &#x27;#c9e11fff&#x27;, &#x27;#cbe11eff&#x27;, &#x27;#cce11dff&#x27;, &#x27;#cee11dff&#x27;, &#x27;#cfe11cff&#x27;, &#x27;#d1e11bff&#x27;, &#x27;#d2e21bff&#x27;, &#x27;#d3e21aff&#x27;, &#x27;#d4e21aff&#x27;, &#x27;#d6e219ff&#x27;, &#x27;#d7e219ff&#x27;, &#x27;#d9e319ff&#x27;, &#x27;#dae319ff&#x27;, &#x27;#dbe318ff&#x27;, &#x27;#dde318ff&#x27;, &#x27;#dee318ff&#x27;, &#x27;#dfe318ff&#x27;, &#x27;#e0e418ff&#x27;, &#x27;#e2e418ff&#x27;, &#x27;#e3e418ff&#x27;, &#x27;#e5e418ff&#x27;, &#x27;#e6e419ff&#x27;, &#x27;#e7e419ff&#x27;, &#x27;#e8e519ff&#x27;, &#x27;#eae519ff&#x27;, &#x27;#ebe51aff&#x27;, &#x27;#ece51aff&#x27;, &#x27;#ede51bff&#x27;, &#x27;#efe51bff&#x27;, &#x27;#f0e51cff&#x27;, &#x27;#f1e51dff&#x27;, &#x27;#f3e61dff&#x27;, &#x27;#f4e61eff&#x27;, &#x27;#f5e61eff&#x27;, &#x27;#f6e61fff&#x27;, &#x27;#f7e620ff&#x27;, &#x27;#f8e621ff&#x27;, &#x27;#fae722ff&#x27;, &#x27;#fbe723ff&#x27;, &#x27;#fce724ff&#x27;, &#x27;#fde725ff&#x27;]);\n",
       "    \n",
       "\n",
       "    color_map_cad7be21fdd3d9b853623dbaf02c5626.x = d3.scale.linear()\n",
       "              .domain([0.0, 27.0])\n",
       "              .range([0, 450 - 50]);\n",
       "\n",
       "    color_map_cad7be21fdd3d9b853623dbaf02c5626.legend = L.control({position: &#x27;topright&#x27;});\n",
       "    color_map_cad7be21fdd3d9b853623dbaf02c5626.legend.onAdd = function (map) {var div = L.DomUtil.create(&#x27;div&#x27;, &#x27;legend&#x27;); return div};\n",
       "    color_map_cad7be21fdd3d9b853623dbaf02c5626.legend.addTo(map_db70163ff3f241142f12d0ba1cad8417);\n",
       "\n",
       "    color_map_cad7be21fdd3d9b853623dbaf02c5626.xAxis = d3.svg.axis()\n",
       "        .scale(color_map_cad7be21fdd3d9b853623dbaf02c5626.x)\n",
       "        .orient(&quot;top&quot;)\n",
       "        .tickSize(1)\n",
       "        .tickValues([0.0, &#x27;&#x27;, &#x27;&#x27;, &#x27;&#x27;, &#x27;&#x27;, &#x27;&#x27;, &#x27;&#x27;, &#x27;&#x27;, &#x27;&#x27;, &#x27;&#x27;, &#x27;&#x27;, &#x27;&#x27;, &#x27;&#x27;, &#x27;&#x27;, &#x27;&#x27;, &#x27;&#x27;, &#x27;&#x27;, &#x27;&#x27;, &#x27;&#x27;, &#x27;&#x27;, &#x27;&#x27;, &#x27;&#x27;, &#x27;&#x27;, &#x27;&#x27;, &#x27;&#x27;, &#x27;&#x27;, 2.7529411764705882, &#x27;&#x27;, &#x27;&#x27;, &#x27;&#x27;, &#x27;&#x27;, &#x27;&#x27;, &#x27;&#x27;, &#x27;&#x27;, &#x27;&#x27;, &#x27;&#x27;, &#x27;&#x27;, &#x27;&#x27;, &#x27;&#x27;, &#x27;&#x27;, &#x27;&#x27;, &#x27;&#x27;, &#x27;&#x27;, &#x27;&#x27;, &#x27;&#x27;, &#x27;&#x27;, &#x27;&#x27;, &#x27;&#x27;, &#x27;&#x27;, &#x27;&#x27;, &#x27;&#x27;, &#x27;&#x27;, 5.5058823529411764, &#x27;&#x27;, &#x27;&#x27;, &#x27;&#x27;, &#x27;&#x27;, &#x27;&#x27;, &#x27;&#x27;, &#x27;&#x27;, &#x27;&#x27;, &#x27;&#x27;, &#x27;&#x27;, &#x27;&#x27;, &#x27;&#x27;, &#x27;&#x27;, &#x27;&#x27;, &#x27;&#x27;, &#x27;&#x27;, &#x27;&#x27;, &#x27;&#x27;, &#x27;&#x27;, &#x27;&#x27;, &#x27;&#x27;, &#x27;&#x27;, &#x27;&#x27;, &#x27;&#x27;, &#x27;&#x27;, 8.258823529411766, &#x27;&#x27;, &#x27;&#x27;, &#x27;&#x27;, &#x27;&#x27;, &#x27;&#x27;, &#x27;&#x27;, &#x27;&#x27;, &#x27;&#x27;, &#x27;&#x27;, &#x27;&#x27;, &#x27;&#x27;, &#x27;&#x27;, &#x27;&#x27;, &#x27;&#x27;, &#x27;&#x27;, &#x27;&#x27;, &#x27;&#x27;, &#x27;&#x27;, &#x27;&#x27;, &#x27;&#x27;, &#x27;&#x27;, &#x27;&#x27;, &#x27;&#x27;, &#x27;&#x27;, &#x27;&#x27;, 11.011764705882353, &#x27;&#x27;, &#x27;&#x27;, &#x27;&#x27;, &#x27;&#x27;, &#x27;&#x27;, &#x27;&#x27;, &#x27;&#x27;, &#x27;&#x27;, &#x27;&#x27;, &#x27;&#x27;, &#x27;&#x27;, &#x27;&#x27;, &#x27;&#x27;, &#x27;&#x27;, &#x27;&#x27;, &#x27;&#x27;, &#x27;&#x27;, &#x27;&#x27;, &#x27;&#x27;, &#x27;&#x27;, &#x27;&#x27;, &#x27;&#x27;, &#x27;&#x27;, &#x27;&#x27;, &#x27;&#x27;, 13.764705882352942, &#x27;&#x27;, &#x27;&#x27;, &#x27;&#x27;, &#x27;&#x27;, &#x27;&#x27;, &#x27;&#x27;, &#x27;&#x27;, &#x27;&#x27;, &#x27;&#x27;, &#x27;&#x27;, &#x27;&#x27;, &#x27;&#x27;, &#x27;&#x27;, &#x27;&#x27;, &#x27;&#x27;, &#x27;&#x27;, &#x27;&#x27;, &#x27;&#x27;, &#x27;&#x27;, &#x27;&#x27;, &#x27;&#x27;, &#x27;&#x27;, &#x27;&#x27;, &#x27;&#x27;, &#x27;&#x27;, 16.51764705882353, &#x27;&#x27;, &#x27;&#x27;, &#x27;&#x27;, &#x27;&#x27;, &#x27;&#x27;, &#x27;&#x27;, &#x27;&#x27;, &#x27;&#x27;, &#x27;&#x27;, &#x27;&#x27;, &#x27;&#x27;, &#x27;&#x27;, &#x27;&#x27;, &#x27;&#x27;, &#x27;&#x27;, &#x27;&#x27;, &#x27;&#x27;, &#x27;&#x27;, &#x27;&#x27;, &#x27;&#x27;, &#x27;&#x27;, &#x27;&#x27;, &#x27;&#x27;, &#x27;&#x27;, &#x27;&#x27;, 19.270588235294117, &#x27;&#x27;, &#x27;&#x27;, &#x27;&#x27;, &#x27;&#x27;, &#x27;&#x27;, &#x27;&#x27;, &#x27;&#x27;, &#x27;&#x27;, &#x27;&#x27;, &#x27;&#x27;, &#x27;&#x27;, &#x27;&#x27;, &#x27;&#x27;, &#x27;&#x27;, &#x27;&#x27;, &#x27;&#x27;, &#x27;&#x27;, &#x27;&#x27;, &#x27;&#x27;, &#x27;&#x27;, &#x27;&#x27;, &#x27;&#x27;, &#x27;&#x27;, &#x27;&#x27;, &#x27;&#x27;, 22.023529411764706, &#x27;&#x27;, &#x27;&#x27;, &#x27;&#x27;, &#x27;&#x27;, &#x27;&#x27;, &#x27;&#x27;, &#x27;&#x27;, &#x27;&#x27;, &#x27;&#x27;, &#x27;&#x27;, &#x27;&#x27;, &#x27;&#x27;, &#x27;&#x27;, &#x27;&#x27;, &#x27;&#x27;, &#x27;&#x27;, &#x27;&#x27;, &#x27;&#x27;, &#x27;&#x27;, &#x27;&#x27;, &#x27;&#x27;, &#x27;&#x27;, &#x27;&#x27;, &#x27;&#x27;, &#x27;&#x27;, 24.776470588235295, &#x27;&#x27;, &#x27;&#x27;, &#x27;&#x27;, &#x27;&#x27;, &#x27;&#x27;, &#x27;&#x27;, &#x27;&#x27;, &#x27;&#x27;, &#x27;&#x27;, &#x27;&#x27;, &#x27;&#x27;, &#x27;&#x27;, &#x27;&#x27;, &#x27;&#x27;, &#x27;&#x27;, &#x27;&#x27;, &#x27;&#x27;, &#x27;&#x27;, &#x27;&#x27;, &#x27;&#x27;, &#x27;&#x27;, &#x27;&#x27;, &#x27;&#x27;, &#x27;&#x27;, &#x27;&#x27;]);\n",
       "\n",
       "    color_map_cad7be21fdd3d9b853623dbaf02c5626.svg = d3.select(&quot;.legend.leaflet-control&quot;).append(&quot;svg&quot;)\n",
       "        .attr(&quot;id&quot;, &#x27;legend&#x27;)\n",
       "        .attr(&quot;width&quot;, 450)\n",
       "        .attr(&quot;height&quot;, 40);\n",
       "\n",
       "    color_map_cad7be21fdd3d9b853623dbaf02c5626.g = color_map_cad7be21fdd3d9b853623dbaf02c5626.svg.append(&quot;g&quot;)\n",
       "        .attr(&quot;class&quot;, &quot;key&quot;)\n",
       "        .attr(&quot;transform&quot;, &quot;translate(25,16)&quot;);\n",
       "\n",
       "    color_map_cad7be21fdd3d9b853623dbaf02c5626.g.selectAll(&quot;rect&quot;)\n",
       "        .data(color_map_cad7be21fdd3d9b853623dbaf02c5626.color.range().map(function(d, i) {\n",
       "          return {\n",
       "            x0: i ? color_map_cad7be21fdd3d9b853623dbaf02c5626.x(color_map_cad7be21fdd3d9b853623dbaf02c5626.color.domain()[i - 1]) : color_map_cad7be21fdd3d9b853623dbaf02c5626.x.range()[0],\n",
       "            x1: i &lt; color_map_cad7be21fdd3d9b853623dbaf02c5626.color.domain().length ? color_map_cad7be21fdd3d9b853623dbaf02c5626.x(color_map_cad7be21fdd3d9b853623dbaf02c5626.color.domain()[i]) : color_map_cad7be21fdd3d9b853623dbaf02c5626.x.range()[1],\n",
       "            z: d\n",
       "          };\n",
       "        }))\n",
       "      .enter().append(&quot;rect&quot;)\n",
       "        .attr(&quot;height&quot;, 40 - 30)\n",
       "        .attr(&quot;x&quot;, function(d) { return d.x0; })\n",
       "        .attr(&quot;width&quot;, function(d) { return d.x1 - d.x0; })\n",
       "        .style(&quot;fill&quot;, function(d) { return d.z; });\n",
       "\n",
       "    color_map_cad7be21fdd3d9b853623dbaf02c5626.g.call(color_map_cad7be21fdd3d9b853623dbaf02c5626.xAxis).append(&quot;text&quot;)\n",
       "        .attr(&quot;class&quot;, &quot;caption&quot;)\n",
       "        .attr(&quot;y&quot;, 21)\n",
       "        .text(&quot;index&quot;);\n",
       "    \n",
       "        function geo_json_07b8f9c4e7ac05bb2d81d09a5a61a774_styler(feature) {\n",
       "            switch(feature.id) {\n",
       "                default:\n",
       "                    return {&quot;fillOpacity&quot;: 0.5, &quot;weight&quot;: 2};\n",
       "            }\n",
       "        }\n",
       "        function geo_json_07b8f9c4e7ac05bb2d81d09a5a61a774_highlighter(feature) {\n",
       "            switch(feature.id) {\n",
       "                default:\n",
       "                    return {&quot;fillOpacity&quot;: 0.75};\n",
       "            }\n",
       "        }\n",
       "        function geo_json_07b8f9c4e7ac05bb2d81d09a5a61a774_pointToLayer(feature, latlng) {\n",
       "            var opts = {&quot;bubblingMouseEvents&quot;: true, &quot;color&quot;: &quot;#3388ff&quot;, &quot;dashArray&quot;: null, &quot;dashOffset&quot;: null, &quot;fill&quot;: true, &quot;fillColor&quot;: &quot;#3388ff&quot;, &quot;fillOpacity&quot;: 0.2, &quot;fillRule&quot;: &quot;evenodd&quot;, &quot;lineCap&quot;: &quot;round&quot;, &quot;lineJoin&quot;: &quot;round&quot;, &quot;opacity&quot;: 1.0, &quot;radius&quot;: 2, &quot;stroke&quot;: true, &quot;weight&quot;: 3};\n",
       "            \n",
       "            let style = geo_json_07b8f9c4e7ac05bb2d81d09a5a61a774_styler(feature)\n",
       "            Object.assign(opts, style)\n",
       "            \n",
       "            return new L.CircleMarker(latlng, opts)\n",
       "        }\n",
       "\n",
       "        function geo_json_07b8f9c4e7ac05bb2d81d09a5a61a774_onEachFeature(feature, layer) {\n",
       "            layer.on({\n",
       "                mouseout: function(e) {\n",
       "                    if(typeof e.target.setStyle === &quot;function&quot;){\n",
       "                            geo_json_07b8f9c4e7ac05bb2d81d09a5a61a774.resetStyle(e.target);\n",
       "                    }\n",
       "                },\n",
       "                mouseover: function(e) {\n",
       "                    if(typeof e.target.setStyle === &quot;function&quot;){\n",
       "                        const highlightStyle = geo_json_07b8f9c4e7ac05bb2d81d09a5a61a774_highlighter(e.target.feature)\n",
       "                        e.target.setStyle(highlightStyle);\n",
       "                    }\n",
       "                },\n",
       "            });\n",
       "        };\n",
       "        var geo_json_07b8f9c4e7ac05bb2d81d09a5a61a774 = L.geoJson(null, {\n",
       "                onEachFeature: geo_json_07b8f9c4e7ac05bb2d81d09a5a61a774_onEachFeature,\n",
       "            \n",
       "                style: geo_json_07b8f9c4e7ac05bb2d81d09a5a61a774_styler,\n",
       "                pointToLayer: geo_json_07b8f9c4e7ac05bb2d81d09a5a61a774_pointToLayer,\n",
       "        });\n",
       "\n",
       "        function geo_json_07b8f9c4e7ac05bb2d81d09a5a61a774_add (data) {\n",
       "            geo_json_07b8f9c4e7ac05bb2d81d09a5a61a774\n",
       "                .addData(data);\n",
       "        }\n",
       "            geo_json_07b8f9c4e7ac05bb2d81d09a5a61a774_add({&quot;bbox&quot;: [116.31515246178415, 39.92691274425113, 116.32826073904893, 39.975367400994806], &quot;features&quot;: [{&quot;bbox&quot;: [116.31515246178415, 39.92691274425113, 116.32826073904893, 39.975367400994806], &quot;geometry&quot;: {&quot;coordinates&quot;: [[116.32826073904893, 39.975367400994806], [116.32797314793574, 39.97535856147465], [116.3278195934185, 39.975180389617435], [116.32753560195901, 39.974939499407], [116.3277170569391, 39.966494459271324], [116.32256060803508, 39.96612520250084], [116.31768910846067, 39.9661591721581], [116.31539128074317, 39.96595615913961], [116.31531569663277, 39.96512561630027], [116.31646799781782, 39.96014461829631], [116.31740295826947, 39.95198710186134], [116.31840000382702, 39.94565460590859], [116.31938258796401, 39.93544322843245], [116.31934748165222, 39.9315165596642], [116.3195370999561, 39.931259033539575], [116.320162397736, 39.93085969010534], [116.32007028858887, 39.93062809834619], [116.32000218373268, 39.92956758839004], [116.32021875033625, 39.928876302001306], [116.32013596214043, 39.92856435580904], [116.31962982125998, 39.9283561314726], [116.31922741141888, 39.927370712718265], [116.31806952688225, 39.92699885079524], [116.31592649383174, 39.92691274425113], [116.31517397767227, 39.92708294741255], [116.31515246178415, 39.927503463109225], [116.31519642862371, 39.92753417629326]], &quot;type&quot;: &quot;LineString&quot;}, &quot;id&quot;: &quot;0&quot;, &quot;properties&quot;: {}, &quot;type&quot;: &quot;Feature&quot;}], &quot;type&quot;: &quot;FeatureCollection&quot;});\n",
       "\n",
       "        \n",
       "    \n",
       "            geo_json_07b8f9c4e7ac05bb2d81d09a5a61a774.addTo(map_db70163ff3f241142f12d0ba1cad8417);\n",
       "        \n",
       "&lt;/script&gt;\n",
       "&lt;/html&gt;\" style=\"position:absolute;width:100%;height:100%;left:0;top:0;border:none !important;\" allowfullscreen webkitallowfullscreen mozallowfullscreen></iframe></div></div>"
      ],
      "text/plain": [
       "<folium.folium.Map at 0x33249f910>"
      ]
     },
     "execution_count": 11,
     "metadata": {},
     "output_type": "execute_result"
    }
   ],
   "source": [
    "ls = gdf_agg['geometry'].iloc[5]\n",
    "h3_cells = []\n",
    "points = ls.coords\n",
    "for idx in range(len(points) - 1):\n",
    "    a, b = points[idx], points[idx + 1]\n",
    "    start_hex = h3.latlng_to_cell(a[1], a[0], H3_RESOLUTION)\n",
    "    end_hex = h3.latlng_to_cell(b[1], b[0], H3_RESOLUTION)\n",
    "    if start_hex == end_hex:\n",
    "        continue\n",
    "    for h3_cell in h3.grid_path_cells(start_hex, end_hex):\n",
    "        if not h3_cells or h3_cells[-1] != h3_cell:\n",
    "            h3_cells.append(h3_cell)\n",
    "m = h3_to_geoseries(h3_cells).reset_index().explore(\"index\", tiles=\"CartoDB positron\", opacity=0.4)\n",
    "gpd.GeoSeries([ls]).explore(m=m)"
   ]
  },
  {
   "cell_type": "code",
   "execution_count": 12,
   "id": "20d262dc21ec0b68",
   "metadata": {
    "ExecuteTime": {
     "end_time": "2024-05-27T19:49:19.951004Z",
     "start_time": "2024-05-27T19:49:19.872556Z"
    },
    "collapsed": false,
    "jupyter": {
     "outputs_hidden": false
    }
   },
   "outputs": [
    {
     "name": "stdout",
     "output_type": "stream",
     "text": [
      "28\n",
      "28\n"
     ]
    }
   ],
   "source": [
    "t = gdf_agg['geometry'].iloc[5]\n",
    "cells = get_hex_neigh(t)\n",
    "pprint(len(cells))\n",
    "y = get_y(cells)\n",
    "print(len(y))\n",
    "# em = embed(cells)\n",
    "# pprint(em[0])"
   ]
  },
  {
   "cell_type": "code",
   "execution_count": 13,
   "id": "4503d6d05e8f1d26",
   "metadata": {
    "ExecuteTime": {
     "end_time": "2024-05-27T19:49:19.952015Z",
     "start_time": "2024-05-27T19:49:19.875811Z"
    },
    "collapsed": false,
    "jupyter": {
     "outputs_hidden": false
    }
   },
   "outputs": [],
   "source": [
    "def embed(traj):\n",
    "    emb = []\n",
    "    for t in traj:\n",
    "        temp = []\n",
    "        for h in t:\n",
    "            try:\n",
    "                temp.append(embeddings.loc[h].values)\n",
    "            except:\n",
    "                return None\n",
    "        emb.append(temp)\n",
    "    return emb"
   ]
  },
  {
   "cell_type": "code",
   "execution_count": 14,
   "id": "37006bb4fe626b1f",
   "metadata": {
    "ExecuteTime": {
     "end_time": "2024-05-27T19:49:29.104838Z",
     "start_time": "2024-05-27T19:49:19.964679Z"
    },
    "collapsed": false,
    "jupyter": {
     "outputs_hidden": false
    }
   },
   "outputs": [],
   "source": [
    "gdf_agg['hex_neigh'] = gdf_agg['geometry'].apply(get_hex_neigh)\n",
    "gdf_agg['y'] = gdf_agg['hex_neigh'].apply(get_y)\n",
    "gdf_agg['neigh_emb'] = gdf_agg['hex_neigh'].apply(embed)"
   ]
  },
  {
   "cell_type": "code",
   "execution_count": 15,
   "id": "19e3eed072a18c54",
   "metadata": {
    "ExecuteTime": {
     "end_time": "2024-05-27T19:49:29.131262Z",
     "start_time": "2024-05-27T19:49:29.122801Z"
    },
    "collapsed": false,
    "jupyter": {
     "outputs_hidden": false
    }
   },
   "outputs": [],
   "source": [
    "gdf_agg = gdf_agg[gdf_agg['neigh_emb'].notnull()]\n",
    "gdf_agg = gdf_agg[gdf_agg['y'].notnull()]\n",
    "gdf_agg = gdf_agg[gdf_agg['y'].apply(lambda x: len(x) >= seq_length)]"
   ]
  },
  {
   "cell_type": "code",
   "execution_count": 16,
   "id": "36ac21861d6b8239",
   "metadata": {
    "ExecuteTime": {
     "end_time": "2024-05-27T19:49:29.137978Z",
     "start_time": "2024-05-27T19:49:29.125733Z"
    },
    "collapsed": false,
    "jupyter": {
     "outputs_hidden": false
    }
   },
   "outputs": [
    {
     "data": {
      "text/plain": [
       "(23, 28)"
      ]
     },
     "execution_count": 16,
     "metadata": {},
     "output_type": "execute_result"
    }
   ],
   "source": [
    "len(gdf_agg.iloc[0, 0].coords), len(gdf_agg.iloc[0, -1])"
   ]
  },
  {
   "cell_type": "code",
   "execution_count": 17,
   "id": "4c2c097fa121a9d5",
   "metadata": {
    "ExecuteTime": {
     "end_time": "2024-05-27T19:49:29.147420Z",
     "start_time": "2024-05-27T19:49:29.138010Z"
    },
    "collapsed": false,
    "jupyter": {
     "outputs_hidden": false
    }
   },
   "outputs": [
    {
     "data": {
      "text/plain": [
       "(19, 19)"
      ]
     },
     "execution_count": 17,
     "metadata": {},
     "output_type": "execute_result"
    }
   ],
   "source": [
    "len(gdf_agg.iloc[2, -2:]['y']), len(gdf_agg.iloc[2, -2:]['neigh_emb'])"
   ]
  },
  {
   "cell_type": "markdown",
   "id": "3fe08298cff9fdca",
   "metadata": {
    "collapsed": false,
    "jupyter": {
     "outputs_hidden": false
    }
   },
   "source": [
    "# SEQUENCE GENERATION"
   ]
  },
  {
   "cell_type": "code",
   "execution_count": 18,
   "id": "7593af53b0732bf6",
   "metadata": {
    "ExecuteTime": {
     "end_time": "2024-05-27T19:49:29.148083Z",
     "start_time": "2024-05-27T19:49:29.141472Z"
    },
    "collapsed": false,
    "jupyter": {
     "outputs_hidden": false
    }
   },
   "outputs": [],
   "source": [
    "def make_seq(row, seq_len=seq_length):\n",
    "    # print(len(row['neigh_emb']), len(row['y']))\n",
    "    for i in range(0, len(row['y']) - seq_len):\n",
    "        # yield np.array(row['neigh_emb'][i:i+seq_len]).flatten().tolist(), row['y'][i+seq_len]\n",
    "        # yield row['neigh_emb'][i:i+seq_len], row['y'][i+seq_len]\n",
    "        seq = []\n",
    "        for j in range(i, i+seq_len):\n",
    "            seq.append(np.array(row['neigh_emb'][j]).flatten().tolist())\n",
    "        yield seq, row['y'][i+seq_len]\n",
    "            "
   ]
  },
  {
   "cell_type": "code",
   "execution_count": null,
   "id": "f0191384a6609d60",
   "metadata": {
    "ExecuteTime": {
     "end_time": "2024-05-27T19:49:31.429243Z",
     "start_time": "2024-05-27T19:49:29.144213Z"
    },
    "collapsed": false,
    "jupyter": {
     "outputs_hidden": false
    }
   },
   "outputs": [],
   "source": [
    "gdf_seq = gpd.GeoDataFrame(list(row for _, row in gdf_agg.iterrows() for row in make_seq(row)) , columns=['seq', 'y'])"
   ]
  },
  {
   "cell_type": "code",
   "execution_count": null,
   "id": "393722a5bf1491e2",
   "metadata": {
    "ExecuteTime": {
     "end_time": "2024-05-27T19:49:31.456967Z",
     "start_time": "2024-05-27T19:49:31.439070Z"
    },
    "collapsed": false,
    "jupyter": {
     "outputs_hidden": false
    }
   },
   "outputs": [],
   "source": [
    "gdf_seq.head() "
   ]
  },
  {
   "cell_type": "code",
   "execution_count": null,
   "id": "cc9212db63a10658",
   "metadata": {
    "ExecuteTime": {
     "end_time": "2024-05-27T19:49:31.480138Z",
     "start_time": "2024-05-27T19:49:31.448603Z"
    },
    "collapsed": false,
    "jupyter": {
     "outputs_hidden": false
    }
   },
   "outputs": [],
   "source": [
    "seq_expanded = pd.DataFrame(gdf_seq['seq'].tolist(), index=gdf_seq.index)"
   ]
  },
  {
   "cell_type": "code",
   "execution_count": null,
   "id": "f10b26bdd37f748c",
   "metadata": {
    "ExecuteTime": {
     "end_time": "2024-05-27T19:49:31.483057Z",
     "start_time": "2024-05-27T19:49:31.466815Z"
    },
    "collapsed": false,
    "jupyter": {
     "outputs_hidden": false
    }
   },
   "outputs": [],
   "source": [
    "seq_expanded.head()"
   ]
  },
  {
   "cell_type": "code",
   "execution_count": null,
   "id": "b167063125869ad8",
   "metadata": {
    "ExecuteTime": {
     "end_time": "2024-05-27T19:49:31.545605Z",
     "start_time": "2024-05-27T19:49:31.472816Z"
    },
    "collapsed": false,
    "jupyter": {
     "outputs_hidden": false
    }
   },
   "outputs": [],
   "source": [
    "X = seq_expanded\n",
    "y = gdf_seq['y']\n",
    "\n",
    "X_train, X_test, y_train, y_test = train_test_split(X, y, test_size=0.2, random_state=42)"
   ]
  },
  {
   "cell_type": "markdown",
   "id": "3c201425-1d63-4c8f-95b1-d8f1ad2701ef",
   "metadata": {},
   "source": [
    "# Saving data to train"
   ]
  },
  {
   "cell_type": "code",
   "execution_count": null,
   "id": "1f34ffc8-fa04-440f-987a-d5c7de3249dd",
   "metadata": {},
   "outputs": [],
   "source": [
    "data_path = 'input_data'\n",
    "if not os.path.exists(data_path):\n",
    "    os.makedirs(data_path)"
   ]
  },
  {
   "cell_type": "code",
   "execution_count": null,
   "id": "def1ebda-21c6-494e-b892-52706498cfb0",
   "metadata": {},
   "outputs": [],
   "source": [
    "path = f'data_res{H3_RESOLUTION}_seq{seq_length}'\n",
    "path = os.path.join(data_path, path)\n",
    "if not os.path.exists(path):\n",
    "    os.makedirs(path)"
   ]
  },
  {
   "cell_type": "code",
   "execution_count": null,
   "id": "77f6775baf9475a6",
   "metadata": {
    "ExecuteTime": {
     "end_time": "2024-05-27T19:49:35.382993Z",
     "start_time": "2024-05-27T19:49:31.520608Z"
    },
    "collapsed": false,
    "jupyter": {
     "outputs_hidden": false
    }
   },
   "outputs": [],
   "source": [
    "torch.save((X_train, y_train), os.path.join(path, 'train.pt'))\n",
    "torch.save((X_test, y_test), os.path.join(path, 'test.pt'))"
   ]
  },
  {
   "cell_type": "code",
   "execution_count": null,
   "id": "a0ba10ee-3c80-4132-abd5-fcfa82b8b55d",
   "metadata": {},
   "outputs": [],
   "source": []
  }
 ],
 "metadata": {
  "kernelspec": {
   "display_name": "Python 3 (ipykernel)",
   "language": "python",
   "name": "python3"
  },
  "language_info": {
   "codemirror_mode": {
    "name": "ipython",
    "version": 3
   },
   "file_extension": ".py",
   "mimetype": "text/x-python",
   "name": "python",
   "nbconvert_exporter": "python",
   "pygments_lexer": "ipython3",
   "version": "3.10.14"
  }
 },
 "nbformat": 4,
 "nbformat_minor": 5
}

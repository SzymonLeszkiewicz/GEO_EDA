{
 "cells": [
  {
   "cell_type": "code",
   "execution_count": 25,
   "id": "initial_id",
   "metadata": {
    "ExecuteTime": {
     "end_time": "2024-05-27T19:19:09.830237Z",
     "start_time": "2024-05-27T19:19:09.819639Z"
    }
   },
   "outputs": [],
   "source": [
    "import geopandas as gpd\n",
    "import pandas as pd\n",
    "import copy\n",
    "import os\n",
    "import warnings\n",
    "import random\n",
    "from pprint import pprint\n",
    "import geopandas as gpd\n",
    "import matplotlib.pyplot as plt\n",
    "import numpy as np\n",
    "import torch\n",
    "import torch.nn as nn\n",
    "import torch.optim as optim\n",
    "from tqdm.notebook import tqdm\n",
    "from sklearn.model_selection import train_test_split\n",
    "from tqdm import tqdm\n",
    "from sklearn.model_selection import train_test_split\n",
    "\n",
    "from srai.datasets import AirbnbMulticityDataset\n",
    "from srai.embedders import Hex2VecEmbedder\n",
    "from srai.joiners import IntersectionJoiner\n",
    "from srai.loaders.osm_loaders import OSMPbfLoader\n",
    "from srai.loaders.osm_loaders.filters import HEX2VEC_FILTER\n",
    "from srai.neighbourhoods.h3_neighbourhood import H3Neighbourhood\n",
    "from srai.plotting import plot_regions\n",
    "from srai.regionalizers import H3Regionalizer\n",
    "import plotly.graph_objs as go\n",
    "from shapely.geometry import LineString, Point\n",
    "from shapely import from_geojson\n",
    "import h3\n",
    "from srai.h3 import h3_to_geoseries\n",
    "import matplotlib.pyplot as plt\n",
    "from sklearn.metrics import accuracy_score, precision_score, recall_score, f1_score, confusion_matrix, classification_report\n",
    "import numpy as np"
   ]
  },
  {
   "cell_type": "code",
   "execution_count": 26,
   "id": "3a78e3c2cfab199b",
   "metadata": {
    "ExecuteTime": {
     "end_time": "2024-05-27T19:19:10.737449Z",
     "start_time": "2024-05-27T19:19:10.732118Z"
    },
    "collapsed": false,
    "jupyter": {
     "outputs_hidden": false
    }
   },
   "outputs": [],
   "source": [
    "device = torch.device('cuda' if torch.cuda.is_available() else 'cpu')"
   ]
  },
  {
   "cell_type": "code",
   "execution_count": 27,
   "id": "ad723a0fc6ac6e9d",
   "metadata": {
    "ExecuteTime": {
     "end_time": "2024-05-27T19:57:16.129393Z",
     "start_time": "2024-05-27T19:57:16.120749Z"
    },
    "collapsed": false,
    "jupyter": {
     "outputs_hidden": false
    }
   },
   "outputs": [],
   "source": [
    "class SequenceDataset(torch.utils.data.Dataset):\n",
    "    def __init__(self, X, y):\n",
    "        self.X = X\n",
    "        self.y = y\n",
    "\n",
    "    def __len__(self):\n",
    "        return len(self.X)\n",
    "\n",
    "    def __getitem__(self, idx):\n",
    "        X_seq = self.X.iloc[idx].values\n",
    "        y_val = self.y.iloc[idx]\n",
    "\n",
    "        X_tensor = torch.tensor([item for item in X_seq], dtype=torch.float32)\n",
    "        y_tensor = torch.tensor(y_val, dtype=torch.float32)\n",
    "\n",
    "        return X_tensor, y_tensor"
   ]
  },
  {
   "cell_type": "code",
   "execution_count": 28,
   "id": "ce5dab2ca14cf8d4",
   "metadata": {
    "ExecuteTime": {
     "end_time": "2024-05-27T19:57:43.484966Z",
     "start_time": "2024-05-27T19:57:43.480704Z"
    },
    "collapsed": false,
    "jupyter": {
     "outputs_hidden": false
    }
   },
   "outputs": [],
   "source": [
    "class LSTMModel(nn.Module):\n",
    "    def __init__(self, input_size, hidden_size, output_size, num_layers=1, dropout_rate=0.5):\n",
    "        super(LSTMModel, self).__init__()\n",
    "        self.hidden_size = hidden_size\n",
    "        self.num_layers = num_layers\n",
    "        self.lstm = nn.LSTM(input_size, hidden_size, num_layers, batch_first=True, dropout=dropout_rate)\n",
    "        self.fc = nn.Linear(hidden_size, output_size)\n",
    "        self.dropout = nn.Dropout(dropout_rate)\n",
    "\n",
    "    def forward(self, x):\n",
    "        h0 = torch.zeros(self.num_layers, x.size(0), self.hidden_size).to(x.device)\n",
    "        c0 = torch.zeros(self.num_layers, x.size(0), self.hidden_size).to(x.device)\n",
    "\n",
    "        out, _ = self.lstm(x, (h0, c0))\n",
    "        out = self.dropout(out[:, -1, :])\n",
    "        out = self.fc(out)\n",
    "        return out\n"
   ]
  },
  {
   "cell_type": "code",
   "execution_count": 32,
   "id": "af02f68e-ddc8-4726-942e-0ce37aa67b13",
   "metadata": {},
   "outputs": [],
   "source": [
    "H3_RESOLUTION = 9\n",
    "seq_length = 8\n",
    "data_path = 'input_data'\n",
    "path = f'data_res{H3_RESOLUTION}_seq{seq_length}'\n",
    "path = os.path.join(data_path, path)"
   ]
  },
  {
   "cell_type": "code",
   "execution_count": 34,
   "id": "6dacfa4212347de8",
   "metadata": {
    "ExecuteTime": {
     "end_time": "2024-05-27T19:49:43.557812Z",
     "start_time": "2024-05-27T19:49:41.503204Z"
    },
    "collapsed": false,
    "jupyter": {
     "outputs_hidden": false
    }
   },
   "outputs": [],
   "source": [
    "X_train, y_train = torch.load(os.path.join(path, 'train.pt'))\n",
    "X_test, y_test = torch.load(os.path.join(path, 'test.pt'))"
   ]
  },
  {
   "cell_type": "code",
   "execution_count": 35,
   "id": "c523d68b62758624",
   "metadata": {
    "ExecuteTime": {
     "end_time": "2024-05-27T19:49:43.558298Z",
     "start_time": "2024-05-27T19:49:43.556423Z"
    },
    "collapsed": false,
    "jupyter": {
     "outputs_hidden": false
    }
   },
   "outputs": [
    {
     "name": "stdout",
     "output_type": "stream",
     "text": [
      "(97874, 8) (97874,)\n",
      "(24469, 8) (24469,)\n"
     ]
    }
   ],
   "source": [
    "# (3624, 5) (3624,)\n",
    "# # (907, 5) (907,)\n",
    "\n",
    "# (35594, 5) (35594,)\n",
    "# (8899, 5) (8899,)\n",
    "\n",
    "# (101627, 5) (101627,)\n",
    "# (25407, 5) (25407,)\n",
    "print(X_train.shape, y_train.shape)\n",
    "print(X_test.shape, y_test.shape)"
   ]
  },
  {
   "cell_type": "code",
   "execution_count": 36,
   "id": "5c9313e08e525507",
   "metadata": {
    "ExecuteTime": {
     "end_time": "2024-05-27T19:49:48.298527Z",
     "start_time": "2024-05-27T19:49:48.095767Z"
    },
    "collapsed": false,
    "jupyter": {
     "outputs_hidden": false
    }
   },
   "outputs": [
    {
     "data": {
      "image/png": "[encoded data removed]",
      "text/plain": [
       "<Figure size 1000x500 with 2 Axes>"
      ]
     },
     "metadata": {},
     "output_type": "display_data"
    }
   ],
   "source": [
    "dist = []\n",
    "for i in y_train:\n",
    "    id_max = np.argmax(i)\n",
    "    dist.append(id_max)\n",
    "    \n",
    "test_dist = []\n",
    "for i in y_test:\n",
    "    id_max = np.argmax(i)\n",
    "    test_dist.append(id_max)\n",
    "    \n",
    "fig, ax = plt.subplots(1, 2, figsize=(10, 5))\n",
    "ax[0].hist(dist, bins=range(7))\n",
    "ax[0].set_title('Train')\n",
    "ax[0].set_xlabel('Class')\n",
    "ax[0].set_ylabel('Frequency')\n",
    "ax[0].grid(axis='y', alpha=0.75)\n",
    "    \n",
    "ax[1].hist(test_dist, bins=range(7))\n",
    "ax[1].set_title('Test')\n",
    "ax[1].set_xlabel('Class')\n",
    "ax[1].set_ylabel('Frequency')\n",
    "ax[1].grid(axis='y', alpha=0.75)\n",
    "plt.show()"
   ]
  },
  {
   "cell_type": "code",
   "execution_count": 37,
   "id": "2def52414d444de2",
   "metadata": {
    "ExecuteTime": {
     "end_time": "2024-05-27T19:49:55.106158Z",
     "start_time": "2024-05-27T19:49:55.101884Z"
    },
    "collapsed": false,
    "jupyter": {
     "outputs_hidden": false
    }
   },
   "outputs": [],
   "source": [
    "train_dataset = SequenceDataset(X_train, y_train)\n",
    "test_dataset = SequenceDataset(X_test, y_test)\n",
    "\n",
    "train_loader = torch.utils.data.DataLoader(train_dataset, batch_size=32, shuffle=True)\n",
    "test_loader = torch.utils.data.DataLoader(test_dataset, batch_size=32, shuffle=False)"
   ]
  },
  {
   "cell_type": "markdown",
   "id": "53e6af52-b225-44a8-90a9-25f9b0a5919b",
   "metadata": {},
   "source": [
    "# EXP 1"
   ]
  },
  {
   "cell_type": "code",
   "execution_count": 38,
   "id": "be22fc36db602efb",
   "metadata": {
    "ExecuteTime": {
     "end_time": "2024-05-27T19:57:56.828381Z",
     "start_time": "2024-05-27T19:57:56.816634Z"
    },
    "collapsed": false,
    "jupyter": {
     "outputs_hidden": false
    }
   },
   "outputs": [],
   "source": [
    "input_size = len(X_train.iloc[0][0])\n",
    "hidden_size = 128\n",
    "output_size = 7\n",
    "num_layers = 2\n",
    "dropout_rate = 0.5\n",
    "\n",
    "model = LSTMModel(input_size, hidden_size, output_size, num_layers, dropout_rate).to(device)\n",
    "criterion = nn.CrossEntropyLoss()\n",
    "optimizer = optim.Adam(model.parameters(), lr=0.001, weight_decay=1e-5)"
   ]
  },
  {
   "cell_type": "code",
   "execution_count": 39,
   "id": "efaa8e666b90ac3",
   "metadata": {
    "ExecuteTime": {
     "end_time": "2024-05-27T20:02:42.028685Z",
     "start_time": "2024-05-27T19:58:29.775324Z"
    },
    "collapsed": false,
    "jupyter": {
     "outputs_hidden": false
    }
   },
   "outputs": [
    {
     "name": "stdout",
     "output_type": "stream",
     "text": [
      "Epoch [1/60], Loss: 1.6166, Val Loss: 1.2922\n",
      "Epoch [2/60], Loss: 1.2663, Val Loss: 1.1778\n",
      "Epoch [3/60], Loss: 1.1836, Val Loss: 1.1268\n",
      "Epoch [4/60], Loss: 1.1360, Val Loss: 1.0929\n",
      "Epoch [5/60], Loss: 1.0952, Val Loss: 1.0809\n",
      "Epoch [6/60], Loss: 1.0678, Val Loss: 1.0714\n",
      "Epoch [7/60], Loss: 1.0422, Val Loss: 1.0411\n",
      "Epoch [8/60], Loss: 1.0203, Val Loss: 1.0326\n",
      "Epoch [9/60], Loss: 1.0003, Val Loss: 1.0151\n",
      "Epoch [10/60], Loss: 0.9790, Val Loss: 1.0203\n",
      "Epoch [11/60], Loss: 0.9644, Val Loss: 0.9981\n",
      "Epoch [12/60], Loss: 0.9509, Val Loss: 0.9879\n",
      "Epoch [13/60], Loss: 0.9395, Val Loss: 0.9946\n",
      "Epoch [14/60], Loss: 0.9273, Val Loss: 0.9931\n",
      "Epoch [15/60], Loss: 0.9178, Val Loss: 0.9924\n",
      "Epoch [16/60], Loss: 0.9060, Val Loss: 0.9785\n",
      "Epoch [17/60], Loss: 0.8966, Val Loss: 0.9846\n",
      "Epoch [18/60], Loss: 0.8876, Val Loss: 0.9814\n",
      "Epoch [19/60], Loss: 0.8786, Val Loss: 1.0021\n",
      "Epoch [20/60], Loss: 0.8708, Val Loss: 0.9844\n",
      "Epoch [21/60], Loss: 0.8649, Val Loss: 0.9798\n",
      "Epoch [22/60], Loss: 0.8587, Val Loss: 0.9870\n",
      "Epoch [23/60], Loss: 0.8519, Val Loss: 0.9975\n",
      "Epoch [24/60], Loss: 0.8456, Val Loss: 0.9844\n",
      "Epoch [25/60], Loss: 0.8390, Val Loss: 0.9912\n",
      "Epoch [26/60], Loss: 0.8349, Val Loss: 1.0031\n",
      "Early stopping triggered\n"
     ]
    },
    {
     "data": {
      "image/png": "[encoded data removed]",
      "text/plain": [
       "<Figure size 1000x600 with 1 Axes>"
      ]
     },
     "metadata": {},
     "output_type": "display_data"
    }
   ],
   "source": [
    "# Training loop with early stopping\n",
    "train_losses = []\n",
    "val_losses = []\n",
    "best_val_loss = float('inf')\n",
    "patience_counter = 0\n",
    "\n",
    "patience = 10\n",
    "num_epochs = 60\n",
    "\n",
    "for epoch in range(num_epochs):\n",
    "    model.train()\n",
    "    running_loss = 0.0\n",
    "    for i, (inputs, targets) in enumerate(train_loader):\n",
    "        inputs = inputs.to(device)\n",
    "        targets = targets.to(device)\n",
    "\n",
    "        optimizer.zero_grad()\n",
    "\n",
    "        outputs = model(inputs)\n",
    "        _, preds = torch.max(outputs, 1)\n",
    "        predicted_one_hot = torch.nn.functional.one_hot(preds, num_classes=7).float()\n",
    "        loss = criterion(outputs, targets)\n",
    "\n",
    "        loss.backward()\n",
    "        optimizer.step()\n",
    "\n",
    "        running_loss += loss.item()\n",
    "\n",
    "    epoch_loss = running_loss / len(train_loader)\n",
    "    train_losses.append(epoch_loss)\n",
    "\n",
    "    # Validation loop\n",
    "    model.eval()\n",
    "    val_loss = 0.0\n",
    "    with torch.no_grad():\n",
    "        for inputs, targets in test_loader:\n",
    "            inputs = inputs.to(device)\n",
    "            targets = targets.to(device)\n",
    "            outputs = model(inputs)\n",
    "            loss = criterion(outputs, targets)\n",
    "            val_loss += loss.item()\n",
    "    val_loss /= len(test_loader)\n",
    "    val_losses.append(val_loss)\n",
    "\n",
    "    print(f'Epoch [{epoch+1}/{num_epochs}], Loss: {epoch_loss:.4f}, Val Loss: {val_loss:.4f}')\n",
    "\n",
    "    # Early stopping\n",
    "    if val_loss < best_val_loss:\n",
    "        best_val_loss = val_loss\n",
    "        patience_counter = 0\n",
    "        torch.save(model.state_dict(), 'best_model.pth')\n",
    "    else:\n",
    "        patience_counter += 1\n",
    "\n",
    "    if patience_counter >= patience:\n",
    "        print(\"Early stopping triggered\")\n",
    "        break\n",
    "\n",
    "# best model\n",
    "model.load_state_dict(torch.load('best_model.pth'))\n",
    "\n",
    "# Train/test plot\n",
    "plt.figure(figsize=(10, 6))\n",
    "plt.plot(train_losses, label='Train Loss')\n",
    "plt.plot(val_losses, label='Val Loss')\n",
    "plt.xlabel('Epoch')\n",
    "plt.ylabel('Loss')\n",
    "plt.title('Training and Validation Loss')\n",
    "plt.legend()\n",
    "plt.show()"
   ]
  },
  {
   "cell_type": "code",
   "execution_count": 40,
   "id": "9f2c9e8dd03058bd",
   "metadata": {
    "ExecuteTime": {
     "end_time": "2024-05-27T20:29:26.776825Z",
     "start_time": "2024-05-27T20:29:25.760712Z"
    },
    "collapsed": false,
    "jupyter": {
     "outputs_hidden": false
    }
   },
   "outputs": [],
   "source": [
    "true_labels = []\n",
    "predicted_labels = []\n",
    "\n",
    "model.eval()\n",
    "with torch.no_grad():\n",
    "    for inputs, targets in test_loader:\n",
    "        inputs = inputs.to(device)\n",
    "        targets = targets.to(device).long()\n",
    "\n",
    "        outputs = model(inputs)\n",
    "        _, preds = torch.max(outputs, 1)\n",
    "\n",
    "        true_labels.extend(targets.cpu().numpy())\n",
    "        predicted_labels.extend(preds.cpu().numpy())\n",
    "\n",
    "true_labels = np.array(true_labels)\n",
    "true_labels = np.argmax(true_labels, axis=1)\n",
    "predicted_labels = np.array(predicted_labels)"
   ]
  },
  {
   "cell_type": "code",
   "execution_count": 41,
   "id": "9fecd29377c46381",
   "metadata": {
    "ExecuteTime": {
     "end_time": "2024-05-27T20:29:45.559789Z",
     "start_time": "2024-05-27T20:29:45.531061Z"
    },
    "collapsed": false,
    "jupyter": {
     "outputs_hidden": false
    }
   },
   "outputs": [
    {
     "name": "stdout",
     "output_type": "stream",
     "text": [
      "              precision    recall  f1-score   support\n",
      "\n",
      "           0       0.37      0.23      0.29       256\n",
      "           1       0.69      0.72      0.70      4704\n",
      "           2       0.67      0.41      0.51      3012\n",
      "           3       0.62      0.71      0.66      4583\n",
      "           4       0.64      0.75      0.69      4423\n",
      "           5       0.62      0.43      0.51      2953\n",
      "           6       0.62      0.70      0.65      4538\n",
      "\n",
      "    accuracy                           0.64     24469\n",
      "   macro avg       0.60      0.56      0.57     24469\n",
      "weighted avg       0.64      0.64      0.63     24469\n",
      "\n"
     ]
    }
   ],
   "source": [
    "accuracy = accuracy_score(true_labels, predicted_labels)\n",
    "precision = precision_score(true_labels, predicted_labels, average='weighted')\n",
    "recall = recall_score(true_labels, predicted_labels, average='weighted')\n",
    "f1 = f1_score(true_labels, predicted_labels, average='weighted')\n",
    "\n",
    "print(classification_report(true_labels, predicted_labels))"
   ]
  },
  {
   "cell_type": "code",
   "execution_count": 42,
   "id": "fefc5f8a72656059",
   "metadata": {
    "ExecuteTime": {
     "end_time": "2024-05-27T20:31:32.348075Z",
     "start_time": "2024-05-27T20:31:32.337106Z"
    },
    "collapsed": false,
    "jupyter": {
     "outputs_hidden": false
    }
   },
   "outputs": [
    {
     "name": "stdout",
     "output_type": "stream",
     "text": [
      "Accuracy: 0.6399\n",
      "Precision: 0.6403\n",
      "Recall: 0.6399\n",
      "F1-score: 0.6323\n"
     ]
    }
   ],
   "source": [
    "print(f\"Accuracy: {accuracy:.4f}\")\n",
    "print(f\"Precision: {precision:.4f}\")\n",
    "print(f\"Recall: {recall:.4f}\")\n",
    "print(f\"F1-score: {f1:.4f}\")"
   ]
  },
  {
   "cell_type": "code",
   "execution_count": 43,
   "id": "8cfd8dd28c72231",
   "metadata": {
    "ExecuteTime": {
     "end_time": "2024-05-27T20:30:13.663745Z",
     "start_time": "2024-05-27T20:30:13.545276Z"
    },
    "collapsed": false,
    "jupyter": {
     "outputs_hidden": false
    }
   },
   "outputs": [
    {
     "data": {
      "image/png": "[encoded data removed]",
      "text/plain": [
       "<Figure size 1000x800 with 2 Axes>"
      ]
     },
     "metadata": {},
     "output_type": "display_data"
    }
   ],
   "source": [
    "plt.figure(figsize=(10, 8))\n",
    "plt.imshow(confusion_matrix(true_labels, predicted_labels), cmap='Blues', interpolation='nearest')\n",
    "plt.colorbar()\n",
    "plt.title('Confusion Matrix')\n",
    "plt.xlabel('Predicted')\n",
    "plt.ylabel('True')\n",
    "plt.show()"
   ]
  },
  {
   "cell_type": "markdown",
   "id": "7d06db3d-03cc-4b5a-bd50-3366fde757de",
   "metadata": {},
   "source": [
    "# EXP 2"
   ]
  },
  {
   "cell_type": "code",
   "execution_count": 45,
   "id": "86c0db350ab87f91",
   "metadata": {
    "collapsed": false,
    "jupyter": {
     "outputs_hidden": false
    }
   },
   "outputs": [],
   "source": [
    "input_size = len(X_train.iloc[0][0])\n",
    "hidden_size = 64\n",
    "output_size = 7\n",
    "num_layers = 2\n",
    "dropout_rate = 0.6\n",
    "\n",
    "model = LSTMModel(input_size, hidden_size, output_size, num_layers, dropout_rate).to(device)\n",
    "criterion = nn.CrossEntropyLoss()\n",
    "optimizer = optim.Adam(model.parameters(), lr=0.001, weight_decay=1e-5)"
   ]
  },
  {
   "cell_type": "code",
   "execution_count": null,
   "id": "207f41a5-9550-4f34-bd1d-3771665fdc1a",
   "metadata": {},
   "outputs": [
    {
     "name": "stdout",
     "output_type": "stream",
     "text": [
      "Epoch [1/150], Loss: 1.7089, Val Loss: 1.4423\n",
      "Epoch [2/150], Loss: 1.3948, Val Loss: 1.2820\n",
      "Epoch [3/150], Loss: 1.3045, Val Loss: 1.2023\n",
      "Epoch [4/150], Loss: 1.2634, Val Loss: 1.1710\n",
      "Epoch [5/150], Loss: 1.2352, Val Loss: 1.1614\n",
      "Epoch [6/150], Loss: 1.2072, Val Loss: 1.1411\n",
      "Epoch [7/150], Loss: 1.1920, Val Loss: 1.1245\n",
      "Epoch [8/150], Loss: 1.1768, Val Loss: 1.1241\n"
     ]
    }
   ],
   "source": [
    "# Training loop with early stopping\n",
    "train_losses = []\n",
    "val_losses = []\n",
    "best_val_loss = float('inf')\n",
    "patience_counter = 0\n",
    "\n",
    "patience = 10\n",
    "num_epochs = 150\n",
    "\n",
    "for epoch in range(num_epochs):\n",
    "    model.train()\n",
    "    running_loss = 0.0\n",
    "    for i, (inputs, targets) in enumerate(train_loader):\n",
    "        inputs = inputs.to(device)\n",
    "        targets = targets.to(device)\n",
    "\n",
    "        optimizer.zero_grad()\n",
    "\n",
    "        outputs = model(inputs)\n",
    "        _, preds = torch.max(outputs, 1)\n",
    "        predicted_one_hot = torch.nn.functional.one_hot(preds, num_classes=7).float()\n",
    "        loss = criterion(outputs, targets)\n",
    "\n",
    "        loss.backward()\n",
    "        optimizer.step()\n",
    "\n",
    "        running_loss += loss.item()\n",
    "\n",
    "    epoch_loss = running_loss / len(train_loader)\n",
    "    train_losses.append(epoch_loss)\n",
    "\n",
    "    # Validation loop\n",
    "    model.eval()\n",
    "    val_loss = 0.0\n",
    "    with torch.no_grad():\n",
    "        for inputs, targets in test_loader:\n",
    "            inputs = inputs.to(device)\n",
    "            targets = targets.to(device)\n",
    "            outputs = model(inputs)\n",
    "            loss = criterion(outputs, targets)\n",
    "            val_loss += loss.item()\n",
    "    val_loss /= len(test_loader)\n",
    "    val_losses.append(val_loss)\n",
    "\n",
    "    print(f'Epoch [{epoch+1}/{num_epochs}], Loss: {epoch_loss:.4f}, Val Loss: {val_loss:.4f}')\n",
    "\n",
    "    # Early stopping\n",
    "    if val_loss < best_val_loss:\n",
    "        best_val_loss = val_loss\n",
    "        patience_counter = 0\n",
    "        torch.save(model.state_dict(), 'best_model.pth')\n",
    "    else:\n",
    "        patience_counter += 1\n",
    "\n",
    "    if patience_counter >= patience:\n",
    "        print(\"Early stopping triggered\")\n",
    "        break\n",
    "\n",
    "# best model\n",
    "model.load_state_dict(torch.load('best_model.pth'))\n",
    "\n",
    "# Train/test plot\n",
    "plt.figure(figsize=(10, 6))\n",
    "plt.plot(train_losses, label='Train Loss')\n",
    "plt.plot(val_losses, label='Val Loss')\n",
    "plt.xlabel('Epoch')\n",
    "plt.ylabel('Loss')\n",
    "plt.title('Training and Validation Loss')\n",
    "plt.legend()\n",
    "plt.show()"
   ]
  },
  {
   "cell_type": "code",
   "execution_count": null,
   "id": "4e367798-df8d-40ce-a742-99df57447bf2",
   "metadata": {},
   "outputs": [],
   "source": [
    "true_labels = []\n",
    "predicted_labels = []\n",
    "\n",
    "model.eval()\n",
    "with torch.no_grad():\n",
    "    for inputs, targets in test_loader:\n",
    "        inputs = inputs.to(device)\n",
    "        targets = targets.to(device).long()\n",
    "\n",
    "        outputs = model(inputs)\n",
    "        _, preds = torch.max(outputs, 1)\n",
    "\n",
    "        true_labels.extend(targets.cpu().numpy())\n",
    "        predicted_labels.extend(preds.cpu().numpy())\n",
    "\n",
    "true_labels = np.array(true_labels)\n",
    "true_labels = np.argmax(true_labels, axis=1)\n",
    "predicted_labels = np.array(predicted_labels)"
   ]
  },
  {
   "cell_type": "code",
   "execution_count": null,
   "id": "732724a7-6774-4b0b-a1e6-c662f43873ad",
   "metadata": {},
   "outputs": [],
   "source": [
    "accuracy = accuracy_score(true_labels, predicted_labels)\n",
    "precision = precision_score(true_labels, predicted_labels, average='weighted')\n",
    "recall = recall_score(true_labels, predicted_labels, average='weighted')\n",
    "f1 = f1_score(true_labels, predicted_labels, average='weighted')\n",
    "\n",
    "print(classification_report(true_labels, predicted_labels))"
   ]
  },
  {
   "cell_type": "code",
   "execution_count": null,
   "id": "37442696-48ca-464c-84d4-a53e0bad0ffe",
   "metadata": {},
   "outputs": [],
   "source": [
    "print(f\"Accuracy: {accuracy:.4f}\")\n",
    "print(f\"Precision: {precision:.4f}\")\n",
    "print(f\"Recall: {recall:.4f}\")\n",
    "print(f\"F1-score: {f1:.4f}\")"
   ]
  },
  {
   "cell_type": "code",
   "execution_count": null,
   "id": "a33294ac-8b95-4b1c-9837-fbb64b68bb58",
   "metadata": {},
   "outputs": [],
   "source": [
    "plt.figure(figsize=(10, 8))\n",
    "plt.imshow(confusion_matrix(true_labels, predicted_labels), cmap='Blues', interpolation='nearest')\n",
    "plt.colorbar()\n",
    "plt.title('Confusion Matrix')\n",
    "plt.xlabel('Predicted')\n",
    "plt.ylabel('True')\n",
    "plt.show()"
   ]
  },
  {
   "cell_type": "code",
   "execution_count": null,
   "id": "5af1ee0a-eb16-4a3a-ac6a-44efb610c37e",
   "metadata": {},
   "outputs": [],
   "source": []
  }
 ],
 "metadata": {
  "kernelspec": {
   "display_name": "Python 3 (ipykernel)",
   "language": "python",
   "name": "python3"
  },
  "language_info": {
   "codemirror_mode": {
    "name": "ipython",
    "version": 3
   },
   "file_extension": ".py",
   "mimetype": "text/x-python",
   "name": "python",
   "nbconvert_exporter": "python",
   "pygments_lexer": "ipython3",
   "version": "3.10.14"
  }
 },
 "nbformat": 4,
 "nbformat_minor": 5
}

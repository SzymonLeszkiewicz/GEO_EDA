{
 "cells": [
  {
   "cell_type": "markdown",
   "id": "63686fc4d0dd0cb6",
   "metadata": {
    "collapsed": false
   },
   "source": [
    "# Cleaning and smoothing trajectory data with moving pandas"
   ]
  },
  {
   "cell_type": "code",
   "execution_count": null,
   "id": "initial_id",
   "metadata": {},
   "outputs": [],
   "source": [
    "import movingpandas as mpd\n",
    "import geopandas as gpd\n",
    "import pandas as pd\n",
    "from datetime import datetime, timedelta\n",
    "from shapely.geometry import LineString, Point\n",
    "from shapely.wkt import loads\n",
    "import matplotlib.pyplot as plt\n",
    "import os\n",
    "from srai.regionalizers import geocode_to_region_gdf"
   ]
  },
  {
   "cell_type": "code",
   "execution_count": null,
   "id": "1f17dc9dc6fa03b0",
   "metadata": {
    "collapsed": false
   },
   "outputs": [],
   "source": [
    "hvplot_defaults = {'tiles':'CartoLight', 'frame_height':320, 'frame_width':320, 'cmap':'Viridis', 'colorbar':True}\n",
    "kwargs = {**hvplot_defaults, 'c':'speed', 'line_width':7, 'clim':(0,20)}"
   ]
  },
  {
   "cell_type": "code",
   "execution_count": null,
   "id": "f69059a7ddd4ef6d",
   "metadata": {
    "collapsed": false
   },
   "outputs": [],
   "source": [
    "gdf = gpd.read_parquet(os.path.join('output_data', 'geolife.parquet'))"
   ]
  },
  {
   "cell_type": "code",
   "execution_count": null,
   "id": "1279539cbe73e39",
   "metadata": {
    "collapsed": false
   },
   "outputs": [],
   "source": [
    "gdf['time'] = pd.to_datetime(gdf['time'])\n",
    "gdf.crs = 'EPSG:4326'"
   ]
  },
  {
   "cell_type": "code",
   "execution_count": null,
   "id": "4bdf251d6b59362c",
   "metadata": {
    "collapsed": false
   },
   "outputs": [],
   "source": [
    "gdf.head()"
   ]
  },
  {
   "cell_type": "code",
   "execution_count": null,
   "id": "25ffa0f6-1adb-4dfb-9635-0b609e6f6c91",
   "metadata": {},
   "outputs": [],
   "source": [
    "gdf.shape"
   ]
  },
  {
   "cell_type": "code",
   "execution_count": null,
   "id": "4af96c84-c0c7-4871-8be0-cb1f4b162f6b",
   "metadata": {},
   "outputs": [],
   "source": [
    "def validate_cords(gdf, lon_col='longitude', lat_col='latitude', trip_id_col='trajectory_id'):\n",
    "    valid_lon = (-180 <= gdf[lon_col]) & (gdf[lon_col] <= 180)\n",
    "    valid_lat = (-90 <= gdf[lat_col]) & (gdf[lat_col] <= 90)\n",
    "    \n",
    "    valid_coords = valid_lon & valid_lat\n",
    "    \n",
    "    invalid_trip_ids = gdf.loc[~valid_coords, trip_id_col].unique()\n",
    "    \n",
    "    gdf = gdf[~gdf[trip_id_col].isin(invalid_trip_ids)]\n",
    "    \n",
    "    return gdf"
   ]
  },
  {
   "cell_type": "code",
   "execution_count": null,
   "id": "7e28e254d0ccf345",
   "metadata": {
    "collapsed": false
   },
   "outputs": [],
   "source": [
    "gdf = validate_cords(gdf)"
   ]
  },
  {
   "cell_type": "code",
   "execution_count": null,
   "id": "44faa098-e55e-4198-be93-bce76de24460",
   "metadata": {},
   "outputs": [],
   "source": [
    "pekin_area = geocode_to_region_gdf(\"Pekin, China\")"
   ]
  },
  {
   "cell_type": "code",
   "execution_count": null,
   "id": "96e0bd86-b4e6-4af6-9457-e3190155d7bf",
   "metadata": {},
   "outputs": [],
   "source": [
    "gdf_pekin = gdf.sjoin(pekin_area)"
   ]
  },
  {
   "cell_type": "code",
   "execution_count": null,
   "id": "6ecc96df-242e-4934-8c5e-8840525fb413",
   "metadata": {},
   "outputs": [],
   "source": [
    "gdf_pekin.shape"
   ]
  },
  {
   "cell_type": "code",
   "execution_count": null,
   "id": "eb56bc75-f3a1-4210-8403-c6d0bcd19722",
   "metadata": {},
   "outputs": [],
   "source": [
    "gdf_merged = gdf.merge(gdf_pekin, how=\"left\", indicator=True)"
   ]
  },
  {
   "cell_type": "code",
   "execution_count": null,
   "id": "fc28f4e4-9dcc-424f-a3c7-fcb55287d249",
   "metadata": {},
   "outputs": [],
   "source": [
    "gdf_outside_pekin = gdf_merged[gdf_merged[\"_merge\"] == \"left_only\"]"
   ]
  },
  {
   "cell_type": "code",
   "execution_count": null,
   "id": "c8d30853-4856-42e7-bec7-efaec6d523e2",
   "metadata": {},
   "outputs": [],
   "source": [
    "traj_outside_pekin = list(gdf_outside_pekin[\"trajectory_id\"].unique())"
   ]
  },
  {
   "cell_type": "code",
   "execution_count": null,
   "id": "7c237fca-6b5a-4c5a-9c79-3c364e338478",
   "metadata": {},
   "outputs": [],
   "source": [
    "gdf_pekin = gdf_pekin[~gdf_pekin[\"trajectory_id\"].isin(traj_outside_pekin)]"
   ]
  },
  {
   "cell_type": "code",
   "execution_count": null,
   "id": "47d59b07b40d1f4e",
   "metadata": {
    "collapsed": false
   },
   "outputs": [],
   "source": [
    "traj_col = mpd.TrajectoryCollection(gdf_pekin,'trajectory_id', t = 'time', x = 'latitude', y = 'longitude')"
   ]
  },
  {
   "cell_type": "code",
   "execution_count": null,
   "id": "3724f493-f2a1-4586-93c0-21e88284a06c",
   "metadata": {},
   "outputs": [],
   "source": [
    "traj_col"
   ]
  },
  {
   "cell_type": "code",
   "execution_count": null,
   "id": "5a06fbfb-a5b6-49c7-bf14-68c4ea8c922b",
   "metadata": {},
   "outputs": [],
   "source": [
    "traj_gdf = traj_col.to_point_gdf()\n",
    "fig, ax = plt.subplots(figsize=(10, 10))\n",
    "\n",
    "traj_gdf.plot(ax=ax, color='blue', markersize=1, label='Trajektorie')"
   ]
  },
  {
   "cell_type": "code",
   "execution_count": null,
   "id": "f688c0ff-bbb7-47a1-9e75-46c6ab780619",
   "metadata": {},
   "outputs": [],
   "source": [
    "# traj_col.add_speed(overwrite = True)"
   ]
  },
  {
   "cell_type": "code",
   "execution_count": null,
   "id": "43fdcb32-791c-41ed-80dd-ab4e3e736905",
   "metadata": {},
   "outputs": [],
   "source": [
    "# traj_col.add_timedelta(overwrite = True)"
   ]
  },
  {
   "cell_type": "code",
   "execution_count": null,
   "id": "a1e2a801-b1d8-452b-8212-ed7033820ea7",
   "metadata": {},
   "outputs": [],
   "source": [
    "# traj_col.add_direction(overwrite = True)"
   ]
  },
  {
   "cell_type": "code",
   "execution_count": null,
   "id": "ad440c99-0b42-4c8d-a477-5fac13f6534c",
   "metadata": {
    "scrolled": true
   },
   "outputs": [],
   "source": [
    "results = traj_col.to_point_gdf()\n",
    "results.head()"
   ]
  },
  {
   "cell_type": "code",
   "execution_count": null,
   "id": "dfd37864-c34d-4c67-9b2a-9a90601209a1",
   "metadata": {},
   "outputs": [],
   "source": [
    "results.shape"
   ]
  },
  {
   "cell_type": "markdown",
   "id": "8b4ad74c-64d3-4cda-bc3b-405d76f11f0c",
   "metadata": {},
   "source": [
    "# Spatial Embedding"
   ]
  },
  {
   "cell_type": "code",
   "execution_count": null,
   "id": "a9a39cb9-970a-40dd-bd17-d4ba939708bb",
   "metadata": {},
   "outputs": [],
   "source": [
    "HEX_RES = 9"
   ]
  },
  {
   "cell_type": "code",
   "execution_count": null,
   "id": "43edd445-f54a-4891-9faa-f69f90a7903a",
   "metadata": {},
   "outputs": [],
   "source": [
    "regionalizer = H3Regionalizer(resolution=HEX_RES)\n",
    "regions = regionalizer.transform(pekin_area)"
   ]
  },
  {
   "cell_type": "code",
   "execution_count": null,
   "id": "0b5587bb-d11b-46a6-bba5-5399ea79c9f8",
   "metadata": {},
   "outputs": [],
   "source": [
    "loader = OSMPbfLoader()\n",
    "features = loader.load(regions, HEX2VEC_FILTER)"
   ]
  },
  {
   "cell_type": "code",
   "execution_count": null,
   "id": "d7c154a5-4ba0-466f-97dc-9a350d5c5c73",
   "metadata": {},
   "outputs": [],
   "source": [
    "joiner = IntersectionJoiner()\n",
    "joint = joiner.transform(regions, features)"
   ]
  },
  {
   "cell_type": "code",
   "execution_count": null,
   "id": "6e07e435-dfd0-478b-b35c-5f69ef458294",
   "metadata": {},
   "outputs": [],
   "source": [
    "neighbourhood = H3Neighbourhood(regions)\n",
    "embedder_hidden_sizes = [150, 100, 50, 10]\n",
    "embedder = Hex2VecEmbedder(embedder_hidden_sizes)\n",
    "device = \"cuda\" if torch.cuda.is_available() else \"cpu\"\n",
    "\n",
    "with warnings.catch_warnings():\n",
    "    warnings.simplefilter(\"ignore\")\n",
    "    embeddings = embedder.fit_transform(\n",
    "        regions,\n",
    "        features,\n",
    "        joint,\n",
    "        neighbourhood,\n",
    "        trainer_kwargs={\"max_epochs\": 5, \"accelerator\": device},\n",
    "        batch_size=100,\n",
    "    )"
   ]
  },
  {
   "cell_type": "code",
   "execution_count": null,
   "id": "dd5638bf-bca4-47a4-8df8-a3c1e4eedb84",
   "metadata": {},
   "outputs": [],
   "source": [
    "embeddings.to_parquet(os.path.join('output_data', f'embeddings_{HEX_RES}.parquet')"
   ]
  },
  {
   "cell_type": "markdown",
   "id": "a27d16010822d4f3",
   "metadata": {
    "collapsed": false
   },
   "source": [
    "# [Generalization](https://movingpandas.github.io/movingpandas-website/1-tutorials/7-generalizing-trajectories.html)"
   ]
  },
  {
   "cell_type": "code",
   "execution_count": null,
   "id": "6731f51ecf2f0a35",
   "metadata": {
    "collapsed": false
   },
   "outputs": [],
   "source": [
    "traj_col_dp = mpd.DouglasPeuckerGeneralizer(traj_col).generalize(tolerance=0.0001)"
   ]
  },
  {
   "cell_type": "code",
   "execution_count": null,
   "id": "9c286df1e542e456",
   "metadata": {
    "collapsed": false
   },
   "outputs": [],
   "source": [
    "results_dp = traj_col_dp.to_point_gdf()\n",
    "results_dp.shape"
   ]
  },
  {
   "cell_type": "code",
   "execution_count": null,
   "id": "98d3615a-56ef-4218-a185-22b528567550",
   "metadata": {},
   "outputs": [],
   "source": [
    "i = 312\n",
    "traj_col_dp.trajectories[i].hvplot(**kwargs)+traj_col.trajectories[i].hvplot(**kwargs)"
   ]
  },
  {
   "cell_type": "markdown",
   "id": "872ffe39-976b-4d30-a52d-862b3296f32e",
   "metadata": {},
   "source": [
    "# CLEAN"
   ]
  },
  {
   "cell_type": "code",
   "execution_count": null,
   "id": "558f4f22-850d-4b8c-a0b9-da6ed06282c8",
   "metadata": {},
   "outputs": [],
   "source": [
    "cleaned = traj_col_dp.copy()\n",
    "cleaned = mpd.OutlierCleaner(cleaned).clean(alpha=1.5)"
   ]
  },
  {
   "cell_type": "code",
   "execution_count": null,
   "id": "21123086-39dc-4946-8d36-8e68a6bc1a3e",
   "metadata": {},
   "outputs": [],
   "source": [
    "cleaned.trajectories[i].hvplot(**kwargs)+traj_col_dp.trajectories[i].hvplot(**kwargs)"
   ]
  },
  {
   "cell_type": "markdown",
   "id": "a61ba88c-487f-4788-bd58-9e73ac7b135e",
   "metadata": {},
   "source": [
    "# SMOOTH"
   ]
  },
  {
   "cell_type": "code",
   "execution_count": null,
   "id": "dcd5d45f-26cc-4734-93aa-edd3583cdde8",
   "metadata": {},
   "outputs": [],
   "source": [
    "smooth = mpd.KalmanSmootherCV(cleaned).smooth(process_noise_std=0.1, measurement_noise_std=10)\n",
    "smooth"
   ]
  },
  {
   "cell_type": "code",
   "execution_count": null,
   "id": "b41ac063-361e-4a8b-bfb7-79d584c5c87a",
   "metadata": {},
   "outputs": [],
   "source": [
    "smooth.trajectories[i].hvplot(**kwargs)+traj_col_dp.trajectories[i].hvplot(**kwargs)\n"
   ]
  },
  {
   "cell_type": "code",
   "execution_count": null,
   "id": "9346f17f-e9cf-493c-8fb8-0e964d6be59e",
   "metadata": {},
   "outputs": [],
   "source": [
    "smooth2 = mpd.KalmanSmootherCV(cleaned).smooth(process_noise_std=0.1, measurement_noise_std=2)\n",
    "smooth2"
   ]
  },
  {
   "cell_type": "code",
   "execution_count": null,
   "id": "f3e66baf-5652-4bcd-b856-c446ff80e833",
   "metadata": {},
   "outputs": [],
   "source": [
    "smooth.trajectories[i].hvplot(**kwargs)+smooth2.trajectories[i].hvplot(**kwargs)+traj_col_dp.trajectories[i].hvplot(**kwargs)\n"
   ]
  },
  {
   "cell_type": "code",
   "execution_count": null,
   "id": "d7d5b770-775c-486c-9de4-4e2698b3e796",
   "metadata": {},
   "outputs": [],
   "source": [
    "i = 1645\n",
    "smooth.trajectories[i].hvplot(**kwargs)+smooth2.trajectories[i].hvplot(**kwargs)+traj_col_dp.trajectories[i].hvplot(**kwargs)"
   ]
  },
  {
   "cell_type": "code",
   "execution_count": null,
   "id": "c413382d-f2a3-4bf3-813d-8d3741591be6",
   "metadata": {},
   "outputs": [],
   "source": [
    "smooth2_gdf = smooth2.to_point_gdf()\n",
    "smooth2_gdf.shape"
   ]
  },
  {
   "cell_type": "code",
   "execution_count": null,
   "id": "907554a1-7239-4387-a903-11c5a2fe0123",
   "metadata": {},
   "outputs": [],
   "source": [
    "if not os.path.exists('output_data'):\n",
    "    os.makedirs('output_data')\n",
    "smooth2_gdf.to_parquet(os.path.join('output_data', 'geolife_mpd.parquet'))"
   ]
  },
  {
   "cell_type": "code",
   "execution_count": null,
   "id": "bc925bad-b2e3-4c20-907e-1fb1577e16d7",
   "metadata": {},
   "outputs": [],
   "source": []
  }
 ],
 "metadata": {
  "kernelspec": {
   "display_name": "Python 3 (ipykernel)",
   "language": "python",
   "name": "python3"
  },
  "language_info": {
   "codemirror_mode": {
    "name": "ipython",
    "version": 3
   },
   "file_extension": ".py",
   "mimetype": "text/x-python",
   "name": "python",
   "nbconvert_exporter": "python",
   "pygments_lexer": "ipython3",
   "version": "3.10.14"
  }
 },
 "nbformat": 4,
 "nbformat_minor": 5
}

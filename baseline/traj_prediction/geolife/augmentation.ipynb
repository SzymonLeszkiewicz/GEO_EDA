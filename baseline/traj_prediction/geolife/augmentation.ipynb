{
 "cells": [
  {
   "cell_type": "code",
   "execution_count": 1,
   "id": "initial_id",
   "metadata": {
    "ExecuteTime": {
     "end_time": "2024-05-01T21:16:47.571623Z",
     "start_time": "2024-05-01T21:16:42.381072Z"
    }
   },
   "outputs": [],
   "source": [
    "import movingpandas as mpd\n",
    "import geopandas as gpd\n",
    "import pandas as pd\n",
    "from datetime import datetime, timedelta\n",
    "from shapely.geometry import LineString, Point\n",
    "from shapely.wkt import loads"
   ]
  },
  {
   "cell_type": "code",
   "execution_count": 2,
   "id": "1f17dc9dc6fa03b0",
   "metadata": {
    "ExecuteTime": {
     "end_time": "2024-05-01T21:16:47.572873Z",
     "start_time": "2024-05-01T21:16:47.570641Z"
    },
    "collapsed": false,
    "jupyter": {
     "outputs_hidden": false
    }
   },
   "outputs": [],
   "source": [
    "hvplot_defaults = {'tiles':'CartoLight', 'frame_height':320, 'frame_width':320, 'cmap':'Viridis', 'colorbar':True}\n",
    "kwargs = {**hvplot_defaults, 'c':'speed', 'line_width':7, 'clim':(0,20)}"
   ]
  },
  {
   "cell_type": "code",
   "execution_count": 3,
   "id": "f69059a7ddd4ef6d",
   "metadata": {
    "ExecuteTime": {
     "end_time": "2024-05-01T21:17:36.952735Z",
     "start_time": "2024-05-01T21:16:47.574217Z"
    },
    "collapsed": false,
    "jupyter": {
     "outputs_hidden": false
    }
   },
   "outputs": [],
   "source": [
    "gdf = gpd.read_parquet('output_data/geolife.parquet')"
   ]
  },
  {
   "cell_type": "code",
   "execution_count": 4,
   "id": "1279539cbe73e39",
   "metadata": {
    "ExecuteTime": {
     "end_time": "2024-05-01T21:17:40.252388Z",
     "start_time": "2024-05-01T21:17:40.169031Z"
    },
    "collapsed": false,
    "jupyter": {
     "outputs_hidden": false
    }
   },
   "outputs": [],
   "source": [
    "gdf['time'] = pd.to_datetime(gdf['time'])\n",
    "gdf.crs = 'EPSG:4326'"
   ]
  },
  {
   "cell_type": "code",
   "execution_count": 9,
   "id": "4bdf251d6b59362c",
   "metadata": {
    "ExecuteTime": {
     "end_time": "2024-05-01T21:17:40.289169Z",
     "start_time": "2024-05-01T21:17:40.255792Z"
    },
    "collapsed": false,
    "jupyter": {
     "outputs_hidden": false
    }
   },
   "outputs": [
    {
     "data": {
      "text/html": [
       "<div>\n",
       "<style scoped>\n",
       "    .dataframe tbody tr th:only-of-type {\n",
       "        vertical-align: middle;\n",
       "    }\n",
       "\n",
       "    .dataframe tbody tr th {\n",
       "        vertical-align: top;\n",
       "    }\n",
       "\n",
       "    .dataframe thead th {\n",
       "        text-align: right;\n",
       "    }\n",
       "</style>\n",
       "<table border=\"1\" class=\"dataframe\">\n",
       "  <thead>\n",
       "    <tr style=\"text-align: right;\">\n",
       "      <th></th>\n",
       "      <th>latitude</th>\n",
       "      <th>longitude</th>\n",
       "      <th>altitude</th>\n",
       "      <th>date</th>\n",
       "      <th>date_str</th>\n",
       "      <th>time</th>\n",
       "      <th>trajectory_id</th>\n",
       "      <th>mode</th>\n",
       "      <th>geometry</th>\n",
       "      <th>user_id</th>\n",
       "    </tr>\n",
       "  </thead>\n",
       "  <tbody>\n",
       "    <tr>\n",
       "      <th>0</th>\n",
       "      <td>39.974294</td>\n",
       "      <td>116.399741</td>\n",
       "      <td>492.0</td>\n",
       "      <td>39816.056644</td>\n",
       "      <td>2009-01-03</td>\n",
       "      <td>2009-01-03 01:21:34</td>\n",
       "      <td>20090103012134</td>\n",
       "      <td>unknown</td>\n",
       "      <td>POINT (116.39974 39.97429)</td>\n",
       "      <td>135</td>\n",
       "    </tr>\n",
       "    <tr>\n",
       "      <th>1</th>\n",
       "      <td>39.974292</td>\n",
       "      <td>116.399592</td>\n",
       "      <td>492.0</td>\n",
       "      <td>39816.056655</td>\n",
       "      <td>2009-01-03</td>\n",
       "      <td>2009-01-03 01:21:35</td>\n",
       "      <td>20090103012134</td>\n",
       "      <td>unknown</td>\n",
       "      <td>POINT (116.39959 39.97429)</td>\n",
       "      <td>135</td>\n",
       "    </tr>\n",
       "    <tr>\n",
       "      <th>2</th>\n",
       "      <td>39.974309</td>\n",
       "      <td>116.399523</td>\n",
       "      <td>492.0</td>\n",
       "      <td>39816.056667</td>\n",
       "      <td>2009-01-03</td>\n",
       "      <td>2009-01-03 01:21:36</td>\n",
       "      <td>20090103012134</td>\n",
       "      <td>unknown</td>\n",
       "      <td>POINT (116.39952 39.97431)</td>\n",
       "      <td>135</td>\n",
       "    </tr>\n",
       "    <tr>\n",
       "      <th>3</th>\n",
       "      <td>39.974320</td>\n",
       "      <td>116.399588</td>\n",
       "      <td>492.0</td>\n",
       "      <td>39816.056690</td>\n",
       "      <td>2009-01-03</td>\n",
       "      <td>2009-01-03 01:21:38</td>\n",
       "      <td>20090103012134</td>\n",
       "      <td>unknown</td>\n",
       "      <td>POINT (116.39959 39.97432)</td>\n",
       "      <td>135</td>\n",
       "    </tr>\n",
       "    <tr>\n",
       "      <th>4</th>\n",
       "      <td>39.974365</td>\n",
       "      <td>116.399730</td>\n",
       "      <td>491.0</td>\n",
       "      <td>39816.056701</td>\n",
       "      <td>2009-01-03</td>\n",
       "      <td>2009-01-03 01:21:39</td>\n",
       "      <td>20090103012134</td>\n",
       "      <td>unknown</td>\n",
       "      <td>POINT (116.39973 39.97436)</td>\n",
       "      <td>135</td>\n",
       "    </tr>\n",
       "  </tbody>\n",
       "</table>\n",
       "</div>"
      ],
      "text/plain": [
       "    latitude   longitude  altitude          date    date_str  \\\n",
       "0  39.974294  116.399741     492.0  39816.056644  2009-01-03   \n",
       "1  39.974292  116.399592     492.0  39816.056655  2009-01-03   \n",
       "2  39.974309  116.399523     492.0  39816.056667  2009-01-03   \n",
       "3  39.974320  116.399588     492.0  39816.056690  2009-01-03   \n",
       "4  39.974365  116.399730     491.0  39816.056701  2009-01-03   \n",
       "\n",
       "                 time   trajectory_id     mode                    geometry  \\\n",
       "0 2009-01-03 01:21:34  20090103012134  unknown  POINT (116.39974 39.97429)   \n",
       "1 2009-01-03 01:21:35  20090103012134  unknown  POINT (116.39959 39.97429)   \n",
       "2 2009-01-03 01:21:36  20090103012134  unknown  POINT (116.39952 39.97431)   \n",
       "3 2009-01-03 01:21:38  20090103012134  unknown  POINT (116.39959 39.97432)   \n",
       "4 2009-01-03 01:21:39  20090103012134  unknown  POINT (116.39973 39.97436)   \n",
       "\n",
       "  user_id  \n",
       "0     135  \n",
       "1     135  \n",
       "2     135  \n",
       "3     135  \n",
       "4     135  "
      ]
     },
     "execution_count": 9,
     "metadata": {},
     "output_type": "execute_result"
    }
   ],
   "source": [
    "gdf.head()"
   ]
  },
  {
   "cell_type": "code",
   "execution_count": 10,
   "id": "25ffa0f6-1adb-4dfb-9635-0b609e6f6c91",
   "metadata": {},
   "outputs": [
    {
     "data": {
      "text/plain": [
       "(24876978, 10)"
      ]
     },
     "execution_count": 10,
     "metadata": {},
     "output_type": "execute_result"
    }
   ],
   "source": [
    "gdf.shape"
   ]
  },
  {
   "cell_type": "code",
   "execution_count": null,
   "id": "bf5e057b-6860-4bf0-87e3-faa525d585e2",
   "metadata": {},
   "outputs": [],
   "source": [
    "def validate_cords(gdf, lon_col = 'longitude', lat_col = 'latitude'):\n",
    "    valid_lon = (-180 <= gdf[lon_col]) & (gdf[lon_col] <= 180)\n",
    "    valid_lat = (-90 <= gdf[lat_col]) & (gdf[lat_col] <= 90)\n",
    "    \n",
    "    valid_coords = valid_lon & valid_lat\n",
    "    \n",
    "    invalid_coords = (~valid_coords).sum()\n",
    "    if valid_coords == 0:\n",
    "        print(\"Wszystkie współrzędne są poprawne.\")\n",
    "    else:\n",
    "        print(f\"Liczba niepoprawnych współrzędnych: {invalid_coords}\")\n",
    "        print(\"Niepoprawne wiersze:\")\n",
    "        print(gdf[~valid_coords])\n",
    "\n",
    "    return valid_coords"
   ]
  },
  {
   "cell_type": "code",
   "execution_count": 11,
   "id": "47d59b07b40d1f4e",
   "metadata": {
    "ExecuteTime": {
     "end_time": "2024-05-01T21:17:40.930041Z",
     "start_time": "2024-05-01T21:17:40.327359Z"
    },
    "collapsed": false,
    "jupyter": {
     "outputs_hidden": false
    }
   },
   "outputs": [],
   "source": [
    "traj_col = mpd.TrajectoryCollection(gdf,'trajectory_id', t = 'time', x = 'latitude', y = 'longitude')"
   ]
  },
  {
   "cell_type": "code",
   "execution_count": null,
   "id": "f688c0ff-bbb7-47a1-9e75-46c6ab780619",
   "metadata": {
    "ExecuteTime": {
     "end_time": "2024-05-01T21:18:43.659030Z",
     "start_time": "2024-05-01T21:17:40.934479Z"
    }
   },
   "outputs": [],
   "source": [
    "traj_col.add_speed(overwrite = True)\n",
    "traj_col.add_timedelta(overwrite = True)\n",
    "traj_col.add_direction(overwrite = True)"
   ]
  },
  {
   "cell_type": "code",
   "execution_count": null,
   "id": "64ef8a7af160d1cf",
   "metadata": {
    "ExecuteTime": {
     "end_time": "2024-05-01T21:18:43.669629Z",
     "start_time": "2024-05-01T21:18:43.659861Z"
    },
    "collapsed": false,
    "jupyter": {
     "outputs_hidden": false
    }
   },
   "outputs": [],
   "source": [
    "traj_col.trajectories[6].hvplot(**kwargs)+traj_col.trajectories[5].hvplot(**kwargs)"
   ]
  },
  {
   "cell_type": "code",
   "execution_count": null,
   "id": "ad440c99-0b42-4c8d-a477-5fac13f6534c",
   "metadata": {
    "ExecuteTime": {
     "end_time": "2024-05-01T21:18:43.714105Z",
     "start_time": "2024-05-01T21:18:43.667075Z"
    }
   },
   "outputs": [],
   "source": [
    "results = traj_col.to_point_gdf()\n",
    "results.head()"
   ]
  },
  {
   "cell_type": "code",
   "execution_count": null,
   "id": "dfd37864-c34d-4c67-9b2a-9a90601209a1",
   "metadata": {
    "ExecuteTime": {
     "end_time": "2024-05-01T21:18:43.724496Z",
     "start_time": "2024-05-01T21:18:43.714176Z"
    }
   },
   "outputs": [],
   "source": [
    "results.shape"
   ]
  },
  {
   "cell_type": "code",
   "execution_count": 70,
   "id": "2998e054-3308-474e-86ec-91b1662c03da",
   "metadata": {},
   "outputs": [],
   "source": [
    "# results.to_parquet('geolife_points.parquet')"
   ]
  },
  {
   "cell_type": "code",
   "execution_count": null,
   "id": "cc77fe740bf9e1d0",
   "metadata": {
    "collapsed": false,
    "jupyter": {
     "outputs_hidden": false
    }
   },
   "outputs": [],
   "source": []
  }
 ],
 "metadata": {
  "kernelspec": {
   "display_name": "Python 3 (ipykernel)",
   "language": "python",
   "name": "python3"
  },
  "language_info": {
   "codemirror_mode": {
    "name": "ipython",
    "version": 3
   },
   "file_extension": ".py",
   "mimetype": "text/x-python",
   "name": "python",
   "nbconvert_exporter": "python",
   "pygments_lexer": "ipython3",
   "version": "3.10.14"
  }
 },
 "nbformat": 4,
 "nbformat_minor": 5
}

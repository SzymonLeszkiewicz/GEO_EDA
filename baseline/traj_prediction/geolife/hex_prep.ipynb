{
 "cells": [
  {
   "cell_type": "code",
   "execution_count": null,
   "id": "initial_id",
   "metadata": {},
   "outputs": [],
   "source": [
    "import geopandas as gpd\n",
    "import pandas as pd\n",
    "import copy\n",
    "import os\n",
    "import warnings\n",
    "import random\n",
    "from pprint import pprint\n",
    "import geopandas as gpd\n",
    "import matplotlib.pyplot as plt\n",
    "import numpy as np\n",
    "import torch\n",
    "import torch.nn as nn\n",
    "import torch.optim as optim\n",
    "from tqdm.notebook import tqdm\n",
    "from sklearn.model_selection import train_test_split\n",
    "from tqdm import tqdm\n",
    "from sklearn.model_selection import train_test_split\n",
    "\n",
    "from srai.datasets import AirbnbMulticityDataset\n",
    "from srai.embedders import Hex2VecEmbedder\n",
    "from srai.joiners import IntersectionJoiner\n",
    "from srai.loaders.osm_loaders import OSMPbfLoader\n",
    "from srai.loaders.osm_loaders.filters import HEX2VEC_FILTER\n",
    "from srai.neighbourhoods.h3_neighbourhood import H3Neighbourhood\n",
    "from srai.plotting import plot_regions\n",
    "from srai.regionalizers import H3Regionalizer\n",
    "import plotly.graph_objs as go\n",
    "from shapely.geometry import LineString, Point\n",
    "from shapely import from_geojson\n",
    "import h3\n",
    "from srai.h3 import h3_to_geoseries\n",
    "import matplotlib.pyplot as plt"
   ]
  },
  {
   "cell_type": "code",
   "execution_count": null,
   "id": "f7345a314f7cacc6",
   "metadata": {
    "collapsed": false
   },
   "outputs": [],
   "source": [
    "H3_RESOLUTION = 9\n",
    "seq_length = 8"
   ]
  },
  {
   "cell_type": "code",
   "execution_count": null,
   "id": "f7a906708eba6ecb",
   "metadata": {
    "collapsed": false
   },
   "outputs": [],
   "source": [
    "embeddings = pd.read_parquet(os.path.join('output_data', f'embeddings_{H3_RESOLUTION}.parquet'))\n",
    "embeddings.shape"
   ]
  },
  {
   "cell_type": "code",
   "execution_count": null,
   "id": "5196194383c11e40",
   "metadata": {
    "collapsed": false
   },
   "outputs": [],
   "source": [
    "gdf = gpd.read_parquet(os.path.join('output_data', 'geolife_mpd.parquet'))\n",
    "gdf.shape"
   ]
  },
  {
   "cell_type": "markdown",
   "id": "8785dbe554a4d212",
   "metadata": {
    "collapsed": false
   },
   "source": [
    "# GDF AGGREAGATION"
   ]
  },
  {
   "cell_type": "code",
   "execution_count": null,
   "id": "1c5ffa4e551237df",
   "metadata": {
    "collapsed": false
   },
   "outputs": [],
   "source": [
    "gdf_agg = gdf.groupby('trajectory_id').agg(\n",
    "    {'geometry': LineString, 'date_str': list, 'speed': list, 'direction': list, 'altitude': list,\n",
    "     'trajectory_id': 'first'})\n",
    "gdf_agg.shape"
   ]
  },
  {
   "cell_type": "code",
   "execution_count": null,
   "id": "2ad5130e77a2652a",
   "metadata": {
    "collapsed": false
   },
   "outputs": [],
   "source": [
    "gdf_agg.head()"
   ]
  },
  {
   "cell_type": "code",
   "execution_count": null,
   "id": "fe710e61ad07e5b2",
   "metadata": {
    "collapsed": false
   },
   "outputs": [],
   "source": [
    "def get_hex_neigh(traj):\n",
    "    h3_dist = []\n",
    "    h3_cells = []\n",
    "    points = traj.coords\n",
    "    for idx in range(len(points) - 1):\n",
    "        a, b = points[idx], points[idx + 1]\n",
    "        start_hex = h3.latlng_to_cell(a[1], a[0], H3_RESOLUTION)\n",
    "        end_hex = h3.latlng_to_cell(b[1], b[0], H3_RESOLUTION)\n",
    "        if start_hex == end_hex:\n",
    "            continue\n",
    "        for h3_cell in h3.grid_path_cells(start_hex, end_hex):\n",
    "            if not h3_cells or h3_dist[-1] != h3_cell:\n",
    "                h3_dist.append(h3_cell)\n",
    "                h3_cells.append(h3.grid_disk(h3_cell, 1))\n",
    "    return h3_cells"
   ]
  },
  {
   "cell_type": "code",
   "execution_count": null,
   "id": "f7625edf646c6d9d",
   "metadata": {
    "collapsed": false
   },
   "outputs": [],
   "source": [
    "dummies = pd.get_dummies([1, 2, 3, 4, 5, 6])"
   ]
  },
  {
   "cell_type": "code",
   "execution_count": null,
   "id": "4a99f50173ab15f",
   "metadata": {
    "collapsed": false
   },
   "outputs": [],
   "source": [
    "def get_y(traj):\n",
    "    if not traj:\n",
    "        return None\n",
    "    y = []\n",
    "    for i in range(len(traj) - 1):\n",
    "        target = traj[i + 1][0]\n",
    "        prop = np.array(traj[i])\n",
    "        res = prop == target\n",
    "        # print(res)\n",
    "        idx = np.where(res)[0]-1\n",
    "        try:\n",
    "            dummy = dummies.loc[idx].values[0]\n",
    "        except:\n",
    "            print(idx)\n",
    "        y.append(dummy)\n",
    "    return y"
   ]
  },
  {
   "cell_type": "code",
   "execution_count": null,
   "id": "38b76fd0983a8b1e",
   "metadata": {
    "collapsed": false
   },
   "outputs": [],
   "source": [
    "ls = gdf_agg['geometry'].iloc[5]\n",
    "h3_cells = []\n",
    "points = ls.coords\n",
    "for idx in range(len(points) - 1):\n",
    "    a, b = points[idx], points[idx + 1]\n",
    "    start_hex = h3.latlng_to_cell(a[1], a[0], H3_RESOLUTION)\n",
    "    end_hex = h3.latlng_to_cell(b[1], b[0], H3_RESOLUTION)\n",
    "    if start_hex == end_hex:\n",
    "        continue\n",
    "    for h3_cell in h3.grid_path_cells(start_hex, end_hex):\n",
    "        if not h3_cells or h3_cells[-1] != h3_cell:\n",
    "            h3_cells.append(h3_cell)\n",
    "m = h3_to_geoseries(h3_cells).reset_index().explore(\"index\", tiles=\"CartoDB positron\", opacity=0.4)\n",
    "gpd.GeoSeries([ls]).explore(m=m)"
   ]
  },
  {
   "cell_type": "code",
   "execution_count": null,
   "id": "20d262dc21ec0b68",
   "metadata": {
    "collapsed": false
   },
   "outputs": [],
   "source": [
    "# t = gdf_agg['geometry'].iloc[5]\n",
    "# cells = get_hex_neigh(t)\n",
    "# pprint(len(cells))\n",
    "# y = get_y(cells)\n",
    "# print(len(y))\n",
    "# em = embed(cells)\n",
    "# pprint(em[0])"
   ]
  },
  {
   "cell_type": "code",
   "execution_count": null,
   "id": "4503d6d05e8f1d26",
   "metadata": {
    "collapsed": false
   },
   "outputs": [],
   "source": [
    "def embed(traj):\n",
    "    emb = []\n",
    "    for t in traj:\n",
    "        temp = []\n",
    "        for h in t:\n",
    "            try:\n",
    "                temp.append(embeddings.loc[h].values)\n",
    "            except:\n",
    "                return None\n",
    "        emb.append(temp)\n",
    "    return emb"
   ]
  },
  {
   "cell_type": "code",
   "execution_count": null,
   "id": "37006bb4fe626b1f",
   "metadata": {
    "collapsed": false
   },
   "outputs": [],
   "source": [
    "gdf_agg['hex_neigh'] = gdf_agg['geometry'].apply(get_hex_neigh)\n",
    "gdf_agg['y'] = gdf_agg['hex_neigh'].apply(get_y)\n",
    "gdf_agg['neigh_emb'] = gdf_agg['hex_neigh'].apply(embed)"
   ]
  },
  {
   "cell_type": "code",
   "execution_count": null,
   "id": "19e3eed072a18c54",
   "metadata": {
    "collapsed": false
   },
   "outputs": [],
   "source": [
    "gdf_agg = gdf_agg[gdf_agg['neigh_emb'].notnull()]\n",
    "gdf_agg = gdf_agg[gdf_agg['y'].notnull()]\n",
    "gdf_agg = gdf_agg[gdf_agg['y'].apply(lambda x: len(x) >= seq_length)]"
   ]
  },
  {
   "cell_type": "markdown",
   "id": "3fe08298cff9fdca",
   "metadata": {
    "collapsed": false
   },
   "source": [
    "# SEQUENCE GENERATION"
   ]
  },
  {
   "cell_type": "code",
   "execution_count": null,
   "id": "7593af53b0732bf6",
   "metadata": {
    "collapsed": false
   },
   "outputs": [],
   "source": [
    "# def make_seq(row, seq_len=seq_length):\n",
    "#     # seq without padding\n",
    "#     for i in range(0, len(row['y']) - seq_len):\n",
    "#         seq = []\n",
    "#         for j in range(i, i+seq_len):\n",
    "#             seq.append(np.array(row['neigh_emb'][j]).flatten().tolist())\n",
    "#         yield seq, row['y'][i+seq_len]   "
   ]
  },
  {
   "cell_type": "code",
   "execution_count": null,
   "id": "b9e66292106cd9c1",
   "metadata": {
    "collapsed": false
   },
   "outputs": [],
   "source": [
    "def make_pad_seq(row, seq_len=seq_length):\n",
    "    empty = list(np.zeros_like(np.array(row['neigh_emb'][0]).flatten().tolist()))\n",
    "\n",
    "    for i in range(len(row['y']) - 1):\n",
    "        seq = [empty for _ in range(seq_len)]\n",
    "\n",
    "        start = max(0, i - seq_len + 1)\n",
    "        end = i + 1\n",
    "\n",
    "        for j in range(start, end):\n",
    "            seq[seq_len - (i - j + 1)] = np.array(row['neigh_emb'][j]).flatten().tolist()\n",
    "        yield seq, row['y'][i]\n",
    "        "
   ]
  },
  {
   "cell_type": "code",
   "execution_count": null,
   "id": "f0191384a6609d60",
   "metadata": {
    "collapsed": false
   },
   "outputs": [],
   "source": [
    "gdf_seq = gpd.GeoDataFrame(list(row for _, row in gdf_agg.iterrows() for row in make_pad_seq(row)) , columns=['seq', 'y'])"
   ]
  },
  {
   "cell_type": "code",
   "execution_count": null,
   "id": "393722a5bf1491e2",
   "metadata": {
    "collapsed": false
   },
   "outputs": [],
   "source": [
    "gdf_seq.head() "
   ]
  },
  {
   "cell_type": "code",
   "execution_count": null,
   "id": "cc9212db63a10658",
   "metadata": {
    "collapsed": false
   },
   "outputs": [],
   "source": [
    "seq_expanded = pd.DataFrame(gdf_seq['seq'].tolist(), index=gdf_seq.index)"
   ]
  },
  {
   "cell_type": "code",
   "execution_count": null,
   "id": "f10b26bdd37f748c",
   "metadata": {
    "collapsed": false
   },
   "outputs": [],
   "source": [
    "seq_expanded.head()"
   ]
  },
  {
   "cell_type": "code",
   "execution_count": null,
   "id": "b167063125869ad8",
   "metadata": {
    "collapsed": false
   },
   "outputs": [],
   "source": [
    "X = seq_expanded\n",
    "y = gdf_seq['y']\n",
    "\n",
    "X_train, X_test, y_train, y_test = train_test_split(X, y, test_size=0.2, random_state=42)"
   ]
  },
  {
   "cell_type": "markdown",
   "id": "3c201425-1d63-4c8f-95b1-d8f1ad2701ef",
   "metadata": {},
   "source": [
    "# Saving data to train"
   ]
  },
  {
   "cell_type": "code",
   "execution_count": null,
   "id": "1f34ffc8-fa04-440f-987a-d5c7de3249dd",
   "metadata": {},
   "outputs": [],
   "source": [
    "data_path = 'input_data'\n",
    "if not os.path.exists(data_path):\n",
    "    os.makedirs(data_path)"
   ]
  },
  {
   "cell_type": "code",
   "execution_count": null,
   "id": "def1ebda-21c6-494e-b892-52706498cfb0",
   "metadata": {},
   "outputs": [],
   "source": [
    "path = f'data_res{H3_RESOLUTION}_seq{seq_length}'\n",
    "path = os.path.join(data_path, path)\n",
    "if not os.path.exists(path):\n",
    "    os.makedirs(path)"
   ]
  },
  {
   "cell_type": "code",
   "execution_count": null,
   "id": "77f6775baf9475a6",
   "metadata": {
    "collapsed": false
   },
   "outputs": [],
   "source": [
    "torch.save((X_train, y_train), os.path.join(path, 'train.pt'))\n",
    "torch.save((X_test, y_test), os.path.join(path, 'test.pt'))"
   ]
  },
  {
   "cell_type": "code",
   "execution_count": null,
   "id": "a0ba10ee-3c80-4132-abd5-fcfa82b8b55d",
   "metadata": {},
   "outputs": [],
   "source": []
  }
 ],
 "metadata": {
  "kernelspec": {
   "display_name": "Python 3 (ipykernel)",
   "language": "python",
   "name": "python3"
  },
  "language_info": {
   "codemirror_mode": {
    "name": "ipython",
    "version": 3
   },
   "file_extension": ".py",
   "mimetype": "text/x-python",
   "name": "python",
   "nbconvert_exporter": "python",
   "pygments_lexer": "ipython3",
   "version": "3.10.14"
  }
 },
 "nbformat": 4,
 "nbformat_minor": 5
}

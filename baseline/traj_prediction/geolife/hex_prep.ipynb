{
 "cells": [
  {
   "cell_type": "code",
   "execution_count": 37,
   "id": "initial_id",
   "metadata": {
    "ExecuteTime": {
     "end_time": "2024-06-06T15:32:13.531133Z",
     "start_time": "2024-06-06T15:32:13.471905Z"
    }
   },
   "outputs": [],
   "source": [
    "import geopandas as gpd\n",
    "import pandas as pd\n",
    "import copy\n",
    "import os\n",
    "import warnings\n",
    "import random\n",
    "from pprint import pprint\n",
    "import geopandas as gpd\n",
    "import matplotlib.pyplot as plt\n",
    "import numpy as np\n",
    "import torch\n",
    "import torch.nn as nn\n",
    "import torch.optim as optim\n",
    "from tqdm.notebook import tqdm\n",
    "from sklearn.model_selection import train_test_split\n",
    "from tqdm import tqdm\n",
    "from sklearn.model_selection import train_test_split\n",
    "\n",
    "from srai.datasets import AirbnbMulticityDataset\n",
    "from srai.embedders import Hex2VecEmbedder\n",
    "from srai.joiners import IntersectionJoiner\n",
    "from srai.loaders.osm_loaders import OSMPbfLoader\n",
    "from srai.loaders.osm_loaders.filters import HEX2VEC_FILTER\n",
    "from srai.neighbourhoods.h3_neighbourhood import H3Neighbourhood\n",
    "from srai.plotting import plot_regions\n",
    "from srai.regionalizers import H3Regionalizer\n",
    "import plotly.graph_objs as go\n",
    "from shapely.geometry import LineString, Point\n",
    "from shapely import from_geojson\n",
    "import h3\n",
    "from srai.h3 import h3_to_geoseries\n",
    "import matplotlib.pyplot as plt\n",
    "import pickle"
   ]
  },
  {
   "cell_type": "code",
   "execution_count": 38,
   "id": "f7345a314f7cacc6",
   "metadata": {
    "collapsed": false,
    "ExecuteTime": {
     "end_time": "2024-06-06T15:32:13.550042Z",
     "start_time": "2024-06-06T15:32:13.494743Z"
    }
   },
   "outputs": [],
   "source": [
    "H3_RESOLUTION = 9\n",
    "seq_length = 15"
   ]
  },
  {
   "cell_type": "code",
   "execution_count": 39,
   "id": "f7a906708eba6ecb",
   "metadata": {
    "collapsed": false,
    "ExecuteTime": {
     "end_time": "2024-06-06T15:32:13.737575Z",
     "start_time": "2024-06-06T15:32:13.568Z"
    }
   },
   "outputs": [
    {
     "data": {
      "text/plain": "(221407, 10)"
     },
     "execution_count": 39,
     "metadata": {},
     "output_type": "execute_result"
    }
   ],
   "source": [
    "embeddings = pd.read_parquet(os.path.join('output_data', f'embeddings_{H3_RESOLUTION}.parquet'))\n",
    "embeddings.shape"
   ]
  },
  {
   "cell_type": "code",
   "execution_count": 40,
   "id": "5196194383c11e40",
   "metadata": {
    "collapsed": false,
    "ExecuteTime": {
     "end_time": "2024-06-06T15:32:35.790064Z",
     "start_time": "2024-06-06T15:32:13.737790Z"
    }
   },
   "outputs": [
    {
     "data": {
      "text/plain": "(1199437, 11)"
     },
     "execution_count": 40,
     "metadata": {},
     "output_type": "execute_result"
    }
   ],
   "source": [
    "gdf = gpd.read_parquet(os.path.join('output_data', 'geolife_mpd2.parquet'))\n",
    "gdf.shape"
   ]
  },
  {
   "cell_type": "markdown",
   "id": "8785dbe554a4d212",
   "metadata": {
    "collapsed": false
   },
   "source": [
    "# GDF AGGREAGATION"
   ]
  },
  {
   "cell_type": "code",
   "execution_count": 41,
   "id": "1c5ffa4e551237df",
   "metadata": {
    "collapsed": false,
    "ExecuteTime": {
     "end_time": "2024-06-06T15:32:42.713432Z",
     "start_time": "2024-06-06T15:32:35.797063Z"
    }
   },
   "outputs": [],
   "source": [
    "gdf_agg = gdf.groupby('trajectory_id').agg(\n",
    "    {'geometry': LineString, 'date_str': list, 'speed': list, 'altitude': list,\n",
    "     'trajectory_id': 'first'})\n"
   ]
  },
  {
   "cell_type": "code",
   "execution_count": 42,
   "id": "214b2f62-d4bd-43d5-a214-efe2e7242f82",
   "metadata": {
    "ExecuteTime": {
     "end_time": "2024-06-06T15:32:42.716562Z",
     "start_time": "2024-06-06T15:32:42.714394Z"
    }
   },
   "outputs": [],
   "source": [
    "# gdf_agg = gdf_agg.sample(frac=0.5, random_state=42)"
   ]
  },
  {
   "cell_type": "code",
   "execution_count": 43,
   "id": "74d6edd0-c1c0-4acf-86e6-4c2f5f17b77e",
   "metadata": {
    "ExecuteTime": {
     "end_time": "2024-06-06T15:32:42.718798Z",
     "start_time": "2024-06-06T15:32:42.716892Z"
    }
   },
   "outputs": [
    {
     "data": {
      "text/plain": "(15794, 5)"
     },
     "execution_count": 43,
     "metadata": {},
     "output_type": "execute_result"
    }
   ],
   "source": [
    "gdf_agg.shape"
   ]
  },
  {
   "cell_type": "code",
   "execution_count": 44,
   "id": "2ad5130e77a2652a",
   "metadata": {
    "collapsed": false,
    "ExecuteTime": {
     "end_time": "2024-06-06T15:32:42.727398Z",
     "start_time": "2024-06-06T15:32:42.725129Z"
    }
   },
   "outputs": [
    {
     "data": {
      "text/plain": "                                                         geometry  \\\ntrajectory_id                                                       \n20070412093132  LINESTRING (116.33038 39.97423, 116.33045 39.9...   \n20070412102116  LINESTRING (116.33007 39.97647, 116.33038 39.9...   \n20070412134621  LINESTRING (116.33033 39.97537, 116.33050 39.9...   \n20070413005306  LINESTRING (116.34504 39.96698, 116.34526 39.9...   \n20070413013238  LINESTRING (116.26872 39.94579, 116.26881 39.9...   \n\n                                                         date_str  \\\ntrajectory_id                                                       \n20070412093132  [2007-04-12, 2007-04-12, 2007-04-12, 2007-04-1...   \n20070412102116  [2007-04-12, 2007-04-12, 2007-04-12, 2007-04-1...   \n20070412134621  [2007-04-12, 2007-04-12, 2007-04-12, 2007-04-1...   \n20070413005306  [2007-04-13, 2007-04-13, 2007-04-13, 2007-04-1...   \n20070413013238  [2007-04-13, 2007-04-13, 2007-04-13, 2007-04-1...   \n\n                                                            speed  \\\ntrajectory_id                                                       \n20070412093132  [0.022402120360618574, 1.193990445597205, 0.29...   \n20070412102116  [1.7116285451939273, 0.11295117884677582, 0.00...   \n20070412134621  [0.086345396783155, 0.086345396783155, 0.07207...   \n20070413005306  [0.9932525417946071, 0.9932525417946071, 2.939...   \n20070413013238  [5.9428259332112985, 5.9428259332112985, 4.988...   \n\n                                                         altitude  \\\ntrajectory_id                                                       \n20070412093132  [823.490813648294, 446.194225721785, 456.03674...   \n20070412102116  [173.884514435696, 229.658792650919, 114.82939...   \n20070412134621  [396.981627296588, 22.9658792650919, 328.08398...   \n20070413005306  [157.48031496063, 150.918635170604, 180.446194...   \n20070413013238  [291.994750656168, 291.994750656168, 242.78215...   \n\n                 trajectory_id  \ntrajectory_id                   \n20070412093132  20070412093132  \n20070412102116  20070412102116  \n20070412134621  20070412134621  \n20070413005306  20070413005306  \n20070413013238  20070413013238  ",
      "text/html": "<div>\n<style scoped>\n    .dataframe tbody tr th:only-of-type {\n        vertical-align: middle;\n    }\n\n    .dataframe tbody tr th {\n        vertical-align: top;\n    }\n\n    .dataframe thead th {\n        text-align: right;\n    }\n</style>\n<table border=\"1\" class=\"dataframe\">\n  <thead>\n    <tr style=\"text-align: right;\">\n      <th></th>\n      <th>geometry</th>\n      <th>date_str</th>\n      <th>speed</th>\n      <th>altitude</th>\n      <th>trajectory_id</th>\n    </tr>\n    <tr>\n      <th>trajectory_id</th>\n      <th></th>\n      <th></th>\n      <th></th>\n      <th></th>\n      <th></th>\n    </tr>\n  </thead>\n  <tbody>\n    <tr>\n      <th>20070412093132</th>\n      <td>LINESTRING (116.33038 39.97423, 116.33045 39.9...</td>\n      <td>[2007-04-12, 2007-04-12, 2007-04-12, 2007-04-1...</td>\n      <td>[0.022402120360618574, 1.193990445597205, 0.29...</td>\n      <td>[823.490813648294, 446.194225721785, 456.03674...</td>\n      <td>20070412093132</td>\n    </tr>\n    <tr>\n      <th>20070412102116</th>\n      <td>LINESTRING (116.33007 39.97647, 116.33038 39.9...</td>\n      <td>[2007-04-12, 2007-04-12, 2007-04-12, 2007-04-1...</td>\n      <td>[1.7116285451939273, 0.11295117884677582, 0.00...</td>\n      <td>[173.884514435696, 229.658792650919, 114.82939...</td>\n      <td>20070412102116</td>\n    </tr>\n    <tr>\n      <th>20070412134621</th>\n      <td>LINESTRING (116.33033 39.97537, 116.33050 39.9...</td>\n      <td>[2007-04-12, 2007-04-12, 2007-04-12, 2007-04-1...</td>\n      <td>[0.086345396783155, 0.086345396783155, 0.07207...</td>\n      <td>[396.981627296588, 22.9658792650919, 328.08398...</td>\n      <td>20070412134621</td>\n    </tr>\n    <tr>\n      <th>20070413005306</th>\n      <td>LINESTRING (116.34504 39.96698, 116.34526 39.9...</td>\n      <td>[2007-04-13, 2007-04-13, 2007-04-13, 2007-04-1...</td>\n      <td>[0.9932525417946071, 0.9932525417946071, 2.939...</td>\n      <td>[157.48031496063, 150.918635170604, 180.446194...</td>\n      <td>20070413005306</td>\n    </tr>\n    <tr>\n      <th>20070413013238</th>\n      <td>LINESTRING (116.26872 39.94579, 116.26881 39.9...</td>\n      <td>[2007-04-13, 2007-04-13, 2007-04-13, 2007-04-1...</td>\n      <td>[5.9428259332112985, 5.9428259332112985, 4.988...</td>\n      <td>[291.994750656168, 291.994750656168, 242.78215...</td>\n      <td>20070413013238</td>\n    </tr>\n  </tbody>\n</table>\n</div>"
     },
     "execution_count": 44,
     "metadata": {},
     "output_type": "execute_result"
    }
   ],
   "source": [
    "gdf_agg.head()"
   ]
  },
  {
   "cell_type": "code",
   "execution_count": 45,
   "id": "fe710e61ad07e5b2",
   "metadata": {
    "collapsed": false,
    "ExecuteTime": {
     "end_time": "2024-06-06T15:32:42.732846Z",
     "start_time": "2024-06-06T15:32:42.730412Z"
    }
   },
   "outputs": [],
   "source": [
    "def get_hex_neigh(traj):\n",
    "    h3_dist = []\n",
    "    h3_cells = []\n",
    "    points = traj.coords\n",
    "    for idx in range(len(points) - 1):\n",
    "        a, b = points[idx], points[idx + 1]\n",
    "        start_hex = h3.latlng_to_cell(a[1], a[0], H3_RESOLUTION)\n",
    "        end_hex = h3.latlng_to_cell(b[1], b[0], H3_RESOLUTION)\n",
    "        if start_hex == end_hex:\n",
    "            continue\n",
    "        for h3_cell in h3.grid_path_cells(start_hex, end_hex):\n",
    "            if not h3_cells or h3_dist[-1] != h3_cell:\n",
    "                h3_dist.append(h3_cell)\n",
    "                h3_cells.append(h3.grid_disk(h3_cell, 1))\n",
    "    return h3_cells"
   ]
  },
  {
   "cell_type": "code",
   "execution_count": 46,
   "id": "f7625edf646c6d9d",
   "metadata": {
    "collapsed": false,
    "ExecuteTime": {
     "end_time": "2024-06-06T15:32:42.745009Z",
     "start_time": "2024-06-06T15:32:42.733904Z"
    }
   },
   "outputs": [],
   "source": [
    "dummies = pd.get_dummies([1, 2, 3, 4, 5, 6])"
   ]
  },
  {
   "cell_type": "code",
   "execution_count": 47,
   "id": "4a99f50173ab15f",
   "metadata": {
    "collapsed": false,
    "ExecuteTime": {
     "end_time": "2024-06-06T15:32:42.745282Z",
     "start_time": "2024-06-06T15:32:42.738749Z"
    }
   },
   "outputs": [],
   "source": [
    "def get_y(traj):\n",
    "    if not traj:\n",
    "        return None\n",
    "    y = []\n",
    "    for i in range(len(traj) - 1):\n",
    "        target = traj[i + 1][0]\n",
    "        prop = np.array(traj[i])\n",
    "        res = prop == target\n",
    "        idx = np.where(res)[0]-1\n",
    "        try:\n",
    "            dummy = dummies.loc[idx].values[0]\n",
    "        except:\n",
    "            print(idx)\n",
    "        y.append(dummy)\n",
    "    return y"
   ]
  },
  {
   "cell_type": "code",
   "execution_count": 48,
   "id": "20d262dc21ec0b68",
   "metadata": {
    "collapsed": false,
    "ExecuteTime": {
     "end_time": "2024-06-06T15:32:42.745481Z",
     "start_time": "2024-06-06T15:32:42.741020Z"
    }
   },
   "outputs": [],
   "source": [
    "# t = gdf_agg['geometry'].iloc[5]\n",
    "# cells = get_hex_neigh(t)\n",
    "# pprint(len(cells))\n",
    "# y = get_y(cells)\n",
    "# print(len(y))\n",
    "# em = embed(cells)\n",
    "# pprint(em[0])"
   ]
  },
  {
   "cell_type": "code",
   "execution_count": 49,
   "id": "4503d6d05e8f1d26",
   "metadata": {
    "collapsed": false,
    "ExecuteTime": {
     "end_time": "2024-06-06T15:32:42.758812Z",
     "start_time": "2024-06-06T15:32:42.743997Z"
    }
   },
   "outputs": [],
   "source": [
    "def embed(traj):\n",
    "    emb = []\n",
    "    for t in traj:\n",
    "        temp = []\n",
    "        for h in t:\n",
    "            try:\n",
    "                temp.append(embeddings.loc[h].values)\n",
    "            except:\n",
    "                return None\n",
    "        emb.append(temp)\n",
    "    return emb"
   ]
  },
  {
   "cell_type": "code",
   "execution_count": null,
   "id": "37006bb4fe626b1f",
   "metadata": {
    "collapsed": false,
    "is_executing": true,
    "ExecuteTime": {
     "start_time": "2024-06-06T15:32:42.807712Z"
    }
   },
   "outputs": [],
   "source": [
    "gdf_agg['hex_neigh'] = gdf_agg['geometry'].apply(get_hex_neigh)\n",
    "gdf_agg['y'] = gdf_agg['hex_neigh'].apply(get_y)\n",
    "gdf_agg['neigh_emb'] = gdf_agg['hex_neigh'].apply(embed)"
   ]
  },
  {
   "cell_type": "code",
   "execution_count": null,
   "id": "19e3eed072a18c54",
   "metadata": {
    "collapsed": false,
    "is_executing": true
   },
   "outputs": [],
   "source": [
    "gdf_agg = gdf_agg[gdf_agg['neigh_emb'].notnull()]\n",
    "gdf_agg = gdf_agg[gdf_agg['y'].notnull()]"
   ]
  },
  {
   "cell_type": "markdown",
   "id": "f94617c6-92d7-4e18-a553-ad158f4d16b6",
   "metadata": {},
   "source": [
    "# Train test split"
   ]
  },
  {
   "cell_type": "code",
   "execution_count": null,
   "id": "b42be68935f397f8",
   "metadata": {
    "collapsed": false,
    "is_executing": true
   },
   "outputs": [],
   "source": [
    "train, test = train_test_split(gdf_agg, test_size=0.2, random_state=42)"
   ]
  },
  {
   "cell_type": "code",
   "execution_count": null,
   "id": "432d354d-a648-4383-8994-ee4a3bb48d32",
   "metadata": {
    "is_executing": true
   },
   "outputs": [],
   "source": [
    "train.shape # 6246"
   ]
  },
  {
   "cell_type": "markdown",
   "id": "3fe08298cff9fdca",
   "metadata": {
    "collapsed": false
   },
   "source": [
    "# SEQUENCE GENERATION"
   ]
  },
  {
   "cell_type": "code",
   "execution_count": null,
   "id": "7593af53b0732bf6",
   "metadata": {
    "collapsed": false,
    "is_executing": true
   },
   "outputs": [],
   "source": [
    "# def make_seq(row, seq_len=seq_length):\n",
    "#     # seq without padding\n",
    "#     for i in range(0, len(row['y']) - seq_len):\n",
    "#         seq = []\n",
    "#         for j in range(i, i+seq_len):\n",
    "#             seq.append(np.array(row['neigh_emb'][j]).flatten().tolist())\n",
    "#         yield seq, row['y'][i+seq_len]   "
   ]
  },
  {
   "cell_type": "code",
   "execution_count": null,
   "id": "0f7f38ed-e27f-44e1-aa6d-09a52d8a8e19",
   "metadata": {
    "is_executing": true
   },
   "outputs": [],
   "source": [
    "import numpy as np\n",
    "import pandas as pd\n",
    "from tqdm import tqdm\n",
    "\n",
    "def make_pad_seq(row, seq_len=seq_length, batch_size=256):\n",
    "    empty = list(np.zeros_like(np.array(row['neigh_emb'][0]).flatten().tolist()))\n",
    "    batch = []\n",
    "    \n",
    "    for i in range(len(row['y']) - 1):\n",
    "        seq = [empty for _ in range(seq_len)]\n",
    "        \n",
    "        start = max(0, i - seq_len + 1)\n",
    "        end = i + 1\n",
    "        \n",
    "        for j in range(start, end):\n",
    "            seq[seq_len - (i - j + 1)] = np.array(row['neigh_emb'][j]).flatten().tolist()\n",
    "        \n",
    "        batch.append((seq, row['y'][i]))\n",
    "        \n",
    "        # When batch size is reached, yield the batch\n",
    "        if len(batch) == batch_size:\n",
    "            yield batch\n",
    "            batch = []\n",
    "    \n",
    "    # Yield any remaining items in the batch\n",
    "    if batch:\n",
    "        yield batch"
   ]
  },
  {
   "cell_type": "code",
   "outputs": [],
   "source": [
    "batch_size = 128\n",
    "all_batches = []\n",
    "\n",
    "for _, row in tqdm(train.iterrows(), total=len(train), desc=\"Processing Rows\"):\n",
    "    for batch in make_pad_seq(row, seq_len=seq_length, batch_size=batch_size):\n",
    "        all_batches.extend(batch)\n",
    "\n",
    "train_seq = pd.DataFrame(all_batches, columns=['seq', 'y'])"
   ],
   "metadata": {
    "collapsed": false,
    "is_executing": true
   },
   "id": "b2cc78c87cba0993",
   "execution_count": null
  },
  {
   "cell_type": "code",
   "outputs": [],
   "source": [
    "batch_size = 128\n",
    "all_batches = []\n",
    "\n",
    "for _, row in tqdm(test.iterrows(), total=len(test), desc=\"Processing Rows\"):\n",
    "    for batch in make_pad_seq(row, seq_len=seq_length, batch_size=batch_size):\n",
    "        all_batches.extend(batch)\n",
    "            \n",
    "test_seq = pd.DataFrame(all_batches, columns=['seq', 'y'])"
   ],
   "metadata": {
    "collapsed": false,
    "is_executing": true
   },
   "id": "ea27fd27f64bc64e",
   "execution_count": null
  },
  {
   "cell_type": "code",
   "execution_count": null,
   "id": "751a6956-a633-460b-be72-955e1a5641fb",
   "metadata": {
    "is_executing": true
   },
   "outputs": [],
   "source": [
    "train_seq.shape, test_seq.shape # hex8: ((275885, 2), (71234, 2))"
   ]
  },
  {
   "cell_type": "code",
   "outputs": [],
   "source": [
    "# draw 200k samples\n",
    "train_seq = train_seq.sample(200000, random_state=42)\n",
    "test_draw_size = len(train_seq) * 0.2\n",
    "test_seq = test_seq.sample(int(test_draw_size), random_state=42)"
   ],
   "metadata": {
    "collapsed": false,
    "is_executing": true
   },
   "id": "5356029eaccb9fbd",
   "execution_count": null
  },
  {
   "cell_type": "code",
   "outputs": [],
   "source": [
    "train_seq.shape, test_seq.shape"
   ],
   "metadata": {
    "collapsed": false,
    "is_executing": true
   },
   "id": "926b5a314215f5bd",
   "execution_count": null
  },
  {
   "cell_type": "code",
   "execution_count": null,
   "id": "f4bab267-074b-46db-9838-e4e06de4c19f",
   "metadata": {
    "is_executing": true
   },
   "outputs": [],
   "source": [
    "train_expanded = pd.DataFrame(train_seq['seq'].tolist(), index=train_seq.index)"
   ]
  },
  {
   "cell_type": "code",
   "execution_count": null,
   "id": "cc9212db63a10658",
   "metadata": {
    "collapsed": false,
    "is_executing": true
   },
   "outputs": [],
   "source": [
    "test_expanded = pd.DataFrame(test_seq['seq'].tolist(), index=test_seq.index)"
   ]
  },
  {
   "cell_type": "code",
   "outputs": [],
   "source": [
    "X_train, y_train = train_expanded.values, train_seq['y'].values\n",
    "X_test, y_test = test_expanded.values, test_seq['y'].values"
   ],
   "metadata": {
    "collapsed": false,
    "is_executing": true
   },
   "id": "1f04c218f6b260e1",
   "execution_count": null
  },
  {
   "cell_type": "markdown",
   "id": "3c201425-1d63-4c8f-95b1-d8f1ad2701ef",
   "metadata": {},
   "source": [
    "# Saving data to train"
   ]
  },
  {
   "cell_type": "code",
   "execution_count": null,
   "id": "1f34ffc8-fa04-440f-987a-d5c7de3249dd",
   "metadata": {
    "is_executing": true
   },
   "outputs": [],
   "source": [
    "data_path = 'input_data'\n",
    "if not os.path.exists(data_path):\n",
    "    os.makedirs(data_path)"
   ]
  },
  {
   "cell_type": "code",
   "execution_count": null,
   "id": "def1ebda-21c6-494e-b892-52706498cfb0",
   "metadata": {
    "is_executing": true
   },
   "outputs": [],
   "source": [
    "path = f'data_res{H3_RESOLUTION}_seq{seq_length}'\n",
    "path = os.path.join(data_path, path)\n",
    "if not os.path.exists(path):\n",
    "    os.makedirs(path)"
   ]
  },
  {
   "cell_type": "code",
   "execution_count": null,
   "id": "aab869d4-cb43-44d9-983f-5524f334d7f9",
   "metadata": {
    "is_executing": true
   },
   "outputs": [],
   "source": [
    "with open(os.path.join(path, 'test.pkl'), 'wb') as f:\n",
    "    pickle.dump((X_test, y_test), f)"
   ]
  },
  {
   "cell_type": "code",
   "execution_count": null,
   "id": "758f80c8-c1cf-45d0-af59-c1a776446625",
   "metadata": {
    "is_executing": true
   },
   "outputs": [],
   "source": [
    "with open(os.path.join(path, 'train.pkl'), 'wb') as f:\n",
    "    pickle.dump((X_train, y_train), f)"
   ]
  }
 ],
 "metadata": {
  "kernelspec": {
   "display_name": "Python 3 (ipykernel)",
   "language": "python",
   "name": "python3"
  },
  "language_info": {
   "codemirror_mode": {
    "name": "ipython",
    "version": 3
   },
   "file_extension": ".py",
   "mimetype": "text/x-python",
   "name": "python",
   "nbconvert_exporter": "python",
   "pygments_lexer": "ipython3",
   "version": "3.10.14"
  }
 },
 "nbformat": 4,
 "nbformat_minor": 5
}

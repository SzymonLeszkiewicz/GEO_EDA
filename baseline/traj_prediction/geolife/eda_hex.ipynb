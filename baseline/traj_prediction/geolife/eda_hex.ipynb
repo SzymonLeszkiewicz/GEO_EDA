{
 "cells": [
  {
   "cell_type": "code",
   "execution_count": null,
   "id": "initial_id",
   "metadata": {},
   "outputs": [],
   "source": [
    "import geopandas as gpd\n",
    "import pandas as pd\n",
    "import copy\n",
    "import os\n",
    "import warnings\n",
    "import random\n",
    "from pprint import pprint\n",
    "import matplotlib.pyplot as plt\n",
    "import numpy as np\n",
    "import torch\n",
    "import torch.nn as nn\n",
    "import torch.optim as optim\n",
    "\n",
    "from shapely.geometry import LineString, Point\n",
    "import h3\n",
    "from srai.h3 import h3_to_geoseries"
   ]
  },
  {
   "cell_type": "code",
   "execution_count": null,
   "id": "4151773f-dc8b-447d-a852-c1059f164fbb",
   "metadata": {},
   "outputs": [],
   "source": [
    "device = torch.device('cuda' if torch.cuda.is_available() else 'cpu')\n",
    "DUMMIES = pd.get_dummies([0, 1, 2, 3, 4, 5, 6])"
   ]
  },
  {
   "cell_type": "code",
   "execution_count": null,
   "id": "aed63ce5-ac7c-49af-995f-86eede12f71e",
   "metadata": {},
   "outputs": [],
   "source": [
    "def get_hex_neigh(traj):\n",
    "    h3_dist = []\n",
    "    h3_cells = []\n",
    "    points = traj.coords\n",
    "    for idx in range(len(points) - 1):\n",
    "        a, b = points[idx], points[idx + 1]\n",
    "        start_hex = h3.latlng_to_cell(a[1], a[0], H3_RESOLUTION)\n",
    "        end_hex = h3.latlng_to_cell(b[1], b[0], H3_RESOLUTION)\n",
    "        if start_hex == end_hex:\n",
    "            continue\n",
    "        for h3_cell in h3.grid_path_cells(start_hex, end_hex):\n",
    "            if not h3_cells or h3_dist[-1] != h3_cell:\n",
    "                # print(h3.grid_disk(h3_cell, 1))\n",
    "                h3_dist.append(h3_cell)\n",
    "                h3_cells.append(h3.grid_disk(h3_cell, 1))\n",
    "    return h3_cells"
   ]
  },
  {
   "cell_type": "code",
   "execution_count": null,
   "id": "9578a33e-3320-45de-9936-d2e871d00d4f",
   "metadata": {},
   "outputs": [],
   "source": [
    "def get_y(traj):\n",
    "    if not traj:\n",
    "        return None\n",
    "    y = []\n",
    "    for i in range(len(traj) - 1):\n",
    "        target = traj[i + 1][0]\n",
    "        prop = np.array(traj[i])\n",
    "        res = prop == target\n",
    "        # print(res)\n",
    "        idx = np.where(res)[0]\n",
    "        try:\n",
    "            dummy = DUMMIES.loc[idx].values[0]\n",
    "        except:\n",
    "            print(traj)\n",
    "        y.append(dummy)\n",
    "    y.append(DUMMIES.loc[0].values)\n",
    "    return y"
   ]
  },
  {
   "cell_type": "code",
   "execution_count": null,
   "id": "bff014c9-5eb9-44b3-b9d4-709a00c28819",
   "metadata": {},
   "outputs": [],
   "source": [
    "def embed(traj):\n",
    "    emb = []\n",
    "    for t in traj:\n",
    "        temp = []\n",
    "        for h in t:\n",
    "            try:\n",
    "                temp.append(embeddings.loc[h].values)\n",
    "            except:\n",
    "                return None\n",
    "        emb.append(temp)\n",
    "    return emb"
   ]
  },
  {
   "cell_type": "code",
   "execution_count": null,
   "id": "fed9da9a-4ccf-47f5-998c-37beea916c73",
   "metadata": {},
   "outputs": [],
   "source": [
    "H3_RESOLUTION = 9\n",
    "seq_length = 8\n",
    "data_path = 'input_data'\n",
    "path = f'data_res{H3_RESOLUTION}_seq{seq_length}'\n",
    "path = os.path.join(data_path, path)"
   ]
  },
  {
   "cell_type": "markdown",
   "id": "7a608918-c6c2-410a-8670-290083fa4beb",
   "metadata": {},
   "source": [
    "# Train Test load"
   ]
  },
  {
   "cell_type": "code",
   "execution_count": null,
   "id": "d309cd30-39b0-488f-935f-f460fa4ea50d",
   "metadata": {},
   "outputs": [],
   "source": [
    "X_train, y_train = torch.load(os.path.join(path, 'train.pt'))\n",
    "X_test, y_test = torch.load(os.path.join(path, 'test.pt'))"
   ]
  },
  {
   "cell_type": "code",
   "execution_count": null,
   "id": "e8f8ea00-ce5c-46fa-be2b-00c4b8885072",
   "metadata": {},
   "outputs": [],
   "source": [
    "print(\"Train size\")\n",
    "print(X_train.shape, y_train.shape)\n",
    "print(\"Test size\")\n",
    "print(X_test.shape, y_test.shape)"
   ]
  },
  {
   "cell_type": "code",
   "execution_count": null,
   "id": "7e6ffdaa-d3ab-4e36-964c-9a2a784d4b60",
   "metadata": {},
   "outputs": [],
   "source": [
    "class LSTMModel(nn.Module):\n",
    "    def __init__(self, input_size, hidden_size, output_size, num_layers=1, dropout_rate=0.5):\n",
    "        super(LSTMModel, self).__init__()\n",
    "        self.hidden_size = hidden_size\n",
    "        self.num_layers = num_layers\n",
    "        self.lstm = nn.LSTM(input_size, hidden_size, num_layers, batch_first=True, dropout=dropout_rate)\n",
    "        self.fc = nn.Linear(hidden_size, output_size)\n",
    "        self.dropout = nn.Dropout(dropout_rate)\n",
    "\n",
    "    def forward(self, x):\n",
    "        x = x.unsqueeze(0)\n",
    "        h0 = torch.zeros(self.num_layers, x.size(0), self.hidden_size).to(x.device)\n",
    "        c0 = torch.zeros(self.num_layers, x.size(0), self.hidden_size).to(x.device)\n",
    "\n",
    "        out, _ = self.lstm(x, (h0, c0))\n",
    "        out = self.dropout(out[:, -1, :])\n",
    "        out = self.fc(out)\n",
    "        return out\n"
   ]
  },
  {
   "cell_type": "code",
   "execution_count": null,
   "id": "d5192fc3-d389-4609-852f-99336667130a",
   "metadata": {},
   "outputs": [],
   "source": [
    "def load_model(model_path, input_size, hidden_size, output_size, num_layers=1, dropout_rate=0.5):\n",
    "    model = LSTMModel(input_size, hidden_size, output_size, num_layers, dropout_rate)\n",
    "    model.load_state_dict(torch.load(model_path))\n",
    "    model.eval()\n",
    "    return model\n",
    "\n",
    "\n",
    "model_path = 'best_model.pth'\n",
    "input_size = len(X_train.iloc[0][0])\n",
    "hidden_size = 128\n",
    "output_size = 6\n",
    "num_layers = 2\n",
    "dropout_rate = 0.6\n",
    "\n",
    "model = load_model(model_path, input_size, hidden_size, output_size, num_layers, dropout_rate)\n",
    "print(model)"
   ]
  },
  {
   "cell_type": "code",
   "execution_count": null,
   "id": "12bdca56-868f-4ec7-83be-ba2e1e5e64e0",
   "metadata": {},
   "outputs": [],
   "source": [
    "dist = []\n",
    "for i in y_train:\n",
    "    id_max = np.argmax(i)\n",
    "    dist.append(id_max)\n",
    "\n",
    "test_dist = []\n",
    "for i in y_test:\n",
    "    id_max = np.argmax(i)\n",
    "    test_dist.append(id_max)\n",
    "\n",
    "fig, ax = plt.subplots(1, 2, figsize=(10, 5))\n",
    "ax[0].hist(dist, bins=range(7))\n",
    "ax[0].set_title('Train')\n",
    "ax[0].set_xlabel('Class')\n",
    "ax[0].set_ylabel('Frequency')\n",
    "ax[0].grid(axis='y', alpha=0.75)\n",
    "\n",
    "ax[1].hist(test_dist, bins=range(7))\n",
    "ax[1].set_title('Test')\n",
    "ax[1].set_xlabel('Class')\n",
    "ax[1].set_ylabel('Frequency')\n",
    "ax[1].grid(axis='y', alpha=0.75)\n",
    "plt.show()"
   ]
  },
  {
   "cell_type": "code",
   "execution_count": null,
   "id": "02581ed2-253c-4b47-836d-486914e0a773",
   "metadata": {},
   "outputs": [],
   "source": [
    "embeddings = pd.read_parquet(os.path.join('output_data', 'embeddings_9.parquet'))\n",
    "embeddings.shape"
   ]
  },
  {
   "cell_type": "code",
   "execution_count": null,
   "id": "a2453e64-2745-4279-8b8f-7b005f4b70c0",
   "metadata": {},
   "outputs": [],
   "source": [
    "gdf = gpd.read_parquet(os.path.join('output_data', 'geolife_mpd.parquet'))\n",
    "gdf.shape"
   ]
  },
  {
   "cell_type": "code",
   "execution_count": null,
   "id": "ab4d0bbe-70b4-40f1-b6a6-211a2229c770",
   "metadata": {},
   "outputs": [],
   "source": [
    "gdf_agg = gdf.groupby('trajectory_id').agg(\n",
    "    {'geometry': LineString, 'date_str': list, 'speed': list, 'direction': list, 'altitude': list,\n",
    "     'trajectory_id': 'first'})\n",
    "gdf_agg.shape"
   ]
  },
  {
   "cell_type": "code",
   "execution_count": null,
   "id": "ec5f84fb-9c82-4955-9db8-6e70be9a00f9",
   "metadata": {},
   "outputs": [],
   "source": [
    "gdf_agg.head()"
   ]
  },
  {
   "cell_type": "code",
   "execution_count": null,
   "id": "7424d8ac-e371-4e54-9b3b-8cdf40946c36",
   "metadata": {},
   "outputs": [],
   "source": [
    "ls = gdf_agg['geometry'].iloc[515]\n",
    "h3_cells = []\n",
    "points = ls.coords\n",
    "for idx in range(len(points) - 1):\n",
    "    a, b = points[idx], points[idx + 1]\n",
    "    start_hex = h3.latlng_to_cell(a[1], a[0], H3_RESOLUTION)\n",
    "    end_hex = h3.latlng_to_cell(b[1], b[0], H3_RESOLUTION)\n",
    "    if start_hex == end_hex:\n",
    "        continue\n",
    "    for h3_cell in h3.grid_path_cells(start_hex, end_hex):\n",
    "        if not h3_cells or h3_cells[-1] != h3_cell:\n",
    "            h3_cells.append(h3_cell)\n",
    "m = h3_to_geoseries(h3_cells).reset_index().explore(\"index\", tiles=\"CartoDB positron\", opacity=0.4)\n",
    "gpd.GeoSeries([ls]).explore(m=m)"
   ]
  },
  {
   "cell_type": "code",
   "execution_count": null,
   "id": "dbc45311-6dbe-40ca-a36b-a46ba3b2ea6d",
   "metadata": {},
   "outputs": [],
   "source": [
    "s_len = 11\n",
    "neigh = h3.grid_disk(h3_cells[s_len - 1], 1)\n",
    "m = h3_to_geoseries(neigh).reset_index().explore(\"index\", tiles=\"CartoDB positron\", opacity=0.4)\n",
    "gpd.GeoSeries([ls]).explore(m=m)"
   ]
  },
  {
   "cell_type": "code",
   "execution_count": null,
   "id": "01bf0cf7-9b3a-44bf-8bfe-cdadd245ed3d",
   "metadata": {},
   "outputs": [],
   "source": [
    "t = gdf_agg['geometry'].iloc[515]\n",
    "cells = get_hex_neigh(t)\n",
    "y = get_y(cells)\n",
    "em = embed(cells)\n",
    "len(em), len(y)"
   ]
  },
  {
   "cell_type": "code",
   "execution_count": null,
   "id": "2292a10f-875f-419f-ad85-0362747b2818",
   "metadata": {},
   "outputs": [],
   "source": [
    "test = np.array(em)\n",
    "flatten = test.reshape(test.shape[0], -1)\n",
    "flatten = torch.tensor(flatten, dtype=torch.float32)\n",
    "flatten = flatten[:s_len]\n",
    "flatten.shape"
   ]
  },
  {
   "cell_type": "code",
   "execution_count": null,
   "id": "004bb94a-3b0d-4056-be9a-886c5194096f",
   "metadata": {},
   "outputs": [],
   "source": [
    "pred = torch.argmax(model(flatten)) + 1\n",
    "pred, np.argmax(y[s_len - 1])"
   ]
  },
  {
   "cell_type": "code",
   "execution_count": null,
   "id": "dcb67e35-f0d1-47c2-b964-21aac4e83495",
   "metadata": {
    "scrolled": true
   },
   "outputs": [],
   "source": [
    "neigh = h3_cells[:s_len] + [h3.grid_disk(h3_cells[s_len - 1])[pred.item()]]\n",
    "m = h3_to_geoseries(neigh)\n",
    "m = m.reset_index().explore(\"index\", tiles=\"CartoDB positron\", opacity=0.4)\n",
    "gpd.GeoSeries([ls]).explore(m=m)\n",
    "m"
   ]
  },
  {
   "cell_type": "markdown",
   "id": "34ba5c43-dd3d-48f6-8e28-f5d9cb2f01e9",
   "metadata": {},
   "source": [
    "# SEKWENCJA"
   ]
  },
  {
   "cell_type": "code",
   "execution_count": null,
   "id": "a23faeee-03fa-46c3-9c0a-cb6776e78bcc",
   "metadata": {},
   "outputs": [],
   "source": [
    "t = gdf_agg['geometry'].iloc[515]\n",
    "cells = get_hex_neigh(t)\n",
    "preds = []\n",
    "pred_hex = []\n",
    "for i in range(len(cells)):\n",
    "    y = get_y(cells)\n",
    "    em = embed(cells)\n",
    "    test = np.array(em)\n",
    "    flatten = test.reshape(test.shape[0], -1)\n",
    "    flatten = torch.tensor(flatten, dtype=torch.float32)\n",
    "    flatten = flatten[:i + 1]\n",
    "    pred = torch.argmax(model(flatten)) + 1\n",
    "    preds.append(pred.item() + 1)\n",
    "    pred_hex.append(h3.grid_disk(h3_cells[i])[pred.item()])\n",
    "trues = [np.argmax(i) for i in y]\n",
    "# score"
   ]
  },
  {
   "cell_type": "code",
   "execution_count": null,
   "id": "dd1cc209-055c-43ce-b724-47e9152ec763",
   "metadata": {},
   "outputs": [],
   "source": [
    "m = h3_to_geoseries(pred_hex).reset_index().explore(\"index\", tiles=\"CartoDB positron\", opacity=0.4)\n",
    "gpd.GeoSeries([ls]).explore(m=m)"
   ]
  },
  {
   "cell_type": "code",
   "execution_count": null,
   "id": "18d72cff-7804-4b69-afe7-d265534df1c2",
   "metadata": {},
   "outputs": [],
   "source": []
  }
 ],
 "metadata": {
  "kernelspec": {
   "display_name": "Python 3 (ipykernel)",
   "language": "python",
   "name": "python3"
  },
  "language_info": {
   "codemirror_mode": {
    "name": "ipython",
    "version": 3
   },
   "file_extension": ".py",
   "mimetype": "text/x-python",
   "name": "python",
   "nbconvert_exporter": "python",
   "pygments_lexer": "ipython3",
   "version": "3.10.14"
  }
 },
 "nbformat": 4,
 "nbformat_minor": 5
}

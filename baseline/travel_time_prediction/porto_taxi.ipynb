{
 "cells": [
  {
   "metadata": {},
   "cell_type": "markdown",
   "source": "# Imports",
   "id": "958ac8d23ed132ee"
  },
  {
   "metadata": {
    "ExecuteTime": {
     "end_time": "2024-05-21T21:33:20.377801Z",
     "start_time": "2024-05-21T21:33:17.250880Z"
    }
   },
   "cell_type": "code",
   "source": [
    "import os\n",
    "from datetime import datetime\n",
    "\n",
    "import geopandas as gpd\n",
    "import movingpandas as mpd\n",
    "import numpy as np\n",
    "import torch\n",
    "from shapely.geometry import Point\n",
    "from sklearn.metrics import mean_absolute_error, mean_squared_error\n",
    "from srai.datasets import PortoTaxiDataset\n",
    "from srai.embedders import Hex2VecEmbedder\n",
    "from srai.joiners import IntersectionJoiner\n",
    "from srai.loaders import OSMPbfLoader\n",
    "from srai.loaders.osm_loaders.filters import HEX2VEC_FILTER\n",
    "from srai.neighbourhoods import H3Neighbourhood\n",
    "from srai.regionalizers import H3Regionalizer\n",
    "from srai.regionalizers import geocode_to_region_gdf\n",
    "from torch.utils.data import DataLoader, Dataset\n",
    "from tqdm import tqdm"
   ],
   "id": "ef7953267413ca07",
   "outputs": [],
   "execution_count": 1
  },
  {
   "metadata": {
    "ExecuteTime": {
     "end_time": "2024-05-21T21:33:20.381112Z",
     "start_time": "2024-05-21T21:33:20.378804Z"
    }
   },
   "cell_type": "code",
   "source": "gpd.options.io_engine = \"pyogrio\"",
   "id": "961bd77b0b4f2801",
   "outputs": [],
   "execution_count": 2
  },
  {
   "metadata": {},
   "cell_type": "markdown",
   "source": "# Enable loading Environment Variables",
   "id": "d52a544e7dce7b24"
  },
  {
   "metadata": {
    "ExecuteTime": {
     "end_time": "2024-05-21T21:33:20.389618Z",
     "start_time": "2024-05-21T21:33:20.381112Z"
    }
   },
   "cell_type": "code",
   "source": [
    "%load_ext dotenv\n",
    "\n",
    "%dotenv"
   ],
   "id": "20d6ecac9c5bc0ea",
   "outputs": [],
   "execution_count": 3
  },
  {
   "metadata": {
    "ExecuteTime": {
     "end_time": "2024-05-21T21:33:20.392009Z",
     "start_time": "2024-05-21T21:33:20.390186Z"
    }
   },
   "cell_type": "code",
   "source": "hf_token = os.getenv(\"HF_TOKEN\")",
   "id": "8403af268dcd02e5",
   "outputs": [],
   "execution_count": 4
  },
  {
   "metadata": {},
   "cell_type": "markdown",
   "source": "# Data Loading",
   "id": "29162307d05be5c4"
  },
  {
   "metadata": {
    "ExecuteTime": {
     "end_time": "2024-05-21T21:33:20.395992Z",
     "start_time": "2024-05-21T21:33:20.393012Z"
    }
   },
   "cell_type": "code",
   "source": [
    "subset_size = 200_000\n",
    "use_subset = True\n",
    "\n",
    "gdf_porto_taxi_full_path = \"porto_taxi.feather\"\n",
    "gdf_porto_taxi_subset_path = f\"porto_taxi_subset_{subset_size}.feather\""
   ],
   "id": "1d1b7d27259b9d03",
   "outputs": [],
   "execution_count": 5
  },
  {
   "metadata": {
    "ExecuteTime": {
     "end_time": "2024-05-21T21:33:27.365718Z",
     "start_time": "2024-05-21T21:33:20.395992Z"
    }
   },
   "cell_type": "code",
   "source": [
    "if not use_subset:\n",
    "    if not os.path.exists(gdf_porto_taxi_full_path):\n",
    "        porto_taxi_dataset = PortoTaxiDataset()\n",
    "        gdf_porto_taxi = porto_taxi_dataset.load(hf_token=hf_token)\n",
    "        gdf_porto_taxi.to_feather(gdf_porto_taxi_full_path)\n",
    "    else:\n",
    "        gdf_porto_taxi = gpd.read_feather(gdf_porto_taxi_full_path)\n",
    "else:\n",
    "    if not os.path.exists(gdf_porto_taxi_subset_path):\n",
    "        if not os.path.exists(gdf_porto_taxi_full_path):\n",
    "            porto_taxi_dataset = PortoTaxiDataset()\n",
    "            gdf_porto_taxi = porto_taxi_dataset.load(hf_token=hf_token)\n",
    "            gdf_porto_taxi.to_feather(gdf_porto_taxi_full_path)\n",
    "            gdf_porto_taxi = gdf_porto_taxi.head(subset_size)\n",
    "            gdf_porto_taxi.to_feather(gdf_porto_taxi_subset_path)\n",
    "        else:\n",
    "            gdf_porto_taxi = gpd.read_feather(gdf_porto_taxi_full_path)\n",
    "            gdf_porto_taxi = gdf_porto_taxi.head(subset_size)\n",
    "            gdf_porto_taxi.to_feather(gdf_porto_taxi_subset_path)\n",
    "    else:\n",
    "        gdf_porto_taxi = gpd.read_feather(gdf_porto_taxi_subset_path)"
   ],
   "id": "7c27fd03333ea15e",
   "outputs": [],
   "execution_count": 6
  },
  {
   "metadata": {
    "ExecuteTime": {
     "end_time": "2024-05-21T21:33:27.774350Z",
     "start_time": "2024-05-21T21:33:27.366725Z"
    }
   },
   "cell_type": "code",
   "source": [
    "gdf_porto_taxi.drop(\n",
    "    [\n",
    "        \"taxi_id\",\n",
    "        \"call_type\",\n",
    "        \"origin_call\",\n",
    "        \"origin_stand\",\n",
    "        \"day_type\",\n",
    "        \"travel_time_seconds\",\n",
    "    ],\n",
    "    axis=1,\n",
    "    inplace=True,\n",
    ")"
   ],
   "id": "a6919959b8c2cd06",
   "outputs": [],
   "execution_count": 7
  },
  {
   "metadata": {},
   "cell_type": "markdown",
   "source": "# Convert LineString to Point",
   "id": "380443dcb3dcd7b3"
  },
  {
   "metadata": {
    "ExecuteTime": {
     "end_time": "2024-05-21T21:35:40.823444Z",
     "start_time": "2024-05-21T21:33:27.774350Z"
    }
   },
   "cell_type": "code",
   "source": [
    "exploded_rows = []\n",
    "\n",
    "for idx, row in tqdm(gdf_porto_taxi.iterrows(), total=gdf_porto_taxi.shape[0]):\n",
    "    start_timestamp = row.timestamp\n",
    "    current_timestamp = start_timestamp\n",
    "    for xy in row.geometry.coords:\n",
    "        point = Point(xy)\n",
    "        row_dict = row.to_dict()\n",
    "        row_dict[\"geometry\"] = point\n",
    "        row_dict[\"timestamp\"] = current_timestamp\n",
    "        current_timestamp += 15\n",
    "        exploded_rows.append(row_dict)"
   ],
   "id": "936f31b3a0cc8aa3",
   "outputs": [
    {
     "name": "stderr",
     "output_type": "stream",
     "text": [
      "100%|██████████| 200000/200000 [02:13<00:00, 1503.26it/s]\n"
     ]
    }
   ],
   "execution_count": 8
  },
  {
   "metadata": {
    "ExecuteTime": {
     "end_time": "2024-05-21T21:35:59.457910Z",
     "start_time": "2024-05-21T21:35:40.824446Z"
    }
   },
   "cell_type": "code",
   "source": "gdf_porto_taxi_points = gpd.GeoDataFrame(exploded_rows, crs=\"EPSG:4326\")",
   "id": "48d065f2708ae94a",
   "outputs": [],
   "execution_count": 9
  },
  {
   "metadata": {
    "ExecuteTime": {
     "end_time": "2024-05-21T21:36:08.399500Z",
     "start_time": "2024-05-21T21:35:59.458912Z"
    }
   },
   "cell_type": "code",
   "source": [
    "gdf_porto_taxi_points[\"timestamp\"] = gdf_porto_taxi_points[\"timestamp\"].apply(\n",
    "    lambda x: datetime.fromtimestamp(x)\n",
    ")"
   ],
   "id": "3dbeb52b0a1d657f",
   "outputs": [],
   "execution_count": 10
  },
  {
   "metadata": {},
   "cell_type": "markdown",
   "source": "",
   "id": "bcf8e60ad55307da"
  },
  {
   "metadata": {},
   "cell_type": "markdown",
   "source": "### Restricting to Porto Area",
   "id": "302715a7b4dd710b"
  },
  {
   "metadata": {
    "ExecuteTime": {
     "end_time": "2024-05-21T21:36:08.984509Z",
     "start_time": "2024-05-21T21:36:08.400503Z"
    }
   },
   "cell_type": "code",
   "source": "porto_area = geocode_to_region_gdf(\"Porto District, Portugal\")",
   "id": "de8406c1333906c3",
   "outputs": [],
   "execution_count": 11
  },
  {
   "metadata": {
    "ExecuteTime": {
     "end_time": "2024-05-21T21:43:28.663962Z",
     "start_time": "2024-05-21T21:36:08.985512Z"
    }
   },
   "cell_type": "code",
   "source": "gdf_porto_taxi_points_inside_porto = gdf_porto_taxi_points.sjoin(porto_area)",
   "id": "505b083a9864de45",
   "outputs": [],
   "execution_count": 12
  },
  {
   "metadata": {
    "ExecuteTime": {
     "end_time": "2024-05-21T21:43:44.190083Z",
     "start_time": "2024-05-21T21:43:28.663962Z"
    }
   },
   "cell_type": "code",
   "source": [
    "gdf_merged = gdf_porto_taxi_points.merge(\n",
    "    gdf_porto_taxi_points_inside_porto, how=\"left\", indicator=True\n",
    ")\n",
    "df_porto_taxi_points_outside_porto = gdf_merged[gdf_merged[\"_merge\"] == \"left_only\"]"
   ],
   "id": "ab2d73c36fc61319",
   "outputs": [],
   "execution_count": 13
  },
  {
   "metadata": {
    "ExecuteTime": {
     "end_time": "2024-05-21T21:43:44.194276Z",
     "start_time": "2024-05-21T21:43:44.191086Z"
    }
   },
   "cell_type": "code",
   "source": [
    "trajectories_outside_porto = list(\n",
    "    df_porto_taxi_points_outside_porto[\"trip_id\"].unique()\n",
    ")"
   ],
   "id": "e594f4706dfb3603",
   "outputs": [],
   "execution_count": 14
  },
  {
   "metadata": {
    "ExecuteTime": {
     "end_time": "2024-05-21T21:43:44.697377Z",
     "start_time": "2024-05-21T21:43:44.194276Z"
    }
   },
   "cell_type": "code",
   "source": [
    "gdf_porto_taxi_points = gdf_porto_taxi_points[\n",
    "    ~gdf_porto_taxi_points[\"trip_id\"].isin(trajectories_outside_porto)\n",
    "]"
   ],
   "id": "2699ae75caa910c9",
   "outputs": [],
   "execution_count": 15
  },
  {
   "metadata": {},
   "cell_type": "markdown",
   "source": "# Trajectory Collection",
   "id": "dd6414af7a53d8f6"
  },
  {
   "metadata": {
    "ExecuteTime": {
     "end_time": "2024-05-21T21:45:41.914766Z",
     "start_time": "2024-05-21T21:43:44.698382Z"
    }
   },
   "cell_type": "code",
   "source": [
    "trajectory_collection = mpd.TrajectoryCollection(\n",
    "    data=gdf_porto_taxi_points, traj_id_col=\"trip_id\", t=\"timestamp\"\n",
    ")"
   ],
   "id": "58bad264056edd84",
   "outputs": [],
   "execution_count": 16
  },
  {
   "metadata": {},
   "cell_type": "markdown",
   "source": "### Generalization",
   "id": "8aca2f2a174dacae"
  },
  {
   "metadata": {
    "ExecuteTime": {
     "end_time": "2024-05-21T21:49:31.930054Z",
     "start_time": "2024-05-21T21:45:41.915275Z"
    }
   },
   "cell_type": "code",
   "source": [
    "trajectory_collection = mpd.DouglasPeuckerGeneralizer(trajectory_collection).generalize(\n",
    "    tolerance=0.0001\n",
    ")"
   ],
   "id": "9b3c75cb62960072",
   "outputs": [],
   "execution_count": 17
  },
  {
   "metadata": {
    "ExecuteTime": {
     "end_time": "2024-05-21T21:49:36.216824Z",
     "start_time": "2024-05-21T21:49:31.930054Z"
    }
   },
   "cell_type": "code",
   "source": [
    "gdf_trajectory_point_collection = (\n",
    "    trajectory_collection\n",
    "    # .add_speed(overwrite=True)\n",
    "    # .add_distance(overwrite=True)\n",
    "    # .add_timedelta(overwrite=True)\n",
    "    .to_point_gdf().sort_values(by=[\"trip_id\", \"timestamp\"])\n",
    ")"
   ],
   "id": "369e97bb1a3b193c",
   "outputs": [],
   "execution_count": 18
  },
  {
   "metadata": {
    "ExecuteTime": {
     "end_time": "2024-05-21T21:49:36.218950Z",
     "start_time": "2024-05-21T21:49:36.216824Z"
    }
   },
   "cell_type": "code",
   "source": [
    "# scaler = MinMaxScaler()\n",
    "# gdf_trajectory_point_collection[[\"speed\", \"distance\"]] = scaler.fit_transform(\n",
    "#     gdf_trajectory_point_collection[[\"speed\", \"distance\"]]\n",
    "# )"
   ],
   "id": "e424b9ad75705c02",
   "outputs": [],
   "execution_count": 19
  },
  {
   "metadata": {},
   "cell_type": "markdown",
   "source": "# Add Spatial Embedding",
   "id": "1ba24cd6e45bf458"
  },
  {
   "metadata": {
    "ExecuteTime": {
     "end_time": "2024-05-21T21:49:45.092487Z",
     "start_time": "2024-05-21T21:49:36.219955Z"
    }
   },
   "cell_type": "code",
   "source": [
    "regionalizer = H3Regionalizer(resolution=9)\n",
    "gdf_regions = regionalizer.transform(gdf_trajectory_point_collection)"
   ],
   "id": "77cf5d3553c9da75",
   "outputs": [],
   "execution_count": 20
  },
  {
   "metadata": {
    "ExecuteTime": {
     "end_time": "2024-05-21T21:53:00.744262Z",
     "start_time": "2024-05-21T21:49:45.093489Z"
    }
   },
   "cell_type": "code",
   "source": [
    "loader = OSMPbfLoader()\n",
    "gdf_features = loader.load(gdf_regions, HEX2VEC_FILTER)"
   ],
   "id": "460fbf206cda2f0e",
   "outputs": [
    {
     "name": "stderr",
     "output_type": "stream",
     "text": [
      "C:\\Virtual_Environments\\venv_PNW_3.12\\Lib\\site-packages\\srai\\loaders\\osm_loaders\\osm_pbf_loader.py:128: FutureWarning: Use `convert_geometry_to_geodataframe` instead. Deprecated since 0.8.1 version.\n",
      "  features_gdf = pbf_reader.get_features_gdf_from_geometry(\n"
     ]
    },
    {
     "data": {
      "text/plain": [
       "Output()"
      ],
      "application/vnd.jupyter.widget-view+json": {
       "version_major": 2,
       "version_minor": 0,
       "model_id": "da33a479eb634b54827b7a7f107ea9f9"
      }
     },
     "metadata": {},
     "output_type": "display_data"
    },
    {
     "data": {
      "text/plain": [],
      "text/html": [
       "<pre style=\"white-space:pre;overflow-x:auto;line-height:normal;font-family:Menlo,'DejaVu Sans Mono',consolas,'Courier New',monospace\"></pre>\n"
      ]
     },
     "metadata": {},
     "output_type": "display_data"
    },
    {
     "data": {
      "text/plain": [
       "\n"
      ],
      "text/html": [
       "<pre style=\"white-space:pre;overflow-x:auto;line-height:normal;font-family:Menlo,'DejaVu Sans Mono',consolas,'Courier New',monospace\">\n",
       "</pre>\n"
      ]
     },
     "metadata": {},
     "output_type": "display_data"
    },
    {
     "data": {
      "text/plain": [
       "Finished operation in \u001B[1;33m0:03:14\u001B[0m\n"
      ],
      "text/html": [
       "<pre style=\"white-space:pre;overflow-x:auto;line-height:normal;font-family:Menlo,'DejaVu Sans Mono',consolas,'Courier New',monospace\">Finished operation in <span style=\"color: #808000; text-decoration-color: #808000; font-weight: bold\">0:03:14</span>\n",
       "</pre>\n"
      ]
     },
     "metadata": {},
     "output_type": "display_data"
    }
   ],
   "execution_count": 21
  },
  {
   "metadata": {
    "ExecuteTime": {
     "end_time": "2024-05-21T21:53:01.573418Z",
     "start_time": "2024-05-21T21:53:00.744262Z"
    }
   },
   "cell_type": "code",
   "source": [
    "joiner = IntersectionJoiner()\n",
    "gdf_joint = joiner.transform(gdf_regions, gdf_features)"
   ],
   "id": "a981162c3e918064",
   "outputs": [],
   "execution_count": 22
  },
  {
   "metadata": {
    "ExecuteTime": {
     "end_time": "2024-05-21T21:53:01.577041Z",
     "start_time": "2024-05-21T21:53:01.573418Z"
    }
   },
   "cell_type": "code",
   "source": "neighbourhood = H3Neighbourhood(gdf_regions)",
   "id": "ca328f2b8fed3b07",
   "outputs": [],
   "execution_count": 23
  },
  {
   "metadata": {
    "ExecuteTime": {
     "end_time": "2024-05-21T21:53:31.638564Z",
     "start_time": "2024-05-21T21:53:01.577041Z"
    }
   },
   "cell_type": "code",
   "source": [
    "device = \"cuda\" if torch.cuda.is_available() else \"cpu\"\n",
    "\n",
    "embedder_hidden_sizes = [150, 100, 50, 10]\n",
    "embedder = Hex2VecEmbedder(embedder_hidden_sizes)\n",
    "\n",
    "df_embeddings = embedder.fit_transform(\n",
    "    gdf_regions,\n",
    "    gdf_features,\n",
    "    gdf_joint,\n",
    "    neighbourhood,\n",
    "    trainer_kwargs={\"max_epochs\": 15, \"accelerator\": device},\n",
    "    batch_size=100,\n",
    ")"
   ],
   "id": "3da45a83f647f521",
   "outputs": [
    {
     "name": "stderr",
     "output_type": "stream",
     "text": [
      "100%|██████████| 5896/5896 [00:00<00:00, 37721.62it/s]\n",
      "GPU available: True (cuda), used: True\n",
      "TPU available: False, using: 0 TPU cores\n",
      "IPU available: False, using: 0 IPUs\n",
      "HPU available: False, using: 0 HPUs\n",
      "C:\\Virtual_Environments\\venv_PNW_3.12\\Lib\\site-packages\\pytorch_lightning\\trainer\\connectors\\logger_connector\\logger_connector.py:75: Starting from v1.9.0, `tensorboardX` has been removed as a dependency of the `pytorch_lightning` package, due to potential conflicts with other packages in the ML ecosystem. For this reason, `logger=True` will use `CSVLogger` as the default logger, unless the `tensorboard` or `tensorboardX` packages are found. Please `pip install lightning[extra]` or one of them to enable TensorBoard support by default\n",
      "C:\\Virtual_Environments\\venv_PNW_3.12\\Lib\\site-packages\\pytorch_lightning\\trainer\\configuration_validator.py:74: You defined a `validation_step` but have no `val_dataloader`. Skipping val loop.\n",
      "You are using a CUDA device ('NVIDIA GeForce RTX 3080') that has Tensor Cores. To properly utilize them, you should set `torch.set_float32_matmul_precision('medium' | 'high')` which will trade-off precision for performance. For more details, read https://pytorch.org/docs/stable/generated/torch.set_float32_matmul_precision.html#torch.set_float32_matmul_precision\n",
      "LOCAL_RANK: 0 - CUDA_VISIBLE_DEVICES: [0]\n",
      "\n",
      "  | Name    | Type       | Params\n",
      "---------------------------------------\n",
      "0 | encoder | Sequential | 99.7 K\n",
      "---------------------------------------\n",
      "99.7 K    Trainable params\n",
      "0         Non-trainable params\n",
      "99.7 K    Total params\n",
      "0.399     Total estimated model params size (MB)\n",
      "C:\\Virtual_Environments\\venv_PNW_3.12\\Lib\\site-packages\\pytorch_lightning\\trainer\\connectors\\data_connector.py:441: The 'train_dataloader' does not have many workers which may be a bottleneck. Consider increasing the value of the `num_workers` argument` to `num_workers=23` in the `DataLoader` to improve performance.\n"
     ]
    },
    {
     "data": {
      "text/plain": [
       "Training: |          | 0/? [00:00<?, ?it/s]"
      ],
      "application/vnd.jupyter.widget-view+json": {
       "version_major": 2,
       "version_minor": 0,
       "model_id": "8d55c88480a34b509ba572935b585e55"
      }
     },
     "metadata": {},
     "output_type": "display_data"
    },
    {
     "name": "stderr",
     "output_type": "stream",
     "text": [
      "`Trainer.fit` stopped: `max_epochs=15` reached.\n"
     ]
    }
   ],
   "execution_count": 24
  },
  {
   "metadata": {
    "ExecuteTime": {
     "end_time": "2024-05-21T21:53:31.643150Z",
     "start_time": "2024-05-21T21:53:31.639569Z"
    }
   },
   "cell_type": "code",
   "source": [
    "df_embeddings.rename(\n",
    "    columns={\n",
    "        0: \"embedding_0\",\n",
    "        1: \"embedding_1\",\n",
    "        2: \"embedding_2\",\n",
    "        3: \"embedding_3\",\n",
    "        4: \"embedding_4\",\n",
    "        5: \"embedding_5\",\n",
    "        6: \"embedding_6\",\n",
    "        7: \"embedding_7\",\n",
    "        8: \"embedding_8\",\n",
    "        9: \"embedding_9\",\n",
    "    },\n",
    "    inplace=True,\n",
    ")"
   ],
   "id": "2f9c69c996bf27dc",
   "outputs": [],
   "execution_count": 25
  },
  {
   "metadata": {
    "ExecuteTime": {
     "end_time": "2024-05-21T21:53:37.536390Z",
     "start_time": "2024-05-21T21:53:31.643150Z"
    }
   },
   "cell_type": "code",
   "source": "gdf_joined = gpd.sjoin(gdf_trajectory_point_collection, gdf_regions, how=\"left\")",
   "id": "3e026b175f675aa0",
   "outputs": [],
   "execution_count": 26
  },
  {
   "metadata": {
    "ExecuteTime": {
     "end_time": "2024-05-21T21:53:37.545398Z",
     "start_time": "2024-05-21T21:53:37.536390Z"
    }
   },
   "cell_type": "code",
   "source": [
    "gdf_joined.rename(columns={\"index_right\": \"region_id\"}, inplace=True)\n",
    "gdf_joined.reset_index(inplace=True)"
   ],
   "id": "25550f41532e45a5",
   "outputs": [],
   "execution_count": 27
  },
  {
   "metadata": {
    "ExecuteTime": {
     "end_time": "2024-05-21T21:53:37.934472Z",
     "start_time": "2024-05-21T21:53:37.545398Z"
    }
   },
   "cell_type": "code",
   "source": "gdf_points_embeddings = gdf_joined.merge(df_embeddings, on=\"region_id\", how=\"left\")",
   "id": "6a30a6295fa799d6",
   "outputs": [],
   "execution_count": 28
  },
  {
   "metadata": {},
   "cell_type": "markdown",
   "source": "# Preparing DataSet",
   "id": "53c34e4dc157c887"
  },
  {
   "metadata": {
    "ExecuteTime": {
     "end_time": "2024-05-21T21:53:37.938926Z",
     "start_time": "2024-05-21T21:53:37.934974Z"
    }
   },
   "cell_type": "code",
   "source": [
    "class TrajectoryDataset(Dataset):\n",
    "    def __init__(self, df, seq_length):\n",
    "        self.sequences = []\n",
    "        self.labels = []\n",
    "        self.seq_length = seq_length\n",
    "        self._create_sequences(df)\n",
    "\n",
    "    def _create_sequences(self, df):\n",
    "        for trajectory_id in df[\"trip_id\"].unique():\n",
    "            trajectory_data = df[df[\"trip_id\"] == trajectory_id]\n",
    "            for i in range(len(trajectory_data) - self.seq_length):\n",
    "                sequence = trajectory_data.iloc[i : i + self.seq_length]\n",
    "                travel_time = (\n",
    "                    sequence[\"timestamp\"].iloc[-1] - sequence[\"timestamp\"].iloc[0]\n",
    "                ).total_seconds()\n",
    "                self.sequences.append(\n",
    "                    sequence[\n",
    "                        [\n",
    "                            \"embedding_0\",\n",
    "                            \"embedding_1\",\n",
    "                            \"embedding_2\",\n",
    "                            \"embedding_3\",\n",
    "                            \"embedding_4\",\n",
    "                            \"embedding_5\",\n",
    "                            \"embedding_6\",\n",
    "                            \"embedding_7\",\n",
    "                            \"embedding_8\",\n",
    "                            \"embedding_9\",\n",
    "                        ]\n",
    "                    ].values\n",
    "                )\n",
    "                self.labels.append(travel_time)\n",
    "\n",
    "    def __len__(self):\n",
    "        return len(self.sequences)\n",
    "\n",
    "    def __getitem__(self, idx):\n",
    "        return torch.tensor(self.sequences[idx], dtype=torch.float32), torch.tensor(\n",
    "            self.labels[idx], dtype=torch.float32\n",
    "        )"
   ],
   "id": "b78d6a3341198f49",
   "outputs": [],
   "execution_count": 29
  },
  {
   "metadata": {
    "ExecuteTime": {
     "end_time": "2024-05-21T22:22:29.882126Z",
     "start_time": "2024-05-21T21:57:37.131022Z"
    }
   },
   "cell_type": "code",
   "source": [
    "seq_length = 15\n",
    "dataset = TrajectoryDataset(gdf_points_embeddings, seq_length)"
   ],
   "id": "672ea4b8e4b70ba7",
   "outputs": [],
   "execution_count": 38
  },
  {
   "metadata": {
    "ExecuteTime": {
     "end_time": "2024-05-21T22:22:29.966846Z",
     "start_time": "2024-05-21T22:22:29.883130Z"
    }
   },
   "cell_type": "code",
   "source": [
    "train_size = int(0.8 * len(dataset))\n",
    "test_size = len(dataset) - train_size\n",
    "train_dataset, test_dataset = torch.utils.data.random_split(\n",
    "    dataset, [train_size, test_size]\n",
    ")"
   ],
   "id": "4877d81bc7e88fe6",
   "outputs": [],
   "execution_count": 39
  },
  {
   "metadata": {
    "ExecuteTime": {
     "end_time": "2024-05-21T22:22:29.970857Z",
     "start_time": "2024-05-21T22:22:29.967850Z"
    }
   },
   "cell_type": "code",
   "source": [
    "train_loader = DataLoader(train_dataset, batch_size=64, shuffle=True)\n",
    "test_loader = DataLoader(test_dataset, batch_size=64, shuffle=False)"
   ],
   "id": "d80c4cb3725832c7",
   "outputs": [],
   "execution_count": 40
  },
  {
   "metadata": {
    "ExecuteTime": {
     "end_time": "2024-05-21T22:22:29.996457Z",
     "start_time": "2024-05-21T22:22:29.971860Z"
    }
   },
   "cell_type": "code",
   "source": [
    "import torch.nn as nn\n",
    "\n",
    "\n",
    "class TravelTimeLSTM(nn.Module):\n",
    "    def __init__(self, input_size, hidden_size, num_layers, output_size):\n",
    "        super(TravelTimeLSTM, self).__init__()\n",
    "        self.hidden_size = hidden_size\n",
    "        self.num_layers = num_layers\n",
    "        self.lstm = nn.LSTM(input_size, hidden_size, num_layers, batch_first=True)\n",
    "        self.fc = nn.Linear(hidden_size, output_size)\n",
    "\n",
    "    def forward(self, x):\n",
    "        h0 = torch.zeros(self.num_layers, x.size(0), self.hidden_size).to(x.device)\n",
    "        c0 = torch.zeros(self.num_layers, x.size(0), self.hidden_size).to(x.device)\n",
    "        out, _ = self.lstm(x, (h0, c0))\n",
    "        out = self.fc(out[:, -1, :])\n",
    "        return out\n",
    "\n",
    "\n",
    "input_size = 10\n",
    "hidden_size = 64\n",
    "num_layers = 4\n",
    "output_size = 1\n",
    "\n",
    "model = TravelTimeLSTM(input_size, hidden_size, num_layers, output_size)\n",
    "model = model.to(device)"
   ],
   "id": "b3b79d58e3cdf0bb",
   "outputs": [],
   "execution_count": 41
  },
  {
   "metadata": {
    "ExecuteTime": {
     "end_time": "2024-05-21T22:22:29.999485Z",
     "start_time": "2024-05-21T22:22:29.996457Z"
    }
   },
   "cell_type": "code",
   "source": [
    "import torch.optim as optim\n",
    "\n",
    "device = torch.device(\"cuda\" if torch.cuda.is_available() else \"cpu\")\n",
    "\n",
    "criterion = nn.MSELoss()\n",
    "optimizer = optim.Adam(model.parameters(), lr=0.001)\n",
    "\n",
    "num_epochs = 50"
   ],
   "id": "21e5a8dd06317e63",
   "outputs": [],
   "execution_count": 42
  },
  {
   "metadata": {
    "ExecuteTime": {
     "end_time": "2024-05-21T23:05:37.537799Z",
     "start_time": "2024-05-21T22:22:29.999485Z"
    }
   },
   "cell_type": "code",
   "source": [
    "for epoch in range(num_epochs):\n",
    "    model.train()\n",
    "    for sequences, labels in train_loader:\n",
    "        sequences, labels = sequences.to(device), labels.to(device)\n",
    "\n",
    "        # Forward pass\n",
    "        outputs = model(sequences)\n",
    "        loss = criterion(outputs, labels.unsqueeze(1))\n",
    "\n",
    "        # Backward and optimize\n",
    "        optimizer.zero_grad()\n",
    "        loss.backward()\n",
    "        optimizer.step()\n",
    "\n",
    "    print(f\"Epoch [{epoch+1}/{num_epochs}], Loss: {loss.item():.4f}\")"
   ],
   "id": "63aa22adc932a338",
   "outputs": [
    {
     "name": "stdout",
     "output_type": "stream",
     "text": [
      "Epoch [1/50], Loss: 47999.0273\n",
      "Epoch [2/50], Loss: 8028.3296\n",
      "Epoch [3/50], Loss: 17280.1113\n",
      "Epoch [4/50], Loss: 25903.1484\n",
      "Epoch [5/50], Loss: 114932.0547\n",
      "Epoch [6/50], Loss: 5828.4585\n",
      "Epoch [7/50], Loss: 108604.1797\n",
      "Epoch [8/50], Loss: 12197.0938\n",
      "Epoch [9/50], Loss: 7815.3110\n",
      "Epoch [10/50], Loss: 14077.1357\n",
      "Epoch [11/50], Loss: 45055.0156\n",
      "Epoch [12/50], Loss: 8202.0508\n",
      "Epoch [13/50], Loss: 14507.8926\n",
      "Epoch [14/50], Loss: 3984.8501\n",
      "Epoch [15/50], Loss: 9046.0068\n",
      "Epoch [16/50], Loss: 16175.4473\n",
      "Epoch [17/50], Loss: 10858.8291\n",
      "Epoch [18/50], Loss: 13769.4014\n",
      "Epoch [19/50], Loss: 21002.5371\n",
      "Epoch [20/50], Loss: 19983.1172\n",
      "Epoch [21/50], Loss: 79045.1250\n",
      "Epoch [22/50], Loss: 9682.7197\n",
      "Epoch [23/50], Loss: 21853.7129\n",
      "Epoch [24/50], Loss: 9077.6396\n",
      "Epoch [25/50], Loss: 10614.6689\n",
      "Epoch [26/50], Loss: 9979.9453\n",
      "Epoch [27/50], Loss: 8303.3154\n",
      "Epoch [28/50], Loss: 11040.4492\n",
      "Epoch [29/50], Loss: 17915.5781\n",
      "Epoch [30/50], Loss: 9397.4756\n",
      "Epoch [31/50], Loss: 627013.4375\n",
      "Epoch [32/50], Loss: 208102.8438\n",
      "Epoch [33/50], Loss: 11045.7344\n",
      "Epoch [34/50], Loss: 10019.5703\n",
      "Epoch [35/50], Loss: 37991.0742\n",
      "Epoch [36/50], Loss: 38161.6367\n",
      "Epoch [37/50], Loss: 9432.3916\n",
      "Epoch [38/50], Loss: 111037.7891\n",
      "Epoch [39/50], Loss: 10560.7295\n",
      "Epoch [40/50], Loss: 9547.1992\n",
      "Epoch [41/50], Loss: 10706.7520\n",
      "Epoch [42/50], Loss: 10768.4023\n",
      "Epoch [43/50], Loss: 12285.3779\n",
      "Epoch [44/50], Loss: 7184.8096\n",
      "Epoch [45/50], Loss: 233207.1719\n",
      "Epoch [46/50], Loss: 18561.5527\n",
      "Epoch [47/50], Loss: 7001.9253\n",
      "Epoch [48/50], Loss: 12071.6455\n",
      "Epoch [49/50], Loss: 18444.3008\n",
      "Epoch [50/50], Loss: 8407.4062\n"
     ]
    }
   ],
   "execution_count": 43
  },
  {
   "metadata": {
    "ExecuteTime": {
     "end_time": "2024-05-21T23:05:44.163298Z",
     "start_time": "2024-05-21T23:05:37.538802Z"
    }
   },
   "cell_type": "code",
   "source": [
    "model.eval()\n",
    "test_loss = 0\n",
    "with torch.no_grad():\n",
    "    for sequences, labels in test_loader:\n",
    "        sequences, labels = sequences.to(device), labels.to(device)\n",
    "        outputs = model(sequences)\n",
    "        loss = criterion(outputs, labels.unsqueeze(1))\n",
    "        test_loss += loss.item()\n",
    "\n",
    "test_loss /= len(test_loader)\n",
    "print(f\"Test Loss: {test_loss:.4f}\")"
   ],
   "id": "cf7a300c3272e909",
   "outputs": [
    {
     "name": "stdout",
     "output_type": "stream",
     "text": [
      "Test Loss: 55399.4485\n"
     ]
    }
   ],
   "execution_count": 44
  },
  {
   "metadata": {
    "ExecuteTime": {
     "end_time": "2024-05-21T23:05:51.642895Z",
     "start_time": "2024-05-21T23:05:44.163298Z"
    }
   },
   "cell_type": "code",
   "source": [
    "predictions = []\n",
    "actuals = []\n",
    "\n",
    "with torch.no_grad():\n",
    "    for sequences, labels in test_loader:\n",
    "        sequences, labels = sequences.to(device), labels.to(device)\n",
    "        outputs = model(sequences)\n",
    "        predictions.extend(outputs.cpu().numpy())\n",
    "        actuals.extend(labels.cpu().numpy())"
   ],
   "id": "dda0b9681b06f14f",
   "outputs": [],
   "execution_count": 45
  },
  {
   "metadata": {
    "ExecuteTime": {
     "end_time": "2024-05-21T23:05:53.000950Z",
     "start_time": "2024-05-21T23:05:51.643898Z"
    }
   },
   "cell_type": "code",
   "source": [
    "import matplotlib.pyplot as plt\n",
    "\n",
    "plt.figure(figsize=(14, 5))\n",
    "plt.plot(actuals, color=\"blue\", label=\"Actual Travel Time\")\n",
    "plt.plot(predictions, color=\"red\", label=\"Predicted Travel Time\")\n",
    "plt.title(\"Travel Time Prediction\")\n",
    "plt.xlabel(\"Time\")\n",
    "plt.ylabel(\"Travel Time\")\n",
    "plt.legend()\n",
    "plt.show()"
   ],
   "id": "22815278f616c34",
   "outputs": [
    {
     "data": {
      "text/plain": [
       "<Figure size 1400x500 with 1 Axes>"
      ],
      "image/png": "[encoded data removed]"
     },
     "metadata": {},
     "output_type": "display_data"
    }
   ],
   "execution_count": 46
  },
  {
   "metadata": {
    "ExecuteTime": {
     "end_time": "2024-05-21T23:05:53.163991Z",
     "start_time": "2024-05-21T23:05:53.001953Z"
    }
   },
   "cell_type": "code",
   "source": [
    "mean_time_travelled = np.mean(actuals)\n",
    "print(f\"Mean average travelled time: {mean_time_travelled}\")\n",
    "\n",
    "mae = mean_absolute_error(actuals, predictions)\n",
    "print(f\"Mean Absolute Error (MAE): {mae:.4f}\")\n",
    "\n",
    "mse = mean_squared_error(actuals, predictions)\n",
    "print(f\"Mean Squared Error (MSE): {mse:.4f}\")\n",
    "\n",
    "rmse = np.sqrt(mse)\n",
    "print(f\"Root Mean Squared Error (RMSE): {rmse:.4f}\")"
   ],
   "id": "3fcf3233ab4a7e97",
   "outputs": [
    {
     "name": "stdout",
     "output_type": "stream",
     "text": [
      "Mean average travelled time: 378.1374816894531\n",
      "Mean Absolute Error (MAE): 121.0863\n",
      "Mean Squared Error (MSE): 55397.8672\n",
      "Root Mean Squared Error (RMSE): 235.3675\n"
     ]
    }
   ],
   "execution_count": 47
  },
  {
   "metadata": {
    "ExecuteTime": {
     "end_time": "2024-05-21T23:05:53.206885Z",
     "start_time": "2024-05-21T23:05:53.163991Z"
    }
   },
   "cell_type": "code",
   "source": "np.min(actuals), np.max(actuals), np.mean(actuals), np.median(actuals)",
   "id": "2f4bd60bb6c31435",
   "outputs": [
    {
     "data": {
      "text/plain": [
       "(210.0, 10965.0, 378.13748, 330.0)"
      ]
     },
     "execution_count": 48,
     "metadata": {},
     "output_type": "execute_result"
    }
   ],
   "execution_count": 48
  },
  {
   "metadata": {
    "ExecuteTime": {
     "end_time": "2024-05-21T23:05:53.466740Z",
     "start_time": "2024-05-21T23:05:53.206885Z"
    }
   },
   "cell_type": "code",
   "source": "np.min(predictions), np.max(predictions), np.mean(predictions), np.median(predictions)",
   "id": "6ef7db552f3e44",
   "outputs": [
    {
     "data": {
      "text/plain": [
       "(379.20093, 379.20093, 379.2011, 379.20093)"
      ]
     },
     "execution_count": 49,
     "metadata": {},
     "output_type": "execute_result"
    }
   ],
   "execution_count": 49
  }
 ],
 "metadata": {
  "kernelspec": {
   "display_name": "Python 3",
   "language": "python",
   "name": "python3"
  },
  "language_info": {
   "codemirror_mode": {
    "name": "ipython",
    "version": 2
   },
   "file_extension": ".py",
   "mimetype": "text/x-python",
   "name": "python",
   "nbconvert_exporter": "python",
   "pygments_lexer": "ipython2",
   "version": "2.7.6"
  }
 },
 "nbformat": 4,
 "nbformat_minor": 5
}

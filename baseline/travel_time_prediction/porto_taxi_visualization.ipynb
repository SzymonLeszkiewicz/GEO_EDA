{
 "cells": [
  {
   "metadata": {},
   "cell_type": "markdown",
   "source": "# Imports",
   "id": "18d0b025327ffc71"
  },
  {
   "metadata": {},
   "cell_type": "code",
   "source": [
    "import os\n",
    "from datetime import datetime\n",
    "\n",
    "import geopandas as gpd\n",
    "import movingpandas as mpd\n",
    "import torch\n",
    "from shapely.geometry import Point\n",
    "from srai.datasets import PortoTaxiDataset\n",
    "from srai.embedders import Hex2VecEmbedder\n",
    "from srai.joiners import IntersectionJoiner\n",
    "from srai.loaders import OSMPbfLoader\n",
    "from srai.loaders.osm_loaders.filters import HEX2VEC_FILTER\n",
    "from srai.neighbourhoods import H3Neighbourhood\n",
    "from srai.regionalizers import H3Regionalizer\n",
    "from srai.regionalizers import geocode_to_region_gdf\n",
    "from tqdm import tqdm"
   ],
   "id": "8baccf85c157558d",
   "outputs": [],
   "execution_count": null
  },
  {
   "metadata": {},
   "cell_type": "code",
   "source": "gpd.options.io_engine = \"pyogrio\"",
   "id": "4507802b678051a8",
   "outputs": [],
   "execution_count": null
  },
  {
   "metadata": {},
   "cell_type": "markdown",
   "source": "# Enable loading Environment Variables",
   "id": "84d441f8d3874109"
  },
  {
   "metadata": {},
   "cell_type": "code",
   "source": [
    "%load_ext dotenv\n",
    "\n",
    "%dotenv"
   ],
   "id": "e1915470679577c5",
   "outputs": [],
   "execution_count": null
  },
  {
   "metadata": {},
   "cell_type": "code",
   "source": "hf_token = os.getenv(\"HF_TOKEN\")",
   "id": "fbbc676f7618ab9d",
   "outputs": [],
   "execution_count": null
  },
  {
   "metadata": {},
   "cell_type": "markdown",
   "source": "# Data Loading",
   "id": "fcfb3475d2f2900d"
  },
  {
   "metadata": {},
   "cell_type": "code",
   "source": [
    "subset_size = 1_000\n",
    "use_subset = True\n",
    "\n",
    "gdf_porto_taxi_full_path = os.path.join(\"data\", \"porto_taxi.feather\")\n",
    "gdf_porto_taxi_subset_path = os.path.join(\n",
    "    \"data\", f\"porto_taxi_subset_{subset_size}.feather\"\n",
    ")"
   ],
   "id": "55735a8cc8c627e9",
   "outputs": [],
   "execution_count": null
  },
  {
   "metadata": {},
   "cell_type": "code",
   "source": [
    "if not use_subset:\n",
    "    if not os.path.exists(gdf_porto_taxi_full_path):\n",
    "        porto_taxi_dataset = PortoTaxiDataset()\n",
    "        gdf_porto_taxi = porto_taxi_dataset.load(hf_token=hf_token)\n",
    "        gdf_porto_taxi.to_feather(gdf_porto_taxi_full_path)\n",
    "    else:\n",
    "        gdf_porto_taxi = gpd.read_feather(gdf_porto_taxi_full_path)\n",
    "else:\n",
    "    if not os.path.exists(gdf_porto_taxi_subset_path):\n",
    "        if not os.path.exists(gdf_porto_taxi_full_path):\n",
    "            porto_taxi_dataset = PortoTaxiDataset()\n",
    "            gdf_porto_taxi = porto_taxi_dataset.load(hf_token=hf_token)\n",
    "            gdf_porto_taxi.to_feather(gdf_porto_taxi_full_path)\n",
    "            gdf_porto_taxi = gdf_porto_taxi.head(subset_size)\n",
    "            gdf_porto_taxi.to_feather(gdf_porto_taxi_subset_path)\n",
    "        else:\n",
    "            gdf_porto_taxi = gpd.read_feather(gdf_porto_taxi_full_path)\n",
    "            gdf_porto_taxi = gdf_porto_taxi.head(subset_size)\n",
    "            gdf_porto_taxi.to_feather(gdf_porto_taxi_subset_path)\n",
    "    else:\n",
    "        gdf_porto_taxi = gpd.read_feather(gdf_porto_taxi_subset_path)"
   ],
   "id": "a92e1f3fa2dde8c4",
   "outputs": [],
   "execution_count": null
  },
  {
   "metadata": {},
   "cell_type": "code",
   "source": [
    "gdf_porto_taxi.drop(\n",
    "    [\n",
    "        \"taxi_id\",\n",
    "        \"call_type\",\n",
    "        \"origin_call\",\n",
    "        \"origin_stand\",\n",
    "        \"day_type\",\n",
    "        \"travel_time_seconds\",\n",
    "    ],\n",
    "    axis=1,\n",
    "    inplace=True,\n",
    ")"
   ],
   "id": "abf7cf0886c37c95",
   "outputs": [],
   "execution_count": null
  },
  {
   "metadata": {},
   "cell_type": "markdown",
   "source": "# Convert LineString to Point",
   "id": "3ba1fe6aaab38725"
  },
  {
   "metadata": {},
   "cell_type": "code",
   "source": [
    "exploded_rows = []\n",
    "\n",
    "for idx, row in tqdm(gdf_porto_taxi.iterrows(), total=gdf_porto_taxi.shape[0]):\n",
    "    start_timestamp = row.timestamp\n",
    "    current_timestamp = start_timestamp\n",
    "    for xy in row.geometry.coords:\n",
    "        point = Point(xy)\n",
    "        row_dict = row.to_dict()\n",
    "        row_dict[\"geometry\"] = point\n",
    "        row_dict[\"timestamp\"] = current_timestamp\n",
    "        current_timestamp += 15\n",
    "        exploded_rows.append(row_dict)"
   ],
   "id": "e0583197d1dc334f",
   "outputs": [],
   "execution_count": null
  },
  {
   "metadata": {},
   "cell_type": "code",
   "source": "gdf_porto_taxi_points = gpd.GeoDataFrame(exploded_rows, crs=\"EPSG:4326\")",
   "id": "37430e20aadd6173",
   "outputs": [],
   "execution_count": null
  },
  {
   "metadata": {},
   "cell_type": "code",
   "source": [
    "gdf_porto_taxi_points[\"timestamp\"] = gdf_porto_taxi_points[\"timestamp\"].apply(\n",
    "    lambda x: datetime.fromtimestamp(x)\n",
    ")"
   ],
   "id": "387e6f2a85397733",
   "outputs": [],
   "execution_count": null
  },
  {
   "metadata": {},
   "cell_type": "code",
   "source": "gdf_porto_taxi_points.head()",
   "id": "6629f8318ae2f202",
   "outputs": [],
   "execution_count": null
  },
  {
   "metadata": {},
   "cell_type": "markdown",
   "source": "### Restricting to Porto Area",
   "id": "9e0ea2f76cdd40bc"
  },
  {
   "metadata": {},
   "cell_type": "code",
   "source": "porto_area = geocode_to_region_gdf(\"Porto District, Portugal\")",
   "id": "fa487d0e2fbfbdb2",
   "outputs": [],
   "execution_count": null
  },
  {
   "metadata": {},
   "cell_type": "code",
   "source": "porto_area.explore()",
   "id": "5d814fd8a9951ffd",
   "outputs": [],
   "execution_count": null
  },
  {
   "metadata": {},
   "cell_type": "code",
   "source": "gdf_porto_taxi_points_inside_porto = gdf_porto_taxi_points.sjoin(porto_area)",
   "id": "3c9e46e503fd682",
   "outputs": [],
   "execution_count": null
  },
  {
   "metadata": {},
   "cell_type": "code",
   "source": "gdf_porto_taxi_points_inside_porto.geometry.explore()",
   "id": "1b36ad0f541bec70",
   "outputs": [],
   "execution_count": null
  },
  {
   "metadata": {},
   "cell_type": "code",
   "source": [
    "gdf_merged = gdf_porto_taxi_points.merge(\n",
    "    gdf_porto_taxi_points_inside_porto, how=\"left\", indicator=True\n",
    ")\n",
    "df_porto_taxi_points_outside_porto = gdf_merged[gdf_merged[\"_merge\"] == \"left_only\"]"
   ],
   "id": "4fdf0ce3a5f5ed10",
   "outputs": [],
   "execution_count": null
  },
  {
   "metadata": {},
   "cell_type": "code",
   "source": [
    "trajectories_outside_porto = list(\n",
    "    df_porto_taxi_points_outside_porto[\"trip_id\"].unique()\n",
    ")"
   ],
   "id": "eab0b3cfd169f74d",
   "outputs": [],
   "execution_count": null
  },
  {
   "metadata": {},
   "cell_type": "code",
   "source": [
    "gdf_porto_taxi_points = gdf_porto_taxi_points[\n",
    "    ~gdf_porto_taxi_points[\"trip_id\"].isin(trajectories_outside_porto)\n",
    "]"
   ],
   "id": "e96cc18dc8016264",
   "outputs": [],
   "execution_count": null
  },
  {
   "metadata": {},
   "cell_type": "code",
   "source": "gdf_porto_taxi_points.geometry.explore()",
   "id": "9ec2db8037d2ad55",
   "outputs": [],
   "execution_count": null
  },
  {
   "metadata": {},
   "cell_type": "markdown",
   "source": "# Trajectory Collection",
   "id": "a1c09d5d3d2e0818"
  },
  {
   "metadata": {},
   "cell_type": "code",
   "source": [
    "trajectory_collection = mpd.TrajectoryCollection(\n",
    "    data=gdf_porto_taxi_points, traj_id_col=\"trip_id\", t=\"timestamp\"\n",
    ")"
   ],
   "id": "7ab34e810859353a",
   "outputs": [],
   "execution_count": null
  },
  {
   "metadata": {},
   "cell_type": "code",
   "source": "trajectory_collection.plot(column=\"trip_id\", legend=False, figsize=(16, 9))",
   "id": "288c947ee000ae39",
   "outputs": [],
   "execution_count": null
  },
  {
   "metadata": {},
   "cell_type": "code",
   "source": [
    "single_trajectory = trajectory_collection.trajectories[1].add_speed(\n",
    "    units=(\"km\", \"h\"), overwrite=True\n",
    ")"
   ],
   "id": "f840e11998887209",
   "outputs": [],
   "execution_count": null
  },
  {
   "metadata": {},
   "cell_type": "code",
   "source": "single_trajectory.to_traj_gdf()",
   "id": "54f83b9755fcbd2e",
   "outputs": [],
   "execution_count": null
  },
  {
   "metadata": {},
   "cell_type": "code",
   "source": "single_trajectory.hvplot(c=\"speed\")",
   "id": "13853cfcdd56d805",
   "outputs": [],
   "execution_count": null
  },
  {
   "metadata": {},
   "cell_type": "code",
   "source": [
    "single_trajectory_copy = single_trajectory.copy()\n",
    "\n",
    "mpd.DouglasPeuckerGeneralizer(single_trajectory_copy).generalize(\n",
    "    tolerance=0.0001\n",
    ").add_speed(units=(\"km\", \"h\"), overwrite=True).hvplot(c=\"speed\")"
   ],
   "id": "2aaa72b81fb1585a",
   "outputs": [],
   "execution_count": null
  },
  {
   "metadata": {},
   "cell_type": "code",
   "source": [
    "single_trajectory_copy = single_trajectory.copy()\n",
    "\n",
    "mpd.OutlierCleaner(single_trajectory_copy).clean(\n",
    "    v_max=120, units=(\"km\", \"h\")\n",
    ").add_speed(units=(\"km\", \"h\"), overwrite=True).hvplot(c=\"speed\")"
   ],
   "id": "7d0b3254402c9aac",
   "outputs": [],
   "execution_count": null
  },
  {
   "metadata": {},
   "cell_type": "code",
   "source": [
    "single_trajectory_copy = single_trajectory.copy()\n",
    "\n",
    "mpd.DouglasPeuckerGeneralizer(\n",
    "    mpd.OutlierCleaner(single_trajectory_copy).clean(v_max=120, units=(\"km\", \"h\"))\n",
    ").generalize(tolerance=0.0001).add_speed(units=(\"km\", \"h\"), overwrite=True).hvplot(\n",
    "    c=\"speed\"\n",
    ")"
   ],
   "id": "31de589308f3c5e8",
   "outputs": [],
   "execution_count": null
  },
  {
   "metadata": {},
   "cell_type": "markdown",
   "source": "# Regionalizer",
   "id": "4bda4306fd3b0237"
  },
  {
   "metadata": {},
   "cell_type": "code",
   "source": [
    "regionalizer = H3Regionalizer(resolution=9)\n",
    "regions = regionalizer.transform(gdf_porto_taxi_points)"
   ],
   "id": "e3d8398b483e6734",
   "outputs": [],
   "execution_count": null
  },
  {
   "metadata": {},
   "cell_type": "code",
   "source": "regions.plot()",
   "id": "fdd093dcdaf0980",
   "outputs": [],
   "execution_count": null
  },
  {
   "metadata": {},
   "cell_type": "markdown",
   "source": "# Features from regions",
   "id": "84d11b913549a068"
  },
  {
   "metadata": {},
   "cell_type": "code",
   "source": [
    "loader = OSMPbfLoader()\n",
    "features = loader.load(regions, HEX2VEC_FILTER)"
   ],
   "id": "6ea837920dd0612d",
   "outputs": [],
   "execution_count": null
  },
  {
   "metadata": {},
   "cell_type": "code",
   "source": "features.head()",
   "id": "cc19a8c2088e2b8c",
   "outputs": [],
   "execution_count": null
  },
  {
   "metadata": {},
   "cell_type": "markdown",
   "source": "# Join Regions with Features",
   "id": "b2d9fb94ef7c2826"
  },
  {
   "metadata": {},
   "cell_type": "code",
   "source": [
    "joiner = IntersectionJoiner()\n",
    "joint = joiner.transform(regions, features)"
   ],
   "id": "8156b868ead10364",
   "outputs": [],
   "execution_count": null
  },
  {
   "metadata": {},
   "cell_type": "code",
   "source": "neighbourhood = H3Neighbourhood(regions)",
   "id": "6bda43bf954d19a6",
   "outputs": [],
   "execution_count": null
  },
  {
   "metadata": {},
   "cell_type": "code",
   "source": [
    "embedder_hidden_sizes = [150, 100, 50, 10]\n",
    "embedder = Hex2VecEmbedder(embedder_hidden_sizes)"
   ],
   "id": "14a56d4778577004",
   "outputs": [],
   "execution_count": null
  },
  {
   "metadata": {},
   "cell_type": "markdown",
   "source": "# Fit Embeddings",
   "id": "bcad20d2739a1451"
  },
  {
   "metadata": {},
   "cell_type": "code",
   "source": [
    "device = \"cuda\" if torch.cuda.is_available() else \"cpu\"\n",
    "\n",
    "embeddings = embedder.fit_transform(\n",
    "    regions,\n",
    "    features,\n",
    "    joint,\n",
    "    neighbourhood,\n",
    "    trainer_kwargs={\"max_epochs\": 15, \"accelerator\": device},\n",
    "    batch_size=100,\n",
    ")"
   ],
   "id": "f994daa6f1e220ac",
   "outputs": [],
   "execution_count": null
  },
  {
   "metadata": {},
   "cell_type": "code",
   "source": "embeddings.head()",
   "id": "551bcef198973e95",
   "outputs": [],
   "execution_count": null
  }
 ],
 "metadata": {
  "kernelspec": {
   "display_name": "Python 3",
   "language": "python",
   "name": "python3"
  },
  "language_info": {
   "codemirror_mode": {
    "name": "ipython",
    "version": 2
   },
   "file_extension": ".py",
   "mimetype": "text/x-python",
   "name": "python",
   "nbconvert_exporter": "python",
   "pygments_lexer": "ipython2",
   "version": "2.7.6"
  }
 },
 "nbformat": 4,
 "nbformat_minor": 5
}

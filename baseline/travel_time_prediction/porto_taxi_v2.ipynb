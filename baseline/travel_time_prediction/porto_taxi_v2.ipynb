{
 "cells": [
  {
   "metadata": {},
   "cell_type": "markdown",
   "source": "# Imports",
   "id": "958ac8d23ed132ee"
  },
  {
   "metadata": {
    "ExecuteTime": {
     "end_time": "2024-05-21T20:39:12.735396Z",
     "start_time": "2024-05-21T20:39:10.138061Z"
    }
   },
   "cell_type": "code",
   "source": [
    "import os\n",
    "from datetime import datetime\n",
    "\n",
    "import geopandas as gpd\n",
    "import movingpandas as mpd\n",
    "import numpy as np\n",
    "import torch\n",
    "from shapely.geometry import Point\n",
    "from sklearn.metrics import mean_absolute_error, mean_squared_error\n",
    "from srai.datasets import PortoTaxiDataset\n",
    "from srai.embedders import Hex2VecEmbedder\n",
    "from srai.joiners import IntersectionJoiner\n",
    "from srai.loaders import OSMPbfLoader\n",
    "from srai.loaders.osm_loaders.filters import HEX2VEC_FILTER\n",
    "from srai.neighbourhoods import H3Neighbourhood\n",
    "from srai.regionalizers import H3Regionalizer\n",
    "from srai.regionalizers import geocode_to_region_gdf\n",
    "from torch.utils.data import DataLoader, Dataset\n",
    "from tqdm import tqdm"
   ],
   "id": "ef7953267413ca07",
   "outputs": [],
   "execution_count": 1
  },
  {
   "metadata": {
    "ExecuteTime": {
     "end_time": "2024-05-21T20:39:12.739585Z",
     "start_time": "2024-05-21T20:39:12.736905Z"
    }
   },
   "cell_type": "code",
   "source": "gpd.options.io_engine = \"pyogrio\"",
   "id": "961bd77b0b4f2801",
   "outputs": [],
   "execution_count": 2
  },
  {
   "metadata": {},
   "cell_type": "markdown",
   "source": "# Enable loading Environment Variables",
   "id": "d52a544e7dce7b24"
  },
  {
   "metadata": {
    "ExecuteTime": {
     "end_time": "2024-05-21T20:39:12.748111Z",
     "start_time": "2024-05-21T20:39:12.739585Z"
    }
   },
   "cell_type": "code",
   "source": [
    "%load_ext dotenv\n",
    "\n",
    "%dotenv"
   ],
   "id": "20d6ecac9c5bc0ea",
   "outputs": [],
   "execution_count": 3
  },
  {
   "metadata": {
    "ExecuteTime": {
     "end_time": "2024-05-21T20:39:12.750412Z",
     "start_time": "2024-05-21T20:39:12.748111Z"
    }
   },
   "cell_type": "code",
   "source": "hf_token = os.getenv(\"HF_TOKEN\")",
   "id": "8403af268dcd02e5",
   "outputs": [],
   "execution_count": 4
  },
  {
   "metadata": {},
   "cell_type": "markdown",
   "source": "# Data Loading",
   "id": "29162307d05be5c4"
  },
  {
   "metadata": {
    "ExecuteTime": {
     "end_time": "2024-05-21T20:39:12.754726Z",
     "start_time": "2024-05-21T20:39:12.751457Z"
    }
   },
   "cell_type": "code",
   "source": [
    "subset_size = 50_000\n",
    "use_subset = True\n",
    "\n",
    "gdf_porto_taxi_full_path = \"porto_taxi.feather\"\n",
    "gdf_porto_taxi_subset_path = f\"porto_taxi_subset_{subset_size}.feather\""
   ],
   "id": "1d1b7d27259b9d03",
   "outputs": [],
   "execution_count": 5
  },
  {
   "metadata": {
    "ExecuteTime": {
     "end_time": "2024-05-21T20:39:12.869372Z",
     "start_time": "2024-05-21T20:39:12.754726Z"
    }
   },
   "cell_type": "code",
   "source": [
    "if not use_subset:\n",
    "    if not os.path.exists(gdf_porto_taxi_full_path):\n",
    "        porto_taxi_dataset = PortoTaxiDataset()\n",
    "        gdf_porto_taxi = porto_taxi_dataset.load(hf_token=hf_token)\n",
    "        gdf_porto_taxi.to_feather(gdf_porto_taxi_full_path)\n",
    "    else:\n",
    "        gdf_porto_taxi = gpd.read_feather(gdf_porto_taxi_full_path)\n",
    "else:\n",
    "    if not os.path.exists(gdf_porto_taxi_subset_path):\n",
    "        if not os.path.exists(gdf_porto_taxi_full_path):\n",
    "            porto_taxi_dataset = PortoTaxiDataset()\n",
    "            gdf_porto_taxi = porto_taxi_dataset.load(hf_token=hf_token)\n",
    "            gdf_porto_taxi.to_feather(gdf_porto_taxi_full_path)\n",
    "            gdf_porto_taxi = gdf_porto_taxi.head(subset_size)\n",
    "            gdf_porto_taxi.to_feather(gdf_porto_taxi_subset_path)\n",
    "        else:\n",
    "            gdf_porto_taxi = gpd.read_feather(gdf_porto_taxi_full_path)\n",
    "            gdf_porto_taxi = gdf_porto_taxi.head(subset_size)\n",
    "            gdf_porto_taxi.to_feather(gdf_porto_taxi_subset_path)\n",
    "    else:\n",
    "        gdf_porto_taxi = gpd.read_feather(gdf_porto_taxi_subset_path)"
   ],
   "id": "7c27fd03333ea15e",
   "outputs": [],
   "execution_count": 6
  },
  {
   "metadata": {
    "ExecuteTime": {
     "end_time": "2024-05-21T20:39:12.873390Z",
     "start_time": "2024-05-21T20:39:12.869372Z"
    }
   },
   "cell_type": "code",
   "source": [
    "gdf_porto_taxi.drop(\n",
    "    [\n",
    "        \"taxi_id\",\n",
    "        \"call_type\",\n",
    "        \"origin_call\",\n",
    "        \"origin_stand\",\n",
    "        \"day_type\",\n",
    "        \"travel_time_seconds\",\n",
    "    ],\n",
    "    axis=1,\n",
    "    inplace=True,\n",
    ")"
   ],
   "id": "a6919959b8c2cd06",
   "outputs": [],
   "execution_count": 7
  },
  {
   "metadata": {},
   "cell_type": "markdown",
   "source": "# Convert LineString to Point",
   "id": "380443dcb3dcd7b3"
  },
  {
   "metadata": {
    "ExecuteTime": {
     "end_time": "2024-05-21T20:39:32.552705Z",
     "start_time": "2024-05-21T20:39:12.873596Z"
    }
   },
   "cell_type": "code",
   "source": [
    "exploded_rows = []\n",
    "\n",
    "for idx, row in tqdm(gdf_porto_taxi.iterrows(), total=gdf_porto_taxi.shape[0]):\n",
    "    start_timestamp = row.timestamp\n",
    "    current_timestamp = start_timestamp\n",
    "    for xy in row.geometry.coords:\n",
    "        point = Point(xy)\n",
    "        row_dict = row.to_dict()\n",
    "        row_dict[\"geometry\"] = point\n",
    "        row_dict[\"timestamp\"] = current_timestamp\n",
    "        current_timestamp += 15\n",
    "        exploded_rows.append(row_dict)"
   ],
   "id": "936f31b3a0cc8aa3",
   "outputs": [
    {
     "name": "stderr",
     "output_type": "stream",
     "text": [
      "100%|██████████| 50000/50000 [00:19<00:00, 2541.41it/s]\n"
     ]
    }
   ],
   "execution_count": 8
  },
  {
   "metadata": {
    "ExecuteTime": {
     "end_time": "2024-05-21T20:39:35.155234Z",
     "start_time": "2024-05-21T20:39:32.552705Z"
    }
   },
   "cell_type": "code",
   "source": "gdf_porto_taxi_points = gpd.GeoDataFrame(exploded_rows, crs=\"EPSG:4326\")",
   "id": "48d065f2708ae94a",
   "outputs": [],
   "execution_count": 9
  },
  {
   "metadata": {
    "ExecuteTime": {
     "end_time": "2024-05-21T20:39:36.535508Z",
     "start_time": "2024-05-21T20:39:35.156238Z"
    }
   },
   "cell_type": "code",
   "source": [
    "gdf_porto_taxi_points[\"timestamp\"] = gdf_porto_taxi_points[\"timestamp\"].apply(\n",
    "    lambda x: datetime.fromtimestamp(x)\n",
    ")"
   ],
   "id": "3dbeb52b0a1d657f",
   "outputs": [],
   "execution_count": 10
  },
  {
   "metadata": {},
   "cell_type": "markdown",
   "source": "",
   "id": "bcf8e60ad55307da"
  },
  {
   "metadata": {},
   "cell_type": "markdown",
   "source": "### Restricting to Porto Area",
   "id": "302715a7b4dd710b"
  },
  {
   "metadata": {
    "ExecuteTime": {
     "end_time": "2024-05-21T20:39:36.850150Z",
     "start_time": "2024-05-21T20:39:36.535508Z"
    }
   },
   "cell_type": "code",
   "source": "porto_area = geocode_to_region_gdf(\"Porto District, Portugal\")",
   "id": "de8406c1333906c3",
   "outputs": [],
   "execution_count": 11
  },
  {
   "metadata": {
    "ExecuteTime": {
     "end_time": "2024-05-21T20:41:11.288909Z",
     "start_time": "2024-05-21T20:39:36.850150Z"
    }
   },
   "cell_type": "code",
   "source": "gdf_porto_taxi_points_inside_porto = gdf_porto_taxi_points.sjoin(porto_area)",
   "id": "505b083a9864de45",
   "outputs": [],
   "execution_count": 12
  },
  {
   "metadata": {
    "ExecuteTime": {
     "end_time": "2024-05-21T20:41:14.662387Z",
     "start_time": "2024-05-21T20:41:11.288909Z"
    }
   },
   "cell_type": "code",
   "source": [
    "gdf_merged = gdf_porto_taxi_points.merge(\n",
    "    gdf_porto_taxi_points_inside_porto, how=\"left\", indicator=True\n",
    ")\n",
    "df_porto_taxi_points_outside_porto = gdf_merged[gdf_merged[\"_merge\"] == \"left_only\"]"
   ],
   "id": "ab2d73c36fc61319",
   "outputs": [],
   "execution_count": 13
  },
  {
   "metadata": {
    "ExecuteTime": {
     "end_time": "2024-05-21T20:41:14.666505Z",
     "start_time": "2024-05-21T20:41:14.663481Z"
    }
   },
   "cell_type": "code",
   "source": [
    "trajectories_outside_porto = list(\n",
    "    df_porto_taxi_points_outside_porto[\"trip_id\"].unique()\n",
    ")"
   ],
   "id": "e594f4706dfb3603",
   "outputs": [],
   "execution_count": 14
  },
  {
   "metadata": {
    "ExecuteTime": {
     "end_time": "2024-05-21T20:41:14.796825Z",
     "start_time": "2024-05-21T20:41:14.666505Z"
    }
   },
   "cell_type": "code",
   "source": [
    "gdf_porto_taxi_points = gdf_porto_taxi_points[\n",
    "    ~gdf_porto_taxi_points[\"trip_id\"].isin(trajectories_outside_porto)\n",
    "]"
   ],
   "id": "2699ae75caa910c9",
   "outputs": [],
   "execution_count": 15
  },
  {
   "metadata": {},
   "cell_type": "markdown",
   "source": "# Trajectory Collection",
   "id": "dd6414af7a53d8f6"
  },
  {
   "metadata": {
    "ExecuteTime": {
     "end_time": "2024-05-21T20:41:42.153050Z",
     "start_time": "2024-05-21T20:41:14.796825Z"
    }
   },
   "cell_type": "code",
   "source": [
    "trajectory_collection = mpd.TrajectoryCollection(\n",
    "    data=gdf_porto_taxi_points, traj_id_col=\"trip_id\", t=\"timestamp\"\n",
    ")"
   ],
   "id": "58bad264056edd84",
   "outputs": [],
   "execution_count": 16
  },
  {
   "metadata": {},
   "cell_type": "markdown",
   "source": "### Generalization",
   "id": "8aca2f2a174dacae"
  },
  {
   "metadata": {
    "ExecuteTime": {
     "end_time": "2024-05-21T20:42:38.970142Z",
     "start_time": "2024-05-21T20:41:42.153050Z"
    }
   },
   "cell_type": "code",
   "source": [
    "trajectory_collection = mpd.DouglasPeuckerGeneralizer(trajectory_collection).generalize(\n",
    "    tolerance=0.0001\n",
    ")"
   ],
   "id": "9b3c75cb62960072",
   "outputs": [],
   "execution_count": 17
  },
  {
   "metadata": {
    "ExecuteTime": {
     "end_time": "2024-05-21T20:42:40.014523Z",
     "start_time": "2024-05-21T20:42:38.970142Z"
    }
   },
   "cell_type": "code",
   "source": [
    "gdf_trajectory_point_collection = (\n",
    "    trajectory_collection\n",
    "    # .add_speed(overwrite=True)\n",
    "    # .add_distance(overwrite=True)\n",
    "    # .add_timedelta(overwrite=True)\n",
    "    .to_point_gdf().sort_values(by=[\"trip_id\", \"timestamp\"])\n",
    ")"
   ],
   "id": "369e97bb1a3b193c",
   "outputs": [],
   "execution_count": 18
  },
  {
   "metadata": {
    "ExecuteTime": {
     "end_time": "2024-05-21T20:42:40.017814Z",
     "start_time": "2024-05-21T20:42:40.014523Z"
    }
   },
   "cell_type": "code",
   "source": [
    "# scaler = MinMaxScaler()\n",
    "# gdf_trajectory_point_collection[[\"speed\", \"distance\"]] = scaler.fit_transform(\n",
    "#     gdf_trajectory_point_collection[[\"speed\", \"distance\"]]\n",
    "# )"
   ],
   "id": "e424b9ad75705c02",
   "outputs": [],
   "execution_count": 19
  },
  {
   "metadata": {},
   "cell_type": "markdown",
   "source": "# Add Spatial Embedding",
   "id": "1ba24cd6e45bf458"
  },
  {
   "metadata": {
    "ExecuteTime": {
     "end_time": "2024-05-21T20:42:42.110830Z",
     "start_time": "2024-05-21T20:42:40.017814Z"
    }
   },
   "cell_type": "code",
   "source": [
    "regionalizer = H3Regionalizer(resolution=9)\n",
    "gdf_regions = regionalizer.transform(gdf_trajectory_point_collection)"
   ],
   "id": "77cf5d3553c9da75",
   "outputs": [],
   "execution_count": 20
  },
  {
   "metadata": {
    "ExecuteTime": {
     "end_time": "2024-05-21T20:45:21.691139Z",
     "start_time": "2024-05-21T20:42:42.110830Z"
    }
   },
   "cell_type": "code",
   "source": [
    "loader = OSMPbfLoader()\n",
    "gdf_features = loader.load(gdf_regions, HEX2VEC_FILTER)"
   ],
   "id": "460fbf206cda2f0e",
   "outputs": [
    {
     "name": "stderr",
     "output_type": "stream",
     "text": [
      "C:\\Virtual_Environments\\venv_PNW_3.12\\Lib\\site-packages\\srai\\loaders\\osm_loaders\\osm_pbf_loader.py:128: FutureWarning: Use `convert_geometry_to_geodataframe` instead. Deprecated since 0.8.1 version.\n",
      "  features_gdf = pbf_reader.get_features_gdf_from_geometry(\n",
      "Downloading data from 'https://download.geofabrik.de/europe/portugal-latest.osm.pbf' to file 'F:\\Politechnika_Wroclawska\\Semestr_2\\Projekt_Naukowo_Wdrozeniowy\\DataLoaders\\baseline\\travel_time_prediction\\files\\Geofabrik_portugal.osm.pbf'.\n",
      "100%|###############################################| 333M/333M [00:00<?, ?B/s]\n",
      "SHA256 hash of downloaded file: 33f31bcb64aa900c584a67d1827dff8d3cfcf2205766a9a965919ec0b23e121c\n",
      "Use this value as the 'known_hash' argument of 'pooch.retrieve' to ensure that the file hasn't changed if it is downloaded again in the future.\n"
     ]
    },
    {
     "data": {
      "text/plain": [
       "Output()"
      ],
      "application/vnd.jupyter.widget-view+json": {
       "version_major": 2,
       "version_minor": 0,
       "model_id": "7dc9f22d2f2f40509b7579587fea6f69"
      }
     },
     "metadata": {},
     "output_type": "display_data"
    },
    {
     "data": {
      "text/plain": [],
      "text/html": [
       "<pre style=\"white-space:pre;overflow-x:auto;line-height:normal;font-family:Menlo,'DejaVu Sans Mono',consolas,'Courier New',monospace\"></pre>\n"
      ]
     },
     "metadata": {},
     "output_type": "display_data"
    },
    {
     "data": {
      "text/plain": [
       "\n"
      ],
      "text/html": [
       "<pre style=\"white-space:pre;overflow-x:auto;line-height:normal;font-family:Menlo,'DejaVu Sans Mono',consolas,'Courier New',monospace\">\n",
       "</pre>\n"
      ]
     },
     "metadata": {},
     "output_type": "display_data"
    },
    {
     "data": {
      "text/plain": [
       "Finished operation in \u001b[1;33m0:02:25\u001b[0m\n"
      ],
      "text/html": [
       "<pre style=\"white-space:pre;overflow-x:auto;line-height:normal;font-family:Menlo,'DejaVu Sans Mono',consolas,'Courier New',monospace\">Finished operation in <span style=\"color: #808000; text-decoration-color: #808000; font-weight: bold\">0:02:25</span>\n",
       "</pre>\n"
      ]
     },
     "metadata": {},
     "output_type": "display_data"
    }
   ],
   "execution_count": 21
  },
  {
   "metadata": {
    "ExecuteTime": {
     "end_time": "2024-05-21T20:45:22.338581Z",
     "start_time": "2024-05-21T20:45:21.691139Z"
    }
   },
   "cell_type": "code",
   "source": [
    "joiner = IntersectionJoiner()\n",
    "gdf_joint = joiner.transform(gdf_regions, gdf_features)"
   ],
   "id": "a981162c3e918064",
   "outputs": [],
   "execution_count": 22
  },
  {
   "metadata": {
    "ExecuteTime": {
     "end_time": "2024-05-21T20:45:22.341163Z",
     "start_time": "2024-05-21T20:45:22.338581Z"
    }
   },
   "cell_type": "code",
   "source": "neighbourhood = H3Neighbourhood(gdf_regions)",
   "id": "ca328f2b8fed3b07",
   "outputs": [],
   "execution_count": 23
  },
  {
   "metadata": {
    "ExecuteTime": {
     "end_time": "2024-05-21T20:45:42.229774Z",
     "start_time": "2024-05-21T20:45:22.341163Z"
    }
   },
   "cell_type": "code",
   "source": [
    "device = \"cuda\" if torch.cuda.is_available() else \"cpu\"\n",
    "\n",
    "embedder_hidden_sizes = [150, 100, 50, 10]\n",
    "embedder = Hex2VecEmbedder(embedder_hidden_sizes)\n",
    "\n",
    "df_embeddings = embedder.fit_transform(\n",
    "    gdf_regions,\n",
    "    gdf_features,\n",
    "    gdf_joint,\n",
    "    neighbourhood,\n",
    "    trainer_kwargs={\"max_epochs\": 15, \"accelerator\": device},\n",
    "    batch_size=100,\n",
    ")"
   ],
   "id": "3da45a83f647f521",
   "outputs": [
    {
     "name": "stderr",
     "output_type": "stream",
     "text": [
      "100%|██████████| 3963/3963 [00:00<00:00, 52366.69it/s]\n",
      "GPU available: True (cuda), used: True\n",
      "TPU available: False, using: 0 TPU cores\n",
      "IPU available: False, using: 0 IPUs\n",
      "HPU available: False, using: 0 HPUs\n",
      "C:\\Virtual_Environments\\venv_PNW_3.12\\Lib\\site-packages\\pytorch_lightning\\trainer\\connectors\\logger_connector\\logger_connector.py:75: Starting from v1.9.0, `tensorboardX` has been removed as a dependency of the `pytorch_lightning` package, due to potential conflicts with other packages in the ML ecosystem. For this reason, `logger=True` will use `CSVLogger` as the default logger, unless the `tensorboard` or `tensorboardX` packages are found. Please `pip install lightning[extra]` or one of them to enable TensorBoard support by default\n",
      "C:\\Virtual_Environments\\venv_PNW_3.12\\Lib\\site-packages\\pytorch_lightning\\trainer\\configuration_validator.py:74: You defined a `validation_step` but have no `val_dataloader`. Skipping val loop.\n",
      "You are using a CUDA device ('NVIDIA GeForce RTX 3080') that has Tensor Cores. To properly utilize them, you should set `torch.set_float32_matmul_precision('medium' | 'high')` which will trade-off precision for performance. For more details, read https://pytorch.org/docs/stable/generated/torch.set_float32_matmul_precision.html#torch.set_float32_matmul_precision\n",
      "LOCAL_RANK: 0 - CUDA_VISIBLE_DEVICES: [0]\n",
      "\n",
      "  | Name    | Type       | Params\n",
      "---------------------------------------\n",
      "0 | encoder | Sequential | 98.4 K\n",
      "---------------------------------------\n",
      "98.4 K    Trainable params\n",
      "0         Non-trainable params\n",
      "98.4 K    Total params\n",
      "0.393     Total estimated model params size (MB)\n",
      "C:\\Virtual_Environments\\venv_PNW_3.12\\Lib\\site-packages\\pytorch_lightning\\trainer\\connectors\\data_connector.py:441: The 'train_dataloader' does not have many workers which may be a bottleneck. Consider increasing the value of the `num_workers` argument` to `num_workers=23` in the `DataLoader` to improve performance.\n"
     ]
    },
    {
     "data": {
      "text/plain": [
       "Training: |          | 0/? [00:00<?, ?it/s]"
      ],
      "application/vnd.jupyter.widget-view+json": {
       "version_major": 2,
       "version_minor": 0,
       "model_id": "e61803418f8c440d8276de13d9008abb"
      }
     },
     "metadata": {},
     "output_type": "display_data"
    },
    {
     "name": "stderr",
     "output_type": "stream",
     "text": [
      "`Trainer.fit` stopped: `max_epochs=15` reached.\n"
     ]
    }
   ],
   "execution_count": 24
  },
  {
   "metadata": {
    "ExecuteTime": {
     "end_time": "2024-05-21T20:45:42.234017Z",
     "start_time": "2024-05-21T20:45:42.230776Z"
    }
   },
   "cell_type": "code",
   "source": [
    "df_embeddings.rename(\n",
    "    columns={\n",
    "        0: \"embedding_0\",\n",
    "        1: \"embedding_1\",\n",
    "        2: \"embedding_2\",\n",
    "        3: \"embedding_3\",\n",
    "        4: \"embedding_4\",\n",
    "        5: \"embedding_5\",\n",
    "        6: \"embedding_6\",\n",
    "        7: \"embedding_7\",\n",
    "        8: \"embedding_8\",\n",
    "        9: \"embedding_9\",\n",
    "    },\n",
    "    inplace=True,\n",
    ")"
   ],
   "id": "2f9c69c996bf27dc",
   "outputs": [],
   "execution_count": 25
  },
  {
   "metadata": {
    "ExecuteTime": {
     "end_time": "2024-05-21T20:45:43.679836Z",
     "start_time": "2024-05-21T20:45:42.235022Z"
    }
   },
   "cell_type": "code",
   "source": "gdf_joined = gpd.sjoin(gdf_trajectory_point_collection, gdf_regions, how=\"left\")",
   "id": "3e026b175f675aa0",
   "outputs": [],
   "execution_count": 26
  },
  {
   "metadata": {
    "ExecuteTime": {
     "end_time": "2024-05-21T20:45:43.684856Z",
     "start_time": "2024-05-21T20:45:43.679836Z"
    }
   },
   "cell_type": "code",
   "source": [
    "gdf_joined.rename(columns={\"index_right\": \"region_id\"}, inplace=True)\n",
    "gdf_joined.reset_index(inplace=True)"
   ],
   "id": "25550f41532e45a5",
   "outputs": [],
   "execution_count": 27
  },
  {
   "metadata": {
    "ExecuteTime": {
     "end_time": "2024-05-21T20:45:43.788362Z",
     "start_time": "2024-05-21T20:45:43.685405Z"
    }
   },
   "cell_type": "code",
   "source": "gdf_points_embeddings = gdf_joined.merge(df_embeddings, on=\"region_id\", how=\"left\")",
   "id": "6a30a6295fa799d6",
   "outputs": [],
   "execution_count": 28
  },
  {
   "metadata": {},
   "cell_type": "markdown",
   "source": "# Preparing DataSet",
   "id": "53c34e4dc157c887"
  },
  {
   "metadata": {
    "ExecuteTime": {
     "end_time": "2024-05-21T20:45:43.792977Z",
     "start_time": "2024-05-21T20:45:43.789364Z"
    }
   },
   "cell_type": "code",
   "source": [
    "class TrajectoryDataset(Dataset):\n",
    "    def __init__(self, df, seq_length):\n",
    "        self.sequences = []\n",
    "        self.labels = []\n",
    "        self.seq_length = seq_length\n",
    "        self._create_sequences(df)\n",
    "\n",
    "    def _create_sequences(self, df):\n",
    "        for trajectory_id in df[\"trip_id\"].unique():\n",
    "            trajectory_data = df[df[\"trip_id\"] == trajectory_id]\n",
    "            for i in range(len(trajectory_data) - self.seq_length):\n",
    "                sequence = trajectory_data.iloc[i : i + self.seq_length]\n",
    "                travel_time = (\n",
    "                    sequence[\"timestamp\"].iloc[-1] - sequence[\"timestamp\"].iloc[0]\n",
    "                ).total_seconds()\n",
    "                self.sequences.append(\n",
    "                    sequence[\n",
    "                        [\n",
    "                            \"embedding_0\",\n",
    "                            \"embedding_1\",\n",
    "                            \"embedding_2\",\n",
    "                            \"embedding_3\",\n",
    "                            \"embedding_4\",\n",
    "                            \"embedding_5\",\n",
    "                            \"embedding_6\",\n",
    "                            \"embedding_7\",\n",
    "                            \"embedding_8\",\n",
    "                            \"embedding_9\",\n",
    "                        ]\n",
    "                    ].values\n",
    "                )\n",
    "                self.labels.append(travel_time)\n",
    "\n",
    "    def __len__(self):\n",
    "        return len(self.sequences)\n",
    "\n",
    "    def __getitem__(self, idx):\n",
    "        return torch.tensor(self.sequences[idx], dtype=torch.float32), torch.tensor(\n",
    "            self.labels[idx], dtype=torch.float32\n",
    "        )"
   ],
   "id": "b78d6a3341198f49",
   "outputs": [],
   "execution_count": 29
  },
  {
   "metadata": {
    "ExecuteTime": {
     "end_time": "2024-05-21T20:51:03.939610Z",
     "start_time": "2024-05-21T20:45:43.792977Z"
    }
   },
   "cell_type": "code",
   "source": [
    "seq_length = 10\n",
    "dataset = TrajectoryDataset(gdf_points_embeddings, seq_length)"
   ],
   "id": "672ea4b8e4b70ba7",
   "outputs": [],
   "execution_count": 30
  },
  {
   "metadata": {
    "ExecuteTime": {
     "end_time": "2024-05-21T20:51:03.964414Z",
     "start_time": "2024-05-21T20:51:03.939610Z"
    }
   },
   "cell_type": "code",
   "source": [
    "train_size = int(0.8 * len(dataset))\n",
    "test_size = len(dataset) - train_size\n",
    "train_dataset, test_dataset = torch.utils.data.random_split(\n",
    "    dataset, [train_size, test_size]\n",
    ")"
   ],
   "id": "4877d81bc7e88fe6",
   "outputs": [],
   "execution_count": 31
  },
  {
   "metadata": {
    "ExecuteTime": {
     "end_time": "2024-05-21T20:51:03.968097Z",
     "start_time": "2024-05-21T20:51:03.965417Z"
    }
   },
   "cell_type": "code",
   "source": [
    "train_loader = DataLoader(train_dataset, batch_size=64, shuffle=True)\n",
    "test_loader = DataLoader(test_dataset, batch_size=64, shuffle=False)"
   ],
   "id": "d80c4cb3725832c7",
   "outputs": [],
   "execution_count": 32
  },
  {
   "metadata": {
    "ExecuteTime": {
     "end_time": "2024-05-21T20:51:03.990623Z",
     "start_time": "2024-05-21T20:51:03.969102Z"
    }
   },
   "cell_type": "code",
   "source": [
    "import torch.nn as nn\n",
    "\n",
    "\n",
    "class TravelTimeLSTM(nn.Module):\n",
    "    def __init__(self, input_size, hidden_size, num_layers, output_size):\n",
    "        super(TravelTimeLSTM, self).__init__()\n",
    "        self.hidden_size = hidden_size\n",
    "        self.num_layers = num_layers\n",
    "        self.lstm = nn.LSTM(input_size, hidden_size, num_layers, batch_first=True)\n",
    "        self.fc = nn.Linear(hidden_size, output_size)\n",
    "\n",
    "    def forward(self, x):\n",
    "        h0 = torch.zeros(self.num_layers, x.size(0), self.hidden_size).to(x.device)\n",
    "        c0 = torch.zeros(self.num_layers, x.size(0), self.hidden_size).to(x.device)\n",
    "        out, _ = self.lstm(x, (h0, c0))\n",
    "        out = self.fc(out[:, -1, :])\n",
    "        return out\n",
    "\n",
    "\n",
    "input_size = 10\n",
    "hidden_size = 50\n",
    "num_layers = 2\n",
    "output_size = 1\n",
    "\n",
    "model = TravelTimeLSTM(input_size, hidden_size, num_layers, output_size)\n",
    "model = model.to(device)"
   ],
   "id": "b3b79d58e3cdf0bb",
   "outputs": [],
   "execution_count": 33
  },
  {
   "metadata": {
    "ExecuteTime": {
     "end_time": "2024-05-21T20:51:03.994493Z",
     "start_time": "2024-05-21T20:51:03.991627Z"
    }
   },
   "cell_type": "code",
   "source": [
    "import torch.optim as optim\n",
    "\n",
    "device = torch.device(\"cuda\" if torch.cuda.is_available() else \"cpu\")\n",
    "\n",
    "# Define loss and optimizer\n",
    "criterion = nn.MSELoss()\n",
    "optimizer = optim.Adam(model.parameters(), lr=0.001)\n",
    "\n",
    "# Training the model\n",
    "num_epochs = 50"
   ],
   "id": "21e5a8dd06317e63",
   "outputs": [],
   "execution_count": 34
  },
  {
   "metadata": {
    "ExecuteTime": {
     "end_time": "2024-05-21T21:05:25.354627Z",
     "start_time": "2024-05-21T20:51:03.995497Z"
    }
   },
   "cell_type": "code",
   "source": [
    "for epoch in range(num_epochs):\n",
    "    model.train()\n",
    "    for sequences, labels in train_loader:\n",
    "        sequences, labels = sequences.to(device), labels.to(device)\n",
    "\n",
    "        # Forward pass\n",
    "        outputs = model(sequences)\n",
    "        loss = criterion(outputs, labels.unsqueeze(1))\n",
    "\n",
    "        # Backward and optimize\n",
    "        optimizer.zero_grad()\n",
    "        loss.backward()\n",
    "        optimizer.step()\n",
    "\n",
    "    print(f\"Epoch [{epoch+1}/{num_epochs}], Loss: {loss.item():.4f}\")"
   ],
   "id": "63aa22adc932a338",
   "outputs": [
    {
     "name": "stdout",
     "output_type": "stream",
     "text": [
      "Epoch [1/50], Loss: 154117.0938\n",
      "Epoch [2/50], Loss: 43984.4297\n",
      "Epoch [3/50], Loss: 2914.9707\n",
      "Epoch [4/50], Loss: 6387.0386\n",
      "Epoch [5/50], Loss: 7571.8442\n",
      "Epoch [6/50], Loss: 5382.1699\n",
      "Epoch [7/50], Loss: 12154.4521\n",
      "Epoch [8/50], Loss: 6082.2510\n",
      "Epoch [9/50], Loss: 13583.5508\n",
      "Epoch [10/50], Loss: 6770.0054\n",
      "Epoch [11/50], Loss: 11089.3525\n",
      "Epoch [12/50], Loss: 4391.8799\n",
      "Epoch [13/50], Loss: 6069.0327\n",
      "Epoch [14/50], Loss: 3167.4622\n",
      "Epoch [15/50], Loss: 3669.2551\n",
      "Epoch [16/50], Loss: 7183.3081\n",
      "Epoch [17/50], Loss: 15122.7256\n",
      "Epoch [18/50], Loss: 9237.8682\n",
      "Epoch [19/50], Loss: 8792.7607\n",
      "Epoch [20/50], Loss: 4781.7534\n",
      "Epoch [21/50], Loss: 2564.9072\n",
      "Epoch [22/50], Loss: 4882.2798\n",
      "Epoch [23/50], Loss: 21962.6875\n",
      "Epoch [24/50], Loss: 3060.1655\n",
      "Epoch [25/50], Loss: 3548.7834\n",
      "Epoch [26/50], Loss: 5388.2935\n",
      "Epoch [27/50], Loss: 13729.9785\n",
      "Epoch [28/50], Loss: 2855.7297\n",
      "Epoch [29/50], Loss: 78585.1953\n",
      "Epoch [30/50], Loss: 44957.8672\n",
      "Epoch [31/50], Loss: 2404.8716\n",
      "Epoch [32/50], Loss: 3977.9592\n",
      "Epoch [33/50], Loss: 9119.6680\n",
      "Epoch [34/50], Loss: 3051.0081\n",
      "Epoch [35/50], Loss: 3196.0793\n",
      "Epoch [36/50], Loss: 1690.5181\n",
      "Epoch [37/50], Loss: 2348.9480\n",
      "Epoch [38/50], Loss: 2896.6570\n",
      "Epoch [39/50], Loss: 3715.1455\n",
      "Epoch [40/50], Loss: 5206.5522\n",
      "Epoch [41/50], Loss: 4420.4087\n",
      "Epoch [42/50], Loss: 9466.5762\n",
      "Epoch [43/50], Loss: 9513.2109\n",
      "Epoch [44/50], Loss: 1902.7740\n",
      "Epoch [45/50], Loss: 2125.7075\n",
      "Epoch [46/50], Loss: 3349.7832\n",
      "Epoch [47/50], Loss: 12450.4678\n",
      "Epoch [48/50], Loss: 3152.9143\n",
      "Epoch [49/50], Loss: 5310.7397\n",
      "Epoch [50/50], Loss: 4547.0205\n"
     ]
    }
   ],
   "execution_count": 35
  },
  {
   "metadata": {
    "ExecuteTime": {
     "end_time": "2024-05-21T21:05:27.504869Z",
     "start_time": "2024-05-21T21:05:25.355629Z"
    }
   },
   "cell_type": "code",
   "source": [
    "# Evaluating the model\n",
    "model.eval()\n",
    "test_loss = 0\n",
    "with torch.no_grad():\n",
    "    for sequences, labels in test_loader:\n",
    "        sequences, labels = sequences.to(device), labels.to(device)\n",
    "        outputs = model(sequences)\n",
    "        loss = criterion(outputs, labels.unsqueeze(1))\n",
    "        test_loss += loss.item()\n",
    "\n",
    "test_loss /= len(test_loader)\n",
    "print(f\"Test Loss: {test_loss:.4f}\")"
   ],
   "id": "cf7a300c3272e909",
   "outputs": [
    {
     "name": "stdout",
     "output_type": "stream",
     "text": [
      "Test Loss: 15326.1775\n"
     ]
    }
   ],
   "execution_count": 36
  },
  {
   "metadata": {
    "ExecuteTime": {
     "end_time": "2024-05-21T21:05:29.776050Z",
     "start_time": "2024-05-21T21:05:27.505877Z"
    }
   },
   "cell_type": "code",
   "source": [
    "# Make predictions\n",
    "predictions = []\n",
    "actuals = []\n",
    "with torch.no_grad():\n",
    "    for sequences, labels in test_loader:\n",
    "        sequences, labels = sequences.to(device), labels.to(device)\n",
    "        outputs = model(sequences)\n",
    "        predictions.extend(outputs.cpu().numpy())\n",
    "        actuals.extend(labels.cpu().numpy())"
   ],
   "id": "dda0b9681b06f14f",
   "outputs": [],
   "execution_count": 37
  },
  {
   "metadata": {
    "ExecuteTime": {
     "end_time": "2024-05-21T21:05:30.037917Z",
     "start_time": "2024-05-21T21:05:29.776050Z"
    }
   },
   "cell_type": "code",
   "source": [
    "# Optionally, inverse transform the predictions if needed\n",
    "# predictions = scaler.inverse_transform(predictions)\n",
    "\n",
    "# Compare predicted travel time with actual travel time\n",
    "import matplotlib.pyplot as plt\n",
    "\n",
    "plt.figure(figsize=(14, 5))\n",
    "plt.plot(actuals, color=\"blue\", label=\"Actual Travel Time\")\n",
    "plt.plot(predictions, color=\"red\", label=\"Predicted Travel Time\")\n",
    "plt.title(\"Travel Time Prediction\")\n",
    "plt.xlabel(\"Time\")\n",
    "plt.ylabel(\"Travel Time\")\n",
    "plt.legend()\n",
    "plt.show()"
   ],
   "id": "22815278f616c34",
   "outputs": [
    {
     "data": {
      "text/plain": [
       "<Figure size 1400x500 with 1 Axes>"
      ],
      "image/png": "[encoded data removed]"
     },
     "metadata": {},
     "output_type": "display_data"
    }
   ],
   "execution_count": 38
  },
  {
   "metadata": {
    "ExecuteTime": {
     "end_time": "2024-05-21T21:05:30.095975Z",
     "start_time": "2024-05-21T21:05:30.037917Z"
    }
   },
   "cell_type": "code",
   "source": [
    "mean_time_travelled = np.mean(actuals)\n",
    "print(f\"Mean average travelled time: {mean_time_travelled}\")\n",
    "\n",
    "mae = mean_absolute_error(actuals, predictions)\n",
    "print(f\"Mean Absolute Error (MAE): {mae:.4f}\")\n",
    "\n",
    "mse = mean_squared_error(actuals, predictions)\n",
    "print(f\"Mean Squared Error (MSE): {mse:.4f}\")\n",
    "\n",
    "rmse = np.sqrt(mse)\n",
    "print(f\"Root Mean Squared Error (RMSE): {rmse:.4f}\")"
   ],
   "id": "3fcf3233ab4a7e97",
   "outputs": [
    {
     "name": "stdout",
     "output_type": "stream",
     "text": [
      "Mean average travelled time: 247.67449951171875\n",
      "Mean Absolute Error (MAE): 59.9861\n",
      "Mean Squared Error (MSE): 15329.5273\n",
      "Root Mean Squared Error (RMSE): 123.8125\n"
     ]
    }
   ],
   "execution_count": 39
  },
  {
   "metadata": {
    "ExecuteTime": {
     "end_time": "2024-05-21T21:11:11.153885Z",
     "start_time": "2024-05-21T21:11:11.136038Z"
    }
   },
   "cell_type": "code",
   "source": "np.min(actuals), np.max(actuals), np.mean(actuals), np.median(actuals)",
   "id": "2f4bd60bb6c31435",
   "outputs": [
    {
     "data": {
      "text/plain": [
       "(135.0, 8460.0, 247.6745, 210.0)"
      ]
     },
     "execution_count": 43,
     "metadata": {},
     "output_type": "execute_result"
    }
   ],
   "execution_count": 43
  },
  {
   "metadata": {
    "ExecuteTime": {
     "end_time": "2024-05-21T21:11:21.250548Z",
     "start_time": "2024-05-21T21:11:21.156508Z"
    }
   },
   "cell_type": "code",
   "source": "np.min(predictions), np.max(predictions), np.mean(predictions), np.median(predictions)",
   "id": "6ef7db552f3e44",
   "outputs": [
    {
     "data": {
      "text/plain": [
       "(102.68506, 2070.7375, 247.21028, 232.7645)"
      ]
     },
     "execution_count": 44,
     "metadata": {},
     "output_type": "execute_result"
    }
   ],
   "execution_count": 44
  }
 ],
 "metadata": {
  "kernelspec": {
   "display_name": "Python 3",
   "language": "python",
   "name": "python3"
  },
  "language_info": {
   "codemirror_mode": {
    "name": "ipython",
    "version": 2
   },
   "file_extension": ".py",
   "mimetype": "text/x-python",
   "name": "python",
   "nbconvert_exporter": "python",
   "pygments_lexer": "ipython2",
   "version": "2.7.6"
  }
 },
 "nbformat": 4,
 "nbformat_minor": 5
}
